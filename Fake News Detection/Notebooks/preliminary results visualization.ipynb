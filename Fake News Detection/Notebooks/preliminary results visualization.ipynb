{
 "cells": [
  {
   "cell_type": "code",
   "execution_count": 1,
   "metadata": {},
   "outputs": [],
   "source": [
    "# Basic Imports\n",
    "import pandas as pd  \n",
    "import numpy as np\n",
    "import seaborn as sns\n",
    "\n",
    "# Plotting Imports\n",
    "from plotnine import *\n",
    "import matplotlib.pyplot as plt"
   ]
  },
  {
   "cell_type": "code",
   "execution_count": 73,
   "metadata": {},
   "outputs": [],
   "source": [
    "results_tfidf = np.load(\"data/results_tfidf.npy\", allow_pickle = True).item()\n",
    "results_w2v = np.load(\"data/w2v_results.npy\", allow_pickle = True).item()"
   ]
  },
  {
   "cell_type": "code",
   "execution_count": 74,
   "metadata": {},
   "outputs": [],
   "source": [
    "results_tfidf[\"text\"][\"tuned\"][\"et\"] = results_tfidf[\"text\"][\"default\"][\"et\"] \n",
    "results_tfidf[\"text\"][\"tuned\"][\"rf\"] = results_tfidf[\"text\"][\"default\"][\"rf\"] "
   ]
  },
  {
   "cell_type": "code",
   "execution_count": 75,
   "metadata": {},
   "outputs": [],
   "source": [
    "tuned_text_f1 = []\n",
    "tuned_text_keys = []\n",
    "for k, v in results_tfidf[\"text\"][\"tuned\"].items():\n",
    "    tuned_text_f1.append(v[\"f1\"])\n",
    "    tuned_text_keys.append(k)\n",
    "\n",
    "tuned_title_f1 = []\n",
    "for k, v in results_tfidf[\"title\"][\"tuned\"].items():\n",
    "    tuned_title_f1.append(v[\"f1\"])\n",
    "#     tuned_title_keys.append(k)\n",
    "\n",
    "# default_models = [\"rf\", \"et\"]\n",
    "# for m in default_models:\n",
    "#     for t in [\"text\", \"title\"]:\n",
    "#         if t == \"text\":\n",
    "#             tuned_text_f1.append(results_tfidf[t][\"default\"][m][\"f1\"])\n",
    "#         else:\n",
    "#             tuned_title_f1.append(results_tfidf[t][\"default\"][m][\"f1\"])\n",
    "#     tuned_title_keys.append(m)\n",
    "#     tuned_text_keys.append(m)"
   ]
  },
  {
   "cell_type": "code",
   "execution_count": 76,
   "metadata": {},
   "outputs": [
    {
     "data": {
      "text/html": [
       "<div>\n",
       "<style scoped>\n",
       "    .dataframe tbody tr th:only-of-type {\n",
       "        vertical-align: middle;\n",
       "    }\n",
       "\n",
       "    .dataframe tbody tr th {\n",
       "        vertical-align: top;\n",
       "    }\n",
       "\n",
       "    .dataframe thead th {\n",
       "        text-align: right;\n",
       "    }\n",
       "</style>\n",
       "<table border=\"1\" class=\"dataframe\">\n",
       "  <thead>\n",
       "    <tr style=\"text-align: right;\">\n",
       "      <th></th>\n",
       "      <th>tuned_title_f1</th>\n",
       "      <th>tuned_text_f1</th>\n",
       "    </tr>\n",
       "  </thead>\n",
       "  <tbody>\n",
       "    <tr>\n",
       "      <th>nb</th>\n",
       "      <td>0.931043</td>\n",
       "      <td>0.940624</td>\n",
       "    </tr>\n",
       "    <tr>\n",
       "      <th>svm</th>\n",
       "      <td>0.948338</td>\n",
       "      <td>0.994749</td>\n",
       "    </tr>\n",
       "    <tr>\n",
       "      <th>knn</th>\n",
       "      <td>0.903891</td>\n",
       "      <td>0.885447</td>\n",
       "    </tr>\n",
       "    <tr>\n",
       "      <th>lr</th>\n",
       "      <td>0.941449</td>\n",
       "      <td>0.985113</td>\n",
       "    </tr>\n",
       "    <tr>\n",
       "      <th>dt</th>\n",
       "      <td>0.906828</td>\n",
       "      <td>0.902263</td>\n",
       "    </tr>\n",
       "    <tr>\n",
       "      <th>et</th>\n",
       "      <td>0.945085</td>\n",
       "      <td>0.983141</td>\n",
       "    </tr>\n",
       "    <tr>\n",
       "      <th>ab</th>\n",
       "      <td>0.902425</td>\n",
       "      <td>0.996377</td>\n",
       "    </tr>\n",
       "    <tr>\n",
       "      <th>rf</th>\n",
       "      <td>0.941122</td>\n",
       "      <td>0.988667</td>\n",
       "    </tr>\n",
       "  </tbody>\n",
       "</table>\n",
       "</div>"
      ],
      "text/plain": [
       "     tuned_title_f1  tuned_text_f1\n",
       "nb         0.931043       0.940624\n",
       "svm        0.948338       0.994749\n",
       "knn        0.903891       0.885447\n",
       "lr         0.941449       0.985113\n",
       "dt         0.906828       0.902263\n",
       "et         0.945085       0.983141\n",
       "ab         0.902425       0.996377\n",
       "rf         0.941122       0.988667"
      ]
     },
     "execution_count": 76,
     "metadata": {},
     "output_type": "execute_result"
    }
   ],
   "source": [
    "df_tfidf = pd.DataFrame(tuned_title_f1, tuned_text_keys)\n",
    "df_tfidf[\"tuned_text_f1\"] = tuned_text_f1\n",
    "df_tfidf.rename(columns = {0 : \"tuned_title_f1\"}, inplace = True)\n",
    "df_tfidf"
   ]
  },
  {
   "cell_type": "code",
   "execution_count": 77,
   "metadata": {},
   "outputs": [],
   "source": [
    "title = []\n",
    "for model in results_w2v.get('title').items():\n",
    "    if model[0] in ['nb', 'logreg', 'rf', 'adb', 'extratrees']:\n",
    "        title.append(model[1].get('default').get('f1'))\n",
    "    else:\n",
    "        title.append(model[1].get('tuned').get('f1'))\n",
    "\n",
    "\n",
    "text = []\n",
    "\n",
    "for model in results_w2v.get('text').items():\n",
    "    if model[0] in ['nb', 'logreg', 'rf', 'adb', 'extratrees']:\n",
    "        text.append(model[1].get('default').get('f1'))\n",
    "    else:\n",
    "        text.append(model[1].get('tuned').get('f1'))\n",
    "\n",
    "\n",
    "title = pd.Series(title, index = list(results_w2v.get('title').keys()))\n",
    "text = pd.Series(text, index = list(results_w2v.get('text').keys()))\n",
    "\n",
    "df_w2v = pd.DataFrame(index = list(results_w2v.get('title').keys()), data = {\"title w2v\":title, \"text w2v\":text})"
   ]
  },
  {
   "cell_type": "code",
   "execution_count": 78,
   "metadata": {},
   "outputs": [],
   "source": [
    "df_w2v.rename(index = {\"logreg\" : \"lr\", \"dectree\" : \"dt\", \"extratrees\" : \"et\", \"adb\" : \"ab\"}, inplace = True)"
   ]
  },
  {
   "cell_type": "code",
   "execution_count": 79,
   "metadata": {},
   "outputs": [
    {
     "data": {
      "text/html": [
       "<div>\n",
       "<style scoped>\n",
       "    .dataframe tbody tr th:only-of-type {\n",
       "        vertical-align: middle;\n",
       "    }\n",
       "\n",
       "    .dataframe tbody tr th {\n",
       "        vertical-align: top;\n",
       "    }\n",
       "\n",
       "    .dataframe thead th {\n",
       "        text-align: right;\n",
       "    }\n",
       "</style>\n",
       "<table border=\"1\" class=\"dataframe\">\n",
       "  <thead>\n",
       "    <tr style=\"text-align: right;\">\n",
       "      <th></th>\n",
       "      <th>title w2v</th>\n",
       "      <th>text w2v</th>\n",
       "    </tr>\n",
       "  </thead>\n",
       "  <tbody>\n",
       "    <tr>\n",
       "      <th>nb</th>\n",
       "      <td>0.863503</td>\n",
       "      <td>0.904429</td>\n",
       "    </tr>\n",
       "    <tr>\n",
       "      <th>svm</th>\n",
       "      <td>0.908795</td>\n",
       "      <td>0.985889</td>\n",
       "    </tr>\n",
       "    <tr>\n",
       "      <th>knn</th>\n",
       "      <td>0.908123</td>\n",
       "      <td>0.936852</td>\n",
       "    </tr>\n",
       "    <tr>\n",
       "      <th>lr</th>\n",
       "      <td>0.901166</td>\n",
       "      <td>0.973150</td>\n",
       "    </tr>\n",
       "    <tr>\n",
       "      <th>dt</th>\n",
       "      <td>0.882176</td>\n",
       "      <td>0.927124</td>\n",
       "    </tr>\n",
       "    <tr>\n",
       "      <th>et</th>\n",
       "      <td>0.929851</td>\n",
       "      <td>0.962277</td>\n",
       "    </tr>\n",
       "    <tr>\n",
       "      <th>ab</th>\n",
       "      <td>0.880862</td>\n",
       "      <td>0.907467</td>\n",
       "    </tr>\n",
       "    <tr>\n",
       "      <th>rf</th>\n",
       "      <td>0.929293</td>\n",
       "      <td>0.963163</td>\n",
       "    </tr>\n",
       "  </tbody>\n",
       "</table>\n",
       "</div>"
      ],
      "text/plain": [
       "     title w2v  text w2v\n",
       "nb    0.863503  0.904429\n",
       "svm   0.908795  0.985889\n",
       "knn   0.908123  0.936852\n",
       "lr    0.901166  0.973150\n",
       "dt    0.882176  0.927124\n",
       "et    0.929851  0.962277\n",
       "ab    0.880862  0.907467\n",
       "rf    0.929293  0.963163"
      ]
     },
     "execution_count": 79,
     "metadata": {},
     "output_type": "execute_result"
    }
   ],
   "source": [
    "df_w2v"
   ]
  },
  {
   "cell_type": "code",
   "execution_count": 80,
   "metadata": {},
   "outputs": [],
   "source": [
    "combined = pd.merge(df_tfidf, df_w2v, left_index=True, right_index = True)\n",
    "\n",
    "combined.rename(index = {\"nb\": \"Naive Bayes\" ,\"rf\": \"Random Forests\" , \"svm\": \"Linear SVC\", \"lr\" : \"Logistic Regression\", \"knn\" : \"KNN\", \"dt\" : \"Decision Tree\", \"et\" : \"Extra Trees\", \"ab\" : \"AdaBoost\"}, inplace = True)\n",
    "\n",
    "combined.columns = [\"Title (TF-IDF)\", \"Text (TF-IDF)\", \"Title (Word2Vec)\", \"Text (Word2Vec)\"]"
   ]
  },
  {
   "cell_type": "code",
   "execution_count": 150,
   "metadata": {},
   "outputs": [
    {
     "data": {
      "text/html": [
       "<div>\n",
       "<style scoped>\n",
       "    .dataframe tbody tr th:only-of-type {\n",
       "        vertical-align: middle;\n",
       "    }\n",
       "\n",
       "    .dataframe tbody tr th {\n",
       "        vertical-align: top;\n",
       "    }\n",
       "\n",
       "    .dataframe thead th {\n",
       "        text-align: right;\n",
       "    }\n",
       "</style>\n",
       "<table border=\"1\" class=\"dataframe\">\n",
       "  <thead>\n",
       "    <tr style=\"text-align: right;\">\n",
       "      <th></th>\n",
       "      <th>Title (TF-IDF)</th>\n",
       "      <th>Text (TF-IDF)</th>\n",
       "      <th>Title (Word2Vec)</th>\n",
       "      <th>Text (Word2Vec)</th>\n",
       "    </tr>\n",
       "  </thead>\n",
       "  <tbody>\n",
       "    <tr>\n",
       "      <th>Naive Bayes</th>\n",
       "      <td>0.931043</td>\n",
       "      <td>0.940624</td>\n",
       "      <td>0.863503</td>\n",
       "      <td>0.904429</td>\n",
       "    </tr>\n",
       "    <tr>\n",
       "      <th>Linear SVC</th>\n",
       "      <td>0.948338</td>\n",
       "      <td>0.994749</td>\n",
       "      <td>0.908795</td>\n",
       "      <td>0.985889</td>\n",
       "    </tr>\n",
       "    <tr>\n",
       "      <th>KNN</th>\n",
       "      <td>0.903891</td>\n",
       "      <td>0.885447</td>\n",
       "      <td>0.908123</td>\n",
       "      <td>0.936852</td>\n",
       "    </tr>\n",
       "    <tr>\n",
       "      <th>Logistic Regression</th>\n",
       "      <td>0.941449</td>\n",
       "      <td>0.985113</td>\n",
       "      <td>0.901166</td>\n",
       "      <td>0.973150</td>\n",
       "    </tr>\n",
       "    <tr>\n",
       "      <th>Decision Tree</th>\n",
       "      <td>0.906828</td>\n",
       "      <td>0.902263</td>\n",
       "      <td>0.882176</td>\n",
       "      <td>0.927124</td>\n",
       "    </tr>\n",
       "    <tr>\n",
       "      <th>Extra Trees</th>\n",
       "      <td>0.945085</td>\n",
       "      <td>0.983141</td>\n",
       "      <td>0.929851</td>\n",
       "      <td>0.962277</td>\n",
       "    </tr>\n",
       "    <tr>\n",
       "      <th>AdaBoost</th>\n",
       "      <td>0.902425</td>\n",
       "      <td>0.996377</td>\n",
       "      <td>0.880862</td>\n",
       "      <td>0.907467</td>\n",
       "    </tr>\n",
       "    <tr>\n",
       "      <th>Random Forests</th>\n",
       "      <td>0.941122</td>\n",
       "      <td>0.988667</td>\n",
       "      <td>0.929293</td>\n",
       "      <td>0.963163</td>\n",
       "    </tr>\n",
       "  </tbody>\n",
       "</table>\n",
       "</div>"
      ],
      "text/plain": [
       "                     Title (TF-IDF)  Text (TF-IDF)  Title (Word2Vec)  \\\n",
       "Naive Bayes                0.931043       0.940624          0.863503   \n",
       "Linear SVC                 0.948338       0.994749          0.908795   \n",
       "KNN                        0.903891       0.885447          0.908123   \n",
       "Logistic Regression        0.941449       0.985113          0.901166   \n",
       "Decision Tree              0.906828       0.902263          0.882176   \n",
       "Extra Trees                0.945085       0.983141          0.929851   \n",
       "AdaBoost                   0.902425       0.996377          0.880862   \n",
       "Random Forests             0.941122       0.988667          0.929293   \n",
       "\n",
       "                     Text (Word2Vec)  \n",
       "Naive Bayes                 0.904429  \n",
       "Linear SVC                  0.985889  \n",
       "KNN                         0.936852  \n",
       "Logistic Regression         0.973150  \n",
       "Decision Tree               0.927124  \n",
       "Extra Trees                 0.962277  \n",
       "AdaBoost                    0.907467  \n",
       "Random Forests              0.963163  "
      ]
     },
     "execution_count": 150,
     "metadata": {},
     "output_type": "execute_result"
    }
   ],
   "source": [
    "combined"
   ]
  },
  {
   "cell_type": "code",
   "execution_count": 152,
   "metadata": {},
   "outputs": [],
   "source": [
    "combined = temp.stack().reset_index(level=1, drop=False)"
   ]
  },
  {
   "cell_type": "code",
   "execution_count": 153,
   "metadata": {},
   "outputs": [],
   "source": [
    "combined[\"model\"] = combined.index"
   ]
  },
  {
   "cell_type": "code",
   "execution_count": 154,
   "metadata": {},
   "outputs": [],
   "source": [
    "combined = combined.reset_index(drop = True).rename(columns = {\"level_1\" : \"method\", 0 : \"f1\"})"
   ]
  },
  {
   "cell_type": "code",
   "execution_count": 189,
   "metadata": {
    "scrolled": true
   },
   "outputs": [
    {
     "data": {
      "image/png": "[encoded data removed]",
      "text/plain": [
       "<Figure size 1109.15x360 with 1 Axes>"
      ]
     },
     "metadata": {},
     "output_type": "display_data"
    }
   ],
   "source": [
    "sns.set(font_scale = 2)\n",
    "sns.catplot(y = \"model\", x = \"f1\", hue = \"method\", jitter = False, data = combined, aspect = 12/5, s = 10)\n",
    "plt.ylabel('')\n",
    "plt.savefig(\"data/initial_experiment_f1_scores\")"
   ]
  }
 ],
 "metadata": {
  "kernelspec": {
   "display_name": "Python 3",
   "language": "python",
   "name": "python3"
  },
  "language_info": {
   "codemirror_mode": {
    "name": "ipython",
    "version": 3
   },
   "file_extension": ".py",
   "mimetype": "text/x-python",
   "name": "python",
   "nbconvert_exporter": "python",
   "pygments_lexer": "ipython3",
   "version": "3.7.6"
  }
 },
 "nbformat": 4,
 "nbformat_minor": 4
}
