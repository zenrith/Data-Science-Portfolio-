{
 "cells": [
  {
   "cell_type": "markdown",
   "metadata": {
    "heading_collapsed": true
   },
   "source": [
    "# With source "
   ]
  },
  {
   "cell_type": "markdown",
   "metadata": {
    "hidden": true
   },
   "source": [
    "Preliminary Results using F1 Score"
   ]
  },
  {
   "cell_type": "code",
   "execution_count": 1,
   "metadata": {
    "hidden": true
   },
   "outputs": [],
   "source": [
    "import pandas as pd\n",
    "import numpy as np\n",
    "import time\n",
    "import matplotlib.pyplot as plt\n",
    "import time\n",
    "\n",
    "#nltk & gensim\n",
    "from nltk.tokenize import word_tokenize\n",
    "from nltk.corpus import stopwords\n",
    "from gensim.models import Word2Vec\n",
    "from gensim.utils import simple_preprocess\n",
    "\n",
    "#sklearn\n",
    "from sklearn.metrics import f1_score, fbeta_score, plot_confusion_matrix\n",
    "from sklearn.naive_bayes import GaussianNB\n",
    "from sklearn.svm import LinearSVC\n",
    "from sklearn.neighbors import KNeighborsClassifier\n",
    "from sklearn.linear_model import LogisticRegression\n",
    "from sklearn.tree import DecisionTreeClassifier\n",
    "from sklearn.ensemble import GradientBoostingClassifier, ExtraTreesClassifier, AdaBoostClassifier, RandomForestClassifier\n",
    "from sklearn.model_selection import train_test_split, GridSearchCV\n",
    "\n",
    "%matplotlib inline"
   ]
  },
  {
   "cell_type": "code",
   "execution_count": 55,
   "metadata": {
    "hidden": true
   },
   "outputs": [
    {
     "name": "stdout",
     "output_type": "stream",
     "text": [
      "DATA LOADED\n"
     ]
    }
   ],
   "source": [
    "data = pd.read_csv(\"news_w2v.csv\", index_col = 0, converters={'tokenized_title': eval, 'tokenized_text': eval})\n",
    "print(\"DATA LOADED\")\n",
    "\n",
    "results = {\n",
    "    \"title\": {\n",
    "        \"nb\": {\n",
    "            \"default\": {\n",
    "                \"time\": 0,\n",
    "                \"f1\": 0\n",
    "            }, \n",
    "            \"tuned\": {\n",
    "                \"time\": 0,\n",
    "                \"f1\": 0,\n",
    "                \"params\": 0\n",
    "            }\n",
    "        },\n",
    "        \"svm\": {\n",
    "            \"default\": {\n",
    "                \"time\":0,\n",
    "                \"f1\": 0\n",
    "            },\n",
    "            \"tuned\": {\n",
    "                \"time\": 0,\n",
    "                \"f1\": 0,\n",
    "                \"params\": 0\n",
    "            }\n",
    "        },\n",
    "        \"knn\": {\n",
    "            \"default\": {\n",
    "                \"time\":0,\n",
    "                \"f1\": 0\n",
    "            },\n",
    "            \"tuned\": {\n",
    "                \"time\": 0,\n",
    "                \"f1\": 0,\n",
    "                \"params\": 0\n",
    "            }\n",
    "        },\n",
    "        \"logreg\": {\n",
    "            \"default\": {\n",
    "                \"time\":0,\n",
    "                \"f1\": 0\n",
    "            },\n",
    "            \"tuned\": {\n",
    "                \"time\": 0,\n",
    "                \"f1\": 0,\n",
    "                \"params\": 0\n",
    "            }\n",
    "        },\n",
    "        \"dectree\": {\n",
    "            \"default\": {\n",
    "                \"time\":0,\n",
    "                \"f1\": 0\n",
    "            },\n",
    "            \"tuned\": {\n",
    "                \"time\": 0,\n",
    "                \"f1\": 0,\n",
    "                \"params\": 0\n",
    "            }\n",
    "        },\n",
    "        \"extratrees\": {\n",
    "            \"default\": {\n",
    "                \"time\":0,\n",
    "                \"f1\": 0\n",
    "            },\n",
    "            \"tuned\": {\n",
    "                \"time\": 0,\n",
    "                \"f1\": 0,\n",
    "                \"params\": 0\n",
    "            }\n",
    "        },\n",
    "        \"adb\": {\n",
    "            \"default\": {\n",
    "                \"time\":0,\n",
    "                \"f1\": 0\n",
    "            },\n",
    "            \"tuned\": {\n",
    "                \"time\": 0,\n",
    "                \"f1\": 0,\n",
    "                \"params\": 0\n",
    "            }\n",
    "        },\n",
    "        \"rf\": {\n",
    "            \"default\": {\n",
    "                \"time\":0,\n",
    "                \"f1\": 0\n",
    "            },\n",
    "            \"tuned\": {\n",
    "                \"time\": 0,\n",
    "                \"f1\": 0,\n",
    "                \"params\": 0\n",
    "            }\n",
    "        }\n",
    "    },\n",
    "    \"text\": {\n",
    "        \"nb\": {\n",
    "            \"default\": {\n",
    "                \"time\": 0,\n",
    "                \"f1\": 0\n",
    "            }, \n",
    "            \"tuned\": {\n",
    "                \"time\": 0,\n",
    "                \"f1\": 0,\n",
    "                \"params\": 0\n",
    "            }\n",
    "        },\n",
    "        \"svm\": {\n",
    "            \"default\": {\n",
    "                \"time\":0,\n",
    "                \"f1\": 0\n",
    "            },\n",
    "            \"tuned\": {\n",
    "                \"time\": 0,\n",
    "                \"f1\": 0,\n",
    "                \"params\": 0\n",
    "            }\n",
    "        },\n",
    "        \"knn\": {\n",
    "            \"default\": {\n",
    "                \"time\":0,\n",
    "                \"f1\": 0\n",
    "            },\n",
    "            \"tuned\": {\n",
    "                \"time\": 0,\n",
    "                \"f1\": 0,\n",
    "                \"params\": 0\n",
    "            }\n",
    "        },\n",
    "        \"logreg\": {\n",
    "            \"default\": {\n",
    "                \"time\":0,\n",
    "                \"f1\": 0\n",
    "            },\n",
    "            \"tuned\": {\n",
    "                \"time\": 0,\n",
    "                \"f1\": 0,\n",
    "                \"params\": 0\n",
    "            }\n",
    "        },\n",
    "        \"dectree\": {\n",
    "            \"default\": {\n",
    "                \"time\":0,\n",
    "                \"f1\": 0\n",
    "            },\n",
    "            \"tuned\": {\n",
    "                \"time\": 0,\n",
    "                \"f1\": 0,\n",
    "                \"params\": 0\n",
    "            }\n",
    "        },\n",
    "        \"extratrees\": {\n",
    "            \"default\": {\n",
    "                \"time\":0,\n",
    "                \"f1\": 0\n",
    "            },\n",
    "            \"tuned\": {\n",
    "                \"time\": 0,\n",
    "                \"f1\": 0,\n",
    "                \"params\": 0\n",
    "            }\n",
    "        },\n",
    "        \"adb\": {\n",
    "            \"default\": {\n",
    "                \"time\":0,\n",
    "                \"f1\": 0\n",
    "            },\n",
    "            \"tuned\": {\n",
    "                \"time\": 0,\n",
    "                \"f1\": 0,\n",
    "                \"params\": 0\n",
    "            }\n",
    "        },\n",
    "        \"rf\": {\n",
    "            \"default\": {\n",
    "                \"time\":0,\n",
    "                \"f1\": 0\n",
    "            },\n",
    "            \"tuned\": {\n",
    "                \"time\": 0,\n",
    "                \"f1\": 0,\n",
    "                \"params\": 0\n",
    "            }\n",
    "        }\n",
    "    }\n",
    "}"
   ]
  },
  {
   "cell_type": "code",
   "execution_count": 4,
   "metadata": {
    "hidden": true
   },
   "outputs": [],
   "source": [
    "### MODELING BASED ON TITLE\n",
    "\n",
    "# Train Test Split Function\n",
    "def split_train_test(data, test_size=0.2, shuffle_state=True):\n",
    "    X_train, X_test, Y_train, Y_test = train_test_split(data[['tokenized_title']], \n",
    "                                                        data['label'], \n",
    "                                                        shuffle=shuffle_state,\n",
    "                                                        test_size=test_size, \n",
    "                                                        random_state=7)\n",
    "    X_train = X_train.reset_index()\n",
    "    X_test = X_test.reset_index()\n",
    "    Y_train = Y_train.to_frame()\n",
    "    Y_train = Y_train.reset_index()\n",
    "    Y_test = Y_test.to_frame()\n",
    "    Y_test = Y_test.reset_index()\n",
    "    return X_train, X_test, Y_train, Y_test\n",
    "\n",
    "X_train, X_test, y_train, y_test = split_train_test(data)\n"
   ]
  },
  {
   "cell_type": "code",
   "execution_count": null,
   "metadata": {
    "hidden": true
   },
   "outputs": [],
   "source": [
    "w2v_model_title = Word2Vec(pd.Series(data['tokenized_title']).values, min_count = 1, size = 1000, workers = 4, sg = 1)\n",
    "\n",
    "w2v_model_title.save(\"word2vec_text.model\")"
   ]
  },
  {
   "cell_type": "code",
   "execution_count": 5,
   "metadata": {
    "hidden": true
   },
   "outputs": [],
   "source": [
    "w2v_model_title = Word2Vec.load(\"word2vec_title.model\")"
   ]
  },
  {
   "cell_type": "code",
   "execution_count": 6,
   "metadata": {
    "hidden": true
   },
   "outputs": [
    {
     "name": "stdout",
     "output_type": "stream",
     "text": [
      "[('terror', 0.8988322019577026), ('organization', 0.8600435256958008), ('extremist', 0.8581781387329102), ('domestic', 0.8511384725570679), ('community', 0.8464694619178772), ('terrorism', 0.846422553062439), ('militia', 0.8460522890090942), ('horrific', 0.845471978187561), ('mosque', 0.8413844108581543), ('incident', 0.8357979655265808)]\n"
     ]
    },
    {
     "name": "stderr",
     "output_type": "stream",
     "text": [
      "/opt/conda/lib/python3.7/site-packages/ipykernel_launcher.py:1: DeprecationWarning: Call to deprecated `most_similar` (Method will be removed in 4.0.0, use self.wv.most_similar() instead).\n",
      "  \"\"\"Entry point for launching an IPython kernel.\n"
     ]
    }
   ],
   "source": [
    "print(w2v_model_title.most_similar('terrorist'))"
   ]
  },
  {
   "cell_type": "code",
   "execution_count": null,
   "metadata": {
    "hidden": true
   },
   "outputs": [],
   "source": [
    "# saving the word embeddings into csv file\n",
    "with open(\"train_title_word2vec.csv\", 'w+') as word2vec_file:\n",
    "    for index, row in X_train.iterrows():\n",
    "        model_vector = (np.mean([w2v_model_title[token] for token in row['tokenized_title']], axis=0)).tolist()\n",
    "        \n",
    "        if index == 0:\n",
    "            header = \",\".join(str(ele) for ele in range(1000))\n",
    "            word2vec_file.write(header)\n",
    "            word2vec_file.write(\"\\n\")\n",
    "            \n",
    "        # Check if the line exists else it is vector of zeros\n",
    "        if type(model_vector) is list:  \n",
    "            line1 = \",\".join( [str(vector_element) for vector_element in model_vector] )\n",
    "        else:\n",
    "            line1 = \",\".join([str(0) for i in range(1000)])\n",
    "            \n",
    "        word2vec_file.write(line1)\n",
    "        word2vec_file.write('\\n')"
   ]
  },
  {
   "cell_type": "code",
   "execution_count": 7,
   "metadata": {
    "hidden": true
   },
   "outputs": [],
   "source": [
    "word2vec_title_df = pd.read_csv(\"train_title_word2vec.csv\")"
   ]
  },
  {
   "cell_type": "code",
   "execution_count": 8,
   "metadata": {
    "hidden": true
   },
   "outputs": [
    {
     "name": "stderr",
     "output_type": "stream",
     "text": [
      "/opt/conda/lib/python3.7/site-packages/ipykernel_launcher.py:5: DeprecationWarning: Call to deprecated `__getitem__` (Method will be removed in 4.0.0, use self.wv.__getitem__() instead).\n",
      "  \"\"\"\n"
     ]
    }
   ],
   "source": [
    "def extract(w2v_model_title, X_test):\n",
    "    test_features_word2vec = []\n",
    "    \n",
    "    for index, row in X_test.iterrows():\n",
    "        model_vector = np.mean([w2v_model_title[token] for token in row['tokenized_title']], axis=0).tolist()\n",
    "        if type(model_vector) is list:\n",
    "            test_features_word2vec.append(model_vector)\n",
    "        else:\n",
    "            test_features_word2vec.append(np.array([0 for i in range(1000)]))\n",
    "    return test_features_word2vec\n",
    "\n",
    "\n",
    "X_test = extract(w2v_model_title, X_test)"
   ]
  },
  {
   "cell_type": "code",
   "execution_count": 32,
   "metadata": {
    "hidden": true
   },
   "outputs": [
    {
     "name": "stdout",
     "output_type": "stream",
     "text": [
      "NB TITLE FINISH\n"
     ]
    }
   ],
   "source": [
    "## MultiNomial Naive Bayes Model\n",
    "### default\n",
    "nb = GaussianNB()\n",
    "\n",
    "start = time.time()\n",
    "nb.fit(word2vec_title_df, y_train['label'])\n",
    "time_taken = time.time() - start\n",
    "\n",
    "y_pred = nb.predict(X_test)\n",
    "\n",
    "f1 = f1_score(y_test['label'], y_pred)\n",
    "\n",
    "results['title']['nb']['default']['time'] = time_taken\n",
    "results['title']['nb']['default']['f1'] = f1\n",
    "\n",
    "plot_confusion_matrix(nb, X_test, y_test['label'], normalize = \"true\", cmap = \"Blues\")\n",
    "plt.grid(False)\n",
    "plt.savefig(\"nb_cm_title_w2v.png\")\n",
    "\n",
    "print(\"NB TITLE FINISH\")"
   ]
  },
  {
   "cell_type": "code",
   "execution_count": 37,
   "metadata": {
    "hidden": true
   },
   "outputs": [
    {
     "name": "stdout",
     "output_type": "stream",
     "text": [
      "SVM TUNING FINISH\n"
     ]
    }
   ],
   "source": [
    "## SVM\n",
    "### default\n",
    "svm = LinearSVC()\n",
    "\n",
    "start = time.time()\n",
    "svm.fit(word2vec_title_df, y_train['label'])\n",
    "time_taken = time.time() - start\n",
    "\n",
    "y_pred = svm.predict(X_test)\n",
    "\n",
    "f1 = f1_score(y_test['label'], y_pred)\n",
    "\n",
    "results['title']['svm']['default']['time'] = time_taken\n",
    "results['title']['svm']['default']['f1'] = f1\n",
    "\n",
    "print(\"SVM DEFAULT FINISH\")\n",
    "\n",
    "### GridSearchCV\n",
    "svm = LinearSVC(max_iter = 4000)\n",
    "\n",
    "param_grid = {'C': np.linspace(0.1,1)}\n",
    "\n",
    "svm_title_w2v = GridSearchCV(svm, param_grid, cv = 5, scoring = 'f1', n_jobs = -1)\n",
    "\n",
    "start = time.time()\n",
    "svm_title_w2v.fit(word2vec_title_df, y_train['label'])\n",
    "time_taken = time.time() - start\n",
    "\n",
    "y_pred = svm_title_w2v.predict(X_test)\n",
    "\n",
    "svm_f1_title_w2v = f1_score(y_test['label'], y_pred)\n",
    "\n",
    "results['title']['svm']['tuned']['time'] = time_taken\n",
    "results['title']['svm']['tuned']['f1'] = svm_f1_title_w2v\n",
    "results['title']['svm']['tuned']['params'] = svm_title_w2v.best_params_\n",
    "\n",
    "print(\"SVM TUNING FINISH\")"
   ]
  },
  {
   "cell_type": "code",
   "execution_count": 41,
   "metadata": {
    "hidden": true
   },
   "outputs": [],
   "source": [
    "## knn\n",
    "### default\n",
    "knn = KNeighborsClassifier(n_jobs=-1)\n",
    "\n",
    "start = time.time()\n",
    "knn.fit(word2vec_title_df, y_train['label'])\n",
    "time_taken = time.time() - start\n",
    "\n",
    "y_pred = knn.predict(X_test)\n",
    "\n",
    "f1 = f1_score(y_test['label'], y_pred)\n",
    "\n",
    "results['title']['knn']['default']['time'] = time_taken\n",
    "results['title']['knn']['default']['f1'] = f1"
   ]
  },
  {
   "cell_type": "code",
   "execution_count": 44,
   "metadata": {
    "hidden": true
   },
   "outputs": [
    {
     "name": "stdout",
     "output_type": "stream",
     "text": [
      "KNN TUNING FINISH\n"
     ]
    },
    {
     "data": {
      "image/png": "[encoded data removed]",
      "text/plain": [
       "<Figure size 432x288 with 2 Axes>"
      ]
     },
     "metadata": {
      "needs_background": "light"
     },
     "output_type": "display_data"
    }
   ],
   "source": [
    "### GridSearchCV\n",
    "knn = KNeighborsClassifier(n_jobs=-1)\n",
    "\n",
    "param_grid = {'n_neighbors': np.arange(1,50,5)}\n",
    "\n",
    "knn_title_w2v = GridSearchCV(knn, param_grid, cv = 5, scoring = 'f1')\n",
    "\n",
    "start = time.time()\n",
    "knn_title_w2v.fit(word2vec_title_df, y_train['label'])\n",
    "time_taken = time.time() - start\n",
    "\n",
    "y_pred = knn_title_w2v.predict(X_test)\n",
    "\n",
    "knn_f1_title_w2v = f1_score(y_test['label'], y_pred)\n",
    "\n",
    "results['title']['knn']['tuned']['time'] = time_taken\n",
    "results['title']['knn']['tuned']['f1'] = knn_f1_title_w2v\n",
    "results['title']['knn']['tuned']['params'] = knn_title_w2v.best_params_\n",
    "\n",
    "plot_confusion_matrix(knn_title_w2v, X_test, y_test['label'], normalize = \"true\", cmap = \"Blues\")\n",
    "plt.grid(False)\n",
    "plt.savefig(\"knn_cm_title_w2v.png\")\n",
    "\n",
    "print(\"KNN TUNING FINISH\")"
   ]
  },
  {
   "cell_type": "code",
   "execution_count": 38,
   "metadata": {
    "hidden": true
   },
   "outputs": [
    {
     "name": "stdout",
     "output_type": "stream",
     "text": [
      "LOGREG DEFAULT FINISH\n"
     ]
    },
    {
     "data": {
      "image/png": "[encoded data removed]",
      "text/plain": [
       "<Figure size 432x288 with 2 Axes>"
      ]
     },
     "metadata": {
      "needs_background": "light"
     },
     "output_type": "display_data"
    }
   ],
   "source": [
    "## Logistic Regression\n",
    "### default\n",
    "logreg = LogisticRegression(max_iter = 4000, C = results['text']['lr'])\n",
    "\n",
    "start = time.time()\n",
    "logreg.fit(word2vec_title_df, y_train['label'])\n",
    "time_taken = time.time() - start\n",
    "\n",
    "y_pred = logreg.predict(X_test)\n",
    "\n",
    "f1 = f1_score(y_test['label'], y_pred)\n",
    "\n",
    "results['title']['logreg']['default']['time'] = time_taken\n",
    "results['title']['logreg']['default']['f1'] = f1\n",
    "\n",
    "plot_confusion_matrix(logreg, X_test, y_test['label'], normalize = \"true\", cmap = \"Blues\")\n",
    "plt.grid(False)\n",
    "plt.savefig(\"logreg_cm_title_w2v.png\")\n",
    "\n",
    "print(\"LOGREG DEFAULT FINISH\")"
   ]
  },
  {
   "cell_type": "code",
   "execution_count": 30,
   "metadata": {
    "hidden": true
   },
   "outputs": [
    {
     "name": "stdout",
     "output_type": "stream",
     "text": [
      "LOGREG TUNING FINISH\n"
     ]
    },
    {
     "data": {
      "image/png": "[encoded data removed]",
      "text/plain": [
       "<Figure size 432x288 with 2 Axes>"
      ]
     },
     "metadata": {
      "needs_background": "light"
     },
     "output_type": "display_data"
    }
   ],
   "source": [
    "### GridSearchCV\n",
    "logreg = LogisticRegression(max_iter = 4000)\n",
    "\n",
    "param_grid = {'C': np.linspace(0.1,1)}\n",
    "\n",
    "logreg_title_w2v = GridSearchCV(logreg, param_grid, cv = 5, scoring='f1')\n",
    "\n",
    "start = time.time()\n",
    "logreg_title_w2v.fit(word2vec_title_df, y_train['label'])\n",
    "time_taken = time.time() - start\n",
    "\n",
    "y_pred = logreg_title_w2v.predict(X_test)\n",
    "\n",
    "lr_f1_title_w2v = f1_score(y_test['label'], y_pred)\n",
    "\n",
    "results['title']['logreg']['tuned']['time'] = time_taken\n",
    "results['title']['logreg']['tuned']['f1'] = lr_f1_title_w2v\n",
    "results['title']['logreg']['tuned']['params'] = logreg_title_w2v.best_params_\n",
    "\n",
    "plot_confusion_matrix(logreg_title_w2v, X_test, y_test['label'], normalize = \"true\", cmap = \"Blues\")\n",
    "plt.grid(False)\n",
    "plt.savefig(\"logreg_cm_title_w2v.png\")\n",
    "\n",
    "print(\"LOGREG TUNING FINISH\")"
   ]
  },
  {
   "cell_type": "code",
   "execution_count": 17,
   "metadata": {
    "hidden": true
   },
   "outputs": [
    {
     "name": "stdout",
     "output_type": "stream",
     "text": [
      "DECTREE DEFAULT FINISH\n"
     ]
    }
   ],
   "source": [
    "## Decision Tree\n",
    "### default\n",
    "decision_tree = DecisionTreeClassifier(random_state = 7)\n",
    "\n",
    "start = time.time()\n",
    "decision_tree.fit(word2vec_title_df, y_train['label'])\n",
    "time_taken = time.time() - start\n",
    "\n",
    "y_pred = decision_tree.predict(X_test)\n",
    "\n",
    "f1 = f1_score(y_test['label'], y_pred)\n",
    "\n",
    "results['title']['dectree']['default']['time'] = time_taken\n",
    "results['title']['dectree']['default']['f1'] = f1\n",
    "\n",
    "print(\"DECTREE DEFAULT FINISH\")"
   ]
  },
  {
   "cell_type": "code",
   "execution_count": 10,
   "metadata": {
    "hidden": true
   },
   "outputs": [
    {
     "name": "stdout",
     "output_type": "stream",
     "text": [
      "DECTREE TUNING FINISH\n"
     ]
    },
    {
     "data": {
      "image/png": "[encoded data removed]",
      "text/plain": [
       "<Figure size 432x288 with 2 Axes>"
      ]
     },
     "metadata": {
      "needs_background": "light"
     },
     "output_type": "display_data"
    }
   ],
   "source": [
    "### GridSearchCV\n",
    "decision_tree = DecisionTreeClassifier(random_state = 7, criterion='entropy')\n",
    "\n",
    "param_grid = {'max_depth':np.arange(1,800, 100),\n",
    "              'max_features':np.arange(1,1000, 100),\n",
    "              'min_samples_leaf':np.arange(1,50,5)}\n",
    "\n",
    "dectree_title_w2v = GridSearchCV(decision_tree, param_grid, cv = 5, scoring='f1', n_jobs = -1)\n",
    "\n",
    "start = time.time()\n",
    "dectree_title_w2v.fit(word2vec_title_df, y_train['label'])\n",
    "time_taken = time.time() - start\n",
    "\n",
    "y_pred = dectree_title_w2v.predict(X_test)\n",
    "\n",
    "dectree_f1_title_w2v = f1_score(y_test['label'], y_pred)\n",
    "\n",
    "results['title']['dectree']['tuned']['time'] = time_taken\n",
    "results['title']['dectree']['tuned']['f1'] = dectree_f1_title_w2v\n",
    "results['title']['dectree']['tuned']['params'] = dectree_title_w2v.best_params_\n",
    "\n",
    "plot_confusion_matrix(dectree_title_w2v, X_test, y_test['label'], normalize = \"true\", cmap = \"Blues\")\n",
    "plt.grid(False)\n",
    "plt.savefig(\"dectree_cm_title_w2v.png\")\n",
    "\n",
    "print(\"DECTREE TUNING FINISH\")"
   ]
  },
  {
   "cell_type": "code",
   "execution_count": 14,
   "metadata": {
    "hidden": true
   },
   "outputs": [
    {
     "name": "stdout",
     "output_type": "stream",
     "text": [
      "EXTRA TREES DEFAULT FINISH\n"
     ]
    }
   ],
   "source": [
    "## Extra trees\n",
    "### default\n",
    "extra_trees = ExtraTreesClassifier(random_state = 7)\n",
    "\n",
    "start = time.time()\n",
    "extra_trees.fit(word2vec_title_df, y_train['label'])\n",
    "time_taken = time.time() - start\n",
    "\n",
    "y_pred = extra_trees.predict(X_test)\n",
    "\n",
    "f1 = f1_score(y_test['label'], y_pred)\n",
    "\n",
    "results['title']['extratrees']['default']['time'] = time_taken\n",
    "results['title']['extratrees']['default']['f1'] = f1\n",
    "\n",
    "print(\"EXTRA TREES DEFAULT FINISH\")"
   ]
  },
  {
   "cell_type": "code",
   "execution_count": 15,
   "metadata": {
    "hidden": true
   },
   "outputs": [
    {
     "name": "stdout",
     "output_type": "stream",
     "text": [
      "EXTRA TREES TUNING FINISH\n"
     ]
    },
    {
     "data": {
      "image/png": "[encoded data removed]",
      "text/plain": [
       "<Figure size 432x288 with 2 Axes>"
      ]
     },
     "metadata": {
      "needs_background": "light"
     },
     "output_type": "display_data"
    }
   ],
   "source": [
    "### GridSearchCV\n",
    "extra_trees = ExtraTreesClassifier(random_state = 7)\n",
    "\n",
    "param_grid = {'n_estimators': np.arange(100, 1000, 100)}\n",
    "\n",
    "extratrees_title_w2v = GridSearchCV(extra_trees, param_grid, cv = 5, scoring='f1', n_jobs = 10)\n",
    "\n",
    "start = time.time()\n",
    "extratrees_title_w2v.fit(word2vec_title_df, y_train['label'])\n",
    "time_taken = time.time() - start\n",
    "\n",
    "y_pred = extratrees_title_w2v.predict(X_test)\n",
    "\n",
    "extratrees_f1_title_w2v = f1_score(y_test['label'], y_pred)\n",
    "\n",
    "results['title']['extratrees']['tuned']['time'] = time_taken\n",
    "results['title']['extratrees']['tuned']['f1'] = extratrees_f1_title_w2v\n",
    "results['title']['extratrees']['tuned']['params'] = extratrees_title_w2v.best_params_\n",
    "\n",
    "plot_confusion_matrix(extratrees_title_w2v, X_test, y_test['label'], normalize = \"true\", cmap = \"Blues\")\n",
    "plt.grid(False)\n",
    "plt.savefig(\"extratrees_cm_title_w2v.png\")\n",
    "\n",
    "print(\"EXTRA TREES TUNING FINISH\")"
   ]
  },
  {
   "cell_type": "code",
   "execution_count": 18,
   "metadata": {
    "hidden": true
   },
   "outputs": [
    {
     "name": "stdout",
     "output_type": "stream",
     "text": [
      "ADABOOST DEFAULT FINISH\n"
     ]
    }
   ],
   "source": [
    "## Adaboost\n",
    "### default\n",
    "adaboost = AdaBoostClassifier(base_estimator = decision_tree ,random_state=7)\n",
    "\n",
    "start = time.time()\n",
    "adaboost.fit(word2vec_title_df, y_train['label'])\n",
    "time_taken = time.time() - start\n",
    "\n",
    "y_pred = adaboost.predict(X_test)\n",
    "\n",
    "f1 = f1_score(y_test['label'], y_pred)\n",
    "\n",
    "results['title']['adb']['default']['time'] = time_taken\n",
    "results['title']['adb']['default']['f1'] = f1\n",
    "\n",
    "print(\"ADABOOST DEFAULT FINISH\")"
   ]
  },
  {
   "cell_type": "code",
   "execution_count": 18,
   "metadata": {
    "hidden": true
   },
   "outputs": [
    {
     "name": "stdout",
     "output_type": "stream",
     "text": [
      "ADABOOST TUNING FINISH\n"
     ]
    },
    {
     "data": {
      "image/png": "[encoded data removed]",
      "text/plain": [
       "<Figure size 432x288 with 2 Axes>"
      ]
     },
     "metadata": {
      "needs_background": "light"
     },
     "output_type": "display_data"
    }
   ],
   "source": [
    "### GridSearchCV\n",
    "adaboost = AdaBoostClassifier(base_estimator = decision_tree ,random_state=7)\n",
    "\n",
    "param_grid = {'n_estimators': np.arange(100, 1000, 100)}\n",
    "\n",
    "adaboost_title_w2v = GridSearchCV(adaboost, param_grid, cv = 5, scoring='f1', n_jobs = 10)\n",
    "\n",
    "start = time.time()\n",
    "adaboost_title_w2v.fit(word2vec_title_df, y_train['label'])\n",
    "time_taken = time.time() - start\n",
    "\n",
    "y_pred = adaboost_title_w2v.predict(X_test)\n",
    "\n",
    "adaboost_f1_title_w2v = f1_score(y_test['label'], y_pred)\n",
    "\n",
    "results['title']['adb']['tuned']['time'] = time_taken\n",
    "results['title']['adb']['tuned']['f1'] = adaboost_f1_title_w2v\n",
    "results['title']['adb']['tuned']['params'] = adaboost_title_w2v.best_params_\n",
    "\n",
    "plot_confusion_matrix(adaboost_title_w2v, X_test, y_test['label'], normalize = \"true\", cmap = \"Blues\")\n",
    "plt.grid(False)\n",
    "plt.savefig(\"adb_cm_title_w2v.png\")\n",
    "\n",
    "print(\"ADABOOST TUNING FINISH\")"
   ]
  },
  {
   "cell_type": "code",
   "execution_count": 21,
   "metadata": {
    "hidden": true
   },
   "outputs": [
    {
     "name": "stdout",
     "output_type": "stream",
     "text": [
      "RANDOM FORESTS DEFAULT FINISH\n"
     ]
    }
   ],
   "source": [
    "## Random forests\n",
    "### default\n",
    "random_forests = RandomForestClassifier(random_state=7)\n",
    "\n",
    "start = time.time()\n",
    "random_forests.fit(word2vec_title_df, y_train['label'])\n",
    "time_taken = time.time() - start\n",
    "\n",
    "y_pred = random_forests.predict(X_test)\n",
    "\n",
    "f1 = f1_score(y_test['label'], y_pred)\n",
    "\n",
    "results['title']['rf']['default']['time'] = time_taken\n",
    "results['title']['rf']['default']['f1'] = f1\n",
    "\n",
    "print(\"RANDOM FORESTS DEFAULT FINISH\")"
   ]
  },
  {
   "cell_type": "code",
   "execution_count": 21,
   "metadata": {
    "hidden": true
   },
   "outputs": [
    {
     "name": "stdout",
     "output_type": "stream",
     "text": [
      "RANDOM FORESTS TUNING FINISH\n"
     ]
    },
    {
     "data": {
      "image/png": "[encoded data removed]",
      "text/plain": [
       "<Figure size 432x288 with 2 Axes>"
      ]
     },
     "metadata": {
      "needs_background": "light"
     },
     "output_type": "display_data"
    }
   ],
   "source": [
    "### GridSearchCV\n",
    "random_forests = RandomForestClassifier(random_state=7)\n",
    "\n",
    "param_grid = {'n_estimators': np.arange(100, 1000, 100)}\n",
    "\n",
    "rf_title_w2v = GridSearchCV(random_forests, param_grid, cv = 5, scoring='f1', n_jobs = 10)\n",
    "\n",
    "start = time.time()\n",
    "rf_title_w2v.fit(word2vec_title_df, y_train['label'])\n",
    "time_taken = time.time() - start\n",
    "\n",
    "y_pred = rf_title_w2v.predict(X_test)\n",
    "\n",
    "rf_f1_title_w2v = f1_score(y_test['label'], y_pred)\n",
    "\n",
    "results['title']['rf']['tuned']['time'] = time_taken\n",
    "results['title']['rf']['tuned']['f1'] = rf_f1_title_w2v\n",
    "results['title']['rf']['tuned']['params'] = rf_title_w2v.best_params_\n",
    "\n",
    "plot_confusion_matrix(rf_title_w2v, X_test, y_test['label'], normalize = \"true\", cmap = \"Blues\")\n",
    "plt.grid(False)\n",
    "plt.savefig(\"rf_cm_title_w2v.png\")\n",
    "\n",
    "print(\"RANDOM FORESTS TUNING FINISH\")"
   ]
  },
  {
   "cell_type": "code",
   "execution_count": 31,
   "metadata": {
    "hidden": true
   },
   "outputs": [],
   "source": [
    "### MODELING BASED ON TEXT\n",
    "\n",
    "# Train Test Split Function\n",
    "def split_train_test(data, test_size=0.2, shuffle_state=True):\n",
    "    X_train, X_test, Y_train, Y_test = train_test_split(data[['tokenized_text']], \n",
    "                                                        data['label'], \n",
    "                                                        shuffle=shuffle_state,\n",
    "                                                        test_size=test_size, \n",
    "                                                        random_state=7)\n",
    "    X_train = X_train.reset_index()\n",
    "    X_test = X_test.reset_index()\n",
    "    Y_train = Y_train.to_frame()\n",
    "    Y_train = Y_train.reset_index()\n",
    "    Y_test = Y_test.to_frame()\n",
    "    Y_test = Y_test.reset_index()\n",
    "    return X_train, X_test, Y_train, Y_test\n",
    "\n",
    "X_train, X_test, y_train, y_test = split_train_test(data)"
   ]
  },
  {
   "cell_type": "code",
   "execution_count": 35,
   "metadata": {
    "hidden": true
   },
   "outputs": [],
   "source": [
    "w2v_model_text = Word2Vec(pd.Series(data['tokenized_text']).values, min_count = 1, size = 1000, workers = 4, sg = 1)\n",
    "\n",
    "w2v_model_text.save(\"word2vec_text.model\")"
   ]
  },
  {
   "cell_type": "code",
   "execution_count": 27,
   "metadata": {
    "hidden": true
   },
   "outputs": [],
   "source": [
    "w2v_model_text = Word2Vec.load(\"word2vec_text.model\")"
   ]
  },
  {
   "cell_type": "code",
   "execution_count": 33,
   "metadata": {
    "hidden": true
   },
   "outputs": [
    {
     "name": "stderr",
     "output_type": "stream",
     "text": [
      "/opt/conda/lib/python3.7/site-packages/ipykernel_launcher.py:4: DeprecationWarning: Call to deprecated `__getitem__` (Method will be removed in 4.0.0, use self.wv.__getitem__() instead).\n",
      "  after removing the cwd from sys.path.\n",
      "/opt/conda/lib/python3.7/site-packages/numpy/core/fromnumeric.py:3335: RuntimeWarning: Mean of empty slice.\n",
      "  out=out, **kwargs)\n",
      "/opt/conda/lib/python3.7/site-packages/numpy/core/_methods.py:161: RuntimeWarning: invalid value encountered in double_scalars\n",
      "  ret = ret.dtype.type(ret / rcount)\n"
     ]
    }
   ],
   "source": [
    "# saving the word embeddings into csv file\n",
    "with open(\"train_text_word2vec.csv\", 'w+') as word2vec_file:\n",
    "    for index, row in X_train.iterrows():\n",
    "        model_vector = (np.mean([w2v_model_text[token] for token in row['tokenized_text']], axis=0)).tolist()\n",
    "        \n",
    "        if index == 0:\n",
    "            header = \",\".join(str(ele) for ele in range(1000))\n",
    "            word2vec_file.write(header)\n",
    "            word2vec_file.write(\"\\n\")\n",
    "            \n",
    "        # Check if the line exists else it is vector of zeros\n",
    "        if type(model_vector) is list:  \n",
    "            line1 = \",\".join( [str(vector_element) for vector_element in model_vector] )\n",
    "        else:\n",
    "            line1 = \",\".join([str(0) for i in range(1000)])\n",
    "            \n",
    "        word2vec_file.write(line1)\n",
    "        word2vec_file.write('\\n')"
   ]
  },
  {
   "cell_type": "code",
   "execution_count": 34,
   "metadata": {
    "hidden": true
   },
   "outputs": [],
   "source": [
    "# Load the vectors\n",
    "word2vec_text_df = pd.read_csv(\"train_text_word2vec.csv\")"
   ]
  },
  {
   "cell_type": "code",
   "execution_count": 35,
   "metadata": {
    "hidden": true
   },
   "outputs": [
    {
     "name": "stderr",
     "output_type": "stream",
     "text": [
      "/opt/conda/lib/python3.7/site-packages/ipykernel_launcher.py:5: DeprecationWarning: Call to deprecated `__getitem__` (Method will be removed in 4.0.0, use self.wv.__getitem__() instead).\n",
      "  \"\"\"\n"
     ]
    }
   ],
   "source": [
    "def extract(w2v_model_text, X_test):\n",
    "    test_features_word2vec = []\n",
    "    \n",
    "    for index, row in X_test.iterrows():\n",
    "        model_vector = np.mean([w2v_model_text[token] for token in row['tokenized_text']], axis=0).tolist()\n",
    "        if type(model_vector) is list:\n",
    "            test_features_word2vec.append(model_vector)\n",
    "        else:\n",
    "            test_features_word2vec.append(np.array([0 for i in range(1000)]))\n",
    "    return test_features_word2vec\n",
    "\n",
    "\n",
    "X_test = extract(w2v_model_text, X_test)"
   ]
  },
  {
   "cell_type": "code",
   "execution_count": 6,
   "metadata": {
    "hidden": true
   },
   "outputs": [
    {
     "name": "stdout",
     "output_type": "stream",
     "text": [
      "NB FINISH\n"
     ]
    },
    {
     "data": {
      "image/png": "[encoded data removed]",
      "text/plain": [
       "<Figure size 432x288 with 2 Axes>"
      ]
     },
     "metadata": {
      "needs_background": "light"
     },
     "output_type": "display_data"
    }
   ],
   "source": [
    "## MultiNomial Naive Bayes Model\n",
    "### default\n",
    "nb = GaussianNB()\n",
    "\n",
    "start = time.time()\n",
    "nb.fit(word2vec_text_df, y_train['label'])\n",
    "time_taken = time.time() - start\n",
    "\n",
    "y_pred = nb.predict(X_test)\n",
    "\n",
    "f1 = f1_score(y_test['label'], y_pred)\n",
    "\n",
    "results['text']['nb']['default']['time'] = time_taken\n",
    "results['text']['nb']['default']['f1'] = f1\n",
    "\n",
    "plot_confusion_matrix(nb, X_test, y_test['label'], normalize = \"true\", cmap = \"Blues\")\n",
    "plt.grid(False)\n",
    "plt.savefig(\"nb_cm_text_w2v.png\")\n",
    "\n",
    "print(\"NB FINISH\")"
   ]
  },
  {
   "cell_type": "code",
   "execution_count": 7,
   "metadata": {
    "hidden": true
   },
   "outputs": [
    {
     "name": "stdout",
     "output_type": "stream",
     "text": [
      "KNN DEFAULT FINISH\n"
     ]
    }
   ],
   "source": [
    "## knn\n",
    "### default\n",
    "knn = KNeighborsClassifier(n_jobs=-1)\n",
    "\n",
    "start = time.time()\n",
    "knn.fit(word2vec_text_df, y_train['label'])\n",
    "time_taken = time.time() - start\n",
    "\n",
    "y_pred = knn.predict(X_test)\n",
    "\n",
    "f1 = f1_score(y_test['label'], y_pred)\n",
    "\n",
    "results['text']['knn']['default']['time'] = time_taken\n",
    "results['text']['knn']['default']['f1'] = f1\n",
    "\n",
    "print(\"KNN DEFAULT FINISH\")"
   ]
  },
  {
   "cell_type": "code",
   "execution_count": null,
   "metadata": {
    "hidden": true
   },
   "outputs": [],
   "source": [
    "### GridSearchCV\n",
    "knn = KNeighborsClassifier(n_jobs=-1)\n",
    "\n",
    "param_grid = {'n_neighbors': np.arange(1,50,5)}\n",
    "\n",
    "knn_text_w2v = GridSearchCV(knn, param_grid, cv = 5, scoring = 'f1')\n",
    "\n",
    "start = time.time()\n",
    "knn_text_w2v.fit(word2vec_text_df, y_train['label'])\n",
    "time_taken = time.time() - start\n",
    "\n",
    "y_pred = knn_text_w2v.predict(X_test)\n",
    "\n",
    "knn_f1_text_w2v = f1_score(y_test['label'], y_pred)\n",
    "\n",
    "results['text']['knn']['tuned']['time'] = time_taken\n",
    "results['text']['knn']['tuned']['f1'] = knn_f1_text_w2v\n",
    "results['text']['knn']['tuned']['params'] = knn_text_w2v.best_params_\n",
    "\n",
    "plot_confusion_matrix(knn_text_w2v, X_test, y_test['label'], normalize = \"true\", cmap = \"Blues\")\n",
    "plt.grid(False)\n",
    "plt.savefig(\"knn_cm_text_w2v.png\")\n",
    "print(\"KNN TUNING FINISH\")"
   ]
  },
  {
   "cell_type": "code",
   "execution_count": 10,
   "metadata": {
    "hidden": true
   },
   "outputs": [
    {
     "name": "stdout",
     "output_type": "stream",
     "text": [
      "SVM DEFAULT FINISH\n"
     ]
    }
   ],
   "source": [
    "## SVM\n",
    "### default\n",
    "svm = LinearSVC(max_iter = 4000)\n",
    "\n",
    "start = time.time()\n",
    "svm.fit(word2vec_text_df, y_train['label'])\n",
    "time_taken = time.time() - start\n",
    "\n",
    "y_pred = svm.predict(X_test)\n",
    "\n",
    "f1 = f1_score(y_test['label'], y_pred)\n",
    "\n",
    "results['text']['svm']['default']['time'] = time_taken\n",
    "results['text']['svm']['default']['f1'] = f1\n",
    "\n",
    "print(\"SVM DEFAULT FINISH\")"
   ]
  },
  {
   "cell_type": "code",
   "execution_count": 11,
   "metadata": {
    "hidden": true
   },
   "outputs": [
    {
     "name": "stdout",
     "output_type": "stream",
     "text": [
      "SVM TUNING FINISH\n"
     ]
    },
    {
     "data": {
      "image/png": "[encoded data removed]",
      "text/plain": [
       "<Figure size 432x288 with 2 Axes>"
      ]
     },
     "metadata": {
      "needs_background": "light"
     },
     "output_type": "display_data"
    }
   ],
   "source": [
    "### GridSearchCV\n",
    "svm = LinearSVC(max_iter = 4000)\n",
    "\n",
    "param_grid = {'C': np.linspace(0.1,1)}\n",
    "\n",
    "svm_text_w2v = GridSearchCV(svm, param_grid, cv = 5, scoring = 'f1')\n",
    "\n",
    "start = time.time()\n",
    "svm_text_w2v.fit(word2vec_text_df, y_train['label'])\n",
    "time_taken = time.time() - start\n",
    "\n",
    "y_pred = svm_text_w2v.predict(X_test)\n",
    "\n",
    "svm_f1_text_w2v = f1_score(y_test['label'], y_pred)\n",
    "\n",
    "results['text']['svm']['tuned']['time'] = time_taken\n",
    "results['text']['svm']['tuned']['f1'] = svm_f1_text_w2v\n",
    "results['text']['svm']['tuned']['params'] = svm_text_w2v.best_params_\n",
    "\n",
    "plot_confusion_matrix(svm_text_w2v, X_test, y_test['label'], normalize = \"true\", cmap = \"Blues\")\n",
    "plt.grid(False)\n",
    "plt.savefig(\"svm_cm_text_w2v.png\")\n",
    "\n",
    "print(\"SVM TUNING FINISH\")"
   ]
  },
  {
   "cell_type": "code",
   "execution_count": 9,
   "metadata": {
    "hidden": true
   },
   "outputs": [
    {
     "name": "stdout",
     "output_type": "stream",
     "text": [
      "LOGREG DEFAULT FINISH\n"
     ]
    },
    {
     "data": {
      "image/png": "[encoded data removed]",
      "text/plain": [
       "<Figure size 432x288 with 2 Axes>"
      ]
     },
     "metadata": {
      "needs_background": "light"
     },
     "output_type": "display_data"
    }
   ],
   "source": [
    "## Logistic Regression\n",
    "### default\n",
    "logreg = LogisticRegression(max_iter = 4000)\n",
    "\n",
    "start = time.time()\n",
    "logreg.fit(word2vec_text_df, y_train['label'])\n",
    "time_taken = time.time() - start\n",
    "\n",
    "y_pred = logreg.predict(X_test)\n",
    "\n",
    "f1 = f1_score(y_test['label'], y_pred)\n",
    "\n",
    "results['text']['logreg']['default']['time'] = time_taken\n",
    "results['text']['logreg']['default']['f1'] = f1\n",
    "\n",
    "plot_confusion_matrix(logreg, X_test, y_test['label'], normalize = \"true\", cmap = \"Blues\")\n",
    "plt.grid(False)\n",
    "plt.savefig(\"logreg_cm_text_w2v.png\")\n",
    "\n",
    "print(\"LOGREG DEFAULT FINISH\")"
   ]
  },
  {
   "cell_type": "code",
   "execution_count": 19,
   "metadata": {
    "hidden": true
   },
   "outputs": [
    {
     "name": "stdout",
     "output_type": "stream",
     "text": [
      "LOGREG TUNING FINISH\n"
     ]
    },
    {
     "data": {
      "image/png": "[encoded data removed]",
      "text/plain": [
       "<Figure size 432x288 with 2 Axes>"
      ]
     },
     "metadata": {
      "needs_background": "light"
     },
     "output_type": "display_data"
    }
   ],
   "source": [
    "### GridSearchCV\n",
    "logreg = LogisticRegression(max_iter = 4000)\n",
    "\n",
    "param_grid = {'C': np.linspace(0.1,1)}\n",
    "\n",
    "logreg_text_w2v = GridSearchCV(logreg, param_grid, cv = 5, scoring='f1')\n",
    "\n",
    "start = time.time()\n",
    "logreg_text_w2v.fit(word2vec_text_df, y_train['label'])\n",
    "time_taken = time.time() - start\n",
    "\n",
    "y_pred = logreg_text_w2v.predict(X_test)\n",
    "\n",
    "lr_f1_text_w2v = f1_score(y_test['label'], y_pred)\n",
    "\n",
    "results['text']['logreg']['tuned']['time'] = time_taken\n",
    "results['text']['logreg']['tuned']['f1'] = lr_f1_text_w2v\n",
    "results['text']['logreg']['tuned']['params'] = logreg_text_w2v.best_params_\n",
    "\n",
    "plot_confusion_matrix(logreg_text_w2v, X_test, y_test['label'], normalize = \"true\", cmap = \"Blues\")\n",
    "plt.grid(False)\n",
    "plt.savefig(\"logreg_cm_text_w2v.png\")\n",
    "\n",
    "print(\"LOGREG TUNING FINISH\")"
   ]
  },
  {
   "cell_type": "code",
   "execution_count": 8,
   "metadata": {
    "hidden": true
   },
   "outputs": [
    {
     "name": "stdout",
     "output_type": "stream",
     "text": [
      "DECTREE DEFAULT FINISH\n"
     ]
    }
   ],
   "source": [
    "## Decision Tree\n",
    "### default\n",
    "decision_tree = DecisionTreeClassifier(random_state = 7)\n",
    "\n",
    "start = time.time()\n",
    "decision_tree.fit(word2vec_text_df, y_train['label'])\n",
    "time_taken = time.time() - start\n",
    "\n",
    "y_pred = decision_tree.predict(X_test)\n",
    "\n",
    "f1 = f1_score(y_test['label'], y_pred)\n",
    "\n",
    "results['text']['dectree']['default']['time'] = time_taken\n",
    "results['text']['dectree']['default']['f1'] = f1\n",
    "\n",
    "print(\"DECTREE DEFAULT FINISH\")"
   ]
  },
  {
   "cell_type": "code",
   "execution_count": 25,
   "metadata": {
    "hidden": true
   },
   "outputs": [
    {
     "name": "stdout",
     "output_type": "stream",
     "text": [
      "DECTREE TUNING FINISH\n"
     ]
    },
    {
     "data": {
      "image/png": "[encoded data removed]",
      "text/plain": [
       "<Figure size 432x288 with 2 Axes>"
      ]
     },
     "metadata": {
      "needs_background": "light"
     },
     "output_type": "display_data"
    }
   ],
   "source": [
    "### GridSearchCV\n",
    "decision_tree = DecisionTreeClassifier(random_state = 7, criterion='entropy')\n",
    "\n",
    "param_grid = {'max_depth':np.arange(1,500, 100),\n",
    "              'max_features':np.arange(1,1000, 100),\n",
    "              'min_samples_leaf':np.arange(1,50,5)}\n",
    "\n",
    "dectree_text_w2v = GridSearchCV(decision_tree, param_grid, cv = 5, scoring='f1', n_jobs = -1)\n",
    "\n",
    "start = time.time()\n",
    "dectree_text_w2v.fit(word2vec_text_df, y_train['label'])\n",
    "time_taken = time.time() - start\n",
    "\n",
    "y_pred = dectree_text_w2v.predict(X_test)\n",
    "\n",
    "dectree_f1_text_w2v = f1_score(y_test['label'], y_pred)\n",
    "\n",
    "results['text']['dectree']['tuned']['time'] = time_taken\n",
    "results['text']['dectree']['tuned']['f1'] = dectree_f1_text_w2v\n",
    "results['text']['dectree']['tuned']['params'] = dectree_text_w2v.best_params_\n",
    "\n",
    "plot_confusion_matrix(dectree_text_w2v, X_test, y_test['label'], normalize = \"true\", cmap = \"Blues\")\n",
    "plt.grid(False)\n",
    "plt.savefig(\"dectree_cm_text_w2v.png\")\n",
    "\n",
    "print(\"DECTREE TUNING FINISH\")"
   ]
  },
  {
   "cell_type": "code",
   "execution_count": 9,
   "metadata": {
    "hidden": true
   },
   "outputs": [
    {
     "name": "stdout",
     "output_type": "stream",
     "text": [
      "EXTRA TREES DEFAULT FINISH\n"
     ]
    }
   ],
   "source": [
    "## Extra trees\n",
    "### default\n",
    "extra_trees = ExtraTreesClassifier(random_state = 7)\n",
    "\n",
    "start = time.time()\n",
    "extra_trees.fit(word2vec_text_df, y_train['label'])\n",
    "time_taken = time.time() - start\n",
    "\n",
    "y_pred = extra_trees.predict(X_test)\n",
    "\n",
    "f1 = f1_score(y_test['label'], y_pred)\n",
    "\n",
    "results['text']['extratrees']['default']['time'] = time_taken\n",
    "results['text']['extratrees']['default']['f1'] = f1\n",
    "\n",
    "print(\"EXTRA TREES DEFAULT FINISH\")"
   ]
  },
  {
   "cell_type": "code",
   "execution_count": 36,
   "metadata": {
    "hidden": true
   },
   "outputs": [
    {
     "name": "stdout",
     "output_type": "stream",
     "text": [
      "EXTRA TREES TUNING FINISH\n"
     ]
    },
    {
     "data": {
      "image/png": "[encoded data removed]",
      "text/plain": [
       "<Figure size 432x288 with 2 Axes>"
      ]
     },
     "metadata": {
      "needs_background": "light"
     },
     "output_type": "display_data"
    }
   ],
   "source": [
    "### GridSearchCV\n",
    "extra_trees = ExtraTreesClassifier(random_state = 7)\n",
    "\n",
    "param_grid = {'n_estimators': np.arange(100, 1000, 100)}\n",
    "\n",
    "extratrees_text_w2v = GridSearchCV(extra_trees, param_grid, cv = 5, scoring='f1', n_jobs = 14)\n",
    "\n",
    "start = time.time()\n",
    "extratrees_text_w2v.fit(word2vec_text_df, y_train['label'])\n",
    "time_taken = time.time() - start\n",
    "\n",
    "y_pred = extratrees_text_w2v.predict(X_test)\n",
    "\n",
    "extratrees_f1_text_w2v = f1_score(y_test['label'], y_pred)\n",
    "\n",
    "results['text']['extratrees']['tuned']['time'] = time_taken\n",
    "results['text']['extratrees']['tuned']['f1'] = extratrees_f1_text_w2v\n",
    "results['text']['extratrees']['tuned']['params'] = extratrees_text_w2v.best_params_\n",
    "\n",
    "plot_confusion_matrix(extratrees_text_w2v, X_test, y_test['label'], normalize = \"true\", cmap = \"Blues\")\n",
    "plt.grid(False)\n",
    "plt.savefig(\"extratrees_cm_text_w2v.png\")\n",
    "\n",
    "print(\"EXTRA TREES TUNING FINISH\")"
   ]
  },
  {
   "cell_type": "code",
   "execution_count": null,
   "metadata": {
    "hidden": true
   },
   "outputs": [],
   "source": [
    "## Adaboost\n",
    "### default\n",
    "adaboost = AdaBoostClassifier(base_estimator = decision_tree ,random_state=7)\n",
    "\n",
    "start = time.time()\n",
    "adaboost.fit(word2vec_text_df, y_train['label'])\n",
    "time_taken = time.time() - start\n",
    "\n",
    "y_pred = adaboost.predict(X_test)\n",
    "\n",
    "f1 = f1_score(y_test['label'], y_pred)\n",
    "\n",
    "results['text']['adb']['default']['time'] = time_taken\n",
    "results['text']['adb']['default']['f1'] = f1\n",
    "\n",
    "print(\"ADB DEFAULT FINISH\")"
   ]
  },
  {
   "cell_type": "code",
   "execution_count": 38,
   "metadata": {
    "hidden": true
   },
   "outputs": [
    {
     "name": "stdout",
     "output_type": "stream",
     "text": [
      "ADB TUNING FINISH\n"
     ]
    },
    {
     "data": {
      "image/png": "[encoded data removed]",
      "text/plain": [
       "<Figure size 432x288 with 2 Axes>"
      ]
     },
     "metadata": {
      "needs_background": "light"
     },
     "output_type": "display_data"
    }
   ],
   "source": [
    "### GridSearchCV\n",
    "adaboost = AdaBoostClassifier(base_estimator = decision_tree ,random_state=7)\n",
    "\n",
    "param_grid = {'n_estimators': np.arange(100, 1000, 100)}\n",
    "\n",
    "adaboost_text_w2v = GridSearchCV(adaboost, param_grid, cv = 5, scoring='f1', n_jobs=14)\n",
    "\n",
    "start = time.time()\n",
    "adaboost_text_w2v.fit(word2vec_text_df, y_train['label'])\n",
    "time_taken = time.time() - start\n",
    "\n",
    "y_pred = adaboost_text_w2v.predict(X_test)\n",
    "\n",
    "adaboost_f1_text_w2v = f1_score(y_test['label'], y_pred)\n",
    "\n",
    "results['text']['adb']['tuned']['time'] = time_taken\n",
    "results['text']['adb']['tuned']['f1'] = adaboost_f1_text_w2v\n",
    "results['text']['adb']['tuned']['params'] = adaboost_text_w2v.best_params_\n",
    "\n",
    "plot_confusion_matrix(adaboost_text_w2v, X_test, y_test['label'], normalize = \"true\", cmap = \"Blues\")\n",
    "plt.grid(False)\n",
    "plt.savefig(\"adaboost_cm_text_w2v.png\")\n",
    "\n",
    "print(\"ADB TUNING FINISH\")"
   ]
  },
  {
   "cell_type": "code",
   "execution_count": 16,
   "metadata": {
    "hidden": true
   },
   "outputs": [
    {
     "name": "stdout",
     "output_type": "stream",
     "text": [
      "RANDOM FORESTS DEFAULT FINISH\n"
     ]
    }
   ],
   "source": [
    "## Random forests\n",
    "### default\n",
    "random_forests = RandomForestClassifier(random_state=7)\n",
    "\n",
    "start = time.time()\n",
    "random_forests.fit(word2vec_text_df, y_train['label'])\n",
    "time_taken = time.time() - start\n",
    "\n",
    "y_pred = random_forests.predict(X_test)\n",
    "\n",
    "f1 = f1_score(y_test['label'], y_pred)\n",
    "\n",
    "results['text']['rf']['default']['time'] = time_taken\n",
    "results['text']['rf']['default']['f1'] = f1\n",
    "\n",
    "print(\"RANDOM FORESTS DEFAULT FINISH\")"
   ]
  },
  {
   "cell_type": "code",
   "execution_count": 40,
   "metadata": {
    "hidden": true
   },
   "outputs": [
    {
     "ename": "KeyboardInterrupt",
     "evalue": "",
     "output_type": "error",
     "traceback": [
      "\u001b[0;31m---------------------------------------------------------------------------\u001b[0m",
      "\u001b[0;31mKeyboardInterrupt\u001b[0m                         Traceback (most recent call last)",
      "\u001b[0;32m<ipython-input-40-217172d5db48>\u001b[0m in \u001b[0;36m<module>\u001b[0;34m\u001b[0m\n\u001b[1;32m      7\u001b[0m \u001b[0;34m\u001b[0m\u001b[0m\n\u001b[1;32m      8\u001b[0m \u001b[0mstart\u001b[0m \u001b[0;34m=\u001b[0m \u001b[0mtime\u001b[0m\u001b[0;34m.\u001b[0m\u001b[0mtime\u001b[0m\u001b[0;34m(\u001b[0m\u001b[0;34m)\u001b[0m\u001b[0;34m\u001b[0m\u001b[0;34m\u001b[0m\u001b[0m\n\u001b[0;32m----> 9\u001b[0;31m \u001b[0mrf_text_w2v\u001b[0m\u001b[0;34m.\u001b[0m\u001b[0mfit\u001b[0m\u001b[0;34m(\u001b[0m\u001b[0mword2vec_text_df\u001b[0m\u001b[0;34m,\u001b[0m \u001b[0my_train\u001b[0m\u001b[0;34m[\u001b[0m\u001b[0;34m'label'\u001b[0m\u001b[0;34m]\u001b[0m\u001b[0;34m)\u001b[0m\u001b[0;34m\u001b[0m\u001b[0;34m\u001b[0m\u001b[0m\n\u001b[0m\u001b[1;32m     10\u001b[0m \u001b[0mtime_taken\u001b[0m \u001b[0;34m=\u001b[0m \u001b[0mtime\u001b[0m\u001b[0;34m.\u001b[0m\u001b[0mtime\u001b[0m\u001b[0;34m(\u001b[0m\u001b[0;34m)\u001b[0m \u001b[0;34m-\u001b[0m \u001b[0mstart\u001b[0m\u001b[0;34m\u001b[0m\u001b[0;34m\u001b[0m\u001b[0m\n\u001b[1;32m     11\u001b[0m \u001b[0;34m\u001b[0m\u001b[0m\n",
      "\u001b[0;32m/opt/conda/lib/python3.7/site-packages/sklearn/utils/validation.py\u001b[0m in \u001b[0;36minner_f\u001b[0;34m(*args, **kwargs)\u001b[0m\n\u001b[1;32m     70\u001b[0m                           FutureWarning)\n\u001b[1;32m     71\u001b[0m         \u001b[0mkwargs\u001b[0m\u001b[0;34m.\u001b[0m\u001b[0mupdate\u001b[0m\u001b[0;34m(\u001b[0m\u001b[0;34m{\u001b[0m\u001b[0mk\u001b[0m\u001b[0;34m:\u001b[0m \u001b[0marg\u001b[0m \u001b[0;32mfor\u001b[0m \u001b[0mk\u001b[0m\u001b[0;34m,\u001b[0m \u001b[0marg\u001b[0m \u001b[0;32min\u001b[0m \u001b[0mzip\u001b[0m\u001b[0;34m(\u001b[0m\u001b[0msig\u001b[0m\u001b[0;34m.\u001b[0m\u001b[0mparameters\u001b[0m\u001b[0;34m,\u001b[0m \u001b[0margs\u001b[0m\u001b[0;34m)\u001b[0m\u001b[0;34m}\u001b[0m\u001b[0;34m)\u001b[0m\u001b[0;34m\u001b[0m\u001b[0;34m\u001b[0m\u001b[0m\n\u001b[0;32m---> 72\u001b[0;31m         \u001b[0;32mreturn\u001b[0m \u001b[0mf\u001b[0m\u001b[0;34m(\u001b[0m\u001b[0;34m**\u001b[0m\u001b[0mkwargs\u001b[0m\u001b[0;34m)\u001b[0m\u001b[0;34m\u001b[0m\u001b[0;34m\u001b[0m\u001b[0m\n\u001b[0m\u001b[1;32m     73\u001b[0m     \u001b[0;32mreturn\u001b[0m \u001b[0minner_f\u001b[0m\u001b[0;34m\u001b[0m\u001b[0;34m\u001b[0m\u001b[0m\n\u001b[1;32m     74\u001b[0m \u001b[0;34m\u001b[0m\u001b[0m\n",
      "\u001b[0;32m/opt/conda/lib/python3.7/site-packages/sklearn/model_selection/_search.py\u001b[0m in \u001b[0;36mfit\u001b[0;34m(self, X, y, groups, **fit_params)\u001b[0m\n\u001b[1;32m    763\u001b[0m             \u001b[0mrefit_start_time\u001b[0m \u001b[0;34m=\u001b[0m \u001b[0mtime\u001b[0m\u001b[0;34m.\u001b[0m\u001b[0mtime\u001b[0m\u001b[0;34m(\u001b[0m\u001b[0;34m)\u001b[0m\u001b[0;34m\u001b[0m\u001b[0;34m\u001b[0m\u001b[0m\n\u001b[1;32m    764\u001b[0m             \u001b[0;32mif\u001b[0m \u001b[0my\u001b[0m \u001b[0;32mis\u001b[0m \u001b[0;32mnot\u001b[0m \u001b[0;32mNone\u001b[0m\u001b[0;34m:\u001b[0m\u001b[0;34m\u001b[0m\u001b[0;34m\u001b[0m\u001b[0m\n\u001b[0;32m--> 765\u001b[0;31m                 \u001b[0mself\u001b[0m\u001b[0;34m.\u001b[0m\u001b[0mbest_estimator_\u001b[0m\u001b[0;34m.\u001b[0m\u001b[0mfit\u001b[0m\u001b[0;34m(\u001b[0m\u001b[0mX\u001b[0m\u001b[0;34m,\u001b[0m \u001b[0my\u001b[0m\u001b[0;34m,\u001b[0m \u001b[0;34m**\u001b[0m\u001b[0mfit_params\u001b[0m\u001b[0;34m)\u001b[0m\u001b[0;34m\u001b[0m\u001b[0;34m\u001b[0m\u001b[0m\n\u001b[0m\u001b[1;32m    766\u001b[0m             \u001b[0;32melse\u001b[0m\u001b[0;34m:\u001b[0m\u001b[0;34m\u001b[0m\u001b[0;34m\u001b[0m\u001b[0m\n\u001b[1;32m    767\u001b[0m                 \u001b[0mself\u001b[0m\u001b[0;34m.\u001b[0m\u001b[0mbest_estimator_\u001b[0m\u001b[0;34m.\u001b[0m\u001b[0mfit\u001b[0m\u001b[0;34m(\u001b[0m\u001b[0mX\u001b[0m\u001b[0;34m,\u001b[0m \u001b[0;34m**\u001b[0m\u001b[0mfit_params\u001b[0m\u001b[0;34m)\u001b[0m\u001b[0;34m\u001b[0m\u001b[0;34m\u001b[0m\u001b[0m\n",
      "\u001b[0;32m/opt/conda/lib/python3.7/site-packages/sklearn/ensemble/_forest.py\u001b[0m in \u001b[0;36mfit\u001b[0;34m(self, X, y, sample_weight)\u001b[0m\n\u001b[1;32m    390\u001b[0m                     \u001b[0mverbose\u001b[0m\u001b[0;34m=\u001b[0m\u001b[0mself\u001b[0m\u001b[0;34m.\u001b[0m\u001b[0mverbose\u001b[0m\u001b[0;34m,\u001b[0m \u001b[0mclass_weight\u001b[0m\u001b[0;34m=\u001b[0m\u001b[0mself\u001b[0m\u001b[0;34m.\u001b[0m\u001b[0mclass_weight\u001b[0m\u001b[0;34m,\u001b[0m\u001b[0;34m\u001b[0m\u001b[0;34m\u001b[0m\u001b[0m\n\u001b[1;32m    391\u001b[0m                     n_samples_bootstrap=n_samples_bootstrap)\n\u001b[0;32m--> 392\u001b[0;31m                 for i, t in enumerate(trees))\n\u001b[0m\u001b[1;32m    393\u001b[0m \u001b[0;34m\u001b[0m\u001b[0m\n\u001b[1;32m    394\u001b[0m             \u001b[0;31m# Collect newly grown trees\u001b[0m\u001b[0;34m\u001b[0m\u001b[0;34m\u001b[0m\u001b[0;34m\u001b[0m\u001b[0m\n",
      "\u001b[0;32m/opt/conda/lib/python3.7/site-packages/joblib/parallel.py\u001b[0m in \u001b[0;36m__call__\u001b[0;34m(self, iterable)\u001b[0m\n\u001b[1;32m   1030\u001b[0m                 \u001b[0mself\u001b[0m\u001b[0;34m.\u001b[0m\u001b[0m_iterating\u001b[0m \u001b[0;34m=\u001b[0m \u001b[0mself\u001b[0m\u001b[0;34m.\u001b[0m\u001b[0m_original_iterator\u001b[0m \u001b[0;32mis\u001b[0m \u001b[0;32mnot\u001b[0m \u001b[0;32mNone\u001b[0m\u001b[0;34m\u001b[0m\u001b[0;34m\u001b[0m\u001b[0m\n\u001b[1;32m   1031\u001b[0m \u001b[0;34m\u001b[0m\u001b[0m\n\u001b[0;32m-> 1032\u001b[0;31m             \u001b[0;32mwhile\u001b[0m \u001b[0mself\u001b[0m\u001b[0;34m.\u001b[0m\u001b[0mdispatch_one_batch\u001b[0m\u001b[0;34m(\u001b[0m\u001b[0miterator\u001b[0m\u001b[0;34m)\u001b[0m\u001b[0;34m:\u001b[0m\u001b[0;34m\u001b[0m\u001b[0;34m\u001b[0m\u001b[0m\n\u001b[0m\u001b[1;32m   1033\u001b[0m                 \u001b[0;32mpass\u001b[0m\u001b[0;34m\u001b[0m\u001b[0;34m\u001b[0m\u001b[0m\n\u001b[1;32m   1034\u001b[0m \u001b[0;34m\u001b[0m\u001b[0m\n",
      "\u001b[0;32m/opt/conda/lib/python3.7/site-packages/joblib/parallel.py\u001b[0m in \u001b[0;36mdispatch_one_batch\u001b[0;34m(self, iterator)\u001b[0m\n\u001b[1;32m    845\u001b[0m                 \u001b[0;32mreturn\u001b[0m \u001b[0;32mFalse\u001b[0m\u001b[0;34m\u001b[0m\u001b[0;34m\u001b[0m\u001b[0m\n\u001b[1;32m    846\u001b[0m             \u001b[0;32melse\u001b[0m\u001b[0;34m:\u001b[0m\u001b[0;34m\u001b[0m\u001b[0;34m\u001b[0m\u001b[0m\n\u001b[0;32m--> 847\u001b[0;31m                 \u001b[0mself\u001b[0m\u001b[0;34m.\u001b[0m\u001b[0m_dispatch\u001b[0m\u001b[0;34m(\u001b[0m\u001b[0mtasks\u001b[0m\u001b[0;34m)\u001b[0m\u001b[0;34m\u001b[0m\u001b[0;34m\u001b[0m\u001b[0m\n\u001b[0m\u001b[1;32m    848\u001b[0m                 \u001b[0;32mreturn\u001b[0m \u001b[0;32mTrue\u001b[0m\u001b[0;34m\u001b[0m\u001b[0;34m\u001b[0m\u001b[0m\n\u001b[1;32m    849\u001b[0m \u001b[0;34m\u001b[0m\u001b[0m\n",
      "\u001b[0;32m/opt/conda/lib/python3.7/site-packages/joblib/parallel.py\u001b[0m in \u001b[0;36m_dispatch\u001b[0;34m(self, batch)\u001b[0m\n\u001b[1;32m    763\u001b[0m         \u001b[0;32mwith\u001b[0m \u001b[0mself\u001b[0m\u001b[0;34m.\u001b[0m\u001b[0m_lock\u001b[0m\u001b[0;34m:\u001b[0m\u001b[0;34m\u001b[0m\u001b[0;34m\u001b[0m\u001b[0m\n\u001b[1;32m    764\u001b[0m             \u001b[0mjob_idx\u001b[0m \u001b[0;34m=\u001b[0m \u001b[0mlen\u001b[0m\u001b[0;34m(\u001b[0m\u001b[0mself\u001b[0m\u001b[0;34m.\u001b[0m\u001b[0m_jobs\u001b[0m\u001b[0;34m)\u001b[0m\u001b[0;34m\u001b[0m\u001b[0;34m\u001b[0m\u001b[0m\n\u001b[0;32m--> 765\u001b[0;31m             \u001b[0mjob\u001b[0m \u001b[0;34m=\u001b[0m \u001b[0mself\u001b[0m\u001b[0;34m.\u001b[0m\u001b[0m_backend\u001b[0m\u001b[0;34m.\u001b[0m\u001b[0mapply_async\u001b[0m\u001b[0;34m(\u001b[0m\u001b[0mbatch\u001b[0m\u001b[0;34m,\u001b[0m \u001b[0mcallback\u001b[0m\u001b[0;34m=\u001b[0m\u001b[0mcb\u001b[0m\u001b[0;34m)\u001b[0m\u001b[0;34m\u001b[0m\u001b[0;34m\u001b[0m\u001b[0m\n\u001b[0m\u001b[1;32m    766\u001b[0m             \u001b[0;31m# A job can complete so quickly than its callback is\u001b[0m\u001b[0;34m\u001b[0m\u001b[0;34m\u001b[0m\u001b[0;34m\u001b[0m\u001b[0m\n\u001b[1;32m    767\u001b[0m             \u001b[0;31m# called before we get here, causing self._jobs to\u001b[0m\u001b[0;34m\u001b[0m\u001b[0;34m\u001b[0m\u001b[0;34m\u001b[0m\u001b[0m\n",
      "\u001b[0;32m/opt/conda/lib/python3.7/site-packages/joblib/_parallel_backends.py\u001b[0m in \u001b[0;36mapply_async\u001b[0;34m(self, func, callback)\u001b[0m\n\u001b[1;32m    206\u001b[0m     \u001b[0;32mdef\u001b[0m \u001b[0mapply_async\u001b[0m\u001b[0;34m(\u001b[0m\u001b[0mself\u001b[0m\u001b[0;34m,\u001b[0m \u001b[0mfunc\u001b[0m\u001b[0;34m,\u001b[0m \u001b[0mcallback\u001b[0m\u001b[0;34m=\u001b[0m\u001b[0;32mNone\u001b[0m\u001b[0;34m)\u001b[0m\u001b[0;34m:\u001b[0m\u001b[0;34m\u001b[0m\u001b[0;34m\u001b[0m\u001b[0m\n\u001b[1;32m    207\u001b[0m         \u001b[0;34m\"\"\"Schedule a func to be run\"\"\"\u001b[0m\u001b[0;34m\u001b[0m\u001b[0;34m\u001b[0m\u001b[0m\n\u001b[0;32m--> 208\u001b[0;31m         \u001b[0mresult\u001b[0m \u001b[0;34m=\u001b[0m \u001b[0mImmediateResult\u001b[0m\u001b[0;34m(\u001b[0m\u001b[0mfunc\u001b[0m\u001b[0;34m)\u001b[0m\u001b[0;34m\u001b[0m\u001b[0;34m\u001b[0m\u001b[0m\n\u001b[0m\u001b[1;32m    209\u001b[0m         \u001b[0;32mif\u001b[0m \u001b[0mcallback\u001b[0m\u001b[0;34m:\u001b[0m\u001b[0;34m\u001b[0m\u001b[0;34m\u001b[0m\u001b[0m\n\u001b[1;32m    210\u001b[0m             \u001b[0mcallback\u001b[0m\u001b[0;34m(\u001b[0m\u001b[0mresult\u001b[0m\u001b[0;34m)\u001b[0m\u001b[0;34m\u001b[0m\u001b[0;34m\u001b[0m\u001b[0m\n",
      "\u001b[0;32m/opt/conda/lib/python3.7/site-packages/joblib/_parallel_backends.py\u001b[0m in \u001b[0;36m__init__\u001b[0;34m(self, batch)\u001b[0m\n\u001b[1;32m    570\u001b[0m         \u001b[0;31m# Don't delay the application, to avoid keeping the input\u001b[0m\u001b[0;34m\u001b[0m\u001b[0;34m\u001b[0m\u001b[0;34m\u001b[0m\u001b[0m\n\u001b[1;32m    571\u001b[0m         \u001b[0;31m# arguments in memory\u001b[0m\u001b[0;34m\u001b[0m\u001b[0;34m\u001b[0m\u001b[0;34m\u001b[0m\u001b[0m\n\u001b[0;32m--> 572\u001b[0;31m         \u001b[0mself\u001b[0m\u001b[0;34m.\u001b[0m\u001b[0mresults\u001b[0m \u001b[0;34m=\u001b[0m \u001b[0mbatch\u001b[0m\u001b[0;34m(\u001b[0m\u001b[0;34m)\u001b[0m\u001b[0;34m\u001b[0m\u001b[0;34m\u001b[0m\u001b[0m\n\u001b[0m\u001b[1;32m    573\u001b[0m \u001b[0;34m\u001b[0m\u001b[0m\n\u001b[1;32m    574\u001b[0m     \u001b[0;32mdef\u001b[0m \u001b[0mget\u001b[0m\u001b[0;34m(\u001b[0m\u001b[0mself\u001b[0m\u001b[0;34m)\u001b[0m\u001b[0;34m:\u001b[0m\u001b[0;34m\u001b[0m\u001b[0;34m\u001b[0m\u001b[0m\n",
      "\u001b[0;32m/opt/conda/lib/python3.7/site-packages/joblib/parallel.py\u001b[0m in \u001b[0;36m__call__\u001b[0;34m(self)\u001b[0m\n\u001b[1;32m    251\u001b[0m         \u001b[0;32mwith\u001b[0m \u001b[0mparallel_backend\u001b[0m\u001b[0;34m(\u001b[0m\u001b[0mself\u001b[0m\u001b[0;34m.\u001b[0m\u001b[0m_backend\u001b[0m\u001b[0;34m,\u001b[0m \u001b[0mn_jobs\u001b[0m\u001b[0;34m=\u001b[0m\u001b[0mself\u001b[0m\u001b[0;34m.\u001b[0m\u001b[0m_n_jobs\u001b[0m\u001b[0;34m)\u001b[0m\u001b[0;34m:\u001b[0m\u001b[0;34m\u001b[0m\u001b[0;34m\u001b[0m\u001b[0m\n\u001b[1;32m    252\u001b[0m             return [func(*args, **kwargs)\n\u001b[0;32m--> 253\u001b[0;31m                     for func, args, kwargs in self.items]\n\u001b[0m\u001b[1;32m    254\u001b[0m \u001b[0;34m\u001b[0m\u001b[0m\n\u001b[1;32m    255\u001b[0m     \u001b[0;32mdef\u001b[0m \u001b[0m__reduce__\u001b[0m\u001b[0;34m(\u001b[0m\u001b[0mself\u001b[0m\u001b[0;34m)\u001b[0m\u001b[0;34m:\u001b[0m\u001b[0;34m\u001b[0m\u001b[0;34m\u001b[0m\u001b[0m\n",
      "\u001b[0;32m/opt/conda/lib/python3.7/site-packages/joblib/parallel.py\u001b[0m in \u001b[0;36m<listcomp>\u001b[0;34m(.0)\u001b[0m\n\u001b[1;32m    251\u001b[0m         \u001b[0;32mwith\u001b[0m \u001b[0mparallel_backend\u001b[0m\u001b[0;34m(\u001b[0m\u001b[0mself\u001b[0m\u001b[0;34m.\u001b[0m\u001b[0m_backend\u001b[0m\u001b[0;34m,\u001b[0m \u001b[0mn_jobs\u001b[0m\u001b[0;34m=\u001b[0m\u001b[0mself\u001b[0m\u001b[0;34m.\u001b[0m\u001b[0m_n_jobs\u001b[0m\u001b[0;34m)\u001b[0m\u001b[0;34m:\u001b[0m\u001b[0;34m\u001b[0m\u001b[0;34m\u001b[0m\u001b[0m\n\u001b[1;32m    252\u001b[0m             return [func(*args, **kwargs)\n\u001b[0;32m--> 253\u001b[0;31m                     for func, args, kwargs in self.items]\n\u001b[0m\u001b[1;32m    254\u001b[0m \u001b[0;34m\u001b[0m\u001b[0m\n\u001b[1;32m    255\u001b[0m     \u001b[0;32mdef\u001b[0m \u001b[0m__reduce__\u001b[0m\u001b[0;34m(\u001b[0m\u001b[0mself\u001b[0m\u001b[0;34m)\u001b[0m\u001b[0;34m:\u001b[0m\u001b[0;34m\u001b[0m\u001b[0;34m\u001b[0m\u001b[0m\n",
      "\u001b[0;32m/opt/conda/lib/python3.7/site-packages/sklearn/ensemble/_forest.py\u001b[0m in \u001b[0;36m_parallel_build_trees\u001b[0;34m(tree, forest, X, y, sample_weight, tree_idx, n_trees, verbose, class_weight, n_samples_bootstrap)\u001b[0m\n\u001b[1;32m    166\u001b[0m                                                         indices=indices)\n\u001b[1;32m    167\u001b[0m \u001b[0;34m\u001b[0m\u001b[0m\n\u001b[0;32m--> 168\u001b[0;31m         \u001b[0mtree\u001b[0m\u001b[0;34m.\u001b[0m\u001b[0mfit\u001b[0m\u001b[0;34m(\u001b[0m\u001b[0mX\u001b[0m\u001b[0;34m,\u001b[0m \u001b[0my\u001b[0m\u001b[0;34m,\u001b[0m \u001b[0msample_weight\u001b[0m\u001b[0;34m=\u001b[0m\u001b[0mcurr_sample_weight\u001b[0m\u001b[0;34m,\u001b[0m \u001b[0mcheck_input\u001b[0m\u001b[0;34m=\u001b[0m\u001b[0;32mFalse\u001b[0m\u001b[0;34m)\u001b[0m\u001b[0;34m\u001b[0m\u001b[0;34m\u001b[0m\u001b[0m\n\u001b[0m\u001b[1;32m    169\u001b[0m     \u001b[0;32melse\u001b[0m\u001b[0;34m:\u001b[0m\u001b[0;34m\u001b[0m\u001b[0;34m\u001b[0m\u001b[0m\n\u001b[1;32m    170\u001b[0m         \u001b[0mtree\u001b[0m\u001b[0;34m.\u001b[0m\u001b[0mfit\u001b[0m\u001b[0;34m(\u001b[0m\u001b[0mX\u001b[0m\u001b[0;34m,\u001b[0m \u001b[0my\u001b[0m\u001b[0;34m,\u001b[0m \u001b[0msample_weight\u001b[0m\u001b[0;34m=\u001b[0m\u001b[0msample_weight\u001b[0m\u001b[0;34m,\u001b[0m \u001b[0mcheck_input\u001b[0m\u001b[0;34m=\u001b[0m\u001b[0;32mFalse\u001b[0m\u001b[0;34m)\u001b[0m\u001b[0;34m\u001b[0m\u001b[0;34m\u001b[0m\u001b[0m\n",
      "\u001b[0;32m/opt/conda/lib/python3.7/site-packages/sklearn/tree/_classes.py\u001b[0m in \u001b[0;36mfit\u001b[0;34m(self, X, y, sample_weight, check_input, X_idx_sorted)\u001b[0m\n\u001b[1;32m    892\u001b[0m             \u001b[0msample_weight\u001b[0m\u001b[0;34m=\u001b[0m\u001b[0msample_weight\u001b[0m\u001b[0;34m,\u001b[0m\u001b[0;34m\u001b[0m\u001b[0;34m\u001b[0m\u001b[0m\n\u001b[1;32m    893\u001b[0m             \u001b[0mcheck_input\u001b[0m\u001b[0;34m=\u001b[0m\u001b[0mcheck_input\u001b[0m\u001b[0;34m,\u001b[0m\u001b[0;34m\u001b[0m\u001b[0;34m\u001b[0m\u001b[0m\n\u001b[0;32m--> 894\u001b[0;31m             X_idx_sorted=X_idx_sorted)\n\u001b[0m\u001b[1;32m    895\u001b[0m         \u001b[0;32mreturn\u001b[0m \u001b[0mself\u001b[0m\u001b[0;34m\u001b[0m\u001b[0;34m\u001b[0m\u001b[0m\n\u001b[1;32m    896\u001b[0m \u001b[0;34m\u001b[0m\u001b[0m\n",
      "\u001b[0;32m/opt/conda/lib/python3.7/site-packages/sklearn/tree/_classes.py\u001b[0m in \u001b[0;36mfit\u001b[0;34m(self, X, y, sample_weight, check_input, X_idx_sorted)\u001b[0m\n\u001b[1;32m    373\u001b[0m                                            min_impurity_split)\n\u001b[1;32m    374\u001b[0m \u001b[0;34m\u001b[0m\u001b[0m\n\u001b[0;32m--> 375\u001b[0;31m         \u001b[0mbuilder\u001b[0m\u001b[0;34m.\u001b[0m\u001b[0mbuild\u001b[0m\u001b[0;34m(\u001b[0m\u001b[0mself\u001b[0m\u001b[0;34m.\u001b[0m\u001b[0mtree_\u001b[0m\u001b[0;34m,\u001b[0m \u001b[0mX\u001b[0m\u001b[0;34m,\u001b[0m \u001b[0my\u001b[0m\u001b[0;34m,\u001b[0m \u001b[0msample_weight\u001b[0m\u001b[0;34m,\u001b[0m \u001b[0mX_idx_sorted\u001b[0m\u001b[0;34m)\u001b[0m\u001b[0;34m\u001b[0m\u001b[0;34m\u001b[0m\u001b[0m\n\u001b[0m\u001b[1;32m    376\u001b[0m \u001b[0;34m\u001b[0m\u001b[0m\n\u001b[1;32m    377\u001b[0m         \u001b[0;32mif\u001b[0m \u001b[0mself\u001b[0m\u001b[0;34m.\u001b[0m\u001b[0mn_outputs_\u001b[0m \u001b[0;34m==\u001b[0m \u001b[0;36m1\u001b[0m \u001b[0;32mand\u001b[0m \u001b[0mis_classifier\u001b[0m\u001b[0;34m(\u001b[0m\u001b[0mself\u001b[0m\u001b[0;34m)\u001b[0m\u001b[0;34m:\u001b[0m\u001b[0;34m\u001b[0m\u001b[0;34m\u001b[0m\u001b[0m\n",
      "\u001b[0;31mKeyboardInterrupt\u001b[0m: "
     ]
    }
   ],
   "source": [
    "### GridSearchCV\n",
    "random_forests = RandomForestClassifier(random_state=7)\n",
    "\n",
    "param_grid = {'n_estimators': np.arange(100, 1000, 100)}\n",
    "\n",
    "rf_text_w2v = GridSearchCV(random_forests, param_grid, cv = 5, scoring='f1', n_jobs = 14)\n",
    "\n",
    "start = time.time()\n",
    "rf_text_w2v.fit(word2vec_text_df, y_train['label'])\n",
    "time_taken = time.time() - start\n",
    "\n",
    "y_pred = rf_text_w2v.predict(X_test)\n",
    "\n",
    "rf_f1_text_w2v = f1_score(y_test['label'], y_pred)\n",
    "\n",
    "results['text']['rf']['tuned']['time'] = time_taken\n",
    "results['text']['rf']['tuned']['f1'] = rf_f1_text_w2v\n",
    "results['text']['rf']['tuned']['params'] = rf_text_w2v.best_params_\n",
    "\n",
    "plot_confusion_matrix(rf_text_w2v, X_test, y_test['label'], normalize = \"true\", cmap = \"Blues\")\n",
    "plt.grid(False)\n",
    "plt.savefig(\"rf_cm_text_w2v.png\")\n",
    "\n",
    "print(\"RANDOM FORESTS TUNING FINISH\")"
   ]
  },
  {
   "cell_type": "code",
   "execution_count": 3,
   "metadata": {
    "hidden": true
   },
   "outputs": [],
   "source": [
    "results = np.load(\"w2v_results.npy\", allow_pickle = True).tolist()"
   ]
  },
  {
   "cell_type": "code",
   "execution_count": 41,
   "metadata": {
    "hidden": true
   },
   "outputs": [
    {
     "data": {
      "text/plain": [
       "{'title': {'nb': {'default': {'time': 0.693305253982544,\n",
       "    'f1': 0.8635032220269478},\n",
       "   'tuned': {'time': 0, 'f1': 0, 'params': 0}},\n",
       "  'svm': {'default': {'time': 13.703838586807251, 'f1': 0.9087951667247589},\n",
       "   'tuned': {'time': 1811.5794024467468,\n",
       "    'f1': 0.9087951667247589,\n",
       "    'params': {'C': 1.0}}},\n",
       "  'knn': {'default': {'time': 5.832834005355835, 'f1': 0.9064051051760814},\n",
       "   'tuned': {'time': 1740.5446367263794,\n",
       "    'f1': 0.9081234480312167,\n",
       "    'params': {'n_neighbors': 11}}},\n",
       "  'logreg': {'default': {'time': 3.4530136585235596, 'f1': 0.9011655011655012},\n",
       "   'tuned': {'time': 0, 'f1': 0, 'params': 0}},\n",
       "  'dectree': {'default': {'time': 118.57320713996887,\n",
       "    'f1': 0.8796759590183464},\n",
       "   'tuned': {'time': 8048.371073484421,\n",
       "    'f1': 0.882175925925926,\n",
       "    'params': {'max_depth': 101,\n",
       "     'max_features': 601,\n",
       "     'min_samples_leaf': 41}}},\n",
       "  'extratrees': {'default': {'time': 22.137936115264893,\n",
       "    'f1': 0.9298512706405901},\n",
       "   'tuned': {'time': 666.2681078910828,\n",
       "    'f1': 0.9304775280898876,\n",
       "    'params': {'n_estimators': 500}}},\n",
       "  'adb': {'default': {'time': 78.4276192188263, 'f1': 0.8808621506395073},\n",
       "   'tuned': {'time': 620.6880097389221,\n",
       "    'f1': 0.8799045915324986,\n",
       "    'params': {'n_estimators': 100}}},\n",
       "  'rf': {'default': {'time': 152.4624626636505, 'f1': 0.9292929292929293},\n",
       "   'tuned': {'time': 3979.034282207489,\n",
       "    'f1': 0.9291578700445695,\n",
       "    'params': {'n_estimators': 500}}}},\n",
       " 'text': {'nb': {'default': {'time': 0.7010455131530762,\n",
       "    'f1': 0.9044294380222044},\n",
       "   'tuned': {'time': 0, 'f1': 0, 'params': 0}},\n",
       "  'svm': {'default': {'time': 5.258175849914551, 'f1': 0.9857742537313432},\n",
       "   'tuned': {'time': 779.8638718128204,\n",
       "    'f1': 0.9858892128279884,\n",
       "    'params': {'C': 0.9816326530612246}}},\n",
       "  'knn': {'default': {'time': 4.730943918228149, 'f1': 0.9331065759637189},\n",
       "   'tuned': {'time': 1935.5165557861328,\n",
       "    'f1': 0.9368518091726205,\n",
       "    'params': {'n_neighbors': 6}}},\n",
       "  'logreg': {'default': {'time': 1.4759654998779297, 'f1': 0.9731496614522531},\n",
       "   'tuned': {'time': 0, 'f1': 0, 'params': 0}},\n",
       "  'dectree': {'default': {'time': 79.02961325645447, 'f1': 0.907358894974994},\n",
       "   'tuned': {'time': 4080.684283018112,\n",
       "    'f1': 0.9271240668325631,\n",
       "    'params': {'max_depth': 101, 'max_features': 701, 'min_samples_leaf': 1}}},\n",
       "  'extratrees': {'default': {'time': 20.371683597564697,\n",
       "    'f1': 0.9622774133083413},\n",
       "   'tuned': {'time': 617.586587190628,\n",
       "    'f1': 0.9652672202081628,\n",
       "    'params': {'n_estimators': 800}}},\n",
       "  'adb': {'default': {'time': 77.10383558273315, 'f1': 0.9074669524830296},\n",
       "   'tuned': {'time': 380.6714584827423,\n",
       "    'f1': 0.9074669524830296,\n",
       "    'params': {'n_estimators': 100}}},\n",
       "  'rf': {'default': {'time': 107.80816221237183, 'f1': 0.9631634694598094},\n",
       "   'tuned': {'time': 0, 'f1': 0, 'params': 0}}}}"
      ]
     },
     "execution_count": 41,
     "metadata": {},
     "output_type": "execute_result"
    }
   ],
   "source": [
    "results"
   ]
  },
  {
   "cell_type": "code",
   "execution_count": 42,
   "metadata": {
    "hidden": true
   },
   "outputs": [],
   "source": [
    "np.save(\"w2v_results.npy\", results)"
   ]
  },
  {
   "cell_type": "markdown",
   "metadata": {
    "hidden": true
   },
   "source": [
    "Preliminary results with F-beta score"
   ]
  },
  {
   "cell_type": "code",
   "execution_count": 27,
   "metadata": {
    "hidden": true
   },
   "outputs": [],
   "source": [
    "results = {\n",
    "        \"nb\": {\n",
    "            \"default\": {\n",
    "                \"time\": 0,\n",
    "                \"f1\": 0\n",
    "            }, \n",
    "            \"tuned\": {\n",
    "                \"time\": 0,\n",
    "                \"f1\": 0,\n",
    "                \"params\": 0\n",
    "            }\n",
    "        },\n",
    "        \"svm\": {\n",
    "            \"default\": {\n",
    "                \"time\":0,\n",
    "                \"f1\": 0\n",
    "            },\n",
    "            \"tuned\": {\n",
    "                \"time\": 0,\n",
    "                \"f1\": 0,\n",
    "                \"params\": 0\n",
    "            }\n",
    "        },\n",
    "        \"knn\": {\n",
    "            \"default\": {\n",
    "                \"time\":0,\n",
    "                \"f1\": 0\n",
    "            },\n",
    "            \"tuned\": {\n",
    "                \"time\": 0,\n",
    "                \"f1\": 0,\n",
    "                \"params\": 0\n",
    "            }\n",
    "        },\n",
    "        \"logreg\": {\n",
    "            \"default\": {\n",
    "                \"time\":0,\n",
    "                \"f1\": 0\n",
    "            },\n",
    "            \"tuned\": {\n",
    "                \"time\": 0,\n",
    "                \"f1\": 0,\n",
    "                \"params\": 0\n",
    "            }\n",
    "        },\n",
    "        \"dectree\": {\n",
    "            \"default\": {\n",
    "                \"time\":0,\n",
    "                \"f1\": 0\n",
    "            },\n",
    "            \"tuned\": {\n",
    "                \"time\": 0,\n",
    "                \"f1\": 0,\n",
    "                \"params\": 0\n",
    "            }\n",
    "        },\n",
    "        \"extratrees\": {\n",
    "            \"default\": {\n",
    "                \"time\":0,\n",
    "                \"f1\": 0\n",
    "            },\n",
    "            \"tuned\": {\n",
    "                \"time\": 0,\n",
    "                \"f1\": 0,\n",
    "                \"params\": 0\n",
    "            }\n",
    "        },\n",
    "        \"adb\": {\n",
    "            \"default\": {\n",
    "                \"time\":0,\n",
    "                \"f1\": 0\n",
    "            },\n",
    "            \"tuned\": {\n",
    "                \"time\": 0,\n",
    "                \"f1\": 0,\n",
    "                \"params\": 0\n",
    "            }\n",
    "        },\n",
    "        \"rf\": {\n",
    "            \"default\": {\n",
    "                \"time\":0,\n",
    "                \"f1\": 0\n",
    "            },\n",
    "            \"tuned\": {\n",
    "                \"time\": 0,\n",
    "                \"f1\": 0,\n",
    "                \"params\": 0\n",
    "            }\n",
    "        }\n",
    "    }"
   ]
  },
  {
   "cell_type": "code",
   "execution_count": 28,
   "metadata": {
    "hidden": true
   },
   "outputs": [],
   "source": [
    "### MODELING BASED ON TEXT\n",
    "\n",
    "# Train Test Split Function\n",
    "def split_train_test(data, test_size=0.2, shuffle_state=True):\n",
    "    X_train, X_test, Y_train, Y_test = train_test_split(data[['tokenized_text']], \n",
    "                                                        data['label'], \n",
    "                                                        shuffle=shuffle_state,\n",
    "                                                        test_size=test_size, \n",
    "                                                        random_state=7)\n",
    "    X_train = X_train.reset_index()\n",
    "    X_test = X_test.reset_index()\n",
    "    Y_train = Y_train.to_frame()\n",
    "    Y_train = Y_train.reset_index()\n",
    "    Y_test = Y_test.to_frame()\n",
    "    Y_test = Y_test.reset_index()\n",
    "    return X_train, X_test, Y_train, Y_test\n",
    "\n",
    "X_train, X_test, y_train, y_test = split_train_test(data)"
   ]
  },
  {
   "cell_type": "code",
   "execution_count": 29,
   "metadata": {
    "hidden": true
   },
   "outputs": [],
   "source": [
    "w2v_model_text = Word2Vec.load(\"word2vec_text.model\")"
   ]
  },
  {
   "cell_type": "code",
   "execution_count": 30,
   "metadata": {
    "hidden": true
   },
   "outputs": [],
   "source": [
    "# Load the vectors\n",
    "word2vec_text_df = pd.read_csv(\"train_text_word2vec.csv\")"
   ]
  },
  {
   "cell_type": "code",
   "execution_count": 31,
   "metadata": {
    "hidden": true
   },
   "outputs": [
    {
     "name": "stderr",
     "output_type": "stream",
     "text": [
      "/opt/conda/lib/python3.7/site-packages/ipykernel_launcher.py:5: DeprecationWarning: Call to deprecated `__getitem__` (Method will be removed in 4.0.0, use self.wv.__getitem__() instead).\n",
      "  \"\"\"\n"
     ]
    }
   ],
   "source": [
    "X_test = extract(w2v_model_text, X_test)"
   ]
  },
  {
   "cell_type": "code",
   "execution_count": 32,
   "metadata": {
    "hidden": true
   },
   "outputs": [
    {
     "name": "stdout",
     "output_type": "stream",
     "text": [
      "NB FINISH\n"
     ]
    },
    {
     "data": {
      "image/png": "[encoded data removed]",
      "text/plain": [
       "<Figure size 432x288 with 2 Axes>"
      ]
     },
     "metadata": {
      "needs_background": "light"
     },
     "output_type": "display_data"
    }
   ],
   "source": [
    "## Naive Bayes Model\n",
    "### default\n",
    "nb = GaussianNB()\n",
    "\n",
    "start = time.time()\n",
    "nb.fit(word2vec_text_df, y_train['label'])\n",
    "time_taken = time.time() - start\n",
    "\n",
    "y_pred = nb.predict(X_test)\n",
    "\n",
    "f1 = fbeta_score(y_test['label'], y_pred, beta=0.5)\n",
    "\n",
    "results['nb']['default']['time'] = time_taken\n",
    "results['nb']['default']['f1'] = f1\n",
    "\n",
    "plot_confusion_matrix(nb, X_test, y_test['label'], normalize = \"true\", cmap = \"Blues\")\n",
    "plt.grid(False)\n",
    "\n",
    "print(\"NB FINISH\")"
   ]
  },
  {
   "cell_type": "code",
   "execution_count": 34,
   "metadata": {
    "hidden": true
   },
   "outputs": [
    {
     "name": "stdout",
     "output_type": "stream",
     "text": [
      "KNN DEFAULT FINISH\n"
     ]
    },
    {
     "data": {
      "image/png": "[encoded data removed]",
      "text/plain": [
       "<Figure size 432x288 with 2 Axes>"
      ]
     },
     "metadata": {
      "needs_background": "light"
     },
     "output_type": "display_data"
    }
   ],
   "source": [
    "## knn\n",
    "### default\n",
    "knn = KNeighborsClassifier(n_jobs=-1)\n",
    "\n",
    "start = time.time()\n",
    "knn.fit(word2vec_text_df, y_train['label'])\n",
    "time_taken = time.time() - start\n",
    "\n",
    "y_pred = knn.predict(X_test)\n",
    "\n",
    "f1 = fbeta_score(y_test['label'], y_pred, beta = 0.5)\n",
    "\n",
    "results['knn']['default']['time'] = time_taken\n",
    "results['knn']['default']['f1'] = f1\n",
    "\n",
    "plot_confusion_matrix(knn, X_test, y_test['label'], normalize = \"true\", cmap = \"Blues\")\n",
    "\n",
    "print(\"KNN DEFAULT FINISH\")"
   ]
  },
  {
   "cell_type": "code",
   "execution_count": 36,
   "metadata": {
    "hidden": true
   },
   "outputs": [
    {
     "name": "stdout",
     "output_type": "stream",
     "text": [
      "SVM DEFAULT FINISH\n"
     ]
    },
    {
     "data": {
      "image/png": "[encoded data removed]",
      "text/plain": [
       "<Figure size 432x288 with 2 Axes>"
      ]
     },
     "metadata": {
      "needs_background": "light"
     },
     "output_type": "display_data"
    }
   ],
   "source": [
    "## SVM\n",
    "### default\n",
    "svm = LinearSVC(max_iter = 4000)\n",
    "\n",
    "start = time.time()\n",
    "svm.fit(word2vec_text_df, y_train['label'])\n",
    "time_taken = time.time() - start\n",
    "\n",
    "y_pred = svm.predict(X_test)\n",
    "\n",
    "f1 = fbeta_score(y_test['label'], y_pred, beta = 0.5)\n",
    "\n",
    "results['svm']['default']['time'] = time_taken\n",
    "results['svm']['default']['f1'] = f1\n",
    "\n",
    "plot_confusion_matrix(svm, X_test, y_test['label'], normalize = \"true\", cmap = \"Blues\")\n",
    "print(\"SVM DEFAULT FINISH\")"
   ]
  },
  {
   "cell_type": "code",
   "execution_count": 37,
   "metadata": {
    "hidden": true
   },
   "outputs": [
    {
     "name": "stdout",
     "output_type": "stream",
     "text": [
      "LOGREG DEFAULT FINISH\n"
     ]
    },
    {
     "data": {
      "image/png": "[encoded data removed]",
      "text/plain": [
       "<Figure size 432x288 with 2 Axes>"
      ]
     },
     "metadata": {
      "needs_background": "light"
     },
     "output_type": "display_data"
    }
   ],
   "source": [
    "## Logistic Regression\n",
    "### default\n",
    "logreg = LogisticRegression(max_iter = 4000)\n",
    "\n",
    "start = time.time()\n",
    "logreg.fit(word2vec_text_df, y_train['label'])\n",
    "time_taken = time.time() - start\n",
    "\n",
    "y_pred = logreg.predict(X_test)\n",
    "\n",
    "f1 = fbeta_score(y_test['label'], y_pred, beta = 0.5)\n",
    "\n",
    "results['logreg']['default']['time'] = time_taken\n",
    "tresults['logreg']['default']['f1'] = f1\n",
    "\n",
    "plot_confusion_matrix(logreg, X_test, y_test['label'], normalize = \"true\", cmap = \"Blues\")\n",
    "plt.grid(False)\n",
    "\n",
    "print(\"LOGREG DEFAULT FINISH\")"
   ]
  },
  {
   "cell_type": "code",
   "execution_count": 43,
   "metadata": {
    "hidden": true
   },
   "outputs": [
    {
     "name": "stdout",
     "output_type": "stream",
     "text": [
      "DECTREE DEFAULT FINISH\n"
     ]
    },
    {
     "data": {
      "image/png": "[encoded data removed]",
      "text/plain": [
       "<Figure size 432x288 with 2 Axes>"
      ]
     },
     "metadata": {
      "needs_background": "light"
     },
     "output_type": "display_data"
    }
   ],
   "source": [
    "## Decision Tree\n",
    "### default\n",
    "decision_tree = DecisionTreeClassifier(random_state = 7)\n",
    "\n",
    "start = time.time()\n",
    "decision_tree.fit(word2vec_text_df, y_train['label'])\n",
    "time_taken = time.time() - start\n",
    "\n",
    "y_pred = decision_tree.predict(X_test)\n",
    "\n",
    "f1 = fbeta_score(y_test['label'], y_pred, beta = 0.5)\n",
    "\n",
    "results['dectree']['default']['time'] = time_taken\n",
    "results['dectree']['default']['f1'] = f1\n",
    "\n",
    "plot_confusion_matrix(decision_tree, X_test, y_test['label'], normalize = \"true\", cmap = \"Blues\")\n",
    "\n",
    "print(\"DECTREE DEFAULT FINISH\")"
   ]
  },
  {
   "cell_type": "code",
   "execution_count": 45,
   "metadata": {
    "hidden": true
   },
   "outputs": [
    {
     "name": "stdout",
     "output_type": "stream",
     "text": [
      "EXTRA TREES DEFAULT FINISH\n"
     ]
    },
    {
     "data": {
      "image/png": "[encoded data removed]",
      "text/plain": [
       "<Figure size 432x288 with 2 Axes>"
      ]
     },
     "metadata": {
      "needs_background": "light"
     },
     "output_type": "display_data"
    }
   ],
   "source": [
    "## Extra trees\n",
    "### default\n",
    "extra_trees = ExtraTreesClassifier(random_state = 7)\n",
    "\n",
    "start = time.time()\n",
    "extra_trees.fit(word2vec_text_df, y_train['label'])\n",
    "time_taken = time.time() - start\n",
    "\n",
    "y_pred = extra_trees.predict(X_test)\n",
    "\n",
    "f1 = fbeta_score(y_test['label'], y_pred, beta = 0.5)\n",
    "\n",
    "results['extratrees']['default']['time'] = time_taken\n",
    "results['extratrees']['default']['f1'] = f1\n",
    "\n",
    "plot_confusion_matrix(extra_trees, X_test, y_test['label'], normalize = \"true\", cmap = \"Blues\")\n",
    "\n",
    "print(\"EXTRA TREES DEFAULT FINISH\")"
   ]
  },
  {
   "cell_type": "code",
   "execution_count": 47,
   "metadata": {
    "hidden": true
   },
   "outputs": [
    {
     "name": "stdout",
     "output_type": "stream",
     "text": [
      "ADB DEFAULT FINISH\n"
     ]
    },
    {
     "data": {
      "image/png": "[encoded data removed]",
      "text/plain": [
       "<Figure size 432x288 with 2 Axes>"
      ]
     },
     "metadata": {
      "needs_background": "light"
     },
     "output_type": "display_data"
    }
   ],
   "source": [
    "## Adaboost\n",
    "### default\n",
    "adaboost = AdaBoostClassifier(base_estimator = decision_tree ,random_state=7)\n",
    "\n",
    "start = time.time()\n",
    "adaboost.fit(word2vec_text_df, y_train['label'])\n",
    "time_taken = time.time() - start\n",
    "\n",
    "y_pred = adaboost.predict(X_test)\n",
    "\n",
    "f1 = fbeta_score(y_test['label'], y_pred, beta = 0.5)\n",
    "\n",
    "results['adb']['default']['time'] = time_taken\n",
    "results['adb']['default']['f1'] = f1\n",
    "\n",
    "plot_confusion_matrix(adaboost, X_test, y_test['label'], normalize = \"true\", cmap = \"Blues\")\n",
    "\n",
    "print(\"ADB DEFAULT FINISH\")"
   ]
  },
  {
   "cell_type": "code",
   "execution_count": 49,
   "metadata": {
    "hidden": true
   },
   "outputs": [
    {
     "name": "stdout",
     "output_type": "stream",
     "text": [
      "RANDOM FORESTS DEFAULT FINISH\n"
     ]
    },
    {
     "data": {
      "image/png": "[encoded data removed]",
      "text/plain": [
       "<Figure size 432x288 with 2 Axes>"
      ]
     },
     "metadata": {
      "needs_background": "light"
     },
     "output_type": "display_data"
    }
   ],
   "source": [
    "## Random forests\n",
    "### default\n",
    "random_forests = RandomForestClassifier(random_state=7)\n",
    "\n",
    "start = time.time()\n",
    "random_forests.fit(word2vec_text_df, y_train['label'])\n",
    "time_taken = time.time() - start\n",
    "\n",
    "y_pred = random_forests.predict(X_test)\n",
    "\n",
    "f1 = fbeta_score(y_test['label'], y_pred, beta = 0.5)\n",
    "\n",
    "results['rf']['default']['time'] = time_taken\n",
    "results['rf']['default']['f1'] = f1\n",
    "\n",
    "plot_confusion_matrix(random_forests, X_test, y_test['label'], normalize = \"true\", cmap = \"Blues\")\n",
    "\n",
    "print(\"RANDOM FORESTS DEFAULT FINISH\")"
   ]
  },
  {
   "cell_type": "code",
   "execution_count": 50,
   "metadata": {
    "hidden": true
   },
   "outputs": [
    {
     "data": {
      "text/plain": [
       "{'nb': {'default': {'time': 0.7012639045715332, 'f1': 0.8927199602331782},\n",
       "  'tuned': {'time': 0, 'f1': 0, 'params': 0}},\n",
       " 'svm': {'default': {'time': 5.013109922409058, 'f1': 0.9837095648126599},\n",
       "  'tuned': {'time': 0, 'f1': 0, 'params': 0}},\n",
       " 'knn': {'default': {'time': 4.6891188621521, 'f1': 0.916032233649437},\n",
       "  'tuned': {'time': 0, 'f1': 0, 'params': 0}},\n",
       " 'logreg': {'default': {'time': 1.407344102859497, 'f1': 0.9717882956400093},\n",
       "  'tuned': {'time': 0, 'f1': 0, 'params': 0}},\n",
       " 'dectree': {'default': {'time': 77.72504377365112, 'f1': 0.9170557935782024},\n",
       "  'tuned': {'time': 0, 'f1': 0, 'params': 0}},\n",
       " 'extratrees': {'default': {'time': 19.996556520462036,\n",
       "   'f1': 0.9629542790152404},\n",
       "  'tuned': {'time': 0, 'f1': 0, 'params': 0}},\n",
       " 'adb': {'default': {'time': 76.23625874519348, 'f1': 0.9172324136934855},\n",
       "  'tuned': {'time': 0, 'f1': 0, 'params': 0}},\n",
       " 'rf': {'default': {'time': 106.831951379776, 'f1': 0.9665076290802589},\n",
       "  'tuned': {'time': 0, 'f1': 0, 'params': 0}}}"
      ]
     },
     "execution_count": 50,
     "metadata": {},
     "output_type": "execute_result"
    }
   ],
   "source": [
    "np."
   ]
  },
  {
   "cell_type": "code",
   "execution_count": 51,
   "metadata": {
    "hidden": true
   },
   "outputs": [],
   "source": [
    "np.save(\"full_fbeta.npy\", results)"
   ]
  },
  {
   "cell_type": "markdown",
   "metadata": {
    "heading_collapsed": true
   },
   "source": [
    "# Without source"
   ]
  },
  {
   "cell_type": "code",
   "execution_count": 59,
   "metadata": {
    "hidden": true
   },
   "outputs": [],
   "source": [
    "data = pd.read_csv(\"SR_combined.csv\")"
   ]
  },
  {
   "cell_type": "code",
   "execution_count": 5,
   "metadata": {
    "hidden": true
   },
   "outputs": [],
   "source": [
    "sr_results = {\n",
    "        \"nb\": {\n",
    "            \"default\": {\n",
    "                \"time\": 0,\n",
    "                \"f1\": 0\n",
    "            }, \n",
    "            \"tuned\": {\n",
    "                \"time\": 0,\n",
    "                \"f1\": 0,\n",
    "                \"params\": 0\n",
    "            }\n",
    "        },\n",
    "        \"svm\": {\n",
    "            \"default\": {\n",
    "                \"time\":0,\n",
    "                \"f1\": 0\n",
    "            },\n",
    "            \"tuned\": {\n",
    "                \"time\": 0,\n",
    "                \"f1\": 0,\n",
    "                \"params\": 0\n",
    "            }\n",
    "        },\n",
    "        \"knn\": {\n",
    "            \"default\": {\n",
    "                \"time\":0,\n",
    "                \"f1\": 0\n",
    "            },\n",
    "            \"tuned\": {\n",
    "                \"time\": 0,\n",
    "                \"f1\": 0,\n",
    "                \"params\": 0\n",
    "            }\n",
    "        },\n",
    "        \"logreg\": {\n",
    "            \"default\": {\n",
    "                \"time\":0,\n",
    "                \"f1\": 0\n",
    "            },\n",
    "            \"tuned\": {\n",
    "                \"time\": 0,\n",
    "                \"f1\": 0,\n",
    "                \"params\": 0\n",
    "            }\n",
    "        },\n",
    "        \"dectree\": {\n",
    "            \"default\": {\n",
    "                \"time\":0,\n",
    "                \"f1\": 0\n",
    "            },\n",
    "            \"tuned\": {\n",
    "                \"time\": 0,\n",
    "                \"f1\": 0,\n",
    "                \"params\": 0\n",
    "            }\n",
    "        },\n",
    "        \"extratrees\": {\n",
    "            \"default\": {\n",
    "                \"time\":0,\n",
    "                \"f1\": 0\n",
    "            },\n",
    "            \"tuned\": {\n",
    "                \"time\": 0,\n",
    "                \"f1\": 0,\n",
    "                \"params\": 0\n",
    "            }\n",
    "        },\n",
    "        \"adb\": {\n",
    "            \"default\": {\n",
    "                \"time\":0,\n",
    "                \"f1\": 0\n",
    "            },\n",
    "            \"tuned\": {\n",
    "                \"time\": 0,\n",
    "                \"f1\": 0,\n",
    "                \"params\": 0\n",
    "            }\n",
    "        },\n",
    "        \"rf\": {\n",
    "            \"default\": {\n",
    "                \"time\":0,\n",
    "                \"f1\": 0\n",
    "            },\n",
    "            \"tuned\": {\n",
    "                \"time\": 0,\n",
    "                \"f1\": 0,\n",
    "                \"params\": 0\n",
    "            }\n",
    "        }\n",
    "    }"
   ]
  },
  {
   "cell_type": "code",
   "execution_count": 7,
   "metadata": {
    "hidden": true
   },
   "outputs": [],
   "source": [
    "data['tokenized_text'] = [simple_preprocess(line, deacc=True) for line in data['text']] "
   ]
  },
  {
   "cell_type": "code",
   "execution_count": 8,
   "metadata": {
    "hidden": true
   },
   "outputs": [],
   "source": [
    "### MODELING BASED ON TEXT\n",
    "\n",
    "# Train Test Split Function\n",
    "def split_train_test(data, test_size=0.2, shuffle_state=True):\n",
    "    X_train, X_test, Y_train, Y_test = train_test_split(data[['tokenized_text']], \n",
    "                                                        data['label'], \n",
    "                                                        shuffle=shuffle_state,\n",
    "                                                        test_size=test_size, \n",
    "                                                        random_state=7)\n",
    "    X_train = X_train.reset_index()\n",
    "    X_test = X_test.reset_index()\n",
    "    Y_train = Y_train.to_frame()\n",
    "    Y_train = Y_train.reset_index()\n",
    "    Y_test = Y_test.to_frame()\n",
    "    Y_test = Y_test.reset_index()\n",
    "    return X_train, X_test, Y_train, Y_test\n",
    "\n",
    "X_train, X_test, y_train, y_test = split_train_test(data)"
   ]
  },
  {
   "cell_type": "code",
   "execution_count": 8,
   "metadata": {
    "hidden": true
   },
   "outputs": [],
   "source": [
    "w2v_model_text = Word2Vec(pd.Series(data['tokenized_text']).values, min_count = 1, size = 1000, workers = 10, sg = 1)\n",
    "\n",
    "w2v_model_text.save(\"word2vec_sr.model\")"
   ]
  },
  {
   "cell_type": "code",
   "execution_count": 9,
   "metadata": {
    "hidden": true
   },
   "outputs": [],
   "source": [
    "w2v_model_text = Word2Vec.load(\"word2vec_sr.model\")"
   ]
  },
  {
   "cell_type": "code",
   "execution_count": 10,
   "metadata": {
    "hidden": true
   },
   "outputs": [
    {
     "name": "stderr",
     "output_type": "stream",
     "text": [
      "/opt/conda/lib/python3.7/site-packages/ipykernel_launcher.py:4: DeprecationWarning: Call to deprecated `__getitem__` (Method will be removed in 4.0.0, use self.wv.__getitem__() instead).\n",
      "  after removing the cwd from sys.path.\n"
     ]
    }
   ],
   "source": [
    "# saving the word embeddings into csv file\n",
    "with open(\"sr_train_txt_word2vec.csv\", 'w+') as word2vec_file:\n",
    "    for index, row in X_train.iterrows():\n",
    "        model_vector = (np.mean([w2v_model_text[token] for token in row['tokenized_text']], axis=0)).tolist()\n",
    "        \n",
    "        if index == 0:\n",
    "            header = \",\".join(str(ele) for ele in range(1000))\n",
    "            word2vec_file.write(header)\n",
    "            word2vec_file.write(\"\\n\")\n",
    "            \n",
    "        # Check if the line exists else it is vector of zeros\n",
    "        if type(model_vector) is list:  \n",
    "            line1 = \",\".join( [str(vector_element) for vector_element in model_vector] )\n",
    "        else:\n",
    "            line1 = \",\".join([str(0) for i in range(1000)])\n",
    "            \n",
    "        word2vec_file.write(line1)\n",
    "        word2vec_file.write('\\n')"
   ]
  },
  {
   "cell_type": "code",
   "execution_count": 10,
   "metadata": {
    "hidden": true
   },
   "outputs": [],
   "source": [
    "word2vec_text_df = pd.read_csv(\"sr_train_txt_word2vec.csv\")"
   ]
  },
  {
   "cell_type": "code",
   "execution_count": 11,
   "metadata": {
    "hidden": true
   },
   "outputs": [
    {
     "name": "stdout",
     "output_type": "stream",
     "text": [
      "DATA LOADED\n"
     ]
    }
   ],
   "source": [
    "with_source = pd.read_csv(\"news_w2v.csv\", index_col = 0, converters={'tokenized_title': eval, 'tokenized_text': eval})\n",
    "print(\"DATA LOADED\")"
   ]
  },
  {
   "cell_type": "code",
   "execution_count": 13,
   "metadata": {
    "hidden": true
   },
   "outputs": [],
   "source": [
    "X_tr,X_test,y_tr,y_test = split_train_test(with_source)"
   ]
  },
  {
   "cell_type": "code",
   "execution_count": 14,
   "metadata": {
    "hidden": true
   },
   "outputs": [
    {
     "name": "stderr",
     "output_type": "stream",
     "text": [
      "/opt/conda/lib/python3.7/site-packages/ipykernel_launcher.py:9: DeprecationWarning: Call to deprecated `__getitem__` (Method will be removed in 4.0.0, use self.wv.__getitem__() instead).\n",
      "  if __name__ == '__main__':\n"
     ]
    }
   ],
   "source": [
    "def extract(w2v_model_text, X_test):\n",
    "    test_features_word2vec = []\n",
    "    \n",
    "    for index, row in X_test.iterrows():\n",
    "        final_tokens = []\n",
    "        \n",
    "        for tok in row['tokenized_text']:\n",
    "            if tok in w2v_model_text.wv.vocab:\n",
    "                final_tokens.append(w2v_model_text[tok])\n",
    "            \n",
    "        model_vector = np.mean(final_tokens, axis=0).tolist()\n",
    "        \n",
    "        if type(model_vector) is list:\n",
    "            test_features_word2vec.append(model_vector)\n",
    "        else:\n",
    "            test_features_word2vec.append(np.array([0 for i in range(1000)]))\n",
    "    return test_features_word2vec\n",
    "\n",
    "\n",
    "X_test = extract(w2v_model_text, X_test)"
   ]
  },
  {
   "cell_type": "code",
   "execution_count": 16,
   "metadata": {
    "hidden": true
   },
   "outputs": [
    {
     "name": "stdout",
     "output_type": "stream",
     "text": [
      "NB FINISH\n"
     ]
    },
    {
     "data": {
      "image/png": "[encoded data removed]",
      "text/plain": [
       "<Figure size 432x288 with 2 Axes>"
      ]
     },
     "metadata": {
      "needs_background": "light"
     },
     "output_type": "display_data"
    }
   ],
   "source": [
    "## MultiNomial Naive Bayes Model\n",
    "### default\n",
    "nb = GaussianNB()\n",
    "\n",
    "start = time.time()\n",
    "nb.fit(word2vec_text_df, y_train['label'])\n",
    "time_taken = time.time() - start\n",
    "\n",
    "y_pred = nb.predict(X_test)\n",
    "\n",
    "f1= fbeta_score(y_test['label'], y_pred, beta =  0.5)\n",
    "\n",
    "sr_results['nb']['default']['time'] = time_taken\n",
    "sr_results['nb']['default']['f1'] = f1\n",
    "\n",
    "plot_confusion_matrix(nb, X_test, y_test['label'], normalize = \"true\", cmap = \"Blues\")\n",
    "print(\"NB FINISH\")"
   ]
  },
  {
   "cell_type": "code",
   "execution_count": 19,
   "metadata": {
    "hidden": true
   },
   "outputs": [
    {
     "name": "stdout",
     "output_type": "stream",
     "text": [
      "KNN DEFAULT FINISH\n"
     ]
    },
    {
     "data": {
      "image/png": "[encoded data removed]",
      "text/plain": [
       "<Figure size 432x288 with 2 Axes>"
      ]
     },
     "metadata": {
      "needs_background": "light"
     },
     "output_type": "display_data"
    }
   ],
   "source": [
    "## knn\n",
    "### default\n",
    "knn = KNeighborsClassifier(n_jobs=-1)\n",
    "\n",
    "start = time.time()\n",
    "knn.fit(word2vec_text_df, y_train['label'])\n",
    "time_taken = time.time() - start\n",
    "\n",
    "y_pred = knn.predict(X_test)\n",
    "\n",
    "f1 = fbeta_score(y_test['label'], y_pred, beta = 0.5)\n",
    "\n",
    "sr_results['knn']['default']['time'] = time_taken\n",
    "sr_results['knn']['default']['f1'] = f1\n",
    "\n",
    "plot_confusion_matrix(knn, X_test, y_test['label'], normalize = \"true\", cmap = \"Blues\")\n",
    "\n",
    "print(\"KNN DEFAULT FINISH\")"
   ]
  },
  {
   "cell_type": "code",
   "execution_count": 23,
   "metadata": {
    "hidden": true
   },
   "outputs": [
    {
     "name": "stdout",
     "output_type": "stream",
     "text": [
      "SVM DEFAULT FINISH\n"
     ]
    },
    {
     "data": {
      "image/png": "[encoded data removed]",
      "text/plain": [
       "<Figure size 432x288 with 2 Axes>"
      ]
     },
     "metadata": {
      "needs_background": "light"
     },
     "output_type": "display_data"
    }
   ],
   "source": [
    "## SVM\n",
    "### default\n",
    "svm = LinearSVC(max_iter = 4000)\n",
    "\n",
    "start = time.time()\n",
    "svm.fit(word2vec_text_df, y_train['label'])\n",
    "time_taken = time.time() - start\n",
    "\n",
    "y_pred = svm.predict(X_test)\n",
    "\n",
    "f1 = fbeta_score(y_test['label'], y_pred, beta = 0.5)\n",
    "\n",
    "sr_results['svm']['default']['time'] = time_taken\n",
    "sr_results['svm']['default']['f1'] = f1\n",
    "\n",
    "plot_confusion_matrix(svm, X_test, y_test['label'], normalize = \"true\", cmap = \"Blues\")\n",
    "print(\"SVM DEFAULT FINISH\")"
   ]
  },
  {
   "cell_type": "code",
   "execution_count": 27,
   "metadata": {
    "hidden": true
   },
   "outputs": [
    {
     "name": "stdout",
     "output_type": "stream",
     "text": [
      "LOGREG DEFAULT FINISH\n"
     ]
    },
    {
     "data": {
      "image/png": "[encoded data removed]",
      "text/plain": [
       "<Figure size 432x288 with 2 Axes>"
      ]
     },
     "metadata": {
      "needs_background": "light"
     },
     "output_type": "display_data"
    }
   ],
   "source": [
    "## Logistic Regression\n",
    "### default\n",
    "logreg = LogisticRegression(max_iter = 4000)\n",
    "\n",
    "start = time.time()\n",
    "logreg.fit(word2vec_text_df, y_train['label'])\n",
    "time_taken = time.time() - start\n",
    "\n",
    "y_pred = logreg.predict(X_test)\n",
    "\n",
    "f1 = fbeta_score(y_test['label'], y_pred, beta = 0.5)\n",
    "\n",
    "sr_results['logreg']['default']['time'] = time_taken\n",
    "sr_results['logreg']['default']['f1'] = f1\n",
    "\n",
    "plot_confusion_matrix(logreg, X_test, y_test['label'], normalize = \"true\", cmap = \"Blues\")\n",
    "plt.grid(False)\n",
    "\n",
    "print(\"LOGREG DEFAULT FINISH\")"
   ]
  },
  {
   "cell_type": "code",
   "execution_count": 30,
   "metadata": {
    "hidden": true
   },
   "outputs": [
    {
     "name": "stdout",
     "output_type": "stream",
     "text": [
      "DECTREE DEFAULT FINISH\n"
     ]
    },
    {
     "data": {
      "image/png": "[encoded data removed]",
      "text/plain": [
       "<Figure size 432x288 with 2 Axes>"
      ]
     },
     "metadata": {
      "needs_background": "light"
     },
     "output_type": "display_data"
    }
   ],
   "source": [
    "## Decision Tree\n",
    "### default\n",
    "decision_tree = DecisionTreeClassifier(random_state = 7)\n",
    "\n",
    "start = time.time()\n",
    "decision_tree.fit(word2vec_text_df, y_train['label'])\n",
    "time_taken = time.time() - start\n",
    "\n",
    "y_pred = decision_tree.predict(X_test)\n",
    "\n",
    "f1 = fbeta_score(y_test['label'], y_pred, beta = 0.5)\n",
    "\n",
    "sr_results['dectree']['default']['time'] = time_taken\n",
    "sr_results['dectree']['default']['f1'] = f1\n",
    "\n",
    "plot_confusion_matrix(decision_tree, X_test, y_test['label'], normalize = \"true\", cmap = \"Blues\")\n",
    "\n",
    "print(\"DECTREE DEFAULT FINISH\")"
   ]
  },
  {
   "cell_type": "code",
   "execution_count": 32,
   "metadata": {
    "hidden": true
   },
   "outputs": [
    {
     "name": "stdout",
     "output_type": "stream",
     "text": [
      "EXTRA TREES DEFAULT FINISH\n"
     ]
    },
    {
     "data": {
      "image/png": "[encoded data removed]",
      "text/plain": [
       "<Figure size 432x288 with 2 Axes>"
      ]
     },
     "metadata": {
      "needs_background": "light"
     },
     "output_type": "display_data"
    }
   ],
   "source": [
    "## Extra trees\n",
    "### default\n",
    "extra_trees = ExtraTreesClassifier(random_state = 7)\n",
    "\n",
    "start = time.time()\n",
    "extra_trees.fit(word2vec_text_df, y_train['label'])\n",
    "time_taken = time.time() - start\n",
    "\n",
    "y_pred = extra_trees.predict(X_test)\n",
    "\n",
    "f1 = fbeta_score(y_test['label'], y_pred, beta = 0.5)\n",
    "\n",
    "sr_results['extratrees']['default']['time'] = time_taken\n",
    "sr_results['extratrees']['default']['f1'] = f1\n",
    "\n",
    "plot_confusion_matrix(extra_trees, X_test, y_test['label'], normalize = \"true\", cmap = \"Blues\")\n",
    "\n",
    "print(\"EXTRA TREES DEFAULT FINISH\")"
   ]
  },
  {
   "cell_type": "code",
   "execution_count": 34,
   "metadata": {
    "hidden": true
   },
   "outputs": [
    {
     "name": "stdout",
     "output_type": "stream",
     "text": [
      "ADB DEFAULT FINISH\n"
     ]
    },
    {
     "data": {
      "image/png": "[encoded data removed]",
      "text/plain": [
       "<Figure size 432x288 with 2 Axes>"
      ]
     },
     "metadata": {
      "needs_background": "light"
     },
     "output_type": "display_data"
    }
   ],
   "source": [
    "## Adaboost\n",
    "### default\n",
    "adaboost = AdaBoostClassifier(base_estimator = decision_tree ,random_state=7)\n",
    "\n",
    "start = time.time()\n",
    "adaboost.fit(word2vec_text_df, y_train['label'])\n",
    "time_taken = time.time() - start\n",
    "\n",
    "y_pred = adaboost.predict(X_test)\n",
    "\n",
    "f1 = fbeta_score(y_test['label'], y_pred, beta = 0.5)\n",
    "\n",
    "sr_results['adb']['default']['time'] = time_taken\n",
    "sr_results['adb']['default']['f1'] = f1\n",
    "\n",
    "plot_confusion_matrix(adaboost, X_test, y_test['label'], normalize = \"true\", cmap = \"Blues\")\n",
    "\n",
    "print(\"ADB DEFAULT FINISH\")"
   ]
  },
  {
   "cell_type": "code",
   "execution_count": 39,
   "metadata": {
    "hidden": true
   },
   "outputs": [
    {
     "name": "stdout",
     "output_type": "stream",
     "text": [
      "RANDOM FORESTS DEFAULT FINISH\n"
     ]
    },
    {
     "data": {
      "image/png": "[encoded data removed]",
      "text/plain": [
       "<Figure size 432x288 with 2 Axes>"
      ]
     },
     "metadata": {
      "needs_background": "light"
     },
     "output_type": "display_data"
    }
   ],
   "source": [
    "## Random forests\n",
    "### default\n",
    "random_forests = RandomForestClassifier(random_state=7)\n",
    "\n",
    "start = time.time()\n",
    "random_forests.fit(word2vec_text_df, y_train['label'])\n",
    "time_taken = time.time() - start\n",
    "\n",
    "y_pred = random_forests.predict(X_test)\n",
    "\n",
    "f1 = fbeta_score(y_test['label'], y_pred, beta = 0.5)\n",
    "\n",
    "sr_results['rf']['default']['time'] = time_taken\n",
    "sr_results['rf']['default']['f1'] = f1\n",
    "\n",
    "plot_confusion_matrix(random_forests, X_test, y_test['label'], normalize = \"true\", cmap = \"Blues\")\n",
    "\n",
    "print(\"RANDOM FORESTS DEFAULT FINISH\")"
   ]
  },
  {
   "cell_type": "code",
   "execution_count": 41,
   "metadata": {
    "hidden": true
   },
   "outputs": [],
   "source": [
    "np.save(\"sr_results.npy\", sr_results)"
   ]
  },
  {
   "cell_type": "markdown",
   "metadata": {
    "heading_collapsed": true
   },
   "source": [
    "# Without source and truncated"
   ]
  },
  {
   "cell_type": "code",
   "execution_count": 43,
   "metadata": {
    "hidden": true
   },
   "outputs": [],
   "source": [
    "trunc_data = pd.read_csv(\"truncated.csv\")"
   ]
  },
  {
   "cell_type": "code",
   "execution_count": 44,
   "metadata": {
    "hidden": true
   },
   "outputs": [],
   "source": [
    "trunc_results = {\n",
    "    \"nb\": {\n",
    "            \"default\": {\n",
    "                \"time\": 0,\n",
    "                \"f1\": 0\n",
    "            }, \n",
    "            \"tuned\": {\n",
    "                \"time\": 0,\n",
    "                \"f1\": 0,\n",
    "                \"params\": 0\n",
    "            }\n",
    "        },\n",
    "        \"svm\": {\n",
    "            \"default\": {\n",
    "                \"time\":0,\n",
    "                \"f1\": 0\n",
    "            },\n",
    "            \"tuned\": {\n",
    "                \"time\": 0,\n",
    "                \"f1\": 0,\n",
    "                \"params\": 0\n",
    "            }\n",
    "        },\n",
    "        \"knn\": {\n",
    "            \"default\": {\n",
    "                \"time\":0,\n",
    "                \"f1\": 0\n",
    "            },\n",
    "            \"tuned\": {\n",
    "                \"time\": 0,\n",
    "                \"f1\": 0,\n",
    "                \"params\": 0\n",
    "            }\n",
    "        },\n",
    "        \"logreg\": {\n",
    "            \"default\": {\n",
    "                \"time\":0,\n",
    "                \"f1\": 0\n",
    "            },\n",
    "            \"tuned\": {\n",
    "                \"time\": 0,\n",
    "                \"f1\": 0,\n",
    "                \"params\": 0\n",
    "            }\n",
    "        },\n",
    "        \"dectree\": {\n",
    "            \"default\": {\n",
    "                \"time\":0,\n",
    "                \"f1\": 0\n",
    "            },\n",
    "            \"tuned\": {\n",
    "                \"time\": 0,\n",
    "                \"f1\": 0,\n",
    "                \"params\": 0\n",
    "            }\n",
    "        },\n",
    "        \"extratrees\": {\n",
    "            \"default\": {\n",
    "                \"time\":0,\n",
    "                \"f1\": 0\n",
    "            },\n",
    "            \"tuned\": {\n",
    "                \"time\": 0,\n",
    "                \"f1\": 0,\n",
    "                \"params\": 0\n",
    "            }\n",
    "        },\n",
    "        \"adb\": {\n",
    "            \"default\": {\n",
    "                \"time\":0,\n",
    "                \"f1\": 0\n",
    "            },\n",
    "            \"tuned\": {\n",
    "                \"time\": 0,\n",
    "                \"f1\": 0,\n",
    "                \"params\": 0\n",
    "            }\n",
    "        },\n",
    "        \"rf\": {\n",
    "            \"default\": {\n",
    "                \"time\":0,\n",
    "                \"f1\": 0\n",
    "            },\n",
    "            \"tuned\": {\n",
    "                \"time\": 0,\n",
    "                \"f1\": 0,\n",
    "                \"params\": 0\n",
    "            }\n",
    "        }\n",
    "    }"
   ]
  },
  {
   "cell_type": "code",
   "execution_count": 45,
   "metadata": {
    "hidden": true
   },
   "outputs": [],
   "source": [
    "trunc_data['tokenized_text'] = [simple_preprocess(line, deacc=True) for line in trunc_data['text']] "
   ]
  },
  {
   "cell_type": "code",
   "execution_count": 46,
   "metadata": {
    "hidden": true
   },
   "outputs": [],
   "source": [
    "### MODELING BASED ON TEXT\n",
    "\n",
    "# Train Test Split Function\n",
    "def split_train_test(data, test_size=0.2, shuffle_state=True):\n",
    "    X_train, X_test, Y_train, Y_test = train_test_split(data[['tokenized_text']], \n",
    "                                                        data['label'], \n",
    "                                                        shuffle=shuffle_state,\n",
    "                                                        test_size=test_size, \n",
    "                                                        random_state=7)\n",
    "    X_train = X_train.reset_index()\n",
    "    X_test = X_test.reset_index()\n",
    "    Y_train = Y_train.to_frame()\n",
    "    Y_train = Y_train.reset_index()\n",
    "    Y_test = Y_test.to_frame()\n",
    "    Y_test = Y_test.reset_index()\n",
    "    return X_train, X_test, Y_train, Y_test\n",
    "\n",
    "X_train, X_test, y_train, y_test = split_train_test(trunc_data)"
   ]
  },
  {
   "cell_type": "code",
   "execution_count": 77,
   "metadata": {
    "hidden": true
   },
   "outputs": [],
   "source": [
    "w2v_model_text = Word2Vec(pd.Series(trunc_data['tokenized_text']).values, min_count = 1, size = 1000, workers = 10, sg = 1)\n",
    "\n",
    "w2v_model_text.save(\"word2vec_trunc.model\")"
   ]
  },
  {
   "cell_type": "code",
   "execution_count": 47,
   "metadata": {
    "hidden": true
   },
   "outputs": [],
   "source": [
    "w2v_model_text = Word2Vec.load(\"word2vec_trunc.model\")"
   ]
  },
  {
   "cell_type": "code",
   "execution_count": 78,
   "metadata": {
    "hidden": true
   },
   "outputs": [
    {
     "name": "stderr",
     "output_type": "stream",
     "text": [
      "/opt/conda/lib/python3.7/site-packages/ipykernel_launcher.py:4: DeprecationWarning: Call to deprecated `__getitem__` (Method will be removed in 4.0.0, use self.wv.__getitem__() instead).\n",
      "  after removing the cwd from sys.path.\n"
     ]
    }
   ],
   "source": [
    "# saving the word embeddings into csv file\n",
    "with open(\"trunc_train_txt_word2vec.csv\", 'w+') as word2vec_file:\n",
    "    for index, row in X_train.iterrows():\n",
    "        model_vector = (np.mean([w2v_model_text[token] for token in row['tokenized_text']], axis=0)).tolist()\n",
    "        \n",
    "        if index == 0:\n",
    "            header = \",\".join(str(ele) for ele in range(1000))\n",
    "            word2vec_file.write(header)\n",
    "            word2vec_file.write(\"\\n\")\n",
    "            \n",
    "        # Check if the line exists else it is vector of zeros\n",
    "        if type(model_vector) is list:  \n",
    "            line1 = \",\".join( [str(vector_element) for vector_element in model_vector] )\n",
    "        else:\n",
    "            line1 = \",\".join([str(0) for i in range(1000)])\n",
    "            \n",
    "        word2vec_file.write(line1)\n",
    "        word2vec_file.write('\\n')"
   ]
  },
  {
   "cell_type": "code",
   "execution_count": 48,
   "metadata": {
    "hidden": true
   },
   "outputs": [],
   "source": [
    "word2vec_text_df = pd.read_csv(\"trunc_train_txt_word2vec.csv\")"
   ]
  },
  {
   "cell_type": "code",
   "execution_count": 49,
   "metadata": {
    "hidden": true
   },
   "outputs": [
    {
     "name": "stdout",
     "output_type": "stream",
     "text": [
      "DATA LOADED\n"
     ]
    }
   ],
   "source": [
    "default_df = pd.read_csv(\"news_w2v.csv\", index_col = 0, converters={'tokenized_title': eval, 'tokenized_text': eval})\n",
    "print(\"DATA LOADED\")"
   ]
  },
  {
   "cell_type": "code",
   "execution_count": 50,
   "metadata": {
    "hidden": true
   },
   "outputs": [],
   "source": [
    "X_tr,X_test,y_tr,y_test = split_train_test(default_df)"
   ]
  },
  {
   "cell_type": "code",
   "execution_count": 51,
   "metadata": {
    "hidden": true
   },
   "outputs": [
    {
     "name": "stderr",
     "output_type": "stream",
     "text": [
      "/opt/conda/lib/python3.7/site-packages/ipykernel_launcher.py:9: DeprecationWarning: Call to deprecated `__getitem__` (Method will be removed in 4.0.0, use self.wv.__getitem__() instead).\n",
      "  if __name__ == '__main__':\n"
     ]
    }
   ],
   "source": [
    "def extract(w2v_model_text, X_test):\n",
    "    test_features_word2vec = []\n",
    "    \n",
    "    for index, row in X_test.iterrows():\n",
    "        final_tokens = []\n",
    "        \n",
    "        for tok in row['tokenized_text']:\n",
    "            if tok in w2v_model_text.wv.vocab:\n",
    "                final_tokens.append(w2v_model_text[tok])\n",
    "            \n",
    "        model_vector = np.mean(final_tokens, axis=0).tolist()\n",
    "        \n",
    "        if type(model_vector) is list:\n",
    "            test_features_word2vec.append(model_vector)\n",
    "        else:\n",
    "            test_features_word2vec.append(np.array([0 for i in range(1000)]))\n",
    "    return test_features_word2vec\n",
    "\n",
    "\n",
    "X_test = extract(w2v_model_text, X_test)"
   ]
  },
  {
   "cell_type": "code",
   "execution_count": 53,
   "metadata": {
    "hidden": true
   },
   "outputs": [
    {
     "name": "stdout",
     "output_type": "stream",
     "text": [
      "NB FINISH\n"
     ]
    },
    {
     "data": {
      "image/png": "[encoded data removed]",
      "text/plain": [
       "<Figure size 432x288 with 2 Axes>"
      ]
     },
     "metadata": {
      "needs_background": "light"
     },
     "output_type": "display_data"
    }
   ],
   "source": [
    "## MultiNomial Naive Bayes Model\n",
    "### default\n",
    "nb = GaussianNB()\n",
    "\n",
    "start = time.time()\n",
    "nb.fit(word2vec_text_df, y_train['label'])\n",
    "time_taken = time.time() - start\n",
    "\n",
    "y_pred = nb.predict(X_test)\n",
    "\n",
    "f1 = fbeta_score(y_test['label'], y_pred, beta = 0.5)\n",
    "\n",
    "trunc_results['nb']['default']['time'] = time_taken\n",
    "trunc_results['nb']['default']['f1'] = f1\n",
    "\n",
    "plot_confusion_matrix(nb, X_test, y_test['label'], normalize = \"true\", cmap = \"Blues\")\n",
    "print(\"NB FINISH\")"
   ]
  },
  {
   "cell_type": "code",
   "execution_count": 57,
   "metadata": {
    "hidden": true
   },
   "outputs": [
    {
     "name": "stdout",
     "output_type": "stream",
     "text": [
      "KNN DEFAULT FINISH\n"
     ]
    },
    {
     "data": {
      "image/png": "[encoded data removed]",
      "text/plain": [
       "<Figure size 432x288 with 2 Axes>"
      ]
     },
     "metadata": {
      "needs_background": "light"
     },
     "output_type": "display_data"
    }
   ],
   "source": [
    "## knn\n",
    "### default\n",
    "knn = KNeighborsClassifier(n_jobs=-1)\n",
    "\n",
    "start = time.time()\n",
    "knn.fit(word2vec_text_df, y_train['label'])\n",
    "time_taken = time.time() - start\n",
    "\n",
    "y_pred = knn.predict(X_test)\n",
    "\n",
    "f1 = fbeta_score(y_test['label'], y_pred, beta = 0.5)\n",
    "\n",
    "trunc_results['knn']['default']['time'] = time_taken\n",
    "trunc_results['knn']['default']['f1'] = f1\n",
    "\n",
    "plot_confusion_matrix(knn, X_test, y_test['label'], normalize = \"true\", cmap = \"Blues\")\n",
    "\n",
    "print(\"KNN DEFAULT FINISH\")"
   ]
  },
  {
   "cell_type": "code",
   "execution_count": 59,
   "metadata": {
    "hidden": true
   },
   "outputs": [
    {
     "name": "stdout",
     "output_type": "stream",
     "text": [
      "SVM DEFAULT FINISH\n"
     ]
    },
    {
     "data": {
      "image/png": "[encoded data removed]",
      "text/plain": [
       "<Figure size 432x288 with 2 Axes>"
      ]
     },
     "metadata": {
      "needs_background": "light"
     },
     "output_type": "display_data"
    }
   ],
   "source": [
    "## SVM\n",
    "### default\n",
    "svm = LinearSVC(max_iter = 4000)\n",
    "\n",
    "start = time.time()\n",
    "svm.fit(word2vec_text_df, y_train['label'])\n",
    "time_taken = time.time() - start\n",
    "\n",
    "y_pred = svm.predict(X_test)\n",
    "\n",
    "f1 = fbeta_score(y_test['label'], y_pred, beta = 0.5)\n",
    "\n",
    "trunc_results['svm']['default']['time'] = time_taken\n",
    "trunc_results['svm']['default']['f1'] = f1\n",
    "\n",
    "plot_confusion_matrix(svm, X_test, y_test['label'], normalize = \"true\", cmap = \"Blues\")\n",
    "print(\"SVM DEFAULT FINISH\")"
   ]
  },
  {
   "cell_type": "code",
   "execution_count": 61,
   "metadata": {
    "hidden": true
   },
   "outputs": [
    {
     "name": "stdout",
     "output_type": "stream",
     "text": [
      "LOGREG DEFAULT FINISH\n"
     ]
    },
    {
     "data": {
      "image/png": "[encoded data removed]",
      "text/plain": [
       "<Figure size 432x288 with 2 Axes>"
      ]
     },
     "metadata": {
      "needs_background": "light"
     },
     "output_type": "display_data"
    }
   ],
   "source": [
    "## Logistic Regression\n",
    "### default\n",
    "logreg = LogisticRegression(max_iter = 4000)\n",
    "\n",
    "start = time.time()\n",
    "logreg.fit(word2vec_text_df, y_train['label'])\n",
    "time_taken = time.time() - start\n",
    "\n",
    "y_pred = logreg.predict(X_test)\n",
    "\n",
    "f1 = fbeta_score(y_test['label'], y_pred, beta = 0.5)\n",
    "\n",
    "trunc_results['logreg']['default']['time'] = time_taken\n",
    "trunc_results['logreg']['default']['f1'] = f1\n",
    "\n",
    "plot_confusion_matrix(logreg, X_test, y_test['label'], normalize = \"true\", cmap = \"Blues\")\n",
    "plt.grid(False)\n",
    "\n",
    "print(\"LOGREG DEFAULT FINISH\")"
   ]
  },
  {
   "cell_type": "code",
   "execution_count": 62,
   "metadata": {
    "hidden": true
   },
   "outputs": [
    {
     "name": "stdout",
     "output_type": "stream",
     "text": [
      "DECTREE DEFAULT FINISH\n"
     ]
    },
    {
     "data": {
      "image/png": "[encoded data removed]",
      "text/plain": [
       "<Figure size 432x288 with 2 Axes>"
      ]
     },
     "metadata": {
      "needs_background": "light"
     },
     "output_type": "display_data"
    }
   ],
   "source": [
    "## Decision Tree\n",
    "### default\n",
    "decision_tree = DecisionTreeClassifier(random_state = 7)\n",
    "\n",
    "start = time.time()\n",
    "decision_tree.fit(word2vec_text_df, y_train['label'])\n",
    "time_taken = time.time() - start\n",
    "\n",
    "y_pred = decision_tree.predict(X_test)\n",
    "\n",
    "f1 = fbeta_score(y_test['label'], y_pred, beta = 0.5)\n",
    "\n",
    "trunc_results['dectree']['default']['time'] = time_taken\n",
    "trunc_results['dectree']['default']['f1'] = f1\n",
    "\n",
    "plot_confusion_matrix(decision_tree, X_test, y_test['label'], normalize = \"true\", cmap = \"Blues\")\n",
    "\n",
    "print(\"DECTREE DEFAULT FINISH\")"
   ]
  },
  {
   "cell_type": "code",
   "execution_count": 65,
   "metadata": {
    "hidden": true
   },
   "outputs": [
    {
     "data": {
      "text/plain": [
       "{'nb': {'default': {'time': 0.682603120803833, 'f1': 0.862152609328436},\n",
       "  'tuned': {'time': 0, 'f1': 0, 'params': 0}},\n",
       " 'svm': {'default': {'time': 7.438438177108765, 'f1': 0.9360163287039092},\n",
       "  'tuned': {'time': 0, 'f1': 0, 'params': 0}},\n",
       " 'knn': {'default': {'time': 5.7668235301971436, 'f1': 0.9341689431678183},\n",
       "  'tuned': {'time': 0, 'f1': 0, 'params': 0}},\n",
       " 'logreg': {'default': {'time': 3.481497287750244, 'f1': 0.9503782716977585},\n",
       "  'tuned': {'time': 0, 'f1': 0, 'params': 0}},\n",
       " 'dectree': {'default': {'time': 92.95026516914368, 'f1': 0.7653888394958422},\n",
       "  'tuned': {'time': 0, 'f1': 0, 'params': 0}},\n",
       " 'extratrees': {'default': {'time': 23.008014678955078,\n",
       "   'f1': 0.9298673165448145},\n",
       "  'tuned': {'time': 0, 'f1': 0, 'params': 0}},\n",
       " 'adb': {'default': {'time': 0, 'f1': 0},\n",
       "  'tuned': {'time': 0, 'f1': 0, 'params': 0}},\n",
       " 'rf': {'default': {'time': 0, 'f1': 0},\n",
       "  'tuned': {'time': 0, 'f1': 0, 'params': 0}}}"
      ]
     },
     "execution_count": 65,
     "metadata": {},
     "output_type": "execute_result"
    }
   ],
   "source": [
    "trunc_results"
   ]
  },
  {
   "cell_type": "code",
   "execution_count": 64,
   "metadata": {
    "hidden": true
   },
   "outputs": [
    {
     "name": "stdout",
     "output_type": "stream",
     "text": [
      "EXTRA TREES DEFAULT FINISH\n"
     ]
    },
    {
     "data": {
      "image/png": "[encoded data removed]",
      "text/plain": [
       "<Figure size 432x288 with 2 Axes>"
      ]
     },
     "metadata": {
      "needs_background": "light"
     },
     "output_type": "display_data"
    }
   ],
   "source": [
    "## Extra trees\n",
    "### default\n",
    "extra_trees = ExtraTreesClassifier(random_state = 7)\n",
    "\n",
    "start = time.time()\n",
    "extra_trees.fit(word2vec_text_df, y_train['label'])\n",
    "time_taken = time.time() - start\n",
    "\n",
    "y_pred = extra_trees.predict(X_test)\n",
    "\n",
    "f1 = fbeta_score(y_test['label'], y_pred, beta = 0.5)\n",
    "\n",
    "trunc_results['extratrees']['default']['time'] = time_taken\n",
    "trunc_results['extratrees']['default']['f1'] = f1\n",
    "\n",
    "plot_confusion_matrix(extra_trees, X_test, y_test['label'], normalize = \"true\", cmap = \"Blues\")\n",
    "\n",
    "print(\"EXTRA TREES DEFAULT FINISH\")"
   ]
  },
  {
   "cell_type": "code",
   "execution_count": 66,
   "metadata": {
    "hidden": true
   },
   "outputs": [
    {
     "name": "stdout",
     "output_type": "stream",
     "text": [
      "ADB DEFAULT FINISH\n"
     ]
    },
    {
     "data": {
      "image/png": "[encoded data removed]",
      "text/plain": [
       "<Figure size 432x288 with 2 Axes>"
      ]
     },
     "metadata": {
      "needs_background": "light"
     },
     "output_type": "display_data"
    }
   ],
   "source": [
    "## Adaboost\n",
    "### default\n",
    "adaboost = AdaBoostClassifier(base_estimator = decision_tree ,random_state=7)\n",
    "\n",
    "start = time.time()\n",
    "adaboost.fit(word2vec_text_df, y_train['label'])\n",
    "time_taken = time.time() - start\n",
    "\n",
    "y_pred = adaboost.predict(X_test)\n",
    "\n",
    "f1 = fbeta_score(y_test['label'], y_pred, beta = 0.5)\n",
    "\n",
    "trunc_results['adb']['default']['time'] = time_taken\n",
    "trunc_results['adb']['default']['f1'] = f1\n",
    "\n",
    "plot_confusion_matrix(adaboost, X_test, y_test['label'], normalize = \"true\", cmap = \"Blues\")\n",
    "\n",
    "print(\"ADB DEFAULT FINISH\")"
   ]
  },
  {
   "cell_type": "code",
   "execution_count": 67,
   "metadata": {
    "hidden": true
   },
   "outputs": [
    {
     "name": "stdout",
     "output_type": "stream",
     "text": [
      "RANDOM FORESTS DEFAULT FINISH\n"
     ]
    },
    {
     "data": {
      "image/png": "[encoded data removed]",
      "text/plain": [
       "<Figure size 432x288 with 2 Axes>"
      ]
     },
     "metadata": {
      "needs_background": "light"
     },
     "output_type": "display_data"
    }
   ],
   "source": [
    "## Random forests\n",
    "### default\n",
    "random_forests = RandomForestClassifier(random_state=7)\n",
    "\n",
    "start = time.time()\n",
    "random_forests.fit(word2vec_text_df, y_train['label'])\n",
    "time_taken = time.time() - start\n",
    "\n",
    "y_pred = random_forests.predict(X_test)\n",
    "\n",
    "f1 = fbeta_score(y_test['label'], y_pred, beta = 0.5)\n",
    "\n",
    "trunc_results['rf']['default']['time'] = time_taken\n",
    "trunc_results['rf']['default']['f1'] = f1\n",
    "\n",
    "plot_confusion_matrix(random_forests, X_test, y_test['label'], normalize = \"true\", cmap = \"Blues\")\n",
    "\n",
    "print(\"RANDOM FORESTS DEFAULT FINISH\")"
   ]
  }
 ],
 "metadata": {
  "environment": {
   "name": "common-cpu.m56",
   "type": "gcloud",
   "uri": "gcr.io/deeplearning-platform-release/base-cpu:m56"
  },
  "kernelspec": {
   "display_name": "Python 3",
   "language": "python",
   "name": "python3"
  },
  "language_info": {
   "codemirror_mode": {
    "name": "ipython",
    "version": 3
   },
   "file_extension": ".py",
   "mimetype": "text/x-python",
   "name": "python",
   "nbconvert_exporter": "python",
   "pygments_lexer": "ipython3",
   "version": "3.7.6"
  }
 },
 "nbformat": 4,
 "nbformat_minor": 4
}
