{
 "cells": [
  {
   "cell_type": "code",
   "execution_count": 1,
   "metadata": {},
   "outputs": [
    {
     "name": "stderr",
     "output_type": "stream",
     "text": [
      "[nltk_data] Downloading package stopwords to\n",
      "[nltk_data]     C:\\Users\\User\\AppData\\Roaming\\nltk_data...\n",
      "[nltk_data]   Package stopwords is already up-to-date!\n"
     ]
    }
   ],
   "source": [
    "import pandas as pd  \n",
    "import numpy as np\n",
    "import seaborn as sns\n",
    "\n",
    "# Plotting Imports\n",
    "from plotnine import *\n",
    "import matplotlib.pyplot as plt\n",
    "\n",
    "# Utility Imports\n",
    "import time\n",
    "# from wordcloud import WordCloud \n",
    "import nltk\n",
    "nltk.download('stopwords')\n",
    "import sklearn.metrics as metrics\n",
    "from nltk.corpus import stopwords # remove stopwords (and punctuations) such as the, a etc. (as they do not provide any info as to whether or not the news is positive or negative)\n",
    "from nltk.stem import WordNetLemmatizer # change all the words to stem words (eg loved or loves to love)\n",
    "from sklearn.model_selection import train_test_split, cross_val_score, GridSearchCV, validation_curve\n",
    "from sklearn.metrics import mean_squared_error, roc_curve, accuracy_score, classification_report, plot_confusion_matrix, roc_curve, roc_auc_score, f1_score, fbeta_score\n",
    "\n",
    "# Text-Vector Imports\n",
    "from sklearn.feature_extraction.text import TfidfVectorizer\n",
    "\n",
    "# Model Imports\n",
    "from sklearn.naive_bayes import MultinomialNB\n",
    "from sklearn.svm import LinearSVC\n",
    "from sklearn.neighbors import KNeighborsClassifier\n",
    "from sklearn.linear_model import LogisticRegression\n",
    "from sklearn.tree import DecisionTreeClassifier\n",
    "from sklearn.ensemble import GradientBoostingClassifier, ExtraTreesClassifier, AdaBoostClassifier, RandomForestClassifier"
   ]
  },
  {
   "cell_type": "markdown",
   "metadata": {
    "heading_collapsed": true
   },
   "source": [
    "# TFIDF with source (Preliminary Results)"
   ]
  },
  {
   "cell_type": "code",
   "execution_count": null,
   "metadata": {
    "hidden": true
   },
   "outputs": [],
   "source": [
    "news_data = pd.read_csv(\"data/news_final.csv\", index_col = 0)"
   ]
  },
  {
   "cell_type": "code",
   "execution_count": null,
   "metadata": {
    "hidden": true
   },
   "outputs": [],
   "source": [
    "# train test split\n",
    "X_train,X_test,y_train,y_test = train_test_split(news_data['title'], news_data['label'], test_size = 0.2, stratify = news_data['label'], shuffle = True, random_state = 7)"
   ]
  },
  {
   "cell_type": "code",
   "execution_count": null,
   "metadata": {
    "hidden": true
   },
   "outputs": [],
   "source": [
    "vectorizer = TfidfVectorizer(stop_words='english')\n",
    "\n",
    "train_vec = vectorizer.fit_transform(X_train)\n",
    "test_vec = vectorizer.transform(X_test)"
   ]
  },
  {
   "cell_type": "code",
   "execution_count": null,
   "metadata": {
    "hidden": true
   },
   "outputs": [],
   "source": [
    "# store results\n",
    "results_tfidf = {\n",
    "    \"title\" : {\n",
    "        \"default\" : {\n",
    "            \"nb\" : {},\n",
    "            \"svm\" : {},\n",
    "            \"knn\" : {},\n",
    "            \"lr\" : {}, \n",
    "            \"dt\" : {},\n",
    "            \"et\" : {},\n",
    "            \"ab\" : {},\n",
    "            \"rf\" : {}\n",
    "         },\n",
    "        \"tuned\" : {\n",
    "            \"nb\" : {},\n",
    "            \"svm\" : {},\n",
    "            \"knn\" : {},\n",
    "            \"lr\" : {}, \n",
    "            \"dt\" : {},\n",
    "            \"et\" : {},\n",
    "            \"ab\" : {},\n",
    "            \"rf\" : {}\n",
    "        }\n",
    "    },\n",
    "    \"text\" : {\n",
    "        \"default\" : {\n",
    "            \"nb\" : {},\n",
    "            \"svm\" : {},\n",
    "            \"knn\" : {},\n",
    "            \"lr\" : {}, \n",
    "            \"dt\" : {},\n",
    "            \"et\" : {},\n",
    "            \"ab\" : {},\n",
    "            \"rf\" : {}\n",
    "        },\n",
    "        \"tuned\" : {\n",
    "            \"nb\" : {},\n",
    "            \"svm\" : {},\n",
    "            \"knn\" : {},\n",
    "            \"lr\" : {}, \n",
    "            \"dt\" : {},\n",
    "            \"et\" : {},\n",
    "            \"ab\" : {},\n",
    "            \"rf\" : {}\n",
    "        }\n",
    "    }\n",
    "}"
   ]
  },
  {
   "cell_type": "markdown",
   "metadata": {
    "heading_collapsed": true,
    "hidden": true
   },
   "source": [
    "## Modelling based on Title"
   ]
  },
  {
   "cell_type": "markdown",
   "metadata": {
    "heading_collapsed": true,
    "hidden": true
   },
   "source": [
    "### MultiNomial Naive Bayes Model"
   ]
  },
  {
   "cell_type": "code",
   "execution_count": 9,
   "metadata": {
    "hidden": true
   },
   "outputs": [
    {
     "name": "stderr",
     "output_type": "stream",
     "text": [
      "C:\\Users\\User\\anaconda3\\lib\\site-packages\\sklearn\\naive_bayes.py:507: UserWarning: alpha too small will result in numeric errors, setting alpha = 1.0e-10\n",
      "C:\\Users\\User\\anaconda3\\lib\\site-packages\\sklearn\\naive_bayes.py:507: UserWarning: alpha too small will result in numeric errors, setting alpha = 1.0e-10\n",
      "C:\\Users\\User\\anaconda3\\lib\\site-packages\\sklearn\\naive_bayes.py:507: UserWarning: alpha too small will result in numeric errors, setting alpha = 1.0e-10\n",
      "C:\\Users\\User\\anaconda3\\lib\\site-packages\\sklearn\\naive_bayes.py:507: UserWarning: alpha too small will result in numeric errors, setting alpha = 1.0e-10\n",
      "C:\\Users\\User\\anaconda3\\lib\\site-packages\\sklearn\\naive_bayes.py:507: UserWarning: alpha too small will result in numeric errors, setting alpha = 1.0e-10\n"
     ]
    },
    {
     "data": {
      "image/png": "[encoded data removed]",
      "text/plain": [
       "<Figure size 432x288 with 2 Axes>"
      ]
     },
     "metadata": {
      "needs_background": "light"
     },
     "output_type": "display_data"
    }
   ],
   "source": [
    "nb = MultinomialNB()\n",
    "\n",
    "param_grid = {'alpha': np.linspace(0,1)}\n",
    "\n",
    "NBmodel_title_tfidf = GridSearchCV(nb, param_grid, cv = 5, scoring = 'f1')\n",
    "\n",
    "results_tfidf[\"title\"][\"tuned\"][\"nb\"][\"params\"] = NBmodel_title_tfidf\n",
    "\n",
    "start = time.time()\n",
    "\n",
    "NBmodel_title_tfidf.fit(train_vec, y_train)\n",
    "\n",
    "time_taken = time.time() - start\n",
    "\n",
    "NBprediction = NBmodel_title_tfidf.predict(test_vec)\n",
    "\n",
    "nb_f1_title_tfidf = f1_score(y_test, NBprediction)\n",
    "\n",
    "plot_confusion_matrix(NBmodel_title_tfidf, test_vec, y_test, normalize = \"true\", cmap = \"Blues\").confusion_matrix\n",
    "\n",
    "plt.grid(False)\n",
    "\n",
    "results_tfidf[\"title\"][\"tuned\"][\"nb\"][\"time\"] = time_taken\n",
    "results_tfidf[\"title\"][\"tuned\"][\"nb\"][\"f1\"] = nb_f1_title_tfidf\n",
    "\n",
    "plt.savefig(\"nb_cm_title_tfidf.png\")"
   ]
  },
  {
   "cell_type": "markdown",
   "metadata": {
    "heading_collapsed": true,
    "hidden": true
   },
   "source": [
    "### SVM Model"
   ]
  },
  {
   "cell_type": "code",
   "execution_count": 10,
   "metadata": {
    "hidden": true,
    "scrolled": true
   },
   "outputs": [
    {
     "data": {
      "image/png": "[encoded data removed]",
      "text/plain": [
       "<Figure size 432x288 with 2 Axes>"
      ]
     },
     "metadata": {
      "needs_background": "light"
     },
     "output_type": "display_data"
    }
   ],
   "source": [
    "svm = LinearSVC()\n",
    "\n",
    "param_grid = {'penalty':['l2'],\n",
    "              'C': np.linspace(0.1,1)}\n",
    "\n",
    "svm_title_tfidf = GridSearchCV(svm, param_grid, cv = 5, scoring = 'f1')\n",
    "\n",
    "results_tfidf[\"title\"][\"tuned\"][\"svm\"][\"params\"] = svm_title_tfidf\n",
    "\n",
    "start = time.time()\n",
    "\n",
    "svm_title_tfidf.fit(train_vec, y_train)\n",
    "\n",
    "time_taken = time.time() - start\n",
    "\n",
    "SVMprediction = svm_title_tfidf.predict(test_vec)\n",
    "\n",
    "\n",
    "svm_f1_title_tfidf = f1_score(y_test, SVMprediction)\n",
    "\n",
    "\n",
    "plot_confusion_matrix(svm_title_tfidf, test_vec, y_test, normalize = \"true\", cmap = \"Blues\")\n",
    "\n",
    "plt.grid(False)\n",
    "\n",
    "results_tfidf[\"title\"][\"tuned\"][\"svm\"][\"time\"] = time_taken\n",
    "results_tfidf[\"title\"][\"tuned\"][\"svm\"][\"f1\"] = svm_f1_title_tfidf\n",
    "\n",
    "plt.savefig(\"svm_cm_title_tfidf.png\")"
   ]
  },
  {
   "cell_type": "markdown",
   "metadata": {
    "heading_collapsed": true,
    "hidden": true
   },
   "source": [
    "### KNN Model"
   ]
  },
  {
   "cell_type": "markdown",
   "metadata": {
    "hidden": true
   },
   "source": [
    "Finding the optimal k"
   ]
  },
  {
   "cell_type": "code",
   "execution_count": 12,
   "metadata": {
    "hidden": true
   },
   "outputs": [
    {
     "data": {
      "image/png": "[encoded data removed]",
      "text/plain": [
       "<Figure size 432x288 with 2 Axes>"
      ]
     },
     "metadata": {
      "needs_background": "light"
     },
     "output_type": "display_data"
    }
   ],
   "source": [
    "knn = KNeighborsClassifier()\n",
    "\n",
    "param_grid = {'n_neighbors': np.arange(1,100)}\n",
    "\n",
    "knn_title_tfidf = GridSearchCV(knn, param_grid, scoring = 'f1')\n",
    "\n",
    "results_tfidf[\"title\"][\"tuned\"][\"knn\"][\"params\"] = knn_title_tfidf\n",
    "\n",
    "start = time.time()\n",
    "\n",
    "knn_title_tfidf.fit(train_vec, y_train)\n",
    "\n",
    "time_taken = time.time() - start\n",
    "\n",
    "y_pred = knn_title_tfidf.predict(test_vec)\n",
    "\n",
    "knn_f1_title_tfidf = f1_score(y_test, y_pred)\n",
    "\n",
    "plot_confusion_matrix(knn_title_tfidf, test_vec, y_test, normalize = \"true\", cmap = \"Blues\")\n",
    "\n",
    "results_tfidf[\"title\"][\"tuned\"][\"knn\"][\"time\"] = time_taken\n",
    "results_tfidf[\"title\"][\"tuned\"][\"knn\"][\"f1\"] = knn_f1_title_tfidf\n",
    "\n",
    "plt.savefig(\"knn_cm_title_tfidf.png\")"
   ]
  },
  {
   "cell_type": "markdown",
   "metadata": {
    "heading_collapsed": true,
    "hidden": true
   },
   "source": [
    "### Logistic Regression"
   ]
  },
  {
   "cell_type": "code",
   "execution_count": 13,
   "metadata": {
    "hidden": true
   },
   "outputs": [
    {
     "data": {
      "image/png": "[encoded data removed]",
      "text/plain": [
       "<Figure size 432x288 with 2 Axes>"
      ]
     },
     "metadata": {
      "needs_background": "light"
     },
     "output_type": "display_data"
    }
   ],
   "source": [
    "logreg = LogisticRegression()\n",
    "\n",
    "param_grid = {'penalty':['l2'],\n",
    "              'C': np.linspace(0.1,1)}\n",
    "\n",
    "logreg_title_tfidf = GridSearchCV(logreg, param_grid, cv = 5, scoring='f1')\n",
    "\n",
    "results_tfidf[\"title\"][\"tuned\"][\"lr\"][\"params\"] = logreg_title_tfidf\n",
    "\n",
    "start = time.time()\n",
    "\n",
    "logreg_title_tfidf.fit(train_vec, y_train)\n",
    "\n",
    "time_taken = time.time() - start\n",
    "\n",
    "LRprediction = logreg_title_tfidf.predict(test_vec)\n",
    "\n",
    "lr_f1_title_tfidf = f1_score(y_test, LRprediction)\n",
    "\n",
    "plot_confusion_matrix(logreg_title_tfidf, test_vec, y_test, normalize = \"true\", cmap = \"Blues\")\n",
    "\n",
    "results_tfidf[\"title\"][\"tuned\"][\"lr\"][\"time\"] = time_taken\n",
    "results_tfidf[\"title\"][\"tuned\"][\"lr\"][\"f1\"] = lr_f1_title_tfidf\n",
    "\n",
    "plt.savefig(\"logreg_cm_title_tfidf.png\")"
   ]
  },
  {
   "cell_type": "markdown",
   "metadata": {
    "heading_collapsed": true,
    "hidden": true
   },
   "source": [
    "### Decision Tree "
   ]
  },
  {
   "cell_type": "code",
   "execution_count": 126,
   "metadata": {
    "hidden": true
   },
   "outputs": [
    {
     "data": {
      "image/png": "[encoded data removed]",
      "text/plain": [
       "<Figure size 432x288 with 2 Axes>"
      ]
     },
     "metadata": {
      "needs_background": "light"
     },
     "output_type": "display_data"
    }
   ],
   "source": [
    "decision_tree = DecisionTreeClassifier(random_state = 7)\n",
    "\n",
    "param_grid = {'max_depth':np.arange(1,1000, 100),\n",
    "              'max_features':np.arange(1,1000, 100),\n",
    "              'min_samples_leaf':np.arange(1,50),\n",
    "              'criterion':[\"gini\", \"entropy\"]}\n",
    "\n",
    "dectree_title_tfidf = GridSearchCV(decision_tree, param_grid, cv = 5, scoring='f1')\n",
    "\n",
    "\n",
    "\n",
    "start = time.time()\n",
    "\n",
    "dectree_title_tfidf.fit(train_vec, y_train)\n",
    "\n",
    "time_taken = time.time() - start\n",
    "\n",
    "y_pred = dectree_title_tfidf.predict(test_vec)\n",
    "\n",
    "dectree_f1_title_tfidf = f1_score(y_test, y_pred)\n",
    "\n",
    "plot_confusion_matrix(dectree_title_tfidf, test_vec, y_test, normalize = \"true\", cmap = \"Blues\")\n",
    "\n",
    "plt.grid(False)\n",
    "\n",
    "results_tfidf[\"title\"][\"tuned\"][\"dt\"][\"params\"] = dectree_title_tfidf.best_params_\n",
    "results_tfidf[\"title\"][\"tuned\"][\"dt\"][\"time\"] = time_taken\n",
    "results_tfidf[\"title\"][\"tuned\"][\"dt\"][\"f1\"] = dectree_f1_title_tfidf\n",
    "\n",
    "plt.savefig(\"dectree_cm_title_tfidf.png\")"
   ]
  },
  {
   "cell_type": "markdown",
   "metadata": {
    "heading_collapsed": true,
    "hidden": true
   },
   "source": [
    "### Extra Trees"
   ]
  },
  {
   "cell_type": "code",
   "execution_count": 15,
   "metadata": {
    "hidden": true
   },
   "outputs": [
    {
     "data": {
      "image/png": "[encoded data removed]",
      "text/plain": [
       "<Figure size 432x288 with 2 Axes>"
      ]
     },
     "metadata": {
      "needs_background": "light"
     },
     "output_type": "display_data"
    }
   ],
   "source": [
    "extra_trees = ExtraTreesClassifier(random_state = 7)\n",
    "\n",
    "param_grid = {'n_estimators': np.arange(100, 1000, 100),\n",
    "              'criterion':[\"gini\", \"entropy\"]}\n",
    "\n",
    "extratrees_title_tfidf = GridSearchCV(extra_trees, param_grid, cv = 5, scoring='f1')\n",
    "\n",
    "\n",
    "\n",
    "start = time.time()\n",
    "\n",
    "extratrees_title_tfidf.fit(train_vec, y_train)\n",
    "\n",
    "time_taken = time.time() - start\n",
    "\n",
    "y_pred = extratrees_title_tfidf.predict(test_vec)\n",
    "\n",
    "extratrees_f1_title_tfidf = f1_score(y_test, y_pred)\n",
    "\n",
    "plot_confusion_matrix(extratrees_title_tfidf, test_vec, y_test, normalize = \"true\", cmap = \"Blues\")\n",
    "\n",
    "plt.grid(False)\n",
    "\n",
    "results_tfidf[\"title\"][\"tuned\"][\"et\"][\"params\"] = extratrees_title_tfidf\n",
    "results_tfidf[\"title\"][\"tuned\"][\"et\"][\"time\"] = time_taken\n",
    "results_tfidf[\"title\"][\"tuned\"][\"et\"][\"f1\"] = extratrees_f1_title_tfidf\n",
    "\n",
    "plt.savefig(\"extratrees_cm_title_tfidf.png\")"
   ]
  },
  {
   "cell_type": "markdown",
   "metadata": {
    "heading_collapsed": true,
    "hidden": true
   },
   "source": [
    "### AdaBoost"
   ]
  },
  {
   "cell_type": "code",
   "execution_count": null,
   "metadata": {
    "hidden": true
   },
   "outputs": [],
   "source": [
    "decision_tree = DecisionTreeClassifier(random_state = 7)\n",
    "adaboost = AdaBoostClassifier(base_estimator = decision_tree ,random_state=7)\n",
    "\n",
    "param_grid = {'n_estimators': np.arange(100, 1000, 100)}\n",
    "\n",
    "adaboost_title_tfidf = GridSearchCV(adaboost, param_grid, cv = 5, scoring='f1')\n",
    "\n",
    "results_tfidf[\"title\"][\"tuned\"][\"ab\"][\"params\"] = adaboost_title_tfidf\n",
    "\n",
    "start = time.time()\n",
    "\n",
    "adaboost_title_tfidf.fit(train_vec, y_train)\n",
    "\n",
    "time_taken = time.time() - start\n",
    "\n",
    "y_pred = adaboost_title_tfidf.predict(test_vec)\n",
    "\n",
    "adaboost_f1_title_tfidf = f1_score(y_test, y_pred)\n",
    "\n",
    "plot_confusion_matrix(adaboost_title_tfidf, test_vec, y_test, normalize = \"true\", cmap = \"Blues\")\n",
    "\n",
    "plt.grid(False)\n",
    "\n",
    "results_tfidf[\"title\"][\"tuned\"][\"ab\"][\"time\"] = time_taken\n",
    "results_tfidf[\"title\"][\"tuned\"][\"ab\"][\"f1\"] = adaboost_f1_title_tfidf\n",
    "\n",
    "plt.savefig(\"adaboost_cm_title_tfidf.png\")"
   ]
  },
  {
   "cell_type": "markdown",
   "metadata": {
    "heading_collapsed": true,
    "hidden": true
   },
   "source": [
    "### Random Forests"
   ]
  },
  {
   "cell_type": "code",
   "execution_count": null,
   "metadata": {
    "hidden": true
   },
   "outputs": [],
   "source": [
    "random_forests = RandomForestClassifier(random_state=7)\n",
    "\n",
    "param_grid = {'n_estimators': np.arange(100, 1000, 100),\n",
    "              'criterion':[\"gini\", \"entropy\"]}\n",
    "\n",
    "rf_title_tfidf = GridSearchCV(random_forests, param_grid, cv = 5, scoring='f1')\n",
    "\n",
    "start = time.time()\n",
    "\n",
    "rf_title_tfidf.fit(train_vec, y_train)\n",
    "\n",
    "time_taken = time.time() - start\n",
    "\n",
    "y_pred = rf_title_tfidf.predict(test_vec)\n",
    "\n",
    "rf_f1_title_tfidf = f1_score(y_test, y_pred)\n",
    "\n",
    "plot_confusion_matrix(rf_title_tfidf, test_vec, y_test, normalize = \"true\", cmap = \"Blues\")\n",
    "\n",
    "plt.grid(False)\n",
    "\n",
    "results_tfidf[\"title\"][\"tuned\"][\"rf\"][\"params\"] = rf_title_tfidf.best_params_\n",
    "results_tfidf[\"title\"][\"tuned\"][\"rf\"][\"time\"] = time_taken\n",
    "results_tfidf[\"title\"][\"tuned\"][\"rf\"][\"f1\"] = rf_f1_title_tfidf\n",
    "\n",
    "plt.savefig(\"rf_cm_title_tfidf.png\")"
   ]
  },
  {
   "cell_type": "markdown",
   "metadata": {
    "heading_collapsed": true,
    "hidden": true
   },
   "source": [
    "### Defaults"
   ]
  },
  {
   "cell_type": "code",
   "execution_count": 14,
   "metadata": {
    "hidden": true
   },
   "outputs": [],
   "source": [
    "nb = MultinomialNB()\n",
    "start = time.time()\n",
    "nb.fit(train_vec, y_train)\n",
    "time_taken = time.time() - start\n",
    "NBprediction = nb.predict(test_vec)\n",
    "nb_f1_title_tfidf = f1_score(y_test, NBprediction)\n",
    "\n",
    "results_tfidf[\"title\"][\"default\"][\"nb\"][\"time\"] = time_taken\n",
    "results_tfidf[\"title\"][\"default\"][\"nb\"][\"f1\"] = nb_f1_title_tfidf\n",
    "\n",
    "svm = LinearSVC()\n",
    "start = time.time()\n",
    "svm.fit(train_vec, y_train)\n",
    "time_taken = time.time() - start\n",
    "SVMprediction = svm.predict(test_vec)\n",
    "svm_f1_title_tfidf = f1_score(y_test, SVMprediction)\n",
    "\n",
    "results_tfidf[\"title\"][\"default\"][\"svm\"][\"time\"] = time_taken\n",
    "results_tfidf[\"title\"][\"default\"][\"svm\"][\"f1\"] = svm_f1_title_tfidf\n",
    "\n",
    "knn = KNeighborsClassifier()\n",
    "start = time.time()\n",
    "knn.fit(train_vec, y_train)\n",
    "time_taken = time.time() - start\n",
    "y_pred = knn.predict(test_vec)\n",
    "knn_f1_title_tfidf = f1_score(y_test, y_pred)\n",
    "\n",
    "results_tfidf[\"title\"][\"default\"][\"knn\"][\"time\"] = time_taken\n",
    "results_tfidf[\"title\"][\"default\"][\"knn\"][\"f1\"] = knn_f1_title_tfidf\n",
    "\n",
    "logreg = LogisticRegression()\n",
    "start = time.time()\n",
    "logreg.fit(train_vec, y_train)\n",
    "time_taken = time.time() - start\n",
    "LRprediction = logreg.predict(test_vec)\n",
    "lr_f1_title_tfidf = f1_score(y_test, LRprediction)\n",
    "\n",
    "results_tfidf[\"title\"][\"default\"][\"lr\"][\"time\"] = time_taken\n",
    "results_tfidf[\"title\"][\"default\"][\"lr\"][\"f1\"] = lr_f1_title_tfidf\n",
    "\n",
    "decision_tree = DecisionTreeClassifier(random_state = 7)\n",
    "start = time.time()\n",
    "decision_tree.fit(train_vec, y_train)\n",
    "time_taken = time.time() - start\n",
    "y_pred = decision_tree.predict(test_vec)\n",
    "dectree_f1_title_tfidf = f1_score(y_test, y_pred)\n",
    "\n",
    "results_tfidf[\"title\"][\"default\"][\"dt\"][\"time\"] = time_taken\n",
    "results_tfidf[\"title\"][\"default\"][\"dt\"][\"f1\"] = dectree_f1_title_tfidf\n",
    "\n",
    "extra_trees = ExtraTreesClassifier(random_state = 7)\n",
    "start = time.time()\n",
    "extra_trees.fit(train_vec, y_train)\n",
    "time_taken = time.time() - start\n",
    "y_pred = extra_trees.predict(test_vec)\n",
    "extratrees_f1_title_tfidf = f1_score(y_test, y_pred)\n",
    "\n",
    "results_tfidf[\"title\"][\"default\"][\"et\"][\"time\"] = time_taken\n",
    "results_tfidf[\"title\"][\"default\"][\"et\"][\"f1\"] = extratrees_f1_title_tfidf\n",
    "\n",
    "adaboost = AdaBoostClassifier(base_estimator = decision_tree ,random_state=7)\n",
    "start = time.time()\n",
    "adaboost.fit(train_vec, y_train)\n",
    "time_taken = time.time() - start\n",
    "y_pred = adaboost.predict(test_vec)\n",
    "adaboost_f1_title_tfidf = f1_score(y_test, y_pred)\n",
    "\n",
    "results_tfidf[\"title\"][\"default\"][\"ab\"][\"time\"] = time_taken\n",
    "results_tfidf[\"title\"][\"default\"][\"ab\"][\"f1\"] = adaboost_f1_title_tfidf\n",
    "\n",
    "random_forests = RandomForestClassifier(random_state=7)\n",
    "start = time.time()\n",
    "random_forests.fit(train_vec, y_train)\n",
    "time_taken = time.time() - start\n",
    "y_pred = random_forests.predict(test_vec)\n",
    "rf_f1_title_tfidf = f1_score(y_test, y_pred)\n",
    "\n",
    "results_tfidf[\"title\"][\"default\"][\"rf\"][\"time\"] = time_taken\n",
    "results_tfidf[\"title\"][\"default\"][\"rf\"][\"f1\"] = rf_f1_title_tfidf"
   ]
  },
  {
   "cell_type": "markdown",
   "metadata": {
    "heading_collapsed": true,
    "hidden": true
   },
   "source": [
    "## Modelling based on Text"
   ]
  },
  {
   "cell_type": "code",
   "execution_count": 5,
   "metadata": {
    "hidden": true
   },
   "outputs": [],
   "source": [
    "# train test split\n",
    "X_train,X_test,y_train,y_test = train_test_split(news_data['text'], news_data['label'], test_size = 0.2, stratify = news_data['label'], shuffle = True, random_state = 7)"
   ]
  },
  {
   "cell_type": "code",
   "execution_count": 7,
   "metadata": {
    "hidden": true
   },
   "outputs": [],
   "source": [
    "txt_vectorizer = TfidfVectorizer(stop_words='english')\n",
    "\n",
    "train_vec = txt_vectorizer.fit_transform(X_train)\n",
    "test_vec = txt_vectorizer.transform(X_test)"
   ]
  },
  {
   "cell_type": "markdown",
   "metadata": {
    "heading_collapsed": true,
    "hidden": true
   },
   "source": [
    "### Multinomial Naive Bayes"
   ]
  },
  {
   "cell_type": "code",
   "execution_count": 68,
   "metadata": {
    "hidden": true
   },
   "outputs": [
    {
     "name": "stderr",
     "output_type": "stream",
     "text": [
      "C:\\Users\\User\\anaconda3\\lib\\site-packages\\sklearn\\naive_bayes.py:507: UserWarning: alpha too small will result in numeric errors, setting alpha = 1.0e-10\n",
      "C:\\Users\\User\\anaconda3\\lib\\site-packages\\sklearn\\naive_bayes.py:507: UserWarning: alpha too small will result in numeric errors, setting alpha = 1.0e-10\n",
      "C:\\Users\\User\\anaconda3\\lib\\site-packages\\sklearn\\naive_bayes.py:507: UserWarning: alpha too small will result in numeric errors, setting alpha = 1.0e-10\n",
      "C:\\Users\\User\\anaconda3\\lib\\site-packages\\sklearn\\naive_bayes.py:507: UserWarning: alpha too small will result in numeric errors, setting alpha = 1.0e-10\n",
      "C:\\Users\\User\\anaconda3\\lib\\site-packages\\sklearn\\naive_bayes.py:507: UserWarning: alpha too small will result in numeric errors, setting alpha = 1.0e-10\n"
     ]
    },
    {
     "data": {
      "image/png": "[encoded data removed]",
      "text/plain": [
       "<Figure size 432x288 with 2 Axes>"
      ]
     },
     "metadata": {
      "needs_background": "light"
     },
     "output_type": "display_data"
    }
   ],
   "source": [
    "nb = MultinomialNB()\n",
    "\n",
    "param_grid = {'alpha': np.linspace(0,1)}\n",
    "\n",
    "NBmodel_text_tfidf = GridSearchCV(nb, param_grid, cv = 5, scoring = 'f1')\n",
    "\n",
    "start = time.time()\n",
    "\n",
    "NBmodel_text_tfidf.fit(train_vec, y_train)\n",
    "\n",
    "time_taken = time.time() - start\n",
    "\n",
    "NBprediction = NBmodel_text_tfidf.predict(test_vec)\n",
    "\n",
    "nb_f1_text_tfidf = f1_score(y_test, NBprediction)\n",
    "\n",
    "plot_confusion_matrix(NBmodel_text_tfidf, test_vec, y_test, normalize = \"true\", cmap = \"Blues\")\n",
    "\n",
    "plt.grid(False)\n",
    "\n",
    "results_tfidf_[\"text\"][\"tuned\"][\"nb\"][\"params\"] = NBmodel_text_tfidf.best_params_\n",
    "results_tfidf_[\"text\"][\"tuned\"][\"nb\"][\"time\"] = time_taken\n",
    "results_tfidf_[\"text\"][\"tuned\"][\"nb\"][\"f1\"] = nb_f1_text_tfidf\n",
    "\n",
    "plt.savefig(\"nb_cm_text_tfidf.png\")"
   ]
  },
  {
   "cell_type": "markdown",
   "metadata": {
    "heading_collapsed": true,
    "hidden": true
   },
   "source": [
    "### SVM Model"
   ]
  },
  {
   "cell_type": "code",
   "execution_count": 69,
   "metadata": {
    "hidden": true
   },
   "outputs": [
    {
     "data": {
      "image/png": "[encoded data removed]",
      "text/plain": [
       "<Figure size 432x288 with 2 Axes>"
      ]
     },
     "metadata": {
      "needs_background": "light"
     },
     "output_type": "display_data"
    }
   ],
   "source": [
    "svm = LinearSVC()\n",
    "\n",
    "param_grid = {'penalty':['l2'],\n",
    "              'C': np.linspace(0.1,1)}\n",
    "\n",
    "svm_text_tfidf = GridSearchCV(svm, param_grid, cv = 5, scoring = 'f1')\n",
    "\n",
    "start = time.time()\n",
    "\n",
    "svm_text_tfidf.fit(train_vec, y_train)\n",
    "\n",
    "time_taken = time.time() - start\n",
    "\n",
    "SVMprediction = svm_text_tfidf.predict(test_vec)\n",
    "\n",
    "\n",
    "svm_f1_text_tfidf = f1_score(y_test, SVMprediction)\n",
    "\n",
    "\n",
    "plot_confusion_matrix(svm_text_tfidf, test_vec, y_test, normalize = \"true\", cmap = \"Blues\")\n",
    "\n",
    "plt.grid(False)\n",
    "\n",
    "results_tfidf_[\"text\"][\"tuned\"][\"svm\"][\"params\"] = svm_text_tfidf.best_params_\n",
    "results_tfidf_[\"text\"][\"tuned\"][\"svm\"][\"time\"] = time_taken\n",
    "results_tfidf_[\"text\"][\"tuned\"][\"svm\"][\"f1\"] = svm_f1_text_tfidf\n",
    "\n",
    "plt.savefig(\"svm_cm_text_tfidf.png\")"
   ]
  },
  {
   "cell_type": "markdown",
   "metadata": {
    "heading_collapsed": true,
    "hidden": true
   },
   "source": [
    "### KNN"
   ]
  },
  {
   "cell_type": "code",
   "execution_count": 70,
   "metadata": {
    "hidden": true
   },
   "outputs": [
    {
     "data": {
      "image/png": "[encoded data removed]",
      "text/plain": [
       "<Figure size 432x288 with 2 Axes>"
      ]
     },
     "metadata": {
      "needs_background": "light"
     },
     "output_type": "display_data"
    }
   ],
   "source": [
    "knn = KNeighborsClassifier()\n",
    "\n",
    "param_grid = {'n_neighbors': np.arange(1,100)}\n",
    "\n",
    "knn_text_tfidf = GridSearchCV(knn, param_grid, scoring = 'f1')\n",
    "\n",
    "\n",
    "\n",
    "start = time.time()\n",
    "\n",
    "knn_text_tfidf.fit(train_vec, y_train)\n",
    "\n",
    "time_taken = time.time() - start\n",
    "\n",
    "y_pred = knn_text_tfidf.predict(test_vec)\n",
    "\n",
    "knn_f1_text_tfidf = f1_score(y_test, y_pred)\n",
    "\n",
    "plot_confusion_matrix(knn_text_tfidf, test_vec, y_test, normalize = \"true\", cmap = \"Blues\")\n",
    "\n",
    "plt.grid(False)\n",
    "\n",
    "results_tfidf_[\"text\"][\"tuned\"][\"knn\"][\"params\"] = knn_text_tfidf.best_params_\n",
    "results_tfidf_[\"text\"][\"tuned\"][\"knn\"][\"time\"] = time_taken\n",
    "results_tfidf_[\"text\"][\"tuned\"][\"knn\"][\"f1\"] = knn_f1_text_tfidf\n",
    "\n",
    "plt.savefig(\"knn_cm_text_tfidf.png\")"
   ]
  },
  {
   "cell_type": "markdown",
   "metadata": {
    "heading_collapsed": true,
    "hidden": true
   },
   "source": [
    "### Logistic Regression"
   ]
  },
  {
   "cell_type": "code",
   "execution_count": 72,
   "metadata": {
    "hidden": true,
    "scrolled": true
   },
   "outputs": [
    {
     "name": "stderr",
     "output_type": "stream",
     "text": [
      "C:\\Users\\User\\anaconda3\\lib\\site-packages\\sklearn\\linear_model\\_logistic.py:935: RuntimeWarning: divide by zero encountered in double_scalars\n",
      "C:\\Users\\User\\anaconda3\\lib\\site-packages\\sklearn\\linear_model\\_logistic.py:124: RuntimeWarning: invalid value encountered in double_scalars\n",
      "C:\\Users\\User\\anaconda3\\lib\\site-packages\\sklearn\\linear_model\\_logistic.py:129: RuntimeWarning: invalid value encountered in multiply\n",
      "C:\\Users\\User\\anaconda3\\lib\\site-packages\\sklearn\\model_selection\\_validation.py:536: FitFailedWarning: Estimator fit failed. The score on this train-test partition for these parameters will be set to nan. Details: \n",
      "ValueError: Input contains NaN, infinity or a value too large for dtype('float64').\n",
      "\n",
      "C:\\Users\\User\\anaconda3\\lib\\site-packages\\sklearn\\linear_model\\_logistic.py:935: RuntimeWarning: divide by zero encountered in double_scalars\n",
      "C:\\Users\\User\\anaconda3\\lib\\site-packages\\sklearn\\linear_model\\_logistic.py:124: RuntimeWarning: invalid value encountered in double_scalars\n",
      "C:\\Users\\User\\anaconda3\\lib\\site-packages\\sklearn\\linear_model\\_logistic.py:129: RuntimeWarning: invalid value encountered in multiply\n",
      "C:\\Users\\User\\anaconda3\\lib\\site-packages\\sklearn\\model_selection\\_validation.py:536: FitFailedWarning: Estimator fit failed. The score on this train-test partition for these parameters will be set to nan. Details: \n",
      "ValueError: Input contains NaN, infinity or a value too large for dtype('float64').\n",
      "\n",
      "C:\\Users\\User\\anaconda3\\lib\\site-packages\\sklearn\\linear_model\\_logistic.py:935: RuntimeWarning: divide by zero encountered in double_scalars\n",
      "C:\\Users\\User\\anaconda3\\lib\\site-packages\\sklearn\\linear_model\\_logistic.py:124: RuntimeWarning: invalid value encountered in double_scalars\n",
      "C:\\Users\\User\\anaconda3\\lib\\site-packages\\sklearn\\linear_model\\_logistic.py:129: RuntimeWarning: invalid value encountered in multiply\n",
      "C:\\Users\\User\\anaconda3\\lib\\site-packages\\sklearn\\model_selection\\_validation.py:536: FitFailedWarning: Estimator fit failed. The score on this train-test partition for these parameters will be set to nan. Details: \n",
      "ValueError: Input contains NaN, infinity or a value too large for dtype('float64').\n",
      "\n",
      "C:\\Users\\User\\anaconda3\\lib\\site-packages\\sklearn\\linear_model\\_logistic.py:935: RuntimeWarning: divide by zero encountered in double_scalars\n",
      "C:\\Users\\User\\anaconda3\\lib\\site-packages\\sklearn\\linear_model\\_logistic.py:124: RuntimeWarning: invalid value encountered in double_scalars\n",
      "C:\\Users\\User\\anaconda3\\lib\\site-packages\\sklearn\\linear_model\\_logistic.py:129: RuntimeWarning: invalid value encountered in multiply\n",
      "C:\\Users\\User\\anaconda3\\lib\\site-packages\\sklearn\\model_selection\\_validation.py:536: FitFailedWarning: Estimator fit failed. The score on this train-test partition for these parameters will be set to nan. Details: \n",
      "ValueError: Input contains NaN, infinity or a value too large for dtype('float64').\n",
      "\n",
      "C:\\Users\\User\\anaconda3\\lib\\site-packages\\sklearn\\linear_model\\_logistic.py:935: RuntimeWarning: divide by zero encountered in double_scalars\n",
      "C:\\Users\\User\\anaconda3\\lib\\site-packages\\sklearn\\linear_model\\_logistic.py:124: RuntimeWarning: invalid value encountered in double_scalars\n",
      "C:\\Users\\User\\anaconda3\\lib\\site-packages\\sklearn\\linear_model\\_logistic.py:129: RuntimeWarning: invalid value encountered in multiply\n",
      "C:\\Users\\User\\anaconda3\\lib\\site-packages\\sklearn\\model_selection\\_validation.py:536: FitFailedWarning: Estimator fit failed. The score on this train-test partition for these parameters will be set to nan. Details: \n",
      "ValueError: Input contains NaN, infinity or a value too large for dtype('float64').\n",
      "\n"
     ]
    },
    {
     "data": {
      "image/png": "[encoded data removed]",
      "text/plain": [
       "<Figure size 432x288 with 2 Axes>"
      ]
     },
     "metadata": {
      "needs_background": "light"
     },
     "output_type": "display_data"
    }
   ],
   "source": [
    "logreg = LogisticRegression()\n",
    "\n",
    "param_grid = {'penalty':['l2'],\n",
    "              'C': np.linspace(0,1)}\n",
    "\n",
    "logreg_text_tfidf = GridSearchCV(logreg, param_grid, cv = 5, scoring='f1')\n",
    "\n",
    "start = time.time()\n",
    "\n",
    "logreg_text_tfidf.fit(train_vec, y_train)\n",
    "\n",
    "time_taken = time.time() - start\n",
    "\n",
    "LRprediction = logreg_text_tfidf.predict(test_vec)\n",
    "\n",
    "lr_f1_text_tfidf = f1_score(y_test, LRprediction)\n",
    "\n",
    "plot_confusion_matrix(logreg_text_tfidf, test_vec, y_test, normalize = \"true\", cmap = \"Blues\")\n",
    "\n",
    "plt.grid(False)\n",
    "\n",
    "results_tfidf_[\"text\"][\"tuned\"][\"lr\"][\"params\"] = logreg_text_tfidf.best_params_\n",
    "results_tfidf_[\"text\"][\"tuned\"][\"lr\"][\"time\"] = time_taken\n",
    "results_tfidf_[\"text\"][\"tuned\"][\"lr\"][\"f1\"] = lr_f1_text_tfidf\n",
    "\n",
    "plt.savefig(\"logreg_cm_text_tfidf.png\")"
   ]
  },
  {
   "cell_type": "markdown",
   "metadata": {
    "heading_collapsed": true,
    "hidden": true
   },
   "source": [
    "### Decision Tree"
   ]
  },
  {
   "cell_type": "code",
   "execution_count": 37,
   "metadata": {
    "hidden": true,
    "scrolled": false
   },
   "outputs": [
    {
     "ename": "AttributeError",
     "evalue": "module 'matplotlib.pyplot' has no attribute 'figsave'",
     "output_type": "error",
     "traceback": [
      "\u001b[1;31m---------------------------------------------------------------------------\u001b[0m",
      "\u001b[1;31mAttributeError\u001b[0m                            Traceback (most recent call last)",
      "\u001b[1;32m<ipython-input-37-beb56cc7b898>\u001b[0m in \u001b[0;36m<module>\u001b[1;34m\u001b[0m\n\u001b[0;32m     27\u001b[0m \u001b[0mresults_tfidf\u001b[0m\u001b[1;33m[\u001b[0m\u001b[1;34m\"text\"\u001b[0m\u001b[1;33m]\u001b[0m\u001b[1;33m[\u001b[0m\u001b[1;34m\"tuned\"\u001b[0m\u001b[1;33m]\u001b[0m\u001b[1;33m[\u001b[0m\u001b[1;34m\"dt\"\u001b[0m\u001b[1;33m]\u001b[0m\u001b[1;33m[\u001b[0m\u001b[1;34m\"f1\"\u001b[0m\u001b[1;33m]\u001b[0m \u001b[1;33m=\u001b[0m \u001b[0mdectree_f1_text_tfidf\u001b[0m\u001b[1;33m\u001b[0m\u001b[1;33m\u001b[0m\u001b[0m\n\u001b[0;32m     28\u001b[0m \u001b[1;33m\u001b[0m\u001b[0m\n\u001b[1;32m---> 29\u001b[1;33m \u001b[0mplt\u001b[0m\u001b[1;33m.\u001b[0m\u001b[0mfigsave\u001b[0m\u001b[1;33m(\u001b[0m\u001b[1;34m\"dectree_cm_text_tfidf.png\"\u001b[0m\u001b[1;33m)\u001b[0m\u001b[1;33m\u001b[0m\u001b[1;33m\u001b[0m\u001b[0m\n\u001b[0m",
      "\u001b[1;31mAttributeError\u001b[0m: module 'matplotlib.pyplot' has no attribute 'figsave'"
     ]
    },
    {
     "data": {
      "image/png": "[encoded data removed]",
      "text/plain": [
       "<Figure size 432x288 with 2 Axes>"
      ]
     },
     "metadata": {
      "needs_background": "light"
     },
     "output_type": "display_data"
    }
   ],
   "source": [
    "decision_tree = DecisionTreeClassifier(random_state = 7)\n",
    "\n",
    "param_grid = {'max_depth':np.arange(1,1000, 100),\n",
    "              'max_features':np.arange(1,1000, 100),\n",
    "              'min_samples_leaf':np.arange(1,50),\n",
    "              'criterion':[\"gini\", \"entropy\"]}\n",
    "\n",
    "dectree_text_tfidf = GridSearchCV(decision_tree, param_grid, cv = 5, scoring='f1')\n",
    "\n",
    "results_tfidf[\"text\"][\"tuned\"][\"dt\"][\"params\"] = dectree_text_tfidf \n",
    "\n",
    "start = time.time()\n",
    "\n",
    "dectree_text_tfidf.fit(train_vec, y_train)\n",
    "\n",
    "time_taken = time.time() - start\n",
    "\n",
    "y_pred = dectree_text_tfidf.predict(test_vec)\n",
    "\n",
    "dectree_f1_text_tfidf = f1_score(y_test, y_pred)\n",
    "\n",
    "plot_confusion_matrix(dectree_text_tfidf, test_vec, y_test, normalize = \"true\", cmap = \"Blues\")\n",
    "\n",
    "plt.grid(False)\n",
    "\n",
    "results_tfidf[\"text\"][\"tuned\"][\"dt\"][\"time\"] = time_taken\n",
    "results_tfidf[\"text\"][\"tuned\"][\"dt\"][\"f1\"] = dectree_f1_text_tfidf\n",
    "\n",
    "plt.savefig(\"dectree_cm_text_tfidf.png\")"
   ]
  },
  {
   "cell_type": "markdown",
   "metadata": {
    "heading_collapsed": true,
    "hidden": true
   },
   "source": [
    "### Extra Trees"
   ]
  },
  {
   "cell_type": "code",
   "execution_count": 12,
   "metadata": {
    "hidden": true
   },
   "outputs": [
    {
     "ename": "NameError",
     "evalue": "name 'extratrees_text_tfidf' is not defined",
     "output_type": "error",
     "traceback": [
      "\u001b[1;31m---------------------------------------------------------------------------\u001b[0m",
      "\u001b[1;31mNameError\u001b[0m                                 Traceback (most recent call last)",
      "\u001b[1;32m<ipython-input-12-ea079620695e>\u001b[0m in \u001b[0;36m<module>\u001b[1;34m\u001b[0m\n\u001b[0;32m      7\u001b[0m \u001b[0mtime_taken\u001b[0m \u001b[1;33m=\u001b[0m \u001b[0mtime\u001b[0m\u001b[1;33m.\u001b[0m\u001b[0mtime\u001b[0m\u001b[1;33m(\u001b[0m\u001b[1;33m)\u001b[0m \u001b[1;33m-\u001b[0m \u001b[0mstart\u001b[0m\u001b[1;33m\u001b[0m\u001b[1;33m\u001b[0m\u001b[0m\n\u001b[0;32m      8\u001b[0m \u001b[1;33m\u001b[0m\u001b[0m\n\u001b[1;32m----> 9\u001b[1;33m \u001b[0my_pred\u001b[0m \u001b[1;33m=\u001b[0m \u001b[0mextratrees_text_tfidf\u001b[0m\u001b[1;33m.\u001b[0m\u001b[0mpredict\u001b[0m\u001b[1;33m(\u001b[0m\u001b[0mtest_vec\u001b[0m\u001b[1;33m)\u001b[0m\u001b[1;33m\u001b[0m\u001b[1;33m\u001b[0m\u001b[0m\n\u001b[0m\u001b[0;32m     10\u001b[0m \u001b[1;33m\u001b[0m\u001b[0m\n\u001b[0;32m     11\u001b[0m \u001b[0mextratrees_f1_text_tfidf\u001b[0m \u001b[1;33m=\u001b[0m \u001b[0mf1_score\u001b[0m\u001b[1;33m(\u001b[0m\u001b[0my_test\u001b[0m\u001b[1;33m,\u001b[0m \u001b[0my_pred\u001b[0m\u001b[1;33m)\u001b[0m\u001b[1;33m\u001b[0m\u001b[1;33m\u001b[0m\u001b[0m\n",
      "\u001b[1;31mNameError\u001b[0m: name 'extratrees_text_tfidf' is not defined"
     ]
    }
   ],
   "source": [
    "# not tuned since default is quite high alredy\n",
    "extra_trees = ExtraTreesClassifier(random_state = 7)\n",
    "\n",
    "start = time.time()\n",
    "\n",
    "extra_trees.fit(train_vec, y_train)\n",
    "\n",
    "time_taken = time.time() - start\n",
    "\n",
    "y_pred = extra_trees.predict(test_vec)\n",
    "\n",
    "extratrees_f1_text_tfidf = f1_score(y_test, y_pred)\n",
    "\n",
    "plot_confusion_matrix(extra_trees, test_vec, y_test, normalize = \"true\", cmap = \"Blues\")\n",
    "\n",
    "plt.grid(False)\n",
    "\n",
    "# results_tfidf[\"text\"][\"tuned\"][\"et\"][\"time\"] = time_taken\n",
    "# results_tfidf[\"text\"][\"tuned\"][\"et\"][\"f1\"] = extratrees_f1_text_tfidf\n",
    "\n",
    "plt.savefig(\"data/cm_plots/text/extratrees_cm_text_tfidf.png\")"
   ]
  },
  {
   "cell_type": "markdown",
   "metadata": {
    "heading_collapsed": true,
    "hidden": true
   },
   "source": [
    "### AdaBoost"
   ]
  },
  {
   "cell_type": "code",
   "execution_count": 73,
   "metadata": {
    "hidden": true
   },
   "outputs": [
    {
     "data": {
      "image/png": "[encoded data removed]",
      "text/plain": [
       "<Figure size 432x288 with 2 Axes>"
      ]
     },
     "metadata": {
      "needs_background": "light"
     },
     "output_type": "display_data"
    }
   ],
   "source": [
    "adaboost = AdaBoostClassifier(base_estimator = decision_tree ,random_state=7)\n",
    "\n",
    "param_grid = {'n_estimators': np.arange(100, 1000, 100)}\n",
    "\n",
    "adaboost_text_tfidf = GridSearchCV(adaboost, param_grid, cv = 5, scoring='f1')\n",
    "\n",
    "start = time.time()\n",
    "\n",
    "adaboost_text_tfidf.fit(train_vec, y_train)\n",
    "\n",
    "time_taken = time.time() - start\n",
    "\n",
    "y_pred = adaboost_text_tfidf.predict(test_vec)\n",
    "\n",
    "adaboost_f1_text_tfidf = f1_score(y_test, y_pred)\n",
    "\n",
    "plot_confusion_matrix(adaboost_text_tfidf, test_vec, y_test, normalize = \"true\", cmap = \"Blues\")\n",
    "\n",
    "plt.grid(False)\n",
    "\n",
    "results_tfidf_[\"text\"][\"tuned\"][\"ab\"][\"params\"] = adaboost_text_tfidf.best_params_\n",
    "results_tfidf_[\"text\"][\"tuned\"][\"ab\"][\"time\"] = time_taken\n",
    "results_tfidf_[\"text\"][\"tuned\"][\"ab\"][\"f1\"] = adaboost_f1_text_tfidf\n",
    "\n",
    "plt.savefig(\"adaboost_cm_text_tfidf.png\")"
   ]
  },
  {
   "cell_type": "markdown",
   "metadata": {
    "heading_collapsed": true,
    "hidden": true
   },
   "source": [
    "### Random Forests"
   ]
  },
  {
   "cell_type": "code",
   "execution_count": 15,
   "metadata": {
    "hidden": true
   },
   "outputs": [],
   "source": [
    "# not tuned since default is quite high alredy\n",
    "random_forests = RandomForestClassifier(random_state=7)\n",
    "\n",
    "start = time.time()\n",
    "\n",
    "random_forests.fit(train_vec, y_train)\n",
    "\n",
    "time_taken = time.time() - start\n",
    "\n",
    "RFprediction = random_forests.predict(test_vec)\n",
    "\n",
    "rf_f1_text_tfidf = f1_score(y_test, RFprediction)\n",
    "\n",
    "plot_confusion_matrix(random_forests, test_vec, y_test, normalize = \"true\", cmap = \"Blues\")\n",
    "\n",
    "plt.grid(False)\n",
    "\n",
    "results_tfidf[\"text\"][\"tuned\"][\"rf\"][\"time\"] = time_taken\n",
    "results_tfidf[\"text\"][\"tuned\"][\"rf\"][\"f1\"] = rf_f1_text_tfidf\n",
    "\n",
    "plt.savefig(\"data/cm_plots/rf_cm_text_tfidf.png\")"
   ]
  },
  {
   "cell_type": "markdown",
   "metadata": {
    "heading_collapsed": true,
    "hidden": true
   },
   "source": [
    "### Defaults"
   ]
  },
  {
   "cell_type": "code",
   "execution_count": null,
   "metadata": {
    "hidden": true
   },
   "outputs": [],
   "source": [
    "# Modelling based on Text\n",
    "\n",
    "# train test split\n",
    "X_train,X_test,y_train,y_test = train_test_split(news_data['text'], news_data['label'], test_size = 0.2, stratify = news_data['label'], shuffle = True, random_state = 7)\n",
    "\n",
    "## Tf IDF\n",
    "\n",
    "txt_vectorizer = TfidfVectorizer(stop_words='english')\n",
    "\n",
    "train_vec = txt_vectorizer.fit_transform(X_train)\n",
    "test_vec = txt_vectorizer.transform(X_test)\n",
    "\n",
    "## Multinomial Naive Bayes\n",
    "\n",
    "nb = MultinomialNB()\n",
    "\n",
    "param_grid = {'alpha': np.linspace(0,1)}\n",
    "\n",
    "NBmodel_text_tfidf = GridSearchCV(nb, param_grid, cv = 5, scoring = 'f1')\n",
    "\n",
    "start = time.time()\n",
    "\n",
    "NBmodel_text_tfidf.fit(train_vec, y_train)\n",
    "\n",
    "time_taken = time.time() - start\n",
    "\n",
    "NBprediction = NBmodel_text_tfidf.predict(test_vec)\n",
    "\n",
    "nb_f1_text_tfidf = f1_score(y_test, NBprediction)\n",
    "\n",
    "plot_confusion_matrix(NBmodel_text_tfidf, test_vec, y_test, normalize = \"true\", cmap = \"Blues\")\n",
    "\n",
    "plt.grid(False)\n",
    "\n",
    "results_tfidf_[\"text\"][\"tuned\"][\"nb\"][\"params\"] = NBmodel_text_tfidf.best_params_\n",
    "results_tfidf_[\"text\"][\"tuned\"][\"nb\"][\"time\"] = time_taken\n",
    "results_tfidf_[\"text\"][\"tuned\"][\"nb\"][\"f1\"] = nb_f1_text_tfidf\n",
    "\n",
    "plt.savefig(\"nb_cm_text_tfidf.png\")\n",
    "\n",
    "## SVM Model\n",
    "\n",
    "svm = LinearSVC()\n",
    "\n",
    "param_grid = {'penalty':['l2'],\n",
    "              'C': np.linspace(0.1,1)}\n",
    "\n",
    "svm_text_tfidf = GridSearchCV(svm, param_grid, cv = 5, scoring = 'f1')\n",
    "\n",
    "start = time.time()\n",
    "\n",
    "svm_text_tfidf.fit(train_vec, y_train)\n",
    "\n",
    "time_taken = time.time() - start\n",
    "\n",
    "SVMprediction = svm_text_tfidf.predict(test_vec)\n",
    "\n",
    "\n",
    "svm_f1_text_tfidf = f1_score(y_test, SVMprediction)\n",
    "\n",
    "\n",
    "plot_confusion_matrix(svm_text_tfidf, test_vec, y_test, normalize = \"true\", cmap = \"Blues\")\n",
    "\n",
    "plt.grid(False)\n",
    "\n",
    "results_tfidf_[\"text\"][\"tuned\"][\"svm\"][\"params\"] = svm_text_tfidf.best_params_\n",
    "results_tfidf_[\"text\"][\"tuned\"][\"svm\"][\"time\"] = time_taken\n",
    "results_tfidf_[\"text\"][\"tuned\"][\"svm\"][\"f1\"] = svm_f1_text_tfidf\n",
    "\n",
    "plt.savefig(\"svm_cm_text_tfidf.png\")\n",
    "\n",
    "## k-NN Model\n",
    "\n",
    "knn = KNeighborsClassifier()\n",
    "\n",
    "param_grid = {'n_neighbors': np.arange(1,100)}\n",
    "\n",
    "knn_text_tfidf = GridSearchCV(knn, param_grid, scoring = 'f1')\n",
    "\n",
    "\n",
    "\n",
    "start = time.time()\n",
    "\n",
    "knn_text_tfidf.fit(train_vec, y_train)\n",
    "\n",
    "time_taken = time.time() - start\n",
    "\n",
    "y_pred = knn_text_tfidf.predict(test_vec)\n",
    "\n",
    "knn_f1_text_tfidf = f1_score(y_test, y_pred)\n",
    "\n",
    "plot_confusion_matrix(knn_text_tfidf, test_vec, y_test, normalize = \"true\", cmap = \"Blues\")\n",
    "\n",
    "plt.grid(False)\n",
    "\n",
    "results_tfidf_[\"text\"][\"tuned\"][\"knn\"][\"params\"] = knn_text_tfidf.best_params_\n",
    "results_tfidf_[\"text\"][\"tuned\"][\"knn\"][\"time\"] = time_taken\n",
    "results_tfidf_[\"text\"][\"tuned\"][\"knn\"][\"f1\"] = knn_f1_text_tfidf\n",
    "\n",
    "plt.savefig(\"knn_cm_text_tfidf.png\")\n",
    "\n",
    "## Logistic Regression\n",
    "\n",
    "logreg = LogisticRegression()\n",
    "\n",
    "param_grid = {'penalty':['l2'],\n",
    "              'C': np.linspace(0,1)}\n",
    "\n",
    "logreg_text_tfidf = GridSearchCV(logreg, param_grid, cv = 5, scoring='f1')\n",
    "\n",
    "start = time.time()\n",
    "\n",
    "logreg_text_tfidf.fit(train_vec, y_train)\n",
    "\n",
    "time_taken = time.time() - start\n",
    "\n",
    "LRprediction = logreg_text_tfidf.predict(test_vec)\n",
    "\n",
    "lr_f1_text_tfidf = f1_score(y_test, LRprediction)\n",
    "\n",
    "plot_confusion_matrix(logreg_text_tfidf, test_vec, y_test, normalize = \"true\", cmap = \"Blues\")\n",
    "\n",
    "plt.grid(False)\n",
    "\n",
    "results_tfidf_[\"text\"][\"tuned\"][\"lr\"][\"params\"] = logreg_text_tfidf.best_params_\n",
    "results_tfidf_[\"text\"][\"tuned\"][\"lr\"][\"time\"] = time_taken\n",
    "results_tfidf_[\"text\"][\"tuned\"][\"lr\"][\"f1\"] = lr_f1_text_tfidf\n",
    "\n",
    "plt.savefig(\"logreg_cm_text_tfidf.png\")\n",
    "\n",
    "## Decision Tree\n",
    "\n",
    "decision_tree = DecisionTreeClassifier(random_state = 7)\n",
    "\n",
    "param_grid = {'max_depth':np.arange(1,1000, 100),\n",
    "              'max_features':np.arange(1,1000, 100),\n",
    "              'min_samples_leaf':np.arange(1,50),\n",
    "              'criterion':[\"gini\", \"entropy\"]}\n",
    "\n",
    "dectree_text_tfidf = GridSearchCV(decision_tree, param_grid, cv = 5, scoring='f1')\n",
    "\n",
    "results_tfidf[\"text\"][\"tuned\"][\"dt\"][\"params\"] = dectree_text_tfidf \n",
    "\n",
    "start = time.time()\n",
    "\n",
    "dectree_text_tfidf.fit(train_vec, y_train)\n",
    "\n",
    "time_taken = time.time() - start\n",
    "\n",
    "y_pred = dectree_text_tfidf.predict(test_vec)\n",
    "\n",
    "dectree_f1_text_tfidf = f1_score(y_test, y_pred)\n",
    "\n",
    "plot_confusion_matrix(dectree_text_tfidf, test_vec, y_test, normalize = \"true\", cmap = \"Blues\")\n",
    "\n",
    "plt.grid(False)\n",
    "\n",
    "results_tfidf[\"text\"][\"tuned\"][\"dt\"][\"time\"] = time_taken\n",
    "results_tfidf[\"text\"][\"tuned\"][\"dt\"][\"f1\"] = dectree_f1_text_tfidf\n",
    "\n",
    "plt.savefig(\"dectree_cm_text_tfidf.png\")\n",
    "\n",
    "## Extra Trees\n",
    "\n",
    "# not tuned since default is quite high alredy\n",
    "extra_trees = ExtraTreesClassifier(random_state = 7)\n",
    "\n",
    "start = time.time()\n",
    "\n",
    "extra_trees.fit(train_vec, y_train)\n",
    "\n",
    "time_taken = time.time() - start\n",
    "\n",
    "y_pred = extra_trees.predict(test_vec)\n",
    "\n",
    "extratrees_f1_text_tfidf = f1_score(y_test, y_pred)\n",
    "\n",
    "plot_confusion_matrix(extra_trees, test_vec, y_test, normalize = \"true\", cmap = \"Blues\")\n",
    "\n",
    "plt.grid(False)\n",
    "\n",
    "# results_tfidf[\"text\"][\"tuned\"][\"et\"][\"time\"] = time_taken\n",
    "# results_tfidf[\"text\"][\"tuned\"][\"et\"][\"f1\"] = extratrees_f1_text_tfidf\n",
    "\n",
    "plt.savefig(\"data/cm_plots/text/extratrees_cm_text_tfidf.png\")\n",
    "\n",
    "## AdaBoost\n",
    "\n",
    "adaboost = AdaBoostClassifier(base_estimator = decision_tree ,random_state=7)\n",
    "\n",
    "param_grid = {'n_estimators': np.arange(100, 1000, 100)}\n",
    "\n",
    "adaboost_text_tfidf = GridSearchCV(adaboost, param_grid, cv = 5, scoring='f1')\n",
    "\n",
    "start = time.time()\n",
    "\n",
    "adaboost_text_tfidf.fit(train_vec, y_train)\n",
    "\n",
    "time_taken = time.time() - start\n",
    "\n",
    "y_pred = adaboost_text_tfidf.predict(test_vec)\n",
    "\n",
    "adaboost_f1_text_tfidf = f1_score(y_test, y_pred)\n",
    "\n",
    "plot_confusion_matrix(adaboost_text_tfidf, test_vec, y_test, normalize = \"true\", cmap = \"Blues\")\n",
    "\n",
    "plt.grid(False)\n",
    "\n",
    "results_tfidf_[\"text\"][\"tuned\"][\"ab\"][\"params\"] = adaboost_text_tfidf.best_params_\n",
    "results_tfidf_[\"text\"][\"tuned\"][\"ab\"][\"time\"] = time_taken\n",
    "results_tfidf_[\"text\"][\"tuned\"][\"ab\"][\"f1\"] = adaboost_f1_text_tfidf\n",
    "\n",
    "plt.savefig(\"adaboost_cm_text_tfidf.png\")\n",
    "\n",
    "## Random Forests\n",
    "\n",
    "# not tuned since default is quite high alredy\n",
    "random_forests = RandomForestClassifier(random_state=7)\n",
    "\n",
    "start = time.time()\n",
    "\n",
    "random_forests.fit(train_vec, y_train)\n",
    "\n",
    "time_taken = time.time() - start\n",
    "\n",
    "RFprediction = random_forests.predict(test_vec)\n",
    "\n",
    "rf_f1_text_tfidf = f1_score(y_test, RFprediction)\n",
    "\n",
    "plot_confusion_matrix(random_forests, test_vec, y_test, normalize = \"true\", cmap = \"Blues\")\n",
    "\n",
    "plt.grid(False)\n",
    "\n",
    "results_tfidf[\"text\"][\"tuned\"][\"rf\"][\"time\"] = time_taken\n",
    "results_tfidf[\"text\"][\"tuned\"][\"rf\"][\"f1\"] = rf_f1_text_tfidf\n",
    "\n",
    "plt.savefig(\"data/cm_plots/rf_cm_text_tfidf.png\")\n",
    "\n",
    "## Defaults"
   ]
  },
  {
   "cell_type": "markdown",
   "metadata": {
    "heading_collapsed": true
   },
   "source": [
    "# TFIDF without source + truncated data"
   ]
  },
  {
   "cell_type": "code",
   "execution_count": 11,
   "metadata": {
    "hidden": true
   },
   "outputs": [],
   "source": [
    "# read in data\n",
    "trunc = pd.read_csv(\"data/truncated_combined.csv\")\n",
    "without_src = pd.read_csv(\"data/SR_combined.csv\")\n",
    "with_src = pd.read_csv(\"data/news_final.csv\")"
   ]
  },
  {
   "cell_type": "code",
   "execution_count": 12,
   "metadata": {
    "hidden": true
   },
   "outputs": [],
   "source": [
    "# train test split\n",
    "X_train_with_src,X_test_with_src,y_train_with_src,y_test_with_src = train_test_split(with_src['text'], with_src['label'], test_size = 0.2, random_state = 7)\n",
    "X_train_without_src,X_test_without_src,y_train_without_src,y_test_without_src = train_test_split(without_src['text'], without_src['label'], test_size = 0.2, random_state = 7)\n",
    "X_train_trunc,X_test_trunc,y_train_trunc,y_test_trunc = train_test_split(trunc['text'], trunc['label'], test_size = 0.2, random_state = 7)"
   ]
  },
  {
   "cell_type": "code",
   "execution_count": 13,
   "metadata": {
    "hidden": true
   },
   "outputs": [],
   "source": [
    "vectorizer_with_src = TfidfVectorizer(stop_words='english')\n",
    "vectorizer_without_src = TfidfVectorizer(stop_words='english')\n",
    "vectorizer_trunc = TfidfVectorizer(stop_words='english')\n",
    "\n",
    "train_vec_with_src = vectorizer_with_src.fit_transform(X_train_with_src)\n",
    "test_vec_with_src = vectorizer_with_src.transform(X_test_with_src)\n",
    "\n",
    "train_vec_without_src = vectorizer_without_src.fit_transform(X_train_without_src)\n",
    "test_vec_without_src = vectorizer_without_src.transform(X_test_with_src)\n",
    "\n",
    "train_vec_trunc = vectorizer_trunc.fit_transform(X_train_trunc)\n",
    "test_vec_trunc = vectorizer_trunc.transform(X_test_with_src)"
   ]
  },
  {
   "cell_type": "code",
   "execution_count": 192,
   "metadata": {
    "hidden": true
   },
   "outputs": [],
   "source": [
    "results_tfidf_text = {\n",
    "    \"f-beta\" : {        \n",
    "        \"without_src\" : {},\n",
    "        \"trunc\" : {},\n",
    "        \"with_src\" : {}\n",
    "    }\n",
    "}"
   ]
  },
  {
   "cell_type": "code",
   "execution_count": 208,
   "metadata": {
    "hidden": true
   },
   "outputs": [],
   "source": [
    "# without src \n",
    "nb = MultinomialNB()\n",
    "nb.fit(train_vec_without_src, y_train_without_src)\n",
    "NBprediction = nb.predict(test_vec_without_src)\n",
    "nb_fbeta_text_tfidf = fbeta_score(y_test_with_src, NBprediction, 0.5)\n",
    "\n",
    "print(\"done\")\n",
    "results_tfidf_text[\"f-beta\"][\"without_src\"][\"nb\"] = nb_fbeta_text_tfidf\n",
    "\n",
    "svm = LinearSVC()\n",
    "svm.fit(train_vec_without_src, y_train_without_src)\n",
    "SVMprediction = svm.predict(test_vec_without_src)\n",
    "svm_fbeta_text_tfidf = fbeta_score(y_test_with_src, SVMprediction, 0.5)\n",
    "\n",
    "\n",
    "print(\"done\")\n",
    "results_tfidf_text[\"f-beta\"][\"without_src\"][\"svm\"] = svm_fbeta_text_tfidf\n",
    "\n",
    "knn = KNeighborsClassifier()\n",
    "knn.fit(train_vec_without_src, y_train_without_src)\n",
    "KNNprediction = knn.predict(test_vec_without_src)\n",
    "knn_fbeta_text_tfidf = fbeta_score(y_test_with_src, KNNprediction, 0.5)\n",
    "\n",
    "print(\"done\")\n",
    "results_tfidf_text[\"f-beta\"][\"without_src\"][\"knn\"] = knn_f1_text_tfidf\n",
    "\n",
    "logreg = LogisticRegression()\n",
    "logreg.fit(train_vec_without_src, y_train_without_src)\n",
    "LRprediction = logreg.predict(test_vec_without_src)\n",
    "lr_fbeta_text_tfidf = fbeta_score(y_test_with_src, LRprediction, 0.5)\n",
    "\n",
    "print(\"done\")\n",
    "results_tfidf_text[\"f-beta\"][\"without_src\"][\"lr\"] = lr_fbeta_text_tfidf\n",
    "\n",
    "decision_tree = DecisionTreeClassifier(random_state = 7)\n",
    "decision_tree.fit(train_vec_without_src, y_train_without_src)\n",
    "DTprediction = decision_tree.predict(test_vec_without_src)\n",
    "dt_fbeta_text_tfidf = fbeta_score(y_test_with_src, DTprediction, 0.5)\n",
    "\n",
    "print(\"done\")\n",
    "results_tfidf_text[\"f-beta\"][\"without_src\"][\"dt\"] = dt_fbeta_text_tfidf\n",
    "\n",
    "extra_trees = ExtraTreesClassifier(random_state = 7)\n",
    "extra_trees.fit(train_vec_without_src, y_train_without_src)\n",
    "ETprediction = extra_trees.predict(test_vec_without_src)\n",
    "et_fbeta_text_tfidf = fbeta_score(y_test_with_src, ETprediction, 0.5)\n",
    "\n",
    "print(\"done\")\n",
    "results_tfidf_text[\"f-beta\"][\"without_src\"][\"et\"] = et_fbeta_text_tfidf\n",
    "\n",
    "adaboost = AdaBoostClassifier(base_estimator = decision_tree ,random_state=7)\n",
    "adaboost.fit(train_vec_without_src, y_train_without_src)\n",
    "ABprediction = adaboost.predict(test_vec_without_src)\n",
    "ab_fbeta_text_tfidf = fbeta_score(y_test_with_src, ABprediction, 0.5)\n",
    "\n",
    "print(\"done\")\n",
    "results_tfidf_text[\"f-beta\"][\"without_src\"][\"ab\"] = ab_fbeta_text_tfidf\n",
    "\n",
    "random_forests = RandomForestClassifier(random_state=7)\n",
    "random_forests.fit(train_vec_without_src, y_train_without_src)\n",
    "RFprediction = random_forests.predict(test_vec_without_src)\n",
    "rf_fbeta_text_tfidf = fbeta_score(y_test_with_src, RFprediction, 0.5)\n",
    "\n",
    "print(\"done\")\n",
    "results_tfidf_text[\"f-beta\"][\"without_src\"][\"rf\"] = rf_fbeta_text_tfidf"
   ]
  },
  {
   "cell_type": "code",
   "execution_count": 206,
   "metadata": {
    "hidden": true
   },
   "outputs": [],
   "source": [
    "# np.save(\"results_tfidf_text_comparison.npy\", results_tfidf_text)"
   ]
  },
  {
   "cell_type": "code",
   "execution_count": 211,
   "metadata": {
    "hidden": true
   },
   "outputs": [],
   "source": [
    "# trunc\n",
    "nb = MultinomialNB()\n",
    "nb.fit(train_vec_trunc, y_train_trunc)\n",
    "NBprediction = nb.predict(test_vec_trunc)\n",
    "nb_fbeta_text_tfidf = fbeta_score(y_test_trunc, NBprediction, 0.5)\n",
    "\n",
    "print(\"done\")\n",
    "results_tfidf_text[\"f-beta\"][\"trunc\"][\"nb\"] = nb_fbeta_text_tfidf\n",
    "\n",
    "svm = LinearSVC()\n",
    "svm.fit(train_vec_trunc, y_train_trunc)\n",
    "SVMprediction = svm.predict(test_vec_trunc)\n",
    "svm_fbeta_text_tfidf = fbeta_score(y_test_trunc, SVMprediction, 0.5)\n",
    "\n",
    "print(\"done\")\n",
    "results_tfidf_text[\"f-beta\"][\"trunc\"][\"svm\"] = svm_fbeta_text_tfidf\n",
    "\n",
    "knn = KNeighborsClassifier()\n",
    "knn.fit(train_vec_trunc, y_train_trunc)\n",
    "KNNprediction = knn.predict(test_vec_trunc)\n",
    "knn_fbeta_text_tfidf = fbeta_score(y_test_trunc, KNNprediction, 0.5)\n",
    "\n",
    "print(\"done\")\n",
    "results_tfidf_text[\"f-beta\"][\"trunc\"][\"knn\"] = knn_fbeta_text_tfidf\n",
    "\n",
    "logreg = LogisticRegression()\n",
    "logreg.fit(train_vec_trunc, y_train_trunc)\n",
    "LRprediction = logreg.predict(test_vec_trunc)\n",
    "lr_fbeta_text_tfidf = fbeta_score(y_test_trunc, LRprediction, 0.5)\n",
    "\n",
    "print(\"done\")\n",
    "results_tfidf_text[\"f-beta\"][\"trunc\"][\"lr\"] = lr_fbeta_text_tfidf\n",
    "\n",
    "decision_tree = DecisionTreeClassifier(random_state = 7)\n",
    "decision_tree.fit(train_vec_trunc, y_train_trunc)\n",
    "DTprediction = decision_tree.predict(test_vec_trunc)\n",
    "dt_fbeta_text_tfidf = fbeta_score(y_test_trunc, DTprediction, 0.5)\n",
    "\n",
    "print(\"done\")\n",
    "results_tfidf_text[\"f-beta\"][\"trunc\"][\"dt\"] = dt_fbeta_text_tfidf\n",
    "\n",
    "\n",
    "extra_trees = ExtraTreesClassifier(random_state = 7)\n",
    "extra_trees.fit(train_vec_trunc, y_train_trunc)\n",
    "ETprediction = extra_trees.predict(test_vec_trunc)\n",
    "et_fbeta_text_tfidf = fbeta_score(y_test_trunc, ETprediction, 0.5)\n",
    "\n",
    "print(\"done\")\n",
    "results_tfidf_text[\"f-beta\"][\"trunc\"][\"et\"] = et_fbeta_text_tfidf\n",
    "\n",
    "adaboost = AdaBoostClassifier(base_estimator = decision_tree ,random_state=7)\n",
    "adaboost.fit(train_vec_trunc, y_train_trunc)\n",
    "ABprediction = adaboost.predict(test_vec_trunc)\n",
    "ab_fbeta_text_tfidf = fbeta_score(y_test_trunc, ABprediction, 0.5)\n",
    "\n",
    "print(\"done\")\n",
    "results_tfidf_text[\"f-beta\"][\"trunc\"][\"ab\"] = ab_fbeta_text_tfidf\n",
    "\n",
    "random_forests = RandomForestClassifier(random_state=7)\n",
    "random_forests.fit(train_vec_trunc, y_train_trunc)\n",
    "RFprediction = random_forests.predict(test_vec_trunc)\n",
    "rf_fbeta_text_tfidf = fbeta_score(y_test_trunc, RFprediction, 0.5)\n",
    "\n",
    "print(\"done\")\n",
    "results_tfidf_text[\"f-beta\"][\"trunc\"][\"rf\"] = rf_fbeta_text_tfidf"
   ]
  },
  {
   "cell_type": "code",
   "execution_count": 210,
   "metadata": {
    "hidden": true
   },
   "outputs": [],
   "source": [
    "# np.save(\"results_tfidf_text_comparison.npy\", results_tfidf_text)"
   ]
  },
  {
   "cell_type": "code",
   "execution_count": 25,
   "metadata": {
    "hidden": true
   },
   "outputs": [
    {
     "name": "stdout",
     "output_type": "stream",
     "text": [
      "done\n",
      "done\n",
      "done\n",
      "done\n",
      "done\n",
      "done\n"
     ]
    }
   ],
   "source": [
    "# with src \n",
    "nb = MultinomialNB()\n",
    "nb.fit(train_vec_with_src, y_train_with_src)\n",
    "NBprediction = nb.predict(test_vec_with_src)\n",
    "nb_fbeta_text_tfidf_with_src = fbeta_score(y_test_with_src, NBprediction, 0.5)\n",
    "\n",
    "print(\"done\")\n",
    "results_tfidf_text[\"f-beta\"][\"with_src\"][\"nb\"] = nb_fbeta_text_tfidf_with_src\n",
    "\n",
    "svm = LinearSVC()\n",
    "svm.fit(train_vec_with_src, y_train_with_src)\n",
    "SVMprediction = svm.predict(test_vec_with_src)\n",
    "svm_fbeta_text_tfidf_with_src = fbeta_score(y_test_with_src, SVMprediction, 0.5)\n",
    "\n",
    "\n",
    "print(\"done\")\n",
    "results_tfidf_text[\"f-beta\"][\"with_src\"][\"svm\"] = svm_fbeta_text_tfidf_with_src\n",
    "\n",
    "knn = KNeighborsClassifier()\n",
    "knn.fit(train_vec_with_src, y_train_with_src)\n",
    "KNNprediction = knn.predict(test_vec_with_src)\n",
    "knn_fbeta_text_tfidf_with_src = fbeta_score(y_test_with_src, KNNprediction, 0.5)\n",
    "\n",
    "print(\"done\")\n",
    "results_tfidf_text[\"f-beta\"][\"with_src\"][\"knn\"] = knn_fbeta_text_tfidf_with_src\n",
    "\n",
    "logreg = LogisticRegression()\n",
    "logreg.fit(train_vec_with_src, y_train_with_src)\n",
    "LRprediction = logreg.predict(test_vec_with_src)\n",
    "lr_fbeta_text_tfidf_with_src = fbeta_score(y_test_with_src, LRprediction, 0.5)\n",
    "\n",
    "print(\"done\")\n",
    "results_tfidf_text[\"f-beta\"][\"with_src\"][\"lr\"] = lr_fbeta_text_tfidf_with_src\n",
    "\n",
    "decision_tree = DecisionTreeClassifier(random_state = 7)\n",
    "decision_tree.fit(train_vec_with_src, y_train_with_src)\n",
    "DTprediction = decision_tree.predict(test_vec_with_src)\n",
    "dt_fbeta_text_tfidf_with_src = fbeta_score(y_test_with_src, DTprediction, 0.5)\n",
    "\n",
    "print(\"done\")\n",
    "results_tfidf_text[\"f-beta\"][\"with_src\"][\"dt\"] = dt_fbeta_text_tfidf_with_src\n",
    "\n",
    "extra_trees = ExtraTreesClassifier(random_state = 7)\n",
    "extra_trees.fit(train_vec_with_src, y_train_with_src)\n",
    "ETprediction = extra_trees.predict(test_vec_with_src)\n",
    "et_fbeta_text_tfidf_with_src = fbeta_score(y_test_with_src, ETprediction, 0.5)\n",
    "\n",
    "print(\"done\")\n",
    "results_tfidf_text[\"f-beta\"][\"with_src\"][\"et\"] = et_fbeta_text_tfidf_with_src\n",
    "\n",
    "adaboost = AdaBoostClassifier(base_estimator = decision_tree ,random_state=7)\n",
    "adaboost.fit(train_vec_with_src, y_train_with_src)\n",
    "ABprediction = adaboost.predict(test_vec_with_src)\n",
    "ab_fbeta_text_tfidf_with_src = fbeta_score(y_test_with_src, ABprediction, 0.5)\n",
    "\n",
    "print(\"done\")\n",
    "results_tfidf_text[\"f-beta\"][\"with_src\"][\"ab\"] = ab_fbeta_text_tfidf_with_src\n",
    "\n",
    "random_forests = RandomForestClassifier(random_state=7)\n",
    "random_forests.fit(train_vec_with_src, y_train_with_src)\n",
    "RFprediction = random_forests.predict(test_vec_with_src)\n",
    "rf_fbeta_text_tfidf_with_src = fbeta_score(y_test_with_src, RFprediction, 0.5)\n",
    "\n",
    "print(\"done\")\n",
    "results_tfidf_text[\"f-beta\"][\"with_src\"][\"rf\"] = rf_fbeta_text_tfidf_with_src"
   ]
  },
  {
   "cell_type": "code",
   "execution_count": null,
   "metadata": {
    "hidden": true
   },
   "outputs": [],
   "source": [
    "# np.save(\"results_tfidf_text_comparison.npy\", results_tfidf_text)"
   ]
  }
 ],
 "metadata": {
  "kernelspec": {
   "display_name": "Python 3",
   "language": "python",
   "name": "python3"
  },
  "language_info": {
   "codemirror_mode": {
    "name": "ipython",
    "version": 3
   },
   "file_extension": ".py",
   "mimetype": "text/x-python",
   "name": "python",
   "nbconvert_exporter": "python",
   "pygments_lexer": "ipython3",
   "version": "3.7.6"
  }
 },
 "nbformat": 4,
 "nbformat_minor": 4
}
