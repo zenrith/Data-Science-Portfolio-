{
 "cells": [
  {
   "cell_type": "markdown",
   "id": "f7e26310-32d4-4d35-a273-8e03898f51e7",
   "metadata": {},
   "source": [
    "# Bike Regression\n",
    "\n",
    "This is my 5th and final try at the bike regression ML project. I figured that attempt 4 was too messy, in that the workflows felt too wobbly. To improve from the previous iteration, I sought help online, and the result is that it brought a good amount of structure into my project."
   ]
  },
  {
   "cell_type": "code",
   "execution_count": 1,
   "id": "c7fa18cc-c77d-401d-8bb5-ba0d683fdce7",
   "metadata": {},
   "outputs": [],
   "source": [
    "import pandas as pd \n",
    "import numpy as np\n",
    "import matplotlib.pyplot as plt\n",
    "import seaborn as sns\n",
    "%matplotlib inline\n",
    "\n",
    "# preprocessing\n",
    "from scipy.stats import pearsonr\n",
    "from scipy.stats import pointbiserialr\n",
    "from scipy.stats import chi2_contingency\n",
    "from statsmodels.stats.outliers_influence import variance_inflation_factor\n",
    "from scipy.stats import zscore\n",
    "from sklearn.model_selection import train_test_split\n",
    "from sklearn.preprocessing import StandardScaler\n",
    "from sklearn.preprocessing import OneHotEncoder\n",
    "\n",
    "# metrics\n",
    "from sklearn.metrics import r2_score\n",
    "from sklearn.metrics import mean_squared_log_error\n",
    "from sklearn.model_selection import cross_val_score\n",
    "from sklearn.metrics import mean_squared_error\n",
    "\n",
    "# resampling\n",
    "from sklearn.model_selection import KFold\n",
    "from sklearn.pipeline import Pipeline\n",
    "from sklearn.model_selection import GridSearchCV\n",
    "from sklearn.model_selection import RandomizedSearchCV\n",
    "\n",
    "# models\n",
    "from sklearn.linear_model import LinearRegression\n",
    "from sklearn.linear_model import Lasso, LassoCV\n",
    "from sklearn.ensemble import RandomForestRegressor\n",
    "from sklearn.tree import DecisionTreeRegressor\n",
    "from sklearn.neighbors import KNeighborsRegressor\n",
    "from sklearn.ensemble import AdaBoostRegressor\n",
    "from xgboost import XGBRegressor\n",
    "\n",
    "import pickle"
   ]
  },
  {
   "cell_type": "markdown",
   "id": "030d925b-0c43-46aa-9f84-202b07db9b17",
   "metadata": {},
   "source": [
    "#### 1. Load Data"
   ]
  },
  {
   "cell_type": "code",
   "execution_count": 2,
   "id": "621a4fda-48fd-434a-be21-dc7e47a1ba96",
   "metadata": {},
   "outputs": [],
   "source": [
    "train = pd.read_csv('train.csv')\n",
    "test = pd.read_csv('test.csv')"
   ]
  },
  {
   "cell_type": "markdown",
   "id": "95aa080c-23cc-430a-a67f-6e9215d2aedf",
   "metadata": {},
   "source": [
    "#### 2. Explore Data\n",
    "- Descriptive statistics\n",
    "- Data cleaning \n",
    "- Feature engineering\n",
    "- Data visualizations"
   ]
  },
  {
   "cell_type": "code",
   "execution_count": 3,
   "id": "f09ea857-bb59-48df-bffe-ddb7c6494320",
   "metadata": {},
   "outputs": [
    {
     "name": "stdout",
     "output_type": "stream",
     "text": [
      "train duplicated: 0\n",
      "test duplicated: 0\n",
      "train nulls: 0\n",
      "test nulls: 0\n"
     ]
    }
   ],
   "source": [
    "# verify no duplicate / nulls\n",
    "print(\"train duplicated: {}\".format(train.duplicated().sum()))\n",
    "print(\"test duplicated: {}\".format(test.duplicated().sum()))\n",
    "print(\"train nulls: {}\".format(train.isnull().any().sum()))\n",
    "print(\"test nulls: {}\".format(test.isnull().any().sum()))"
   ]
  },
  {
   "cell_type": "code",
   "execution_count": 4,
   "id": "9da3aa43-c648-4c17-b1b5-0155acd35f48",
   "metadata": {},
   "outputs": [
    {
     "name": "stdout",
     "output_type": "stream",
     "text": [
      "<class 'pandas.core.frame.DataFrame'>\n",
      "RangeIndex: 10886 entries, 0 to 10885\n",
      "Data columns (total 12 columns):\n",
      " #   Column      Non-Null Count  Dtype  \n",
      "---  ------      --------------  -----  \n",
      " 0   datetime    10886 non-null  object \n",
      " 1   season      10886 non-null  int64  \n",
      " 2   holiday     10886 non-null  int64  \n",
      " 3   workingday  10886 non-null  int64  \n",
      " 4   weather     10886 non-null  int64  \n",
      " 5   temp        10886 non-null  float64\n",
      " 6   atemp       10886 non-null  float64\n",
      " 7   humidity    10886 non-null  int64  \n",
      " 8   windspeed   10886 non-null  float64\n",
      " 9   casual      10886 non-null  int64  \n",
      " 10  registered  10886 non-null  int64  \n",
      " 11  count       10886 non-null  int64  \n",
      "dtypes: float64(3), int64(8), object(1)\n",
      "memory usage: 1020.7+ KB\n"
     ]
    }
   ],
   "source": [
    "# basic information\n",
    "train.info()"
   ]
  },
  {
   "cell_type": "code",
   "execution_count": 5,
   "id": "4d431dcb-35d9-4d87-9d24-4baf6ff17bc8",
   "metadata": {},
   "outputs": [
    {
     "data": {
      "text/html": [
       "<div>\n",
       "<style scoped>\n",
       "    .dataframe tbody tr th:only-of-type {\n",
       "        vertical-align: middle;\n",
       "    }\n",
       "\n",
       "    .dataframe tbody tr th {\n",
       "        vertical-align: top;\n",
       "    }\n",
       "\n",
       "    .dataframe thead th {\n",
       "        text-align: right;\n",
       "    }\n",
       "</style>\n",
       "<table border=\"1\" class=\"dataframe\">\n",
       "  <thead>\n",
       "    <tr style=\"text-align: right;\">\n",
       "      <th></th>\n",
       "      <th>datetime</th>\n",
       "      <th>season</th>\n",
       "      <th>holiday</th>\n",
       "      <th>workingday</th>\n",
       "      <th>weather</th>\n",
       "      <th>temp</th>\n",
       "      <th>atemp</th>\n",
       "      <th>humidity</th>\n",
       "      <th>windspeed</th>\n",
       "      <th>casual</th>\n",
       "      <th>registered</th>\n",
       "      <th>count</th>\n",
       "    </tr>\n",
       "  </thead>\n",
       "  <tbody>\n",
       "    <tr>\n",
       "      <th>0</th>\n",
       "      <td>2011-01-01 00:00:00</td>\n",
       "      <td>1</td>\n",
       "      <td>0</td>\n",
       "      <td>0</td>\n",
       "      <td>1</td>\n",
       "      <td>9.84</td>\n",
       "      <td>14.395</td>\n",
       "      <td>81</td>\n",
       "      <td>0.0</td>\n",
       "      <td>3</td>\n",
       "      <td>13</td>\n",
       "      <td>16</td>\n",
       "    </tr>\n",
       "    <tr>\n",
       "      <th>1</th>\n",
       "      <td>2011-01-01 01:00:00</td>\n",
       "      <td>1</td>\n",
       "      <td>0</td>\n",
       "      <td>0</td>\n",
       "      <td>1</td>\n",
       "      <td>9.02</td>\n",
       "      <td>13.635</td>\n",
       "      <td>80</td>\n",
       "      <td>0.0</td>\n",
       "      <td>8</td>\n",
       "      <td>32</td>\n",
       "      <td>40</td>\n",
       "    </tr>\n",
       "    <tr>\n",
       "      <th>2</th>\n",
       "      <td>2011-01-01 02:00:00</td>\n",
       "      <td>1</td>\n",
       "      <td>0</td>\n",
       "      <td>0</td>\n",
       "      <td>1</td>\n",
       "      <td>9.02</td>\n",
       "      <td>13.635</td>\n",
       "      <td>80</td>\n",
       "      <td>0.0</td>\n",
       "      <td>5</td>\n",
       "      <td>27</td>\n",
       "      <td>32</td>\n",
       "    </tr>\n",
       "    <tr>\n",
       "      <th>3</th>\n",
       "      <td>2011-01-01 03:00:00</td>\n",
       "      <td>1</td>\n",
       "      <td>0</td>\n",
       "      <td>0</td>\n",
       "      <td>1</td>\n",
       "      <td>9.84</td>\n",
       "      <td>14.395</td>\n",
       "      <td>75</td>\n",
       "      <td>0.0</td>\n",
       "      <td>3</td>\n",
       "      <td>10</td>\n",
       "      <td>13</td>\n",
       "    </tr>\n",
       "    <tr>\n",
       "      <th>4</th>\n",
       "      <td>2011-01-01 04:00:00</td>\n",
       "      <td>1</td>\n",
       "      <td>0</td>\n",
       "      <td>0</td>\n",
       "      <td>1</td>\n",
       "      <td>9.84</td>\n",
       "      <td>14.395</td>\n",
       "      <td>75</td>\n",
       "      <td>0.0</td>\n",
       "      <td>0</td>\n",
       "      <td>1</td>\n",
       "      <td>1</td>\n",
       "    </tr>\n",
       "  </tbody>\n",
       "</table>\n",
       "</div>"
      ],
      "text/plain": [
       "              datetime  season  holiday  workingday  weather  temp   atemp  \\\n",
       "0  2011-01-01 00:00:00       1        0           0        1  9.84  14.395   \n",
       "1  2011-01-01 01:00:00       1        0           0        1  9.02  13.635   \n",
       "2  2011-01-01 02:00:00       1        0           0        1  9.02  13.635   \n",
       "3  2011-01-01 03:00:00       1        0           0        1  9.84  14.395   \n",
       "4  2011-01-01 04:00:00       1        0           0        1  9.84  14.395   \n",
       "\n",
       "   humidity  windspeed  casual  registered  count  \n",
       "0        81        0.0       3          13     16  \n",
       "1        80        0.0       8          32     40  \n",
       "2        80        0.0       5          27     32  \n",
       "3        75        0.0       3          10     13  \n",
       "4        75        0.0       0           1      1  "
      ]
     },
     "execution_count": 5,
     "metadata": {},
     "output_type": "execute_result"
    }
   ],
   "source": [
    "train.head()"
   ]
  },
  {
   "cell_type": "code",
   "execution_count": 6,
   "id": "6ec86e95-ee98-48f8-a303-572fc09fe551",
   "metadata": {},
   "outputs": [
    {
     "data": {
      "text/html": [
       "<div>\n",
       "<style scoped>\n",
       "    .dataframe tbody tr th:only-of-type {\n",
       "        vertical-align: middle;\n",
       "    }\n",
       "\n",
       "    .dataframe tbody tr th {\n",
       "        vertical-align: top;\n",
       "    }\n",
       "\n",
       "    .dataframe thead th {\n",
       "        text-align: right;\n",
       "    }\n",
       "</style>\n",
       "<table border=\"1\" class=\"dataframe\">\n",
       "  <thead>\n",
       "    <tr style=\"text-align: right;\">\n",
       "      <th></th>\n",
       "      <th>season</th>\n",
       "      <th>holiday</th>\n",
       "      <th>workingday</th>\n",
       "      <th>weather</th>\n",
       "      <th>temp</th>\n",
       "      <th>atemp</th>\n",
       "      <th>humidity</th>\n",
       "      <th>windspeed</th>\n",
       "      <th>casual</th>\n",
       "      <th>registered</th>\n",
       "      <th>count</th>\n",
       "    </tr>\n",
       "  </thead>\n",
       "  <tbody>\n",
       "    <tr>\n",
       "      <th>count</th>\n",
       "      <td>10886.000000</td>\n",
       "      <td>10886.000000</td>\n",
       "      <td>10886.000000</td>\n",
       "      <td>10886.000000</td>\n",
       "      <td>10886.00000</td>\n",
       "      <td>10886.000000</td>\n",
       "      <td>10886.000000</td>\n",
       "      <td>10886.000000</td>\n",
       "      <td>10886.000000</td>\n",
       "      <td>10886.000000</td>\n",
       "      <td>10886.000000</td>\n",
       "    </tr>\n",
       "    <tr>\n",
       "      <th>mean</th>\n",
       "      <td>2.506614</td>\n",
       "      <td>0.028569</td>\n",
       "      <td>0.680875</td>\n",
       "      <td>1.418427</td>\n",
       "      <td>20.23086</td>\n",
       "      <td>23.655084</td>\n",
       "      <td>61.886460</td>\n",
       "      <td>12.799395</td>\n",
       "      <td>36.021955</td>\n",
       "      <td>155.552177</td>\n",
       "      <td>191.574132</td>\n",
       "    </tr>\n",
       "    <tr>\n",
       "      <th>std</th>\n",
       "      <td>1.116174</td>\n",
       "      <td>0.166599</td>\n",
       "      <td>0.466159</td>\n",
       "      <td>0.633839</td>\n",
       "      <td>7.79159</td>\n",
       "      <td>8.474601</td>\n",
       "      <td>19.245033</td>\n",
       "      <td>8.164537</td>\n",
       "      <td>49.960477</td>\n",
       "      <td>151.039033</td>\n",
       "      <td>181.144454</td>\n",
       "    </tr>\n",
       "    <tr>\n",
       "      <th>min</th>\n",
       "      <td>1.000000</td>\n",
       "      <td>0.000000</td>\n",
       "      <td>0.000000</td>\n",
       "      <td>1.000000</td>\n",
       "      <td>0.82000</td>\n",
       "      <td>0.760000</td>\n",
       "      <td>0.000000</td>\n",
       "      <td>0.000000</td>\n",
       "      <td>0.000000</td>\n",
       "      <td>0.000000</td>\n",
       "      <td>1.000000</td>\n",
       "    </tr>\n",
       "    <tr>\n",
       "      <th>25%</th>\n",
       "      <td>2.000000</td>\n",
       "      <td>0.000000</td>\n",
       "      <td>0.000000</td>\n",
       "      <td>1.000000</td>\n",
       "      <td>13.94000</td>\n",
       "      <td>16.665000</td>\n",
       "      <td>47.000000</td>\n",
       "      <td>7.001500</td>\n",
       "      <td>4.000000</td>\n",
       "      <td>36.000000</td>\n",
       "      <td>42.000000</td>\n",
       "    </tr>\n",
       "    <tr>\n",
       "      <th>50%</th>\n",
       "      <td>3.000000</td>\n",
       "      <td>0.000000</td>\n",
       "      <td>1.000000</td>\n",
       "      <td>1.000000</td>\n",
       "      <td>20.50000</td>\n",
       "      <td>24.240000</td>\n",
       "      <td>62.000000</td>\n",
       "      <td>12.998000</td>\n",
       "      <td>17.000000</td>\n",
       "      <td>118.000000</td>\n",
       "      <td>145.000000</td>\n",
       "    </tr>\n",
       "    <tr>\n",
       "      <th>75%</th>\n",
       "      <td>4.000000</td>\n",
       "      <td>0.000000</td>\n",
       "      <td>1.000000</td>\n",
       "      <td>2.000000</td>\n",
       "      <td>26.24000</td>\n",
       "      <td>31.060000</td>\n",
       "      <td>77.000000</td>\n",
       "      <td>16.997900</td>\n",
       "      <td>49.000000</td>\n",
       "      <td>222.000000</td>\n",
       "      <td>284.000000</td>\n",
       "    </tr>\n",
       "    <tr>\n",
       "      <th>max</th>\n",
       "      <td>4.000000</td>\n",
       "      <td>1.000000</td>\n",
       "      <td>1.000000</td>\n",
       "      <td>4.000000</td>\n",
       "      <td>41.00000</td>\n",
       "      <td>45.455000</td>\n",
       "      <td>100.000000</td>\n",
       "      <td>56.996900</td>\n",
       "      <td>367.000000</td>\n",
       "      <td>886.000000</td>\n",
       "      <td>977.000000</td>\n",
       "    </tr>\n",
       "  </tbody>\n",
       "</table>\n",
       "</div>"
      ],
      "text/plain": [
       "             season       holiday    workingday       weather         temp  \\\n",
       "count  10886.000000  10886.000000  10886.000000  10886.000000  10886.00000   \n",
       "mean       2.506614      0.028569      0.680875      1.418427     20.23086   \n",
       "std        1.116174      0.166599      0.466159      0.633839      7.79159   \n",
       "min        1.000000      0.000000      0.000000      1.000000      0.82000   \n",
       "25%        2.000000      0.000000      0.000000      1.000000     13.94000   \n",
       "50%        3.000000      0.000000      1.000000      1.000000     20.50000   \n",
       "75%        4.000000      0.000000      1.000000      2.000000     26.24000   \n",
       "max        4.000000      1.000000      1.000000      4.000000     41.00000   \n",
       "\n",
       "              atemp      humidity     windspeed        casual    registered  \\\n",
       "count  10886.000000  10886.000000  10886.000000  10886.000000  10886.000000   \n",
       "mean      23.655084     61.886460     12.799395     36.021955    155.552177   \n",
       "std        8.474601     19.245033      8.164537     49.960477    151.039033   \n",
       "min        0.760000      0.000000      0.000000      0.000000      0.000000   \n",
       "25%       16.665000     47.000000      7.001500      4.000000     36.000000   \n",
       "50%       24.240000     62.000000     12.998000     17.000000    118.000000   \n",
       "75%       31.060000     77.000000     16.997900     49.000000    222.000000   \n",
       "max       45.455000    100.000000     56.996900    367.000000    886.000000   \n",
       "\n",
       "              count  \n",
       "count  10886.000000  \n",
       "mean     191.574132  \n",
       "std      181.144454  \n",
       "min        1.000000  \n",
       "25%       42.000000  \n",
       "50%      145.000000  \n",
       "75%      284.000000  \n",
       "max      977.000000  "
      ]
     },
     "execution_count": 6,
     "metadata": {},
     "output_type": "execute_result"
    }
   ],
   "source": [
    "train.describe()"
   ]
  },
  {
   "cell_type": "code",
   "execution_count": 7,
   "id": "948da34c-dfe2-4141-a440-a9e9081474ae",
   "metadata": {},
   "outputs": [],
   "source": [
    "def plot_boxplots(data):\n",
    "    nrows = (len(data.columns) // 4) + 1\n",
    "    plt.figure(figsize=(25, nrows * 5))\n",
    "    sns.set(font_scale = 1)\n",
    "    columns = data.columns\n",
    "    for i in range(len(columns)):\n",
    "        plt.subplot(nrows, 4, i+1)\n",
    "        sns.boxplot(y = data[columns[i]])  \n",
    "        \n",
    "def plot_histograms(data):\n",
    "    nrows = (len(data.columns) // 4) + 1\n",
    "    plt.figure(figsize=(25, nrows * 5))\n",
    "    sns.set(font_scale = 1)\n",
    "    columns = data.columns\n",
    "    for i in range(len(columns)):\n",
    "        plt.subplot(nrows, 4, i+1)\n",
    "        sns.histplot(x = data[columns[i]])  "
   ]
  },
  {
   "cell_type": "code",
   "execution_count": 8,
   "id": "cdf4dee5-9f5e-4822-8927-cc319ebb5925",
   "metadata": {},
   "outputs": [],
   "source": [
    "def datetime_breakdown(data, column_name):\n",
    "    df = data.copy()\n",
    "    df[column_name] = df[column_name].apply(pd.to_datetime, format = '%Y-%m-%d')\n",
    "    df[column_name + '_year'] = df[column_name].dt.year\n",
    "    df[column_name + '_month'] = df[column_name].dt.month\n",
    "    df[column_name + '_day'] = df[column_name].dt.day\n",
    "    df[column_name + '_hour'] = df[column_name].dt.hour\n",
    "    return df.drop(column_name, axis = 1)"
   ]
  },
  {
   "cell_type": "code",
   "execution_count": 9,
   "id": "aa85ad85-1d77-412a-afa9-ac616fc67e4b",
   "metadata": {},
   "outputs": [],
   "source": [
    "# assumes that datetime starts from 0 to max_datetime - 1. eg. hour ranges from 0 to 23, not 1 to 24\n",
    "# only works properly for month, day, hour\n",
    "\n",
    "def cyclic_datetime(data, column_name, datetime_type):\n",
    "    df = data.copy()\n",
    "    divided_by = 0\n",
    "    if datetime_type == 'hour':\n",
    "        divided_by = 24\n",
    "        df['sin_' + column_name] = np.sin(df[column_name] * (2 * np.pi / divided_by)) # no need to -1 since min hour = 0\n",
    "        df['cos_' + column_name] = np.cos(df[column_name] * (2 * np.pi / divided_by))\n",
    "    else:\n",
    "        if datetime_type == 'month':\n",
    "            divided_by = 12\n",
    "        if datetime_type == 'day': \n",
    "            divided_by = 30\n",
    "        df['sin_' + column_name] = np.sin((df[column_name] - 1) * (2 * np.pi / divided_by)) # -1 since min day / min month = 1\n",
    "        df['cos_' + column_name] = np.cos((df[column_name] - 1) * (2 * np.pi / divided_by))\n",
    "    df = df.drop(column_name, axis = 1)\n",
    "    return df"
   ]
  },
  {
   "cell_type": "code",
   "execution_count": 10,
   "id": "59d073e2-8fbb-49c1-9b0a-a7751abfd24a",
   "metadata": {},
   "outputs": [],
   "source": [
    "train = datetime_breakdown(train, 'datetime')"
   ]
  },
  {
   "cell_type": "code",
   "execution_count": 11,
   "id": "d702a968-456b-4369-b342-f18964f647e7",
   "metadata": {
    "tags": []
   },
   "outputs": [],
   "source": [
    "times = ['datetime_month', 'datetime_hour', 'datetime_day']\n",
    "datetime_type = ['month', 'hour', 'day']\n",
    "train_after_date = train.copy()\n",
    "for i in range(0, len(times)):\n",
    "    train_after_date = cyclic_datetime(train_after_date, times[i], datetime_type[i])"
   ]
  },
  {
   "cell_type": "code",
   "execution_count": 12,
   "id": "5db949d1-0cfe-46e7-8591-d099fbd6a426",
   "metadata": {},
   "outputs": [
    {
     "data": {
      "text/plain": [
       "Index(['season', 'holiday', 'workingday', 'weather', 'temp', 'atemp',\n",
       "       'humidity', 'windspeed', 'casual', 'registered', 'count',\n",
       "       'datetime_year', 'sin_datetime_month', 'cos_datetime_month',\n",
       "       'sin_datetime_hour', 'cos_datetime_hour', 'sin_datetime_day',\n",
       "       'cos_datetime_day'],\n",
       "      dtype='object')"
      ]
     },
     "execution_count": 12,
     "metadata": {},
     "output_type": "execute_result"
    }
   ],
   "source": [
    "train_after_date.columns"
   ]
  },
  {
   "cell_type": "code",
   "execution_count": 13,
   "id": "e31d8882-54d4-4eb3-b224-4cc0154983f8",
   "metadata": {},
   "outputs": [],
   "source": [
    "# drop registered and casual since they add up to count\n",
    "continuous_variables = ['temp', 'atemp', 'humidity', 'windspeed', 'sin_datetime_month',\n",
    "                        'cos_datetime_month', 'sin_datetime_hour', 'cos_datetime_hour', \n",
    "                        'sin_datetime_day', 'cos_datetime_day', 'count']\n",
    "categorical_variables = ['season', 'holiday', 'workingday', 'weather', 'datetime_year']"
   ]
  },
  {
   "cell_type": "code",
   "execution_count": 14,
   "id": "fab3fbf9-9034-432b-8483-712c5ef1d86a",
   "metadata": {},
   "outputs": [],
   "source": [
    "train_after_date = train_after_date[continuous_variables + categorical_variables]"
   ]
  },
  {
   "cell_type": "code",
   "execution_count": 15,
   "id": "dd5c4042-a630-4d7a-a617-dcfe67c83f3e",
   "metadata": {},
   "outputs": [
    {
     "data": {
      "text/html": [
       "<div>\n",
       "<style scoped>\n",
       "    .dataframe tbody tr th:only-of-type {\n",
       "        vertical-align: middle;\n",
       "    }\n",
       "\n",
       "    .dataframe tbody tr th {\n",
       "        vertical-align: top;\n",
       "    }\n",
       "\n",
       "    .dataframe thead th {\n",
       "        text-align: right;\n",
       "    }\n",
       "</style>\n",
       "<table border=\"1\" class=\"dataframe\">\n",
       "  <thead>\n",
       "    <tr style=\"text-align: right;\">\n",
       "      <th></th>\n",
       "      <th>temp</th>\n",
       "      <th>atemp</th>\n",
       "      <th>humidity</th>\n",
       "      <th>windspeed</th>\n",
       "      <th>sin_datetime_month</th>\n",
       "      <th>cos_datetime_month</th>\n",
       "      <th>sin_datetime_hour</th>\n",
       "      <th>cos_datetime_hour</th>\n",
       "      <th>sin_datetime_day</th>\n",
       "      <th>cos_datetime_day</th>\n",
       "      <th>count</th>\n",
       "      <th>season</th>\n",
       "      <th>holiday</th>\n",
       "      <th>workingday</th>\n",
       "      <th>weather</th>\n",
       "      <th>datetime_year</th>\n",
       "    </tr>\n",
       "  </thead>\n",
       "  <tbody>\n",
       "    <tr>\n",
       "      <th>0</th>\n",
       "      <td>9.84</td>\n",
       "      <td>14.395</td>\n",
       "      <td>81</td>\n",
       "      <td>0.0</td>\n",
       "      <td>0.0</td>\n",
       "      <td>1.0</td>\n",
       "      <td>0.000000</td>\n",
       "      <td>1.000000</td>\n",
       "      <td>0.0</td>\n",
       "      <td>1.0</td>\n",
       "      <td>16</td>\n",
       "      <td>1</td>\n",
       "      <td>0</td>\n",
       "      <td>0</td>\n",
       "      <td>1</td>\n",
       "      <td>2011</td>\n",
       "    </tr>\n",
       "    <tr>\n",
       "      <th>1</th>\n",
       "      <td>9.02</td>\n",
       "      <td>13.635</td>\n",
       "      <td>80</td>\n",
       "      <td>0.0</td>\n",
       "      <td>0.0</td>\n",
       "      <td>1.0</td>\n",
       "      <td>0.258819</td>\n",
       "      <td>0.965926</td>\n",
       "      <td>0.0</td>\n",
       "      <td>1.0</td>\n",
       "      <td>40</td>\n",
       "      <td>1</td>\n",
       "      <td>0</td>\n",
       "      <td>0</td>\n",
       "      <td>1</td>\n",
       "      <td>2011</td>\n",
       "    </tr>\n",
       "    <tr>\n",
       "      <th>2</th>\n",
       "      <td>9.02</td>\n",
       "      <td>13.635</td>\n",
       "      <td>80</td>\n",
       "      <td>0.0</td>\n",
       "      <td>0.0</td>\n",
       "      <td>1.0</td>\n",
       "      <td>0.500000</td>\n",
       "      <td>0.866025</td>\n",
       "      <td>0.0</td>\n",
       "      <td>1.0</td>\n",
       "      <td>32</td>\n",
       "      <td>1</td>\n",
       "      <td>0</td>\n",
       "      <td>0</td>\n",
       "      <td>1</td>\n",
       "      <td>2011</td>\n",
       "    </tr>\n",
       "    <tr>\n",
       "      <th>3</th>\n",
       "      <td>9.84</td>\n",
       "      <td>14.395</td>\n",
       "      <td>75</td>\n",
       "      <td>0.0</td>\n",
       "      <td>0.0</td>\n",
       "      <td>1.0</td>\n",
       "      <td>0.707107</td>\n",
       "      <td>0.707107</td>\n",
       "      <td>0.0</td>\n",
       "      <td>1.0</td>\n",
       "      <td>13</td>\n",
       "      <td>1</td>\n",
       "      <td>0</td>\n",
       "      <td>0</td>\n",
       "      <td>1</td>\n",
       "      <td>2011</td>\n",
       "    </tr>\n",
       "    <tr>\n",
       "      <th>4</th>\n",
       "      <td>9.84</td>\n",
       "      <td>14.395</td>\n",
       "      <td>75</td>\n",
       "      <td>0.0</td>\n",
       "      <td>0.0</td>\n",
       "      <td>1.0</td>\n",
       "      <td>0.866025</td>\n",
       "      <td>0.500000</td>\n",
       "      <td>0.0</td>\n",
       "      <td>1.0</td>\n",
       "      <td>1</td>\n",
       "      <td>1</td>\n",
       "      <td>0</td>\n",
       "      <td>0</td>\n",
       "      <td>1</td>\n",
       "      <td>2011</td>\n",
       "    </tr>\n",
       "  </tbody>\n",
       "</table>\n",
       "</div>"
      ],
      "text/plain": [
       "   temp   atemp  humidity  windspeed  sin_datetime_month  cos_datetime_month  \\\n",
       "0  9.84  14.395        81        0.0                 0.0                 1.0   \n",
       "1  9.02  13.635        80        0.0                 0.0                 1.0   \n",
       "2  9.02  13.635        80        0.0                 0.0                 1.0   \n",
       "3  9.84  14.395        75        0.0                 0.0                 1.0   \n",
       "4  9.84  14.395        75        0.0                 0.0                 1.0   \n",
       "\n",
       "   sin_datetime_hour  cos_datetime_hour  sin_datetime_day  cos_datetime_day  \\\n",
       "0           0.000000           1.000000               0.0               1.0   \n",
       "1           0.258819           0.965926               0.0               1.0   \n",
       "2           0.500000           0.866025               0.0               1.0   \n",
       "3           0.707107           0.707107               0.0               1.0   \n",
       "4           0.866025           0.500000               0.0               1.0   \n",
       "\n",
       "   count  season  holiday  workingday  weather  datetime_year  \n",
       "0     16       1        0           0        1           2011  \n",
       "1     40       1        0           0        1           2011  \n",
       "2     32       1        0           0        1           2011  \n",
       "3     13       1        0           0        1           2011  \n",
       "4      1       1        0           0        1           2011  "
      ]
     },
     "execution_count": 15,
     "metadata": {},
     "output_type": "execute_result"
    }
   ],
   "source": [
    "train_after_date.head()"
   ]
  },
  {
   "cell_type": "code",
   "execution_count": 16,
   "id": "32595550-8d4f-45cb-8f65-b345491d072e",
   "metadata": {},
   "outputs": [],
   "source": [
    "train_continuous = train_after_date[continuous_variables]"
   ]
  },
  {
   "cell_type": "code",
   "execution_count": 17,
   "id": "0eb739df-4072-4d86-9f11-b3413e8e187f",
   "metadata": {},
   "outputs": [
    {
     "data": {
      "image/png": "[encoded data removed]",
      "text/plain": [
       "<Figure size 1800x1080 with 11 Axes>"
      ]
     },
     "metadata": {
      "needs_background": "light"
     },
     "output_type": "display_data"
    }
   ],
   "source": [
    "plot_boxplots(train_continuous)\n",
    "\n",
    "# windspeed and cnt have numerous univariate outliers "
   ]
  },
  {
   "cell_type": "code",
   "execution_count": 18,
   "id": "ea351639-2842-4fda-b4dd-c08dbcb1074a",
   "metadata": {},
   "outputs": [
    {
     "data": {
      "image/png": "[encoded data removed]",
      "text/plain": [
       "<Figure size 1800x1080 with 11 Axes>"
      ]
     },
     "metadata": {},
     "output_type": "display_data"
    }
   ],
   "source": [
    "plot_histograms(train_continuous)"
   ]
  },
  {
   "cell_type": "markdown",
   "id": "6bf8d21a-9f6e-4a19-96da-6b15d33fa6a1",
   "metadata": {},
   "source": [
    "Observations:\n",
    "- Boxplot:\n",
    "    - windspeed and count have many outliers \n",
    "    - humidity = 0? \n",
    "- Histograms:\n",
    "    - windspeed and count are quite skewed"
   ]
  },
  {
   "cell_type": "code",
   "execution_count": 19,
   "id": "79195e85-6462-4dcf-809e-faca0ec2ec42",
   "metadata": {},
   "outputs": [],
   "source": [
    "X_train_continuous = train_after_date[continuous_variables].drop('count', axis = 1)\n",
    "y_train = train_after_date[['count']]"
   ]
  },
  {
   "cell_type": "code",
   "execution_count": 20,
   "id": "4ddead4f-dbe5-4133-94d9-b5f61ed99cfd",
   "metadata": {},
   "outputs": [],
   "source": [
    "# encode categorical variables \n",
    "train_encoded = pd.concat([X_train_continuous, \n",
    "                          pd.get_dummies(train_after_date[categorical_variables].astype('category'), drop_first = True), \n",
    "                          y_train], axis = 1)"
   ]
  },
  {
   "cell_type": "code",
   "execution_count": 21,
   "id": "6851b555-b510-4973-9a07-44c064db36f3",
   "metadata": {},
   "outputs": [
    {
     "data": {
      "text/html": [
       "<div>\n",
       "<style scoped>\n",
       "    .dataframe tbody tr th:only-of-type {\n",
       "        vertical-align: middle;\n",
       "    }\n",
       "\n",
       "    .dataframe tbody tr th {\n",
       "        vertical-align: top;\n",
       "    }\n",
       "\n",
       "    .dataframe thead th {\n",
       "        text-align: right;\n",
       "    }\n",
       "</style>\n",
       "<table border=\"1\" class=\"dataframe\">\n",
       "  <thead>\n",
       "    <tr style=\"text-align: right;\">\n",
       "      <th></th>\n",
       "      <th>temp</th>\n",
       "      <th>atemp</th>\n",
       "      <th>humidity</th>\n",
       "      <th>windspeed</th>\n",
       "      <th>sin_datetime_month</th>\n",
       "      <th>cos_datetime_month</th>\n",
       "      <th>sin_datetime_hour</th>\n",
       "      <th>cos_datetime_hour</th>\n",
       "      <th>sin_datetime_day</th>\n",
       "      <th>cos_datetime_day</th>\n",
       "      <th>season_2</th>\n",
       "      <th>season_3</th>\n",
       "      <th>season_4</th>\n",
       "      <th>holiday_1</th>\n",
       "      <th>workingday_1</th>\n",
       "      <th>weather_2</th>\n",
       "      <th>weather_3</th>\n",
       "      <th>weather_4</th>\n",
       "      <th>datetime_year_2012</th>\n",
       "      <th>count</th>\n",
       "    </tr>\n",
       "  </thead>\n",
       "  <tbody>\n",
       "    <tr>\n",
       "      <th>0</th>\n",
       "      <td>9.84</td>\n",
       "      <td>14.395</td>\n",
       "      <td>81</td>\n",
       "      <td>0.0</td>\n",
       "      <td>0.0</td>\n",
       "      <td>1.0</td>\n",
       "      <td>0.000000</td>\n",
       "      <td>1.000000</td>\n",
       "      <td>0.0</td>\n",
       "      <td>1.0</td>\n",
       "      <td>0</td>\n",
       "      <td>0</td>\n",
       "      <td>0</td>\n",
       "      <td>0</td>\n",
       "      <td>0</td>\n",
       "      <td>0</td>\n",
       "      <td>0</td>\n",
       "      <td>0</td>\n",
       "      <td>0</td>\n",
       "      <td>16</td>\n",
       "    </tr>\n",
       "    <tr>\n",
       "      <th>1</th>\n",
       "      <td>9.02</td>\n",
       "      <td>13.635</td>\n",
       "      <td>80</td>\n",
       "      <td>0.0</td>\n",
       "      <td>0.0</td>\n",
       "      <td>1.0</td>\n",
       "      <td>0.258819</td>\n",
       "      <td>0.965926</td>\n",
       "      <td>0.0</td>\n",
       "      <td>1.0</td>\n",
       "      <td>0</td>\n",
       "      <td>0</td>\n",
       "      <td>0</td>\n",
       "      <td>0</td>\n",
       "      <td>0</td>\n",
       "      <td>0</td>\n",
       "      <td>0</td>\n",
       "      <td>0</td>\n",
       "      <td>0</td>\n",
       "      <td>40</td>\n",
       "    </tr>\n",
       "    <tr>\n",
       "      <th>2</th>\n",
       "      <td>9.02</td>\n",
       "      <td>13.635</td>\n",
       "      <td>80</td>\n",
       "      <td>0.0</td>\n",
       "      <td>0.0</td>\n",
       "      <td>1.0</td>\n",
       "      <td>0.500000</td>\n",
       "      <td>0.866025</td>\n",
       "      <td>0.0</td>\n",
       "      <td>1.0</td>\n",
       "      <td>0</td>\n",
       "      <td>0</td>\n",
       "      <td>0</td>\n",
       "      <td>0</td>\n",
       "      <td>0</td>\n",
       "      <td>0</td>\n",
       "      <td>0</td>\n",
       "      <td>0</td>\n",
       "      <td>0</td>\n",
       "      <td>32</td>\n",
       "    </tr>\n",
       "    <tr>\n",
       "      <th>3</th>\n",
       "      <td>9.84</td>\n",
       "      <td>14.395</td>\n",
       "      <td>75</td>\n",
       "      <td>0.0</td>\n",
       "      <td>0.0</td>\n",
       "      <td>1.0</td>\n",
       "      <td>0.707107</td>\n",
       "      <td>0.707107</td>\n",
       "      <td>0.0</td>\n",
       "      <td>1.0</td>\n",
       "      <td>0</td>\n",
       "      <td>0</td>\n",
       "      <td>0</td>\n",
       "      <td>0</td>\n",
       "      <td>0</td>\n",
       "      <td>0</td>\n",
       "      <td>0</td>\n",
       "      <td>0</td>\n",
       "      <td>0</td>\n",
       "      <td>13</td>\n",
       "    </tr>\n",
       "    <tr>\n",
       "      <th>4</th>\n",
       "      <td>9.84</td>\n",
       "      <td>14.395</td>\n",
       "      <td>75</td>\n",
       "      <td>0.0</td>\n",
       "      <td>0.0</td>\n",
       "      <td>1.0</td>\n",
       "      <td>0.866025</td>\n",
       "      <td>0.500000</td>\n",
       "      <td>0.0</td>\n",
       "      <td>1.0</td>\n",
       "      <td>0</td>\n",
       "      <td>0</td>\n",
       "      <td>0</td>\n",
       "      <td>0</td>\n",
       "      <td>0</td>\n",
       "      <td>0</td>\n",
       "      <td>0</td>\n",
       "      <td>0</td>\n",
       "      <td>0</td>\n",
       "      <td>1</td>\n",
       "    </tr>\n",
       "  </tbody>\n",
       "</table>\n",
       "</div>"
      ],
      "text/plain": [
       "   temp   atemp  humidity  windspeed  sin_datetime_month  cos_datetime_month  \\\n",
       "0  9.84  14.395        81        0.0                 0.0                 1.0   \n",
       "1  9.02  13.635        80        0.0                 0.0                 1.0   \n",
       "2  9.02  13.635        80        0.0                 0.0                 1.0   \n",
       "3  9.84  14.395        75        0.0                 0.0                 1.0   \n",
       "4  9.84  14.395        75        0.0                 0.0                 1.0   \n",
       "\n",
       "   sin_datetime_hour  cos_datetime_hour  sin_datetime_day  cos_datetime_day  \\\n",
       "0           0.000000           1.000000               0.0               1.0   \n",
       "1           0.258819           0.965926               0.0               1.0   \n",
       "2           0.500000           0.866025               0.0               1.0   \n",
       "3           0.707107           0.707107               0.0               1.0   \n",
       "4           0.866025           0.500000               0.0               1.0   \n",
       "\n",
       "   season_2  season_3  season_4  holiday_1  workingday_1  weather_2  \\\n",
       "0         0         0         0          0             0          0   \n",
       "1         0         0         0          0             0          0   \n",
       "2         0         0         0          0             0          0   \n",
       "3         0         0         0          0             0          0   \n",
       "4         0         0         0          0             0          0   \n",
       "\n",
       "   weather_3  weather_4  datetime_year_2012  count  \n",
       "0          0          0                   0     16  \n",
       "1          0          0                   0     40  \n",
       "2          0          0                   0     32  \n",
       "3          0          0                   0     13  \n",
       "4          0          0                   0      1  "
      ]
     },
     "execution_count": 21,
     "metadata": {},
     "output_type": "execute_result"
    }
   ],
   "source": [
    "train_encoded.head()"
   ]
  },
  {
   "cell_type": "code",
   "execution_count": 22,
   "id": "9997ebc1-aedd-4c3e-9e34-758d360c138c",
   "metadata": {},
   "outputs": [],
   "source": [
    "encoded_continuous_variables = list(train_encoded.columns)[:10] + [train_encoded.columns[-1]]\n",
    "encoded_categorical_variables = list(train_encoded.columns)[10:-1]"
   ]
  },
  {
   "cell_type": "code",
   "execution_count": 23,
   "id": "85ecd9bd-bee8-424c-850a-d8c004260d40",
   "metadata": {},
   "outputs": [],
   "source": [
    "# Find Point biserial correlation\n",
    "def point_biserial_correl(data, categorical_variables, continuous_variables):\n",
    "    print(\"--- point biserial ---\")\n",
    "    for cat_var in categorical_variables:\n",
    "        for cont_var in  continuous_variables:\n",
    "            data_cat = data[cat_var].to_numpy()\n",
    "            data_cont = data[cont_var].to_numpy()\n",
    "\n",
    "            corr, p_val = pointbiserialr(x=data_cat, y=data_cont)\n",
    "            if np.abs(corr) >= 0.75:\n",
    "                print(f'Categorical variable: {cat_var}, Continuous variable: {cont_var}, correlation: {corr}')"
   ]
  },
  {
   "cell_type": "code",
   "execution_count": 24,
   "id": "e81f1896-0204-4fb0-9017-97cb5f18e4d7",
   "metadata": {},
   "outputs": [],
   "source": [
    "# Find Cramer's V correlation\n",
    "def cramer_v_correl(data, categorical_variables):\n",
    "    print(\"--- cramer v ---\")\n",
    "    total_len = len(categorical_variables)\n",
    "    for idx1 in range(total_len-1):\n",
    "        for idx2 in range(idx1+1, total_len):\n",
    "            cat_var1 = categorical_variables[idx1]\n",
    "            cat_var2 = categorical_variables[idx2]    \n",
    "            c_matrix = pd.crosstab(data[cat_var1], data[cat_var2])\n",
    "            chi2 = chi2_contingency(c_matrix)[0]\n",
    "            n = c_matrix.sum().sum()\n",
    "            phi2 = chi2/n\n",
    "            r,k = c_matrix.shape\n",
    "            phi2corr = max(0, phi2-((k-1)*(r-1))/(n-1))\n",
    "            rcorr = r-((r-1)**2)/(n-1)\n",
    "            kcorr = k-((k-1)**2)/(n-1)\n",
    "            corr = np.sqrt(phi2corr/min((kcorr-1),(rcorr-1)))\n",
    "            if corr >= 0.75:\n",
    "                print(f'categorical variable 1 {cat_var1}, categorical variable 2: {cat_var2}, correlation: {corr}')"
   ]
  },
  {
   "cell_type": "code",
   "execution_count": 25,
   "id": "024a49bb-b10f-4f98-a548-96a068487341",
   "metadata": {},
   "outputs": [],
   "source": [
    "# Find Pearson correlation\n",
    "def pearson_correl(data, continuous_variables):\n",
    "    print(\"--- pearson ---\")\n",
    "    total_len = len(continuous_variables)\n",
    "    for idx1 in range(total_len-1):\n",
    "        for idx2 in range(idx1+1, total_len):\n",
    "            cont_var1 = continuous_variables[idx1]\n",
    "            cont_var2 = continuous_variables[idx2]\n",
    "            data_cont1 = data[cont_var1].to_numpy()\n",
    "            data_cont2 = data[cont_var2].to_numpy()\n",
    "            corr, p_val = pearsonr(x=data_cont1, y=data_cont2)\n",
    "            if np.abs(corr) >= 0.75:\n",
    "                print(f'Variable 1: {cont_var1}, Variable 2: {cont_var2}, correlation: {corr}')"
   ]
  },
  {
   "cell_type": "code",
   "execution_count": 26,
   "id": "f0253b0a-b9b5-471f-9aa1-44e6ec075091",
   "metadata": {},
   "outputs": [
    {
     "name": "stdout",
     "output_type": "stream",
     "text": [
      "--- point biserial ---\n",
      "--- cramer v ---\n",
      "--- pearson ---\n",
      "Variable 1: temp, Variable 2: atemp, correlation: 0.9849481104817073\n",
      "Variable 1: temp, Variable 2: cos_datetime_month, correlation: -0.8560196876577529\n",
      "Variable 1: atemp, Variable 2: cos_datetime_month, correlation: -0.8380928348221115\n"
     ]
    }
   ],
   "source": [
    "point_biserial_correl(train_encoded, encoded_categorical_variables, encoded_continuous_variables)\n",
    "cramer_v_correl(train_encoded, encoded_categorical_variables)\n",
    "pearson_correl(train_encoded, encoded_continuous_variables)"
   ]
  },
  {
   "cell_type": "code",
   "execution_count": 27,
   "id": "7ac5b22d-7e5f-49a8-88e9-f3d0dab8e11d",
   "metadata": {},
   "outputs": [],
   "source": [
    "# drop because of correlation : 'sin_datetime_month', 'cos_datetime_month', 'atemp'\n",
    "train_after_corr = train_encoded.drop(['atemp', 'cos_datetime_month', 'sin_datetime_month'], axis = 1)"
   ]
  },
  {
   "cell_type": "code",
   "execution_count": 28,
   "id": "51c6caf5-2406-475c-bbbb-321d141c17e3",
   "metadata": {},
   "outputs": [
    {
     "data": {
      "text/plain": [
       "Index(['temp', 'humidity', 'windspeed', 'sin_datetime_hour',\n",
       "       'cos_datetime_hour', 'sin_datetime_day', 'cos_datetime_day', 'season_2',\n",
       "       'season_3', 'season_4', 'holiday_1', 'workingday_1', 'weather_2',\n",
       "       'weather_3', 'weather_4', 'datetime_year_2012', 'count'],\n",
       "      dtype='object')"
      ]
     },
     "execution_count": 28,
     "metadata": {},
     "output_type": "execute_result"
    }
   ],
   "source": [
    "train_after_corr.columns"
   ]
  },
  {
   "cell_type": "code",
   "execution_count": 29,
   "id": "79d8d59e-e082-4b02-92e4-4b00ee8f57e0",
   "metadata": {},
   "outputs": [],
   "source": [
    "continuous_variables_after_corr = list(train_after_corr.columns[0:7]) + [train_after_corr.columns[-1]]\n",
    "categorical_variables_after_corr = list(train_after_corr.columns[7:-1])"
   ]
  },
  {
   "cell_type": "code",
   "execution_count": 30,
   "id": "06772e86-f319-4506-ace7-3037dfca3f27",
   "metadata": {},
   "outputs": [
    {
     "data": {
      "text/html": [
       "<div>\n",
       "<style scoped>\n",
       "    .dataframe tbody tr th:only-of-type {\n",
       "        vertical-align: middle;\n",
       "    }\n",
       "\n",
       "    .dataframe tbody tr th {\n",
       "        vertical-align: top;\n",
       "    }\n",
       "\n",
       "    .dataframe thead th {\n",
       "        text-align: right;\n",
       "    }\n",
       "</style>\n",
       "<table border=\"1\" class=\"dataframe\">\n",
       "  <thead>\n",
       "    <tr style=\"text-align: right;\">\n",
       "      <th></th>\n",
       "      <th>temp</th>\n",
       "      <th>humidity</th>\n",
       "      <th>windspeed</th>\n",
       "      <th>sin_datetime_hour</th>\n",
       "      <th>cos_datetime_hour</th>\n",
       "      <th>sin_datetime_day</th>\n",
       "      <th>cos_datetime_day</th>\n",
       "      <th>season_2</th>\n",
       "      <th>season_3</th>\n",
       "      <th>season_4</th>\n",
       "      <th>holiday_1</th>\n",
       "      <th>workingday_1</th>\n",
       "      <th>weather_2</th>\n",
       "      <th>weather_3</th>\n",
       "      <th>weather_4</th>\n",
       "      <th>datetime_year_2012</th>\n",
       "      <th>count</th>\n",
       "    </tr>\n",
       "  </thead>\n",
       "  <tbody>\n",
       "    <tr>\n",
       "      <th>0</th>\n",
       "      <td>9.84</td>\n",
       "      <td>81</td>\n",
       "      <td>0.0</td>\n",
       "      <td>0.000000</td>\n",
       "      <td>1.000000</td>\n",
       "      <td>0.0</td>\n",
       "      <td>1.0</td>\n",
       "      <td>0</td>\n",
       "      <td>0</td>\n",
       "      <td>0</td>\n",
       "      <td>0</td>\n",
       "      <td>0</td>\n",
       "      <td>0</td>\n",
       "      <td>0</td>\n",
       "      <td>0</td>\n",
       "      <td>0</td>\n",
       "      <td>16</td>\n",
       "    </tr>\n",
       "    <tr>\n",
       "      <th>1</th>\n",
       "      <td>9.02</td>\n",
       "      <td>80</td>\n",
       "      <td>0.0</td>\n",
       "      <td>0.258819</td>\n",
       "      <td>0.965926</td>\n",
       "      <td>0.0</td>\n",
       "      <td>1.0</td>\n",
       "      <td>0</td>\n",
       "      <td>0</td>\n",
       "      <td>0</td>\n",
       "      <td>0</td>\n",
       "      <td>0</td>\n",
       "      <td>0</td>\n",
       "      <td>0</td>\n",
       "      <td>0</td>\n",
       "      <td>0</td>\n",
       "      <td>40</td>\n",
       "    </tr>\n",
       "    <tr>\n",
       "      <th>2</th>\n",
       "      <td>9.02</td>\n",
       "      <td>80</td>\n",
       "      <td>0.0</td>\n",
       "      <td>0.500000</td>\n",
       "      <td>0.866025</td>\n",
       "      <td>0.0</td>\n",
       "      <td>1.0</td>\n",
       "      <td>0</td>\n",
       "      <td>0</td>\n",
       "      <td>0</td>\n",
       "      <td>0</td>\n",
       "      <td>0</td>\n",
       "      <td>0</td>\n",
       "      <td>0</td>\n",
       "      <td>0</td>\n",
       "      <td>0</td>\n",
       "      <td>32</td>\n",
       "    </tr>\n",
       "    <tr>\n",
       "      <th>3</th>\n",
       "      <td>9.84</td>\n",
       "      <td>75</td>\n",
       "      <td>0.0</td>\n",
       "      <td>0.707107</td>\n",
       "      <td>0.707107</td>\n",
       "      <td>0.0</td>\n",
       "      <td>1.0</td>\n",
       "      <td>0</td>\n",
       "      <td>0</td>\n",
       "      <td>0</td>\n",
       "      <td>0</td>\n",
       "      <td>0</td>\n",
       "      <td>0</td>\n",
       "      <td>0</td>\n",
       "      <td>0</td>\n",
       "      <td>0</td>\n",
       "      <td>13</td>\n",
       "    </tr>\n",
       "    <tr>\n",
       "      <th>4</th>\n",
       "      <td>9.84</td>\n",
       "      <td>75</td>\n",
       "      <td>0.0</td>\n",
       "      <td>0.866025</td>\n",
       "      <td>0.500000</td>\n",
       "      <td>0.0</td>\n",
       "      <td>1.0</td>\n",
       "      <td>0</td>\n",
       "      <td>0</td>\n",
       "      <td>0</td>\n",
       "      <td>0</td>\n",
       "      <td>0</td>\n",
       "      <td>0</td>\n",
       "      <td>0</td>\n",
       "      <td>0</td>\n",
       "      <td>0</td>\n",
       "      <td>1</td>\n",
       "    </tr>\n",
       "  </tbody>\n",
       "</table>\n",
       "</div>"
      ],
      "text/plain": [
       "   temp  humidity  windspeed  sin_datetime_hour  cos_datetime_hour  \\\n",
       "0  9.84        81        0.0           0.000000           1.000000   \n",
       "1  9.02        80        0.0           0.258819           0.965926   \n",
       "2  9.02        80        0.0           0.500000           0.866025   \n",
       "3  9.84        75        0.0           0.707107           0.707107   \n",
       "4  9.84        75        0.0           0.866025           0.500000   \n",
       "\n",
       "   sin_datetime_day  cos_datetime_day  season_2  season_3  season_4  \\\n",
       "0               0.0               1.0         0         0         0   \n",
       "1               0.0               1.0         0         0         0   \n",
       "2               0.0               1.0         0         0         0   \n",
       "3               0.0               1.0         0         0         0   \n",
       "4               0.0               1.0         0         0         0   \n",
       "\n",
       "   holiday_1  workingday_1  weather_2  weather_3  weather_4  \\\n",
       "0          0             0          0          0          0   \n",
       "1          0             0          0          0          0   \n",
       "2          0             0          0          0          0   \n",
       "3          0             0          0          0          0   \n",
       "4          0             0          0          0          0   \n",
       "\n",
       "   datetime_year_2012  count  \n",
       "0                   0     16  \n",
       "1                   0     40  \n",
       "2                   0     32  \n",
       "3                   0     13  \n",
       "4                   0      1  "
      ]
     },
     "execution_count": 30,
     "metadata": {},
     "output_type": "execute_result"
    }
   ],
   "source": [
    "train_after_corr.head()"
   ]
  },
  {
   "cell_type": "code",
   "execution_count": 31,
   "id": "f322c40c-c4eb-4b10-83de-ba8c114f4061",
   "metadata": {},
   "outputs": [
    {
     "name": "stdout",
     "output_type": "stream",
     "text": [
      "--- point biserial ---\n",
      "--- cramer v ---\n",
      "--- pearson ---\n"
     ]
    }
   ],
   "source": [
    "point_biserial_correl(train_after_corr, categorical_variables_after_corr, continuous_variables_after_corr)\n",
    "cramer_v_correl(train_after_corr, categorical_variables_after_corr)\n",
    "pearson_correl(train_after_corr, continuous_variables_after_corr)"
   ]
  },
  {
   "cell_type": "code",
   "execution_count": 32,
   "id": "b0979a6e-033b-4764-bd7c-83c959286d29",
   "metadata": {},
   "outputs": [],
   "source": [
    "def check_vif(data):\n",
    "    vif = pd.DataFrame()\n",
    "    vif[\"feature\"] = data.columns\n",
    "    vif['VIF'] = [variance_inflation_factor(data.values, i) for i in range(len(data.columns))]\n",
    "    print(vif.sort_values(by = 'VIF', ascending = False))"
   ]
  },
  {
   "cell_type": "code",
   "execution_count": 33,
   "id": "dae5c704-edb0-40cb-b862-c5714ac846b3",
   "metadata": {},
   "outputs": [
    {
     "name": "stdout",
     "output_type": "stream",
     "text": [
      "             feature       VIF\n",
      "1           humidity  6.653444\n",
      "0               temp  6.204104\n",
      "2          windspeed  2.948874\n",
      "5   sin_datetime_day  1.938534\n",
      "3  sin_datetime_hour  1.220930\n",
      "6   cos_datetime_day  1.149501\n",
      "4  cos_datetime_hour  1.134140\n"
     ]
    }
   ],
   "source": [
    "check_vif(train_after_corr[continuous_variables_after_corr].drop('count', axis = 1))"
   ]
  },
  {
   "cell_type": "code",
   "execution_count": 34,
   "id": "75362533-d973-4f7b-809b-399b0443920c",
   "metadata": {},
   "outputs": [],
   "source": [
    "train_after_corr = train_after_corr.drop('humidity', axis = 1)\n",
    "continuous_variables_after_corr.remove('humidity')"
   ]
  },
  {
   "cell_type": "code",
   "execution_count": 35,
   "id": "0748d9b9-2da7-4829-ba1e-1274c4cc1115",
   "metadata": {},
   "outputs": [
    {
     "name": "stdout",
     "output_type": "stream",
     "text": [
      "             feature       VIF\n",
      "0               temp  3.012265\n",
      "1          windspeed  2.752681\n",
      "4   sin_datetime_day  1.849328\n",
      "5   cos_datetime_day  1.142715\n",
      "2  sin_datetime_hour  1.017329\n",
      "3  cos_datetime_hour  1.016598\n"
     ]
    }
   ],
   "source": [
    "check_vif(train_after_corr[continuous_variables_after_corr].drop('count', axis = 1))"
   ]
  },
  {
   "cell_type": "code",
   "execution_count": 36,
   "id": "ea8f03c0-024b-4760-a73d-ac148ddb98b3",
   "metadata": {},
   "outputs": [],
   "source": [
    "validation_size = 0.20\n",
    "seed = 42\n",
    "numfolds = 10\n",
    "scoring = 'neg_mean_squared_log_error'"
   ]
  },
  {
   "cell_type": "code",
   "execution_count": 37,
   "id": "ea458bb2-040e-4597-bc04-7c7001c2dada",
   "metadata": {},
   "outputs": [],
   "source": [
    "X_train = train_after_corr.drop('count', axis = 1)\n",
    "y_train = np.log(train_after_corr['count'] + 1)"
   ]
  },
  {
   "cell_type": "code",
   "execution_count": 38,
   "id": "6a114428-7de5-4349-abd9-dc4499c9682e",
   "metadata": {},
   "outputs": [],
   "source": [
    "X_train, X_validation, y_train, y_validation = train_test_split(X_train, y_train, test_size=validation_size, random_state=seed)"
   ]
  },
  {
   "cell_type": "code",
   "execution_count": 39,
   "id": "b9055ea6-6cac-4b65-a4af-a51e7da16b62",
   "metadata": {},
   "outputs": [
    {
     "data": {
      "text/html": [
       "<div>\n",
       "<style scoped>\n",
       "    .dataframe tbody tr th:only-of-type {\n",
       "        vertical-align: middle;\n",
       "    }\n",
       "\n",
       "    .dataframe tbody tr th {\n",
       "        vertical-align: top;\n",
       "    }\n",
       "\n",
       "    .dataframe thead th {\n",
       "        text-align: right;\n",
       "    }\n",
       "</style>\n",
       "<table border=\"1\" class=\"dataframe\">\n",
       "  <thead>\n",
       "    <tr style=\"text-align: right;\">\n",
       "      <th></th>\n",
       "      <th>temp</th>\n",
       "      <th>windspeed</th>\n",
       "      <th>sin_datetime_hour</th>\n",
       "      <th>cos_datetime_hour</th>\n",
       "      <th>sin_datetime_day</th>\n",
       "      <th>cos_datetime_day</th>\n",
       "      <th>season_2</th>\n",
       "      <th>season_3</th>\n",
       "      <th>season_4</th>\n",
       "      <th>holiday_1</th>\n",
       "      <th>workingday_1</th>\n",
       "      <th>weather_2</th>\n",
       "      <th>weather_3</th>\n",
       "      <th>weather_4</th>\n",
       "      <th>datetime_year_2012</th>\n",
       "    </tr>\n",
       "  </thead>\n",
       "  <tbody>\n",
       "    <tr>\n",
       "      <th>2815</th>\n",
       "      <td>27.88</td>\n",
       "      <td>6.0032</td>\n",
       "      <td>0.965926</td>\n",
       "      <td>0.258819</td>\n",
       "      <td>0.866025</td>\n",
       "      <td>0.500000</td>\n",
       "      <td>0</td>\n",
       "      <td>1</td>\n",
       "      <td>0</td>\n",
       "      <td>0</td>\n",
       "      <td>1</td>\n",
       "      <td>0</td>\n",
       "      <td>0</td>\n",
       "      <td>0</td>\n",
       "      <td>0</td>\n",
       "    </tr>\n",
       "    <tr>\n",
       "      <th>8695</th>\n",
       "      <td>36.90</td>\n",
       "      <td>19.9995</td>\n",
       "      <td>-0.866025</td>\n",
       "      <td>-0.500000</td>\n",
       "      <td>0.587785</td>\n",
       "      <td>0.809017</td>\n",
       "      <td>0</td>\n",
       "      <td>1</td>\n",
       "      <td>0</td>\n",
       "      <td>0</td>\n",
       "      <td>0</td>\n",
       "      <td>0</td>\n",
       "      <td>0</td>\n",
       "      <td>0</td>\n",
       "      <td>1</td>\n",
       "    </tr>\n",
       "    <tr>\n",
       "      <th>8406</th>\n",
       "      <td>32.80</td>\n",
       "      <td>16.9979</td>\n",
       "      <td>-0.707107</td>\n",
       "      <td>-0.707107</td>\n",
       "      <td>0.866025</td>\n",
       "      <td>-0.500000</td>\n",
       "      <td>0</td>\n",
       "      <td>1</td>\n",
       "      <td>0</td>\n",
       "      <td>0</td>\n",
       "      <td>1</td>\n",
       "      <td>0</td>\n",
       "      <td>0</td>\n",
       "      <td>0</td>\n",
       "      <td>1</td>\n",
       "    </tr>\n",
       "    <tr>\n",
       "      <th>1543</th>\n",
       "      <td>14.76</td>\n",
       "      <td>7.0015</td>\n",
       "      <td>0.866025</td>\n",
       "      <td>0.500000</td>\n",
       "      <td>0.951057</td>\n",
       "      <td>-0.309017</td>\n",
       "      <td>1</td>\n",
       "      <td>0</td>\n",
       "      <td>0</td>\n",
       "      <td>0</td>\n",
       "      <td>0</td>\n",
       "      <td>1</td>\n",
       "      <td>0</td>\n",
       "      <td>0</td>\n",
       "      <td>0</td>\n",
       "    </tr>\n",
       "    <tr>\n",
       "      <th>4952</th>\n",
       "      <td>13.12</td>\n",
       "      <td>16.9979</td>\n",
       "      <td>0.500000</td>\n",
       "      <td>-0.866025</td>\n",
       "      <td>-0.587785</td>\n",
       "      <td>-0.809017</td>\n",
       "      <td>0</td>\n",
       "      <td>0</td>\n",
       "      <td>1</td>\n",
       "      <td>0</td>\n",
       "      <td>0</td>\n",
       "      <td>0</td>\n",
       "      <td>0</td>\n",
       "      <td>0</td>\n",
       "      <td>0</td>\n",
       "    </tr>\n",
       "  </tbody>\n",
       "</table>\n",
       "</div>"
      ],
      "text/plain": [
       "       temp  windspeed  sin_datetime_hour  cos_datetime_hour  \\\n",
       "2815  27.88     6.0032           0.965926           0.258819   \n",
       "8695  36.90    19.9995          -0.866025          -0.500000   \n",
       "8406  32.80    16.9979          -0.707107          -0.707107   \n",
       "1543  14.76     7.0015           0.866025           0.500000   \n",
       "4952  13.12    16.9979           0.500000          -0.866025   \n",
       "\n",
       "      sin_datetime_day  cos_datetime_day  season_2  season_3  season_4  \\\n",
       "2815          0.866025          0.500000         0         1         0   \n",
       "8695          0.587785          0.809017         0         1         0   \n",
       "8406          0.866025         -0.500000         0         1         0   \n",
       "1543          0.951057         -0.309017         1         0         0   \n",
       "4952         -0.587785         -0.809017         0         0         1   \n",
       "\n",
       "      holiday_1  workingday_1  weather_2  weather_3  weather_4  \\\n",
       "2815          0             1          0          0          0   \n",
       "8695          0             0          0          0          0   \n",
       "8406          0             1          0          0          0   \n",
       "1543          0             0          1          0          0   \n",
       "4952          0             0          0          0          0   \n",
       "\n",
       "      datetime_year_2012  \n",
       "2815                   0  \n",
       "8695                   1  \n",
       "8406                   1  \n",
       "1543                   0  \n",
       "4952                   0  "
      ]
     },
     "execution_count": 39,
     "metadata": {},
     "output_type": "execute_result"
    }
   ],
   "source": [
    "X_train.head()"
   ]
  },
  {
   "cell_type": "code",
   "execution_count": 40,
   "id": "f356a51c-0cc0-485f-907f-bfe38247fd77",
   "metadata": {},
   "outputs": [
    {
     "data": {
      "text/plain": [
       "2815    3.583519\n",
       "8695    6.111467\n",
       "8406    5.624018\n",
       "1543    1.791759\n",
       "4952    5.303305\n",
       "          ...   \n",
       "5734    3.663562\n",
       "5191    5.010635\n",
       "5390    5.459586\n",
       "860     3.135494\n",
       "7270    5.883322\n",
       "Name: count, Length: 8708, dtype: float64"
      ]
     },
     "execution_count": 40,
     "metadata": {},
     "output_type": "execute_result"
    }
   ],
   "source": [
    "y_train"
   ]
  },
  {
   "cell_type": "markdown",
   "id": "e207aacb-d2e6-4bcc-9659-30ab130c0c0d",
   "metadata": {},
   "source": [
    "#### 3. Evaluate Algorithms\n",
    "- Test options and evaluation metric\n",
    "- Compare Algorithms"
   ]
  },
  {
   "cell_type": "code",
   "execution_count": 41,
   "id": "8554b6d2-f08e-433e-bed4-c7ffa3d4ad0e",
   "metadata": {},
   "outputs": [
    {
     "name": "stdout",
     "output_type": "stream",
     "text": [
      "LR: -0.039978 (0.003083)\n",
      "LASSO: -0.087951 (0.007111)\n",
      "KNN: -0.046301 (0.003524)\n",
      "CART: -0.015005 (0.001702)\n"
     ]
    }
   ],
   "source": [
    "models = []\n",
    "models.append(('LR', LinearRegression()))\n",
    "models.append(('LASSO', Lasso()))\n",
    "models.append(('KNN', KNeighborsRegressor()))\n",
    "models.append(('CART', DecisionTreeRegressor()))\n",
    "\n",
    "# evaluate each model in turn\n",
    "results = []\n",
    "names = []\n",
    "for name, model in models:\n",
    "    kfold = KFold(n_splits=numfolds, random_state=seed, shuffle=True)\n",
    "    cv_results = cross_val_score(model, X_train, y_train, cv=kfold, scoring=scoring)\n",
    "    results.append(cv_results)\n",
    "    names.append(name)\n",
    "    msg = \"%s: %f (%f)\" % (name, cv_results.mean(), cv_results.std())\n",
    "    print(msg)"
   ]
  },
  {
   "cell_type": "code",
   "execution_count": 42,
   "id": "939257d6-6785-4156-b3fc-68a3145241de",
   "metadata": {},
   "outputs": [
    {
     "data": {
      "image/png": "[encoded data removed]",
      "text/plain": [
       "<Figure size 432x288 with 1 Axes>"
      ]
     },
     "metadata": {},
     "output_type": "display_data"
    }
   ],
   "source": [
    "fig = plt.figure()\n",
    "fig.suptitle('Algorithm Comparison')\n",
    "ax = fig.add_subplot(111)\n",
    "plt.boxplot(results)\n",
    "ax.set_xticklabels(names)\n",
    "plt.show()"
   ]
  },
  {
   "cell_type": "markdown",
   "id": "8c2a79c5-c80b-4daf-8252-17487ff31bcd",
   "metadata": {},
   "source": [
    "Decision Tree takes the cake easily. But the performance of algorithms like LASSO and KNN may be downplayed because continuous values are not scaled. I will try scaling the variables"
   ]
  },
  {
   "cell_type": "code",
   "execution_count": 43,
   "id": "f1d4247f-35f1-407f-83fb-0e4cfd29fe52",
   "metadata": {},
   "outputs": [
    {
     "name": "stdout",
     "output_type": "stream",
     "text": [
      "ScaledLR: -0.039978 (0.003083)\n",
      "ScaledLASSO: -0.098824 (0.008254)\n",
      "ScaledKNN: -0.021445 (0.002171)\n",
      "ScaledCART: -0.015088 (0.001517)\n"
     ]
    }
   ],
   "source": [
    "pipelines = [\n",
    "    ('ScaledLR', Pipeline([('Scaler', StandardScaler()),('LR', LinearRegression())])),\n",
    "    ('ScaledLASSO', Pipeline([('Scaler', StandardScaler()),('LASSO', Lasso())])),\n",
    "    ('ScaledKNN', Pipeline([('Scaler', StandardScaler()),('KNN', KNeighborsRegressor())])),\n",
    "    ('ScaledCART', Pipeline([('Scaler', StandardScaler()),('CART', DecisionTreeRegressor())])),\n",
    "]\n",
    "\n",
    "results = []\n",
    "names = []\n",
    "for name, model in pipelines:\n",
    "    kfold = KFold(n_splits=numfolds, random_state=seed, shuffle=True)\n",
    "    cv_results = cross_val_score(model, X_train, y_train, cv=kfold, scoring=scoring)\n",
    "    results.append(cv_results)\n",
    "    names.append(name)\n",
    "    msg = \"%s: %f (%f)\" % (name, cv_results.mean(), cv_results.std())\n",
    "    print(msg)"
   ]
  },
  {
   "cell_type": "code",
   "execution_count": 44,
   "id": "f6ec86ba-a0fd-4bc5-8ebf-7d09ff8d3753",
   "metadata": {},
   "outputs": [
    {
     "data": {
      "image/png": "[encoded data removed]",
      "text/plain": [
       "<Figure size 432x288 with 1 Axes>"
      ]
     },
     "metadata": {},
     "output_type": "display_data"
    }
   ],
   "source": [
    "fig = plt.figure()\n",
    "fig.suptitle('Algorithm Comparison')\n",
    "ax = fig.add_subplot(111)\n",
    "plt.boxplot(results)\n",
    "ax.set_xticklabels(names)\n",
    "plt.show()"
   ]
  },
  {
   "cell_type": "markdown",
   "id": "9acd19d1-f622-4af6-94ca-f81488b07b71",
   "metadata": {},
   "source": [
    "Indeed, KNN performs better. But Decision Tree still takes the cake."
   ]
  },
  {
   "cell_type": "markdown",
   "id": "b099de8f-b8ae-447f-8759-064e02638edf",
   "metadata": {},
   "source": [
    "#### 4: Improving algorithms\n",
    "- Tune candidate algorithms\n",
    "- Ensemble methods\n",
    "- Tune ensemble methods"
   ]
  },
  {
   "cell_type": "code",
   "execution_count": 45,
   "id": "9a741761-4d3d-44a5-8eb0-a7b494540f74",
   "metadata": {},
   "outputs": [],
   "source": [
    "param_grid = [\n",
    "    {'max_depth' : [10, 15, 20, 25, 30]}\n",
    "]\n",
    "model = DecisionTreeRegressor()\n",
    "kfold = KFold(n_splits=numfolds, random_state=seed, shuffle=True)\n",
    "grid = GridSearchCV(estimator=model, param_grid=param_grid, scoring=scoring, cv=kfold)\n",
    "grid_result = grid.fit(X_train, y_train)"
   ]
  },
  {
   "cell_type": "code",
   "execution_count": 46,
   "id": "0037c3e0-5f22-47b2-aa21-dbcade4eaa65",
   "metadata": {},
   "outputs": [
    {
     "name": "stdout",
     "output_type": "stream",
     "text": [
      "best score, param: -0.011441543453214228 {'max_depth': 10}\n"
     ]
    }
   ],
   "source": [
    "print(\"best score, param: {} {}\".format(grid_result.best_score_, grid_result.best_params_))"
   ]
  },
  {
   "cell_type": "code",
   "execution_count": 47,
   "id": "7d2ed1b5-c429-4053-a758-62e7f033a24e",
   "metadata": {},
   "outputs": [
    {
     "name": "stdout",
     "output_type": "stream",
     "text": [
      "AB: -0.021393 (0.002048)\n",
      "XGB: -0.007101 (0.000753)\n",
      "RF: -0.008374 (0.000950)\n"
     ]
    }
   ],
   "source": [
    "ensembles = [\n",
    "    ('AB', Pipeline([('Scaler', StandardScaler()),('AB', AdaBoostRegressor())])),\n",
    "    ('XGB', Pipeline([('Scaler', StandardScaler()),('GBM', XGBRegressor(verbosity = 0))])),\n",
    "    ('RF', Pipeline([('Scaler', StandardScaler()),('RF', RandomForestRegressor())])),   \n",
    "]\n",
    "results = []\n",
    "names = []\n",
    "for name, model in ensembles:\n",
    "    kfold = KFold(n_splits=numfolds, random_state=seed, shuffle=True)\n",
    "    cv_results = cross_val_score(model, X_train, y_train, cv=kfold, scoring=scoring)\n",
    "    results.append(cv_results)\n",
    "    names.append(name)\n",
    "    msg = \"%s: %f (%f)\" % (name, cv_results.mean(), cv_results.std())\n",
    "    print(msg)"
   ]
  },
  {
   "cell_type": "code",
   "execution_count": 48,
   "id": "f5a7bd70-869d-4db2-a56a-30c1d92957a0",
   "metadata": {},
   "outputs": [
    {
     "data": {
      "image/png": "[encoded data removed]",
      "text/plain": [
       "<Figure size 432x288 with 1 Axes>"
      ]
     },
     "metadata": {},
     "output_type": "display_data"
    }
   ],
   "source": [
    "fig = plt.figure()\n",
    "fig.suptitle('Algorithm Comparison')\n",
    "ax = fig.add_subplot(111)\n",
    "plt.boxplot(results)\n",
    "ax.set_xticklabels(names)\n",
    "plt.show()"
   ]
  },
  {
   "cell_type": "markdown",
   "id": "7b31c98e-725c-41ff-bbc4-506943b089a4",
   "metadata": {},
   "source": [
    "XGBoost and RF perform twice as good as DT. We can consider tuning XGBoost seeing that it performs the best"
   ]
  },
  {
   "cell_type": "code",
   "execution_count": 50,
   "id": "c3b21304-16f2-4820-acd6-2c9a27d2dd29",
   "metadata": {},
   "outputs": [],
   "source": [
    "param_grid = {\n",
    "        'max_depth': range(2, 11),\n",
    "        'min_child_weight' : range(1,10,1),\n",
    "        'learning_rate': [0.001, 0.005, 0.01, 0.03, 0.05, 0.1, 0.15, 0.2, 0.25, 0.3],\n",
    "        'subsample': [i/10.0 for i in range(3,10)],\n",
    "        'colsample_bytree': [i/10.0 for i in range(3,10)],\n",
    "        'min_child_weight': range(1, 10),\n",
    "        'gamma': [i/10.0 for i in range(0,5)],\n",
    "        'n_estimators': range(100, 1500, 100)\n",
    "}\n",
    "model = XGBRegressor() \n",
    "kfold = KFold(n_splits=numfolds, random_state=seed, shuffle=True)\n",
    "grid = RandomizedSearchCV(model, param_grid, n_iter=25, \n",
    "                               n_jobs=-1, cv=kfold, scoring=scoring, random_state=42)\n",
    "grid_result = grid.fit(X_train, y_train)"
   ]
  },
  {
   "cell_type": "code",
   "execution_count": 51,
   "id": "9189664d-c331-4e41-8928-62a915ea2feb",
   "metadata": {},
   "outputs": [
    {
     "name": "stdout",
     "output_type": "stream",
     "text": [
      "best cv score, param : -0.007009601897233993 {'subsample': 0.6, 'n_estimators': 1300, 'min_child_weight': 2, 'max_depth': 4, 'learning_rate': 0.03, 'gamma': 0.1, 'colsample_bytree': 0.7}\n"
     ]
    }
   ],
   "source": [
    "print(\"best cv score, param : {} {}\".format(grid_result.best_score_, grid_result.best_params_))"
   ]
  },
  {
   "cell_type": "code",
   "execution_count": 64,
   "id": "efff31ae-2ad6-4069-96da-96a549c2b392",
   "metadata": {},
   "outputs": [],
   "source": [
    "final_model = XGBRegressor(subsample = 0.6, n_estimators = 1300, min_child_weight = 2, max_depth = 4, \n",
    "                          learning_rate = 0.03, gamma = 0.1, colsample_bytree = 0.7, random_state = 42,\n",
    "                          use_label_encoder = False, verbosity = 0)\n",
    "\n",
    "final_model.fit(X_train, y_train)\n",
    "y_pred = final_model.predict(X_validation)"
   ]
  },
  {
   "cell_type": "code",
   "execution_count": 70,
   "id": "46a8d1a3-469a-4569-a879-d85e1ffe37b9",
   "metadata": {},
   "outputs": [
    {
     "data": {
      "text/plain": [
       "0.31929171232064896"
      ]
     },
     "execution_count": 70,
     "metadata": {},
     "output_type": "execute_result"
    }
   ],
   "source": [
    "mean_squared_error(y_validation, y_pred, squared=False)"
   ]
  },
  {
   "cell_type": "markdown",
   "id": "39a9d1fb-cc8f-468e-a975-231b0624b8e8",
   "metadata": {},
   "source": [
    "#### Predict test "
   ]
  },
  {
   "cell_type": "markdown",
   "id": "76ba032e-6cb9-40d6-905c-2bd6b4c11dfd",
   "metadata": {},
   "source": [
    "What transformations have been onto the train set? \n",
    "- datetime breakdown\n",
    "- datetime cyclic\n",
    "- drop atemp, month\n",
    "- encode categoricals \n",
    "\n",
    "We now apply these transformations onto the test set before feeding the test data into our best model\n",
    "\n",
    "Also need to reverse the effects of log(pred + 1)"
   ]
  },
  {
   "cell_type": "code",
   "execution_count": 53,
   "id": "2b581074-be0e-45f6-8f48-0952fd7c7ab3",
   "metadata": {},
   "outputs": [
    {
     "data": {
      "text/html": [
       "<div>\n",
       "<style scoped>\n",
       "    .dataframe tbody tr th:only-of-type {\n",
       "        vertical-align: middle;\n",
       "    }\n",
       "\n",
       "    .dataframe tbody tr th {\n",
       "        vertical-align: top;\n",
       "    }\n",
       "\n",
       "    .dataframe thead th {\n",
       "        text-align: right;\n",
       "    }\n",
       "</style>\n",
       "<table border=\"1\" class=\"dataframe\">\n",
       "  <thead>\n",
       "    <tr style=\"text-align: right;\">\n",
       "      <th></th>\n",
       "      <th>datetime</th>\n",
       "      <th>season</th>\n",
       "      <th>holiday</th>\n",
       "      <th>workingday</th>\n",
       "      <th>weather</th>\n",
       "      <th>temp</th>\n",
       "      <th>atemp</th>\n",
       "      <th>humidity</th>\n",
       "      <th>windspeed</th>\n",
       "    </tr>\n",
       "  </thead>\n",
       "  <tbody>\n",
       "    <tr>\n",
       "      <th>0</th>\n",
       "      <td>2011-01-20 00:00:00</td>\n",
       "      <td>1</td>\n",
       "      <td>0</td>\n",
       "      <td>1</td>\n",
       "      <td>1</td>\n",
       "      <td>10.66</td>\n",
       "      <td>11.365</td>\n",
       "      <td>56</td>\n",
       "      <td>26.0027</td>\n",
       "    </tr>\n",
       "    <tr>\n",
       "      <th>1</th>\n",
       "      <td>2011-01-20 01:00:00</td>\n",
       "      <td>1</td>\n",
       "      <td>0</td>\n",
       "      <td>1</td>\n",
       "      <td>1</td>\n",
       "      <td>10.66</td>\n",
       "      <td>13.635</td>\n",
       "      <td>56</td>\n",
       "      <td>0.0000</td>\n",
       "    </tr>\n",
       "    <tr>\n",
       "      <th>2</th>\n",
       "      <td>2011-01-20 02:00:00</td>\n",
       "      <td>1</td>\n",
       "      <td>0</td>\n",
       "      <td>1</td>\n",
       "      <td>1</td>\n",
       "      <td>10.66</td>\n",
       "      <td>13.635</td>\n",
       "      <td>56</td>\n",
       "      <td>0.0000</td>\n",
       "    </tr>\n",
       "    <tr>\n",
       "      <th>3</th>\n",
       "      <td>2011-01-20 03:00:00</td>\n",
       "      <td>1</td>\n",
       "      <td>0</td>\n",
       "      <td>1</td>\n",
       "      <td>1</td>\n",
       "      <td>10.66</td>\n",
       "      <td>12.880</td>\n",
       "      <td>56</td>\n",
       "      <td>11.0014</td>\n",
       "    </tr>\n",
       "    <tr>\n",
       "      <th>4</th>\n",
       "      <td>2011-01-20 04:00:00</td>\n",
       "      <td>1</td>\n",
       "      <td>0</td>\n",
       "      <td>1</td>\n",
       "      <td>1</td>\n",
       "      <td>10.66</td>\n",
       "      <td>12.880</td>\n",
       "      <td>56</td>\n",
       "      <td>11.0014</td>\n",
       "    </tr>\n",
       "  </tbody>\n",
       "</table>\n",
       "</div>"
      ],
      "text/plain": [
       "              datetime  season  holiday  workingday  weather   temp   atemp  \\\n",
       "0  2011-01-20 00:00:00       1        0           1        1  10.66  11.365   \n",
       "1  2011-01-20 01:00:00       1        0           1        1  10.66  13.635   \n",
       "2  2011-01-20 02:00:00       1        0           1        1  10.66  13.635   \n",
       "3  2011-01-20 03:00:00       1        0           1        1  10.66  12.880   \n",
       "4  2011-01-20 04:00:00       1        0           1        1  10.66  12.880   \n",
       "\n",
       "   humidity  windspeed  \n",
       "0        56    26.0027  \n",
       "1        56     0.0000  \n",
       "2        56     0.0000  \n",
       "3        56    11.0014  \n",
       "4        56    11.0014  "
      ]
     },
     "execution_count": 53,
     "metadata": {},
     "output_type": "execute_result"
    }
   ],
   "source": [
    "test.head()"
   ]
  },
  {
   "cell_type": "code",
   "execution_count": 54,
   "id": "f106ee82-0bf6-40fc-8789-442a53b210e8",
   "metadata": {},
   "outputs": [],
   "source": [
    "test_transformed = (test\n",
    " .pipe(datetime_breakdown, 'datetime')\n",
    " .pipe(pd.DataFrame.drop, 'atemp', axis = 1)\n",
    " .pipe(pd.DataFrame.drop, 'datetime_month', axis = 1)\n",
    " .pipe(cyclic_datetime, 'datetime_day', 'day')\n",
    " .pipe(cyclic_datetime, 'datetime_hour', 'hour')                    \n",
    ")"
   ]
  },
  {
   "cell_type": "code",
   "execution_count": 55,
   "id": "24767846-e796-4bc2-99dc-86d3e609e955",
   "metadata": {},
   "outputs": [
    {
     "data": {
      "text/html": [
       "<div>\n",
       "<style scoped>\n",
       "    .dataframe tbody tr th:only-of-type {\n",
       "        vertical-align: middle;\n",
       "    }\n",
       "\n",
       "    .dataframe tbody tr th {\n",
       "        vertical-align: top;\n",
       "    }\n",
       "\n",
       "    .dataframe thead th {\n",
       "        text-align: right;\n",
       "    }\n",
       "</style>\n",
       "<table border=\"1\" class=\"dataframe\">\n",
       "  <thead>\n",
       "    <tr style=\"text-align: right;\">\n",
       "      <th></th>\n",
       "      <th>season</th>\n",
       "      <th>holiday</th>\n",
       "      <th>workingday</th>\n",
       "      <th>weather</th>\n",
       "      <th>temp</th>\n",
       "      <th>humidity</th>\n",
       "      <th>windspeed</th>\n",
       "      <th>datetime_year</th>\n",
       "      <th>sin_datetime_day</th>\n",
       "      <th>cos_datetime_day</th>\n",
       "      <th>sin_datetime_hour</th>\n",
       "      <th>cos_datetime_hour</th>\n",
       "    </tr>\n",
       "  </thead>\n",
       "  <tbody>\n",
       "    <tr>\n",
       "      <th>0</th>\n",
       "      <td>1</td>\n",
       "      <td>0</td>\n",
       "      <td>1</td>\n",
       "      <td>1</td>\n",
       "      <td>10.66</td>\n",
       "      <td>56</td>\n",
       "      <td>26.0027</td>\n",
       "      <td>2011</td>\n",
       "      <td>-0.743145</td>\n",
       "      <td>-0.669131</td>\n",
       "      <td>0.000000</td>\n",
       "      <td>1.000000</td>\n",
       "    </tr>\n",
       "    <tr>\n",
       "      <th>1</th>\n",
       "      <td>1</td>\n",
       "      <td>0</td>\n",
       "      <td>1</td>\n",
       "      <td>1</td>\n",
       "      <td>10.66</td>\n",
       "      <td>56</td>\n",
       "      <td>0.0000</td>\n",
       "      <td>2011</td>\n",
       "      <td>-0.743145</td>\n",
       "      <td>-0.669131</td>\n",
       "      <td>0.258819</td>\n",
       "      <td>0.965926</td>\n",
       "    </tr>\n",
       "    <tr>\n",
       "      <th>2</th>\n",
       "      <td>1</td>\n",
       "      <td>0</td>\n",
       "      <td>1</td>\n",
       "      <td>1</td>\n",
       "      <td>10.66</td>\n",
       "      <td>56</td>\n",
       "      <td>0.0000</td>\n",
       "      <td>2011</td>\n",
       "      <td>-0.743145</td>\n",
       "      <td>-0.669131</td>\n",
       "      <td>0.500000</td>\n",
       "      <td>0.866025</td>\n",
       "    </tr>\n",
       "    <tr>\n",
       "      <th>3</th>\n",
       "      <td>1</td>\n",
       "      <td>0</td>\n",
       "      <td>1</td>\n",
       "      <td>1</td>\n",
       "      <td>10.66</td>\n",
       "      <td>56</td>\n",
       "      <td>11.0014</td>\n",
       "      <td>2011</td>\n",
       "      <td>-0.743145</td>\n",
       "      <td>-0.669131</td>\n",
       "      <td>0.707107</td>\n",
       "      <td>0.707107</td>\n",
       "    </tr>\n",
       "    <tr>\n",
       "      <th>4</th>\n",
       "      <td>1</td>\n",
       "      <td>0</td>\n",
       "      <td>1</td>\n",
       "      <td>1</td>\n",
       "      <td>10.66</td>\n",
       "      <td>56</td>\n",
       "      <td>11.0014</td>\n",
       "      <td>2011</td>\n",
       "      <td>-0.743145</td>\n",
       "      <td>-0.669131</td>\n",
       "      <td>0.866025</td>\n",
       "      <td>0.500000</td>\n",
       "    </tr>\n",
       "  </tbody>\n",
       "</table>\n",
       "</div>"
      ],
      "text/plain": [
       "   season  holiday  workingday  weather   temp  humidity  windspeed  \\\n",
       "0       1        0           1        1  10.66        56    26.0027   \n",
       "1       1        0           1        1  10.66        56     0.0000   \n",
       "2       1        0           1        1  10.66        56     0.0000   \n",
       "3       1        0           1        1  10.66        56    11.0014   \n",
       "4       1        0           1        1  10.66        56    11.0014   \n",
       "\n",
       "   datetime_year  sin_datetime_day  cos_datetime_day  sin_datetime_hour  \\\n",
       "0           2011         -0.743145         -0.669131           0.000000   \n",
       "1           2011         -0.743145         -0.669131           0.258819   \n",
       "2           2011         -0.743145         -0.669131           0.500000   \n",
       "3           2011         -0.743145         -0.669131           0.707107   \n",
       "4           2011         -0.743145         -0.669131           0.866025   \n",
       "\n",
       "   cos_datetime_hour  \n",
       "0           1.000000  \n",
       "1           0.965926  \n",
       "2           0.866025  \n",
       "3           0.707107  \n",
       "4           0.500000  "
      ]
     },
     "execution_count": 55,
     "metadata": {},
     "output_type": "execute_result"
    }
   ],
   "source": [
    "test_transformed.head()"
   ]
  },
  {
   "cell_type": "code",
   "execution_count": 56,
   "id": "76bf9887-c956-4a10-a6c7-337bf816ae8f",
   "metadata": {},
   "outputs": [
    {
     "data": {
      "text/plain": [
       "['temp',\n",
       " 'windspeed',\n",
       " 'sin_datetime_hour',\n",
       " 'cos_datetime_hour',\n",
       " 'sin_datetime_day',\n",
       " 'cos_datetime_day',\n",
       " 'count']"
      ]
     },
     "execution_count": 56,
     "metadata": {},
     "output_type": "execute_result"
    }
   ],
   "source": [
    "continuous_variables_after_corr"
   ]
  },
  {
   "cell_type": "code",
   "execution_count": 57,
   "id": "de5be50c-1ed0-440f-9ac8-3d0039040131",
   "metadata": {},
   "outputs": [
    {
     "data": {
      "text/plain": [
       "['season_2',\n",
       " 'season_3',\n",
       " 'season_4',\n",
       " 'holiday_1',\n",
       " 'workingday_1',\n",
       " 'weather_2',\n",
       " 'weather_3',\n",
       " 'weather_4',\n",
       " 'datetime_year_2012']"
      ]
     },
     "execution_count": 57,
     "metadata": {},
     "output_type": "execute_result"
    }
   ],
   "source": [
    "categorical_variables_after_corr"
   ]
  },
  {
   "cell_type": "code",
   "execution_count": 58,
   "id": "90d48067-fbae-495f-b0f2-9d2107ff831a",
   "metadata": {},
   "outputs": [],
   "source": [
    "test_cont_variables = continuous_variables_after_corr[:-1]\n",
    "test_cat_variables = categorical_variables_after_corr"
   ]
  },
  {
   "cell_type": "code",
   "execution_count": 59,
   "id": "3acc091a-8887-48f0-8b5b-35304b249f98",
   "metadata": {},
   "outputs": [],
   "source": [
    "test_continuous = test_transformed[test_cont_variables]\n",
    "test_categorical = pd.get_dummies(test_transformed[categorical_variables].astype('category'), drop_first=True)\n",
    "X_test = pd.concat([test_continuous, test_categorical], axis = 1)"
   ]
  },
  {
   "cell_type": "code",
   "execution_count": 60,
   "id": "4cb2cdd8-d0a4-4983-823f-a5bed72b7983",
   "metadata": {},
   "outputs": [
    {
     "data": {
      "text/html": [
       "<div>\n",
       "<style scoped>\n",
       "    .dataframe tbody tr th:only-of-type {\n",
       "        vertical-align: middle;\n",
       "    }\n",
       "\n",
       "    .dataframe tbody tr th {\n",
       "        vertical-align: top;\n",
       "    }\n",
       "\n",
       "    .dataframe thead th {\n",
       "        text-align: right;\n",
       "    }\n",
       "</style>\n",
       "<table border=\"1\" class=\"dataframe\">\n",
       "  <thead>\n",
       "    <tr style=\"text-align: right;\">\n",
       "      <th></th>\n",
       "      <th>temp</th>\n",
       "      <th>windspeed</th>\n",
       "      <th>sin_datetime_hour</th>\n",
       "      <th>cos_datetime_hour</th>\n",
       "      <th>sin_datetime_day</th>\n",
       "      <th>cos_datetime_day</th>\n",
       "      <th>season_2</th>\n",
       "      <th>season_3</th>\n",
       "      <th>season_4</th>\n",
       "      <th>holiday_1</th>\n",
       "      <th>workingday_1</th>\n",
       "      <th>weather_2</th>\n",
       "      <th>weather_3</th>\n",
       "      <th>weather_4</th>\n",
       "      <th>datetime_year_2012</th>\n",
       "    </tr>\n",
       "  </thead>\n",
       "  <tbody>\n",
       "    <tr>\n",
       "      <th>0</th>\n",
       "      <td>10.66</td>\n",
       "      <td>26.0027</td>\n",
       "      <td>0.000000</td>\n",
       "      <td>1.000000</td>\n",
       "      <td>-0.743145</td>\n",
       "      <td>-0.669131</td>\n",
       "      <td>0</td>\n",
       "      <td>0</td>\n",
       "      <td>0</td>\n",
       "      <td>0</td>\n",
       "      <td>1</td>\n",
       "      <td>0</td>\n",
       "      <td>0</td>\n",
       "      <td>0</td>\n",
       "      <td>0</td>\n",
       "    </tr>\n",
       "    <tr>\n",
       "      <th>1</th>\n",
       "      <td>10.66</td>\n",
       "      <td>0.0000</td>\n",
       "      <td>0.258819</td>\n",
       "      <td>0.965926</td>\n",
       "      <td>-0.743145</td>\n",
       "      <td>-0.669131</td>\n",
       "      <td>0</td>\n",
       "      <td>0</td>\n",
       "      <td>0</td>\n",
       "      <td>0</td>\n",
       "      <td>1</td>\n",
       "      <td>0</td>\n",
       "      <td>0</td>\n",
       "      <td>0</td>\n",
       "      <td>0</td>\n",
       "    </tr>\n",
       "    <tr>\n",
       "      <th>2</th>\n",
       "      <td>10.66</td>\n",
       "      <td>0.0000</td>\n",
       "      <td>0.500000</td>\n",
       "      <td>0.866025</td>\n",
       "      <td>-0.743145</td>\n",
       "      <td>-0.669131</td>\n",
       "      <td>0</td>\n",
       "      <td>0</td>\n",
       "      <td>0</td>\n",
       "      <td>0</td>\n",
       "      <td>1</td>\n",
       "      <td>0</td>\n",
       "      <td>0</td>\n",
       "      <td>0</td>\n",
       "      <td>0</td>\n",
       "    </tr>\n",
       "    <tr>\n",
       "      <th>3</th>\n",
       "      <td>10.66</td>\n",
       "      <td>11.0014</td>\n",
       "      <td>0.707107</td>\n",
       "      <td>0.707107</td>\n",
       "      <td>-0.743145</td>\n",
       "      <td>-0.669131</td>\n",
       "      <td>0</td>\n",
       "      <td>0</td>\n",
       "      <td>0</td>\n",
       "      <td>0</td>\n",
       "      <td>1</td>\n",
       "      <td>0</td>\n",
       "      <td>0</td>\n",
       "      <td>0</td>\n",
       "      <td>0</td>\n",
       "    </tr>\n",
       "    <tr>\n",
       "      <th>4</th>\n",
       "      <td>10.66</td>\n",
       "      <td>11.0014</td>\n",
       "      <td>0.866025</td>\n",
       "      <td>0.500000</td>\n",
       "      <td>-0.743145</td>\n",
       "      <td>-0.669131</td>\n",
       "      <td>0</td>\n",
       "      <td>0</td>\n",
       "      <td>0</td>\n",
       "      <td>0</td>\n",
       "      <td>1</td>\n",
       "      <td>0</td>\n",
       "      <td>0</td>\n",
       "      <td>0</td>\n",
       "      <td>0</td>\n",
       "    </tr>\n",
       "  </tbody>\n",
       "</table>\n",
       "</div>"
      ],
      "text/plain": [
       "    temp  windspeed  sin_datetime_hour  cos_datetime_hour  sin_datetime_day  \\\n",
       "0  10.66    26.0027           0.000000           1.000000         -0.743145   \n",
       "1  10.66     0.0000           0.258819           0.965926         -0.743145   \n",
       "2  10.66     0.0000           0.500000           0.866025         -0.743145   \n",
       "3  10.66    11.0014           0.707107           0.707107         -0.743145   \n",
       "4  10.66    11.0014           0.866025           0.500000         -0.743145   \n",
       "\n",
       "   cos_datetime_day  season_2  season_3  season_4  holiday_1  workingday_1  \\\n",
       "0         -0.669131         0         0         0          0             1   \n",
       "1         -0.669131         0         0         0          0             1   \n",
       "2         -0.669131         0         0         0          0             1   \n",
       "3         -0.669131         0         0         0          0             1   \n",
       "4         -0.669131         0         0         0          0             1   \n",
       "\n",
       "   weather_2  weather_3  weather_4  datetime_year_2012  \n",
       "0          0          0          0                   0  \n",
       "1          0          0          0                   0  \n",
       "2          0          0          0                   0  \n",
       "3          0          0          0                   0  \n",
       "4          0          0          0                   0  "
      ]
     },
     "execution_count": 60,
     "metadata": {},
     "output_type": "execute_result"
    }
   ],
   "source": [
    "X_test.head()"
   ]
  },
  {
   "cell_type": "code",
   "execution_count": 71,
   "id": "f7e37a4c-2971-4a31-9624-8bd1f622b391",
   "metadata": {},
   "outputs": [],
   "source": [
    "pd.concat([test['datetime'], pd.DataFrame({'count' : np.exp(final_model.predict(X_test)) - 1})], axis=1).to_csv('predict.csv', index=False)"
   ]
  },
  {
   "cell_type": "markdown",
   "id": "adbb17cd-07cf-4c3c-848a-0aeaed43d30e",
   "metadata": {},
   "source": [
    "This yielded a test score of 0.394 on kaggle, placing this solution in the top 10 percentile"
   ]
  }
 ],
 "metadata": {
  "kernelspec": {
   "display_name": "Python 3 (ipykernel)",
   "language": "python",
   "name": "python3"
  },
  "language_info": {
   "codemirror_mode": {
    "name": "ipython",
    "version": 3
   },
   "file_extension": ".py",
   "mimetype": "text/x-python",
   "name": "python",
   "nbconvert_exporter": "python",
   "pygments_lexer": "ipython3",
   "version": "3.8.12"
  }
 },
 "nbformat": 4,
 "nbformat_minor": 5
}
