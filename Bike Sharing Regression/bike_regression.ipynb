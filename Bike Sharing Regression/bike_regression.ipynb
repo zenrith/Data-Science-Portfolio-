{
 "cells": [
  {
   "cell_type": "code",
   "execution_count": 789,
   "id": "c7fa18cc-c77d-401d-8bb5-ba0d683fdce7",
   "metadata": {},
   "outputs": [],
   "source": [
    "import pandas as pd \n",
    "import numpy as np\n",
    "import matplotlib.pyplot as plt\n",
    "import seaborn as sns\n",
    "%matplotlib inline\n",
    "\n",
    "from scipy.stats import pearsonr\n",
    "from scipy.stats import pointbiserialr\n",
    "from scipy.stats import chi2_contingency\n",
    "from statsmodels.stats.outliers_influence import variance_inflation_factor\n",
    "from scipy.stats import zscore\n",
    "\n",
    "from sklearn.linear_model import LinearRegression\n",
    "from sklearn.linear_model import Lasso, LassoCV\n",
    "from sklearn.ensemble import RandomForestRegressor\n",
    "from sklearn.tree import DecisionTreeRegressor\n",
    "from sklearn.preprocessing import StandardScaler\n",
    "from sklearn.model_selection import train_test_split\n",
    "from sklearn.preprocessing import StandardScaler\n",
    "from sklearn.preprocessing import scale\n",
    "from sklearn.preprocessing import OneHotEncoder\n",
    "from sklearn.metrics import r2_score\n",
    "from sklearn.metrics import mean_squared_log_error\n",
    "from sklearn.model_selection import cross_val_score\n",
    "from scipy.special import inv_boxcox\n",
    "from scipy.stats import boxcox\n",
    "\n",
    "from statsmodels.regression.linear_model import OLS\n",
    "import statsmodels.api as sm\n",
    "\n",
    "import xgboost as xgb\n",
    "\n",
    "from sklearn.model_selection import GridSearchCV\n",
    "from sklearn.model_selection import RandomizedSearchCV\n",
    "\n",
    "import pickle"
   ]
  },
  {
   "cell_type": "markdown",
   "id": "030d925b-0c43-46aa-9f84-202b07db9b17",
   "metadata": {},
   "source": [
    "#### Data Cleaning / Feature engineering / Preprocessing"
   ]
  },
  {
   "cell_type": "code",
   "execution_count": 638,
   "id": "621a4fda-48fd-434a-be21-dc7e47a1ba96",
   "metadata": {},
   "outputs": [],
   "source": [
    "train = pd.read_csv('train.csv')\n",
    "test = pd.read_csv('test.csv')"
   ]
  },
  {
   "cell_type": "code",
   "execution_count": 639,
   "id": "f09ea857-bb59-48df-bffe-ddb7c6494320",
   "metadata": {},
   "outputs": [
    {
     "name": "stdout",
     "output_type": "stream",
     "text": [
      "train duplicated: 0\n",
      "test duplicated: 0\n",
      "train nulls: 0\n",
      "test nulls: 0\n"
     ]
    }
   ],
   "source": [
    "# verify no duplicate / nulls\n",
    "\n",
    "print(\"train duplicated: {}\".format(train.duplicated().sum()))\n",
    "print(\"test duplicated: {}\".format(test.duplicated().sum()))\n",
    "print(\"train nulls: {}\".format(train.isnull().any().sum()))\n",
    "print(\"test nulls: {}\".format(test.isnull().any().sum()))"
   ]
  },
  {
   "cell_type": "code",
   "execution_count": 640,
   "id": "566c3d7b-1e9c-43cc-9a5e-3d26472ba9ab",
   "metadata": {},
   "outputs": [
    {
     "data": {
      "text/html": [
       "<div>\n",
       "<style scoped>\n",
       "    .dataframe tbody tr th:only-of-type {\n",
       "        vertical-align: middle;\n",
       "    }\n",
       "\n",
       "    .dataframe tbody tr th {\n",
       "        vertical-align: top;\n",
       "    }\n",
       "\n",
       "    .dataframe thead th {\n",
       "        text-align: right;\n",
       "    }\n",
       "</style>\n",
       "<table border=\"1\" class=\"dataframe\">\n",
       "  <thead>\n",
       "    <tr style=\"text-align: right;\">\n",
       "      <th></th>\n",
       "      <th>datetime</th>\n",
       "      <th>season</th>\n",
       "      <th>holiday</th>\n",
       "      <th>workingday</th>\n",
       "      <th>weather</th>\n",
       "      <th>temp</th>\n",
       "      <th>atemp</th>\n",
       "      <th>humidity</th>\n",
       "      <th>windspeed</th>\n",
       "      <th>casual</th>\n",
       "      <th>registered</th>\n",
       "      <th>count</th>\n",
       "    </tr>\n",
       "  </thead>\n",
       "  <tbody>\n",
       "    <tr>\n",
       "      <th>10556</th>\n",
       "      <td>2012-12-06 06:00:00</td>\n",
       "      <td>4</td>\n",
       "      <td>0</td>\n",
       "      <td>1</td>\n",
       "      <td>1</td>\n",
       "      <td>9.02</td>\n",
       "      <td>10.605</td>\n",
       "      <td>55</td>\n",
       "      <td>19.9995</td>\n",
       "      <td>2</td>\n",
       "      <td>122</td>\n",
       "      <td>124</td>\n",
       "    </tr>\n",
       "    <tr>\n",
       "      <th>1397</th>\n",
       "      <td>2011-04-04 02:00:00</td>\n",
       "      <td>2</td>\n",
       "      <td>0</td>\n",
       "      <td>1</td>\n",
       "      <td>1</td>\n",
       "      <td>15.58</td>\n",
       "      <td>19.695</td>\n",
       "      <td>66</td>\n",
       "      <td>16.9979</td>\n",
       "      <td>1</td>\n",
       "      <td>1</td>\n",
       "      <td>2</td>\n",
       "    </tr>\n",
       "    <tr>\n",
       "      <th>3942</th>\n",
       "      <td>2011-09-15 07:00:00</td>\n",
       "      <td>3</td>\n",
       "      <td>0</td>\n",
       "      <td>1</td>\n",
       "      <td>2</td>\n",
       "      <td>25.42</td>\n",
       "      <td>29.545</td>\n",
       "      <td>78</td>\n",
       "      <td>12.9980</td>\n",
       "      <td>17</td>\n",
       "      <td>321</td>\n",
       "      <td>338</td>\n",
       "    </tr>\n",
       "    <tr>\n",
       "      <th>8209</th>\n",
       "      <td>2012-07-03 10:00:00</td>\n",
       "      <td>3</td>\n",
       "      <td>0</td>\n",
       "      <td>1</td>\n",
       "      <td>1</td>\n",
       "      <td>33.62</td>\n",
       "      <td>37.120</td>\n",
       "      <td>43</td>\n",
       "      <td>15.0013</td>\n",
       "      <td>56</td>\n",
       "      <td>153</td>\n",
       "      <td>209</td>\n",
       "    </tr>\n",
       "    <tr>\n",
       "      <th>3811</th>\n",
       "      <td>2011-09-09 19:00:00</td>\n",
       "      <td>3</td>\n",
       "      <td>0</td>\n",
       "      <td>1</td>\n",
       "      <td>1</td>\n",
       "      <td>27.06</td>\n",
       "      <td>29.545</td>\n",
       "      <td>89</td>\n",
       "      <td>11.0014</td>\n",
       "      <td>33</td>\n",
       "      <td>316</td>\n",
       "      <td>349</td>\n",
       "    </tr>\n",
       "  </tbody>\n",
       "</table>\n",
       "</div>"
      ],
      "text/plain": [
       "                  datetime  season  holiday  workingday  weather   temp  \\\n",
       "10556  2012-12-06 06:00:00       4        0           1        1   9.02   \n",
       "1397   2011-04-04 02:00:00       2        0           1        1  15.58   \n",
       "3942   2011-09-15 07:00:00       3        0           1        2  25.42   \n",
       "8209   2012-07-03 10:00:00       3        0           1        1  33.62   \n",
       "3811   2011-09-09 19:00:00       3        0           1        1  27.06   \n",
       "\n",
       "        atemp  humidity  windspeed  casual  registered  count  \n",
       "10556  10.605        55    19.9995       2         122    124  \n",
       "1397   19.695        66    16.9979       1           1      2  \n",
       "3942   29.545        78    12.9980      17         321    338  \n",
       "8209   37.120        43    15.0013      56         153    209  \n",
       "3811   29.545        89    11.0014      33         316    349  "
      ]
     },
     "execution_count": 640,
     "metadata": {},
     "output_type": "execute_result"
    }
   ],
   "source": [
    "train.sample(5)"
   ]
  },
  {
   "cell_type": "code",
   "execution_count": 641,
   "id": "9da3aa43-c648-4c17-b1b5-0155acd35f48",
   "metadata": {},
   "outputs": [
    {
     "name": "stdout",
     "output_type": "stream",
     "text": [
      "<class 'pandas.core.frame.DataFrame'>\n",
      "RangeIndex: 10886 entries, 0 to 10885\n",
      "Data columns (total 12 columns):\n",
      " #   Column      Non-Null Count  Dtype  \n",
      "---  ------      --------------  -----  \n",
      " 0   datetime    10886 non-null  object \n",
      " 1   season      10886 non-null  int64  \n",
      " 2   holiday     10886 non-null  int64  \n",
      " 3   workingday  10886 non-null  int64  \n",
      " 4   weather     10886 non-null  int64  \n",
      " 5   temp        10886 non-null  float64\n",
      " 6   atemp       10886 non-null  float64\n",
      " 7   humidity    10886 non-null  int64  \n",
      " 8   windspeed   10886 non-null  float64\n",
      " 9   casual      10886 non-null  int64  \n",
      " 10  registered  10886 non-null  int64  \n",
      " 11  count       10886 non-null  int64  \n",
      "dtypes: float64(3), int64(8), object(1)\n",
      "memory usage: 1020.7+ KB\n"
     ]
    }
   ],
   "source": [
    "train.info()"
   ]
  },
  {
   "cell_type": "code",
   "execution_count": 802,
   "id": "cdf4dee5-9f5e-4822-8927-cc319ebb5925",
   "metadata": {},
   "outputs": [],
   "source": [
    "def datetime_breakdown(data, column_name):\n",
    "    df = data.copy()\n",
    "    df[column_name] = df[column_name].apply(pd.to_datetime, format = '%Y-%m-%d')\n",
    "    df[column_name + '_year'] = df[column_name].dt.year\n",
    "    df[column_name + '_month'] = df[column_name].dt.month\n",
    "    df[column_name + '_day'] = df[column_name].dt.day\n",
    "    df[column_name + '_hour'] = df[column_name].dt.hour\n",
    "    return df.drop(column_name, axis = 1)"
   ]
  },
  {
   "cell_type": "code",
   "execution_count": 643,
   "id": "59d073e2-8fbb-49c1-9b0a-a7751abfd24a",
   "metadata": {},
   "outputs": [],
   "source": [
    "train = datetime_breakdown(train, 'datetime')"
   ]
  },
  {
   "cell_type": "code",
   "execution_count": 644,
   "id": "4d431dcb-35d9-4d87-9d24-4baf6ff17bc8",
   "metadata": {},
   "outputs": [
    {
     "data": {
      "text/html": [
       "<div>\n",
       "<style scoped>\n",
       "    .dataframe tbody tr th:only-of-type {\n",
       "        vertical-align: middle;\n",
       "    }\n",
       "\n",
       "    .dataframe tbody tr th {\n",
       "        vertical-align: top;\n",
       "    }\n",
       "\n",
       "    .dataframe thead th {\n",
       "        text-align: right;\n",
       "    }\n",
       "</style>\n",
       "<table border=\"1\" class=\"dataframe\">\n",
       "  <thead>\n",
       "    <tr style=\"text-align: right;\">\n",
       "      <th></th>\n",
       "      <th>season</th>\n",
       "      <th>holiday</th>\n",
       "      <th>workingday</th>\n",
       "      <th>weather</th>\n",
       "      <th>temp</th>\n",
       "      <th>atemp</th>\n",
       "      <th>humidity</th>\n",
       "      <th>windspeed</th>\n",
       "      <th>casual</th>\n",
       "      <th>registered</th>\n",
       "      <th>count</th>\n",
       "      <th>datetime_year</th>\n",
       "      <th>datetime_month</th>\n",
       "      <th>datetime_day</th>\n",
       "      <th>datetime_hour</th>\n",
       "    </tr>\n",
       "  </thead>\n",
       "  <tbody>\n",
       "    <tr>\n",
       "      <th>0</th>\n",
       "      <td>1</td>\n",
       "      <td>0</td>\n",
       "      <td>0</td>\n",
       "      <td>1</td>\n",
       "      <td>9.84</td>\n",
       "      <td>14.395</td>\n",
       "      <td>81</td>\n",
       "      <td>0.0</td>\n",
       "      <td>3</td>\n",
       "      <td>13</td>\n",
       "      <td>16</td>\n",
       "      <td>2011</td>\n",
       "      <td>1</td>\n",
       "      <td>1</td>\n",
       "      <td>0</td>\n",
       "    </tr>\n",
       "    <tr>\n",
       "      <th>1</th>\n",
       "      <td>1</td>\n",
       "      <td>0</td>\n",
       "      <td>0</td>\n",
       "      <td>1</td>\n",
       "      <td>9.02</td>\n",
       "      <td>13.635</td>\n",
       "      <td>80</td>\n",
       "      <td>0.0</td>\n",
       "      <td>8</td>\n",
       "      <td>32</td>\n",
       "      <td>40</td>\n",
       "      <td>2011</td>\n",
       "      <td>1</td>\n",
       "      <td>1</td>\n",
       "      <td>1</td>\n",
       "    </tr>\n",
       "    <tr>\n",
       "      <th>2</th>\n",
       "      <td>1</td>\n",
       "      <td>0</td>\n",
       "      <td>0</td>\n",
       "      <td>1</td>\n",
       "      <td>9.02</td>\n",
       "      <td>13.635</td>\n",
       "      <td>80</td>\n",
       "      <td>0.0</td>\n",
       "      <td>5</td>\n",
       "      <td>27</td>\n",
       "      <td>32</td>\n",
       "      <td>2011</td>\n",
       "      <td>1</td>\n",
       "      <td>1</td>\n",
       "      <td>2</td>\n",
       "    </tr>\n",
       "    <tr>\n",
       "      <th>3</th>\n",
       "      <td>1</td>\n",
       "      <td>0</td>\n",
       "      <td>0</td>\n",
       "      <td>1</td>\n",
       "      <td>9.84</td>\n",
       "      <td>14.395</td>\n",
       "      <td>75</td>\n",
       "      <td>0.0</td>\n",
       "      <td>3</td>\n",
       "      <td>10</td>\n",
       "      <td>13</td>\n",
       "      <td>2011</td>\n",
       "      <td>1</td>\n",
       "      <td>1</td>\n",
       "      <td>3</td>\n",
       "    </tr>\n",
       "    <tr>\n",
       "      <th>4</th>\n",
       "      <td>1</td>\n",
       "      <td>0</td>\n",
       "      <td>0</td>\n",
       "      <td>1</td>\n",
       "      <td>9.84</td>\n",
       "      <td>14.395</td>\n",
       "      <td>75</td>\n",
       "      <td>0.0</td>\n",
       "      <td>0</td>\n",
       "      <td>1</td>\n",
       "      <td>1</td>\n",
       "      <td>2011</td>\n",
       "      <td>1</td>\n",
       "      <td>1</td>\n",
       "      <td>4</td>\n",
       "    </tr>\n",
       "  </tbody>\n",
       "</table>\n",
       "</div>"
      ],
      "text/plain": [
       "   season  holiday  workingday  weather  temp   atemp  humidity  windspeed  \\\n",
       "0       1        0           0        1  9.84  14.395        81        0.0   \n",
       "1       1        0           0        1  9.02  13.635        80        0.0   \n",
       "2       1        0           0        1  9.02  13.635        80        0.0   \n",
       "3       1        0           0        1  9.84  14.395        75        0.0   \n",
       "4       1        0           0        1  9.84  14.395        75        0.0   \n",
       "\n",
       "   casual  registered  count  datetime_year  datetime_month  datetime_day  \\\n",
       "0       3          13     16           2011               1             1   \n",
       "1       8          32     40           2011               1             1   \n",
       "2       5          27     32           2011               1             1   \n",
       "3       3          10     13           2011               1             1   \n",
       "4       0           1      1           2011               1             1   \n",
       "\n",
       "   datetime_hour  \n",
       "0              0  \n",
       "1              1  \n",
       "2              2  \n",
       "3              3  \n",
       "4              4  "
      ]
     },
     "execution_count": 644,
     "metadata": {},
     "output_type": "execute_result"
    }
   ],
   "source": [
    "train.head()"
   ]
  },
  {
   "cell_type": "code",
   "execution_count": 645,
   "id": "948da34c-dfe2-4141-a440-a9e9081474ae",
   "metadata": {},
   "outputs": [],
   "source": [
    "def plot_boxplots(data):\n",
    "    nrows = (len(data.columns) // 4) + 1\n",
    "    plt.figure(figsize=(25, nrows * 5))\n",
    "    sns.set(font_scale = 1)\n",
    "    columns = data.columns\n",
    "    for i in range(len(columns)):\n",
    "        plt.subplot(nrows, 4, i+1)\n",
    "        sns.boxplot(y = data[columns[i]])  \n",
    "        \n",
    "def plot_histograms(data):\n",
    "    nrows = (len(data.columns) // 4) + 1\n",
    "    plt.figure(figsize=(25, nrows * 5))\n",
    "    sns.set(font_scale = 1)\n",
    "    columns = data.columns\n",
    "    for i in range(len(columns)):\n",
    "        plt.subplot(nrows, 4, i+1)\n",
    "        sns.histplot(x = data[columns[i]])  "
   ]
  },
  {
   "cell_type": "code",
   "execution_count": 77,
   "id": "6ec86e95-ee98-48f8-a303-572fc09fe551",
   "metadata": {},
   "outputs": [
    {
     "data": {
      "text/html": [
       "<div>\n",
       "<style scoped>\n",
       "    .dataframe tbody tr th:only-of-type {\n",
       "        vertical-align: middle;\n",
       "    }\n",
       "\n",
       "    .dataframe tbody tr th {\n",
       "        vertical-align: top;\n",
       "    }\n",
       "\n",
       "    .dataframe thead th {\n",
       "        text-align: right;\n",
       "    }\n",
       "</style>\n",
       "<table border=\"1\" class=\"dataframe\">\n",
       "  <thead>\n",
       "    <tr style=\"text-align: right;\">\n",
       "      <th></th>\n",
       "      <th>season</th>\n",
       "      <th>holiday</th>\n",
       "      <th>workingday</th>\n",
       "      <th>weather</th>\n",
       "      <th>temp</th>\n",
       "      <th>atemp</th>\n",
       "      <th>humidity</th>\n",
       "      <th>windspeed</th>\n",
       "      <th>casual</th>\n",
       "      <th>registered</th>\n",
       "      <th>count</th>\n",
       "      <th>datetime_year</th>\n",
       "      <th>datetime_month</th>\n",
       "      <th>datetime_day</th>\n",
       "      <th>datetime_hour</th>\n",
       "    </tr>\n",
       "  </thead>\n",
       "  <tbody>\n",
       "    <tr>\n",
       "      <th>count</th>\n",
       "      <td>10886.000000</td>\n",
       "      <td>10886.000000</td>\n",
       "      <td>10886.000000</td>\n",
       "      <td>10886.000000</td>\n",
       "      <td>10886.00000</td>\n",
       "      <td>10886.000000</td>\n",
       "      <td>10886.000000</td>\n",
       "      <td>10886.000000</td>\n",
       "      <td>10886.000000</td>\n",
       "      <td>10886.000000</td>\n",
       "      <td>10886.000000</td>\n",
       "      <td>10886.000000</td>\n",
       "      <td>10886.000000</td>\n",
       "      <td>10886.000000</td>\n",
       "      <td>10886.000000</td>\n",
       "    </tr>\n",
       "    <tr>\n",
       "      <th>mean</th>\n",
       "      <td>2.506614</td>\n",
       "      <td>0.028569</td>\n",
       "      <td>0.680875</td>\n",
       "      <td>1.418427</td>\n",
       "      <td>20.23086</td>\n",
       "      <td>23.655084</td>\n",
       "      <td>61.886460</td>\n",
       "      <td>12.799395</td>\n",
       "      <td>36.021955</td>\n",
       "      <td>155.552177</td>\n",
       "      <td>191.574132</td>\n",
       "      <td>2011.501929</td>\n",
       "      <td>6.521495</td>\n",
       "      <td>9.992559</td>\n",
       "      <td>11.541613</td>\n",
       "    </tr>\n",
       "    <tr>\n",
       "      <th>std</th>\n",
       "      <td>1.116174</td>\n",
       "      <td>0.166599</td>\n",
       "      <td>0.466159</td>\n",
       "      <td>0.633839</td>\n",
       "      <td>7.79159</td>\n",
       "      <td>8.474601</td>\n",
       "      <td>19.245033</td>\n",
       "      <td>8.164537</td>\n",
       "      <td>49.960477</td>\n",
       "      <td>151.039033</td>\n",
       "      <td>181.144454</td>\n",
       "      <td>0.500019</td>\n",
       "      <td>3.444373</td>\n",
       "      <td>5.476608</td>\n",
       "      <td>6.915838</td>\n",
       "    </tr>\n",
       "    <tr>\n",
       "      <th>min</th>\n",
       "      <td>1.000000</td>\n",
       "      <td>0.000000</td>\n",
       "      <td>0.000000</td>\n",
       "      <td>1.000000</td>\n",
       "      <td>0.82000</td>\n",
       "      <td>0.760000</td>\n",
       "      <td>0.000000</td>\n",
       "      <td>0.000000</td>\n",
       "      <td>0.000000</td>\n",
       "      <td>0.000000</td>\n",
       "      <td>1.000000</td>\n",
       "      <td>2011.000000</td>\n",
       "      <td>1.000000</td>\n",
       "      <td>1.000000</td>\n",
       "      <td>0.000000</td>\n",
       "    </tr>\n",
       "    <tr>\n",
       "      <th>25%</th>\n",
       "      <td>2.000000</td>\n",
       "      <td>0.000000</td>\n",
       "      <td>0.000000</td>\n",
       "      <td>1.000000</td>\n",
       "      <td>13.94000</td>\n",
       "      <td>16.665000</td>\n",
       "      <td>47.000000</td>\n",
       "      <td>7.001500</td>\n",
       "      <td>4.000000</td>\n",
       "      <td>36.000000</td>\n",
       "      <td>42.000000</td>\n",
       "      <td>2011.000000</td>\n",
       "      <td>4.000000</td>\n",
       "      <td>5.000000</td>\n",
       "      <td>6.000000</td>\n",
       "    </tr>\n",
       "    <tr>\n",
       "      <th>50%</th>\n",
       "      <td>3.000000</td>\n",
       "      <td>0.000000</td>\n",
       "      <td>1.000000</td>\n",
       "      <td>1.000000</td>\n",
       "      <td>20.50000</td>\n",
       "      <td>24.240000</td>\n",
       "      <td>62.000000</td>\n",
       "      <td>12.998000</td>\n",
       "      <td>17.000000</td>\n",
       "      <td>118.000000</td>\n",
       "      <td>145.000000</td>\n",
       "      <td>2012.000000</td>\n",
       "      <td>7.000000</td>\n",
       "      <td>10.000000</td>\n",
       "      <td>12.000000</td>\n",
       "    </tr>\n",
       "    <tr>\n",
       "      <th>75%</th>\n",
       "      <td>4.000000</td>\n",
       "      <td>0.000000</td>\n",
       "      <td>1.000000</td>\n",
       "      <td>2.000000</td>\n",
       "      <td>26.24000</td>\n",
       "      <td>31.060000</td>\n",
       "      <td>77.000000</td>\n",
       "      <td>16.997900</td>\n",
       "      <td>49.000000</td>\n",
       "      <td>222.000000</td>\n",
       "      <td>284.000000</td>\n",
       "      <td>2012.000000</td>\n",
       "      <td>10.000000</td>\n",
       "      <td>15.000000</td>\n",
       "      <td>18.000000</td>\n",
       "    </tr>\n",
       "    <tr>\n",
       "      <th>max</th>\n",
       "      <td>4.000000</td>\n",
       "      <td>1.000000</td>\n",
       "      <td>1.000000</td>\n",
       "      <td>4.000000</td>\n",
       "      <td>41.00000</td>\n",
       "      <td>45.455000</td>\n",
       "      <td>100.000000</td>\n",
       "      <td>56.996900</td>\n",
       "      <td>367.000000</td>\n",
       "      <td>886.000000</td>\n",
       "      <td>977.000000</td>\n",
       "      <td>2012.000000</td>\n",
       "      <td>12.000000</td>\n",
       "      <td>19.000000</td>\n",
       "      <td>23.000000</td>\n",
       "    </tr>\n",
       "  </tbody>\n",
       "</table>\n",
       "</div>"
      ],
      "text/plain": [
       "             season       holiday    workingday       weather         temp  \\\n",
       "count  10886.000000  10886.000000  10886.000000  10886.000000  10886.00000   \n",
       "mean       2.506614      0.028569      0.680875      1.418427     20.23086   \n",
       "std        1.116174      0.166599      0.466159      0.633839      7.79159   \n",
       "min        1.000000      0.000000      0.000000      1.000000      0.82000   \n",
       "25%        2.000000      0.000000      0.000000      1.000000     13.94000   \n",
       "50%        3.000000      0.000000      1.000000      1.000000     20.50000   \n",
       "75%        4.000000      0.000000      1.000000      2.000000     26.24000   \n",
       "max        4.000000      1.000000      1.000000      4.000000     41.00000   \n",
       "\n",
       "              atemp      humidity     windspeed        casual    registered  \\\n",
       "count  10886.000000  10886.000000  10886.000000  10886.000000  10886.000000   \n",
       "mean      23.655084     61.886460     12.799395     36.021955    155.552177   \n",
       "std        8.474601     19.245033      8.164537     49.960477    151.039033   \n",
       "min        0.760000      0.000000      0.000000      0.000000      0.000000   \n",
       "25%       16.665000     47.000000      7.001500      4.000000     36.000000   \n",
       "50%       24.240000     62.000000     12.998000     17.000000    118.000000   \n",
       "75%       31.060000     77.000000     16.997900     49.000000    222.000000   \n",
       "max       45.455000    100.000000     56.996900    367.000000    886.000000   \n",
       "\n",
       "              count  datetime_year  datetime_month  datetime_day  \\\n",
       "count  10886.000000   10886.000000    10886.000000  10886.000000   \n",
       "mean     191.574132    2011.501929        6.521495      9.992559   \n",
       "std      181.144454       0.500019        3.444373      5.476608   \n",
       "min        1.000000    2011.000000        1.000000      1.000000   \n",
       "25%       42.000000    2011.000000        4.000000      5.000000   \n",
       "50%      145.000000    2012.000000        7.000000     10.000000   \n",
       "75%      284.000000    2012.000000       10.000000     15.000000   \n",
       "max      977.000000    2012.000000       12.000000     19.000000   \n",
       "\n",
       "       datetime_hour  \n",
       "count   10886.000000  \n",
       "mean       11.541613  \n",
       "std         6.915838  \n",
       "min         0.000000  \n",
       "25%         6.000000  \n",
       "50%        12.000000  \n",
       "75%        18.000000  \n",
       "max        23.000000  "
      ]
     },
     "execution_count": 77,
     "metadata": {},
     "output_type": "execute_result"
    }
   ],
   "source": [
    "train.describe()"
   ]
  },
  {
   "cell_type": "code",
   "execution_count": 817,
   "id": "aa85ad85-1d77-412a-afa9-ac616fc67e4b",
   "metadata": {},
   "outputs": [],
   "source": [
    "# assumes that datetime starts from 0 to max_datetime - 1. eg. hour ranges from 0 to 23, not 1 to 24\n",
    "# only works properly for month, day, hour\n",
    "\n",
    "def cyclic_datetime(data, column_name, datetime_type):\n",
    "    df = data.copy()\n",
    "    divided_by = 0\n",
    "    if datetime_type == 'hour':\n",
    "        divided_by = 24\n",
    "        df['sin_' + column_name] = np.sin(df[column_name] * (2 * np.pi / divided_by)) # no need to -1 since min hour = 0\n",
    "        df['cos_' + column_name] = np.cos(df[column_name] * (2 * np.pi / divided_by))\n",
    "    else:\n",
    "        if datetime_type == 'month':\n",
    "            divided_by = 12\n",
    "        if datetime_type == 'day': \n",
    "            divided_by = 30\n",
    "        df['sin_' + column_name] = np.sin((df[column_name] - 1) * (2 * np.pi / divided_by)) # -1 since min day / min month = 1\n",
    "        df['cos_' + column_name] = np.cos((df[column_name] - 1) * (2 * np.pi / divided_by))\n",
    "    df = df.drop(column_name, axis = 1)\n",
    "    return df"
   ]
  },
  {
   "cell_type": "code",
   "execution_count": 820,
   "id": "d702a968-456b-4369-b342-f18964f647e7",
   "metadata": {
    "tags": []
   },
   "outputs": [],
   "source": [
    "times = ['datetime_month', 'datetime_hour', 'datetime_day']\n",
    "datetime_type = ['month', 'hour', 'day']\n",
    "train_after_date = train.copy()\n",
    "for i in range(0, len(times)):\n",
    "    train_after_date = cyclic_datetime(train_after_date, times[i], datetime_type[i])"
   ]
  },
  {
   "cell_type": "code",
   "execution_count": 821,
   "id": "5db949d1-0cfe-46e7-8591-d099fbd6a426",
   "metadata": {},
   "outputs": [
    {
     "data": {
      "text/plain": [
       "Index(['season', 'holiday', 'workingday', 'weather', 'temp', 'atemp',\n",
       "       'humidity', 'windspeed', 'casual', 'registered', 'count',\n",
       "       'datetime_year', 'sin_datetime_month', 'cos_datetime_month',\n",
       "       'sin_datetime_hour', 'cos_datetime_hour', 'sin_datetime_day',\n",
       "       'cos_datetime_day'],\n",
       "      dtype='object')"
      ]
     },
     "execution_count": 821,
     "metadata": {},
     "output_type": "execute_result"
    }
   ],
   "source": [
    "train_after_date.columns"
   ]
  },
  {
   "cell_type": "code",
   "execution_count": 649,
   "id": "e31d8882-54d4-4eb3-b224-4cc0154983f8",
   "metadata": {},
   "outputs": [],
   "source": [
    "# drop registered and casual since they add up to count\n",
    "continuous_variables = ['temp', 'atemp', 'humidity', 'windspeed', 'sin_datetime_month',\n",
    "                        'cos_datetime_month', 'sin_datetime_hour', 'cos_datetime_hour', \n",
    "                        'sin_datetime_day', 'cos_datetime_day', 'count']\n",
    "categorical_variables = ['season', 'holiday', 'workingday', 'weather', 'datetime_year']"
   ]
  },
  {
   "cell_type": "code",
   "execution_count": 650,
   "id": "fab3fbf9-9034-432b-8483-712c5ef1d86a",
   "metadata": {},
   "outputs": [],
   "source": [
    "train_after_date = train_after_date[continuous_variables + categorical_variables]"
   ]
  },
  {
   "cell_type": "code",
   "execution_count": 651,
   "id": "dd5c4042-a630-4d7a-a617-dcfe67c83f3e",
   "metadata": {},
   "outputs": [
    {
     "data": {
      "text/html": [
       "<div>\n",
       "<style scoped>\n",
       "    .dataframe tbody tr th:only-of-type {\n",
       "        vertical-align: middle;\n",
       "    }\n",
       "\n",
       "    .dataframe tbody tr th {\n",
       "        vertical-align: top;\n",
       "    }\n",
       "\n",
       "    .dataframe thead th {\n",
       "        text-align: right;\n",
       "    }\n",
       "</style>\n",
       "<table border=\"1\" class=\"dataframe\">\n",
       "  <thead>\n",
       "    <tr style=\"text-align: right;\">\n",
       "      <th></th>\n",
       "      <th>temp</th>\n",
       "      <th>atemp</th>\n",
       "      <th>humidity</th>\n",
       "      <th>windspeed</th>\n",
       "      <th>sin_datetime_month</th>\n",
       "      <th>cos_datetime_month</th>\n",
       "      <th>sin_datetime_hour</th>\n",
       "      <th>cos_datetime_hour</th>\n",
       "      <th>sin_datetime_day</th>\n",
       "      <th>cos_datetime_day</th>\n",
       "      <th>count</th>\n",
       "      <th>season</th>\n",
       "      <th>holiday</th>\n",
       "      <th>workingday</th>\n",
       "      <th>weather</th>\n",
       "      <th>datetime_year</th>\n",
       "    </tr>\n",
       "  </thead>\n",
       "  <tbody>\n",
       "    <tr>\n",
       "      <th>0</th>\n",
       "      <td>9.84</td>\n",
       "      <td>14.395</td>\n",
       "      <td>81</td>\n",
       "      <td>0.0</td>\n",
       "      <td>0.0</td>\n",
       "      <td>1.0</td>\n",
       "      <td>0.000000</td>\n",
       "      <td>1.000000</td>\n",
       "      <td>0.0</td>\n",
       "      <td>1.0</td>\n",
       "      <td>16</td>\n",
       "      <td>1</td>\n",
       "      <td>0</td>\n",
       "      <td>0</td>\n",
       "      <td>1</td>\n",
       "      <td>2011</td>\n",
       "    </tr>\n",
       "    <tr>\n",
       "      <th>1</th>\n",
       "      <td>9.02</td>\n",
       "      <td>13.635</td>\n",
       "      <td>80</td>\n",
       "      <td>0.0</td>\n",
       "      <td>0.0</td>\n",
       "      <td>1.0</td>\n",
       "      <td>0.258819</td>\n",
       "      <td>0.965926</td>\n",
       "      <td>0.0</td>\n",
       "      <td>1.0</td>\n",
       "      <td>40</td>\n",
       "      <td>1</td>\n",
       "      <td>0</td>\n",
       "      <td>0</td>\n",
       "      <td>1</td>\n",
       "      <td>2011</td>\n",
       "    </tr>\n",
       "    <tr>\n",
       "      <th>2</th>\n",
       "      <td>9.02</td>\n",
       "      <td>13.635</td>\n",
       "      <td>80</td>\n",
       "      <td>0.0</td>\n",
       "      <td>0.0</td>\n",
       "      <td>1.0</td>\n",
       "      <td>0.500000</td>\n",
       "      <td>0.866025</td>\n",
       "      <td>0.0</td>\n",
       "      <td>1.0</td>\n",
       "      <td>32</td>\n",
       "      <td>1</td>\n",
       "      <td>0</td>\n",
       "      <td>0</td>\n",
       "      <td>1</td>\n",
       "      <td>2011</td>\n",
       "    </tr>\n",
       "    <tr>\n",
       "      <th>3</th>\n",
       "      <td>9.84</td>\n",
       "      <td>14.395</td>\n",
       "      <td>75</td>\n",
       "      <td>0.0</td>\n",
       "      <td>0.0</td>\n",
       "      <td>1.0</td>\n",
       "      <td>0.707107</td>\n",
       "      <td>0.707107</td>\n",
       "      <td>0.0</td>\n",
       "      <td>1.0</td>\n",
       "      <td>13</td>\n",
       "      <td>1</td>\n",
       "      <td>0</td>\n",
       "      <td>0</td>\n",
       "      <td>1</td>\n",
       "      <td>2011</td>\n",
       "    </tr>\n",
       "    <tr>\n",
       "      <th>4</th>\n",
       "      <td>9.84</td>\n",
       "      <td>14.395</td>\n",
       "      <td>75</td>\n",
       "      <td>0.0</td>\n",
       "      <td>0.0</td>\n",
       "      <td>1.0</td>\n",
       "      <td>0.866025</td>\n",
       "      <td>0.500000</td>\n",
       "      <td>0.0</td>\n",
       "      <td>1.0</td>\n",
       "      <td>1</td>\n",
       "      <td>1</td>\n",
       "      <td>0</td>\n",
       "      <td>0</td>\n",
       "      <td>1</td>\n",
       "      <td>2011</td>\n",
       "    </tr>\n",
       "  </tbody>\n",
       "</table>\n",
       "</div>"
      ],
      "text/plain": [
       "   temp   atemp  humidity  windspeed  sin_datetime_month  cos_datetime_month  \\\n",
       "0  9.84  14.395        81        0.0                 0.0                 1.0   \n",
       "1  9.02  13.635        80        0.0                 0.0                 1.0   \n",
       "2  9.02  13.635        80        0.0                 0.0                 1.0   \n",
       "3  9.84  14.395        75        0.0                 0.0                 1.0   \n",
       "4  9.84  14.395        75        0.0                 0.0                 1.0   \n",
       "\n",
       "   sin_datetime_hour  cos_datetime_hour  sin_datetime_day  cos_datetime_day  \\\n",
       "0           0.000000           1.000000               0.0               1.0   \n",
       "1           0.258819           0.965926               0.0               1.0   \n",
       "2           0.500000           0.866025               0.0               1.0   \n",
       "3           0.707107           0.707107               0.0               1.0   \n",
       "4           0.866025           0.500000               0.0               1.0   \n",
       "\n",
       "   count  season  holiday  workingday  weather  datetime_year  \n",
       "0     16       1        0           0        1           2011  \n",
       "1     40       1        0           0        1           2011  \n",
       "2     32       1        0           0        1           2011  \n",
       "3     13       1        0           0        1           2011  \n",
       "4      1       1        0           0        1           2011  "
      ]
     },
     "execution_count": 651,
     "metadata": {},
     "output_type": "execute_result"
    }
   ],
   "source": [
    "train_after_date.head()"
   ]
  },
  {
   "cell_type": "code",
   "execution_count": 652,
   "id": "32595550-8d4f-45cb-8f65-b345491d072e",
   "metadata": {},
   "outputs": [],
   "source": [
    "train_continuous = train_after_date[continuous_variables]"
   ]
  },
  {
   "cell_type": "code",
   "execution_count": 653,
   "id": "0eb739df-4072-4d86-9f11-b3413e8e187f",
   "metadata": {},
   "outputs": [
    {
     "data": {
      "image/png": "[encoded data removed]",
      "text/plain": [
       "<Figure size 1800x1080 with 11 Axes>"
      ]
     },
     "metadata": {
      "needs_background": "light"
     },
     "output_type": "display_data"
    }
   ],
   "source": [
    "plot_boxplots(train_continuous)\n",
    "\n",
    "# windspeed and cnt have numerous outliers "
   ]
  },
  {
   "cell_type": "code",
   "execution_count": 654,
   "id": "ea351639-2842-4fda-b4dd-c08dbcb1074a",
   "metadata": {},
   "outputs": [
    {
     "data": {
      "image/png": "[encoded data removed]",
      "text/plain": [
       "<Figure size 1800x1080 with 11 Axes>"
      ]
     },
     "metadata": {},
     "output_type": "display_data"
    }
   ],
   "source": [
    "plot_histograms(train_continuous)"
   ]
  },
  {
   "cell_type": "markdown",
   "id": "6bf8d21a-9f6e-4a19-96da-6b15d33fa6a1",
   "metadata": {},
   "source": [
    "Observations:\n",
    "- Boxplot:\n",
    "    - windspeed and count have many outliers \n",
    "    - humidity = 0? \n",
    "- Histograms:\n",
    "    - windspeed and count are quite skewed"
   ]
  },
  {
   "cell_type": "code",
   "execution_count": 655,
   "id": "3720501e-0f06-41dd-b6c2-e5e596443a8b",
   "metadata": {},
   "outputs": [],
   "source": [
    "def identify_outliers(data, feature):\n",
    "    percentile25 = data[feature].quantile(0.25)\n",
    "    percentile75 = data[feature].quantile(0.75)\n",
    "    iqr = percentile75 - percentile25\n",
    "    upper = percentile75 + 1.5 * iqr\n",
    "    lower = percentile25 - 1.5 * iqr\n",
    "    return data[(data[feature] < lower) | (data[feature] > upper)]\n",
    "\n",
    "def remove_outliers(data, feature):\n",
    "    percentile25 = data[feature].quantile(0.25)\n",
    "    percentile75 = data[feature].quantile(0.75)\n",
    "    iqr = percentile75 - percentile25\n",
    "    upper = percentile75 + 1.5 * iqr\n",
    "    lower = percentile25 - 1.5 * iqr\n",
    "    return data[(data[feature] >= lower) & (data[feature] <= upper)]"
   ]
  },
  {
   "cell_type": "code",
   "execution_count": 656,
   "id": "79195e85-6462-4dcf-809e-faca0ec2ec42",
   "metadata": {},
   "outputs": [],
   "source": [
    "X_train_continuous = train_after_date[continuous_variables].drop('count', axis = 1)\n",
    "y_train = train_after_date[['count']]"
   ]
  },
  {
   "cell_type": "code",
   "execution_count": 657,
   "id": "674fc28e-3111-4e77-bef9-ad2d10e41446",
   "metadata": {},
   "outputs": [],
   "source": [
    "scaled_continuous = StandardScaler().fit(X_train_continuous)"
   ]
  },
  {
   "cell_type": "code",
   "execution_count": 658,
   "id": "f3c5d723-0160-45e3-b171-fb44d615bbd0",
   "metadata": {},
   "outputs": [],
   "source": [
    "X_train_scaled_continuous = pd.DataFrame(scaled_continuous.transform(X_train_continuous))"
   ]
  },
  {
   "cell_type": "code",
   "execution_count": 659,
   "id": "7e2a75fe-b684-41a0-957b-94ecb2e9644c",
   "metadata": {},
   "outputs": [],
   "source": [
    "X_train_scaled_continuous.columns = scaled_continuous.feature_names_in_"
   ]
  },
  {
   "cell_type": "code",
   "execution_count": 660,
   "id": "dbc90f57-be93-4a96-b0ae-13eeb4b15d69",
   "metadata": {},
   "outputs": [
    {
     "data": {
      "image/png": "[encoded data removed]",
      "text/plain": [
       "<Figure size 1800x1080 with 10 Axes>"
      ]
     },
     "metadata": {},
     "output_type": "display_data"
    }
   ],
   "source": [
    "plot_histograms(X_train_scaled_continuous) # windspeed still quite skewed"
   ]
  },
  {
   "cell_type": "code",
   "execution_count": 661,
   "id": "51bb43e9-ee74-4419-80d0-150979decc70",
   "metadata": {},
   "outputs": [
    {
     "data": {
      "image/png": "[encoded data removed]",
      "text/plain": [
       "<Figure size 1800x1080 with 10 Axes>"
      ]
     },
     "metadata": {},
     "output_type": "display_data"
    }
   ],
   "source": [
    "plot_boxplots(X_train_scaled_continuous) # consider transforming windspeed to reduce number of outliers"
   ]
  },
  {
   "cell_type": "code",
   "execution_count": 662,
   "id": "b4f100d6-6f8a-47d3-b2c5-db4b77bd0b96",
   "metadata": {},
   "outputs": [
    {
     "name": "stdout",
     "output_type": "stream",
     "text": [
      "Num outliers for windspeed: 227\n"
     ]
    }
   ],
   "source": [
    "# print(\"Num outliers for temp: {}\".format(len(identify_outliers(bike_continuous, 'temp'))))\n",
    "# print(\"Num outliers for cnt: {}\".format(len(identify_outliers(bike_continuous, 'cnt'))))\n",
    "# print(\"Num outliers for hum: {}\".format(len(identify_outliers(bike_continuous, 'hum'))))\n",
    "print(\"Num outliers for windspeed: {}\".format(len(identify_outliers(X_train_scaled_continuous, 'windspeed'))))"
   ]
  },
  {
   "cell_type": "code",
   "execution_count": 663,
   "id": "83a438a7-447d-452b-87ea-e313be365cab",
   "metadata": {},
   "outputs": [
    {
     "name": "stdout",
     "output_type": "stream",
     "text": [
      "Num outliers for windspeed: 29\n"
     ]
    }
   ],
   "source": [
    "print(\"Num outliers for windspeed: {}\".format(len(identify_outliers(np.cbrt(X_train_scaled_continuous[['windspeed']] + 2), 'windspeed')))) \n",
    "# after trying log, log(x+1), sqrt(x + 1), sqrt"
   ]
  },
  {
   "cell_type": "code",
   "execution_count": 664,
   "id": "e2fa7510-4f0c-425b-8ef2-b7d6734c5608",
   "metadata": {},
   "outputs": [
    {
     "data": {
      "image/png": "[encoded data removed]",
      "text/plain": [
       "<Figure size 452.225x360 with 1 Axes>"
      ]
     },
     "metadata": {},
     "output_type": "display_data"
    }
   ],
   "source": [
    "sns.displot(np.cbrt(X_train_scaled_continuous[['windspeed']] + 2))\n",
    "plt.show()"
   ]
  },
  {
   "cell_type": "code",
   "execution_count": 665,
   "id": "9ea29c66-49c0-45ec-b8f0-0f5604ae1c24",
   "metadata": {},
   "outputs": [],
   "source": [
    "y_train_boxcox, y_lamd = boxcox(y_train['count'])"
   ]
  },
  {
   "cell_type": "code",
   "execution_count": 666,
   "id": "7f8643c0-e199-46a2-a9d7-00915d5ec670",
   "metadata": {},
   "outputs": [],
   "source": [
    "y_train_boxcox = pd.DataFrame(y_train_boxcox).rename({0 : 'count'}, axis = 1)"
   ]
  },
  {
   "cell_type": "code",
   "execution_count": 667,
   "id": "2d0c58cd-c505-4ccf-a466-69efa41d1848",
   "metadata": {},
   "outputs": [
    {
     "name": "stdout",
     "output_type": "stream",
     "text": [
      "Num outliers for count: 0\n"
     ]
    }
   ],
   "source": [
    "print(\"Num outliers for count: {}\".format(len(identify_outliers(y_train_boxcox, 'count'))))"
   ]
  },
  {
   "cell_type": "code",
   "execution_count": 668,
   "id": "18d80364-d4f1-4be3-8627-9123de81f306",
   "metadata": {},
   "outputs": [
    {
     "data": {
      "image/png": "[encoded data removed]",
      "text/plain": [
       "<Figure size 426.6x360 with 1 Axes>"
      ]
     },
     "metadata": {},
     "output_type": "display_data"
    }
   ],
   "source": [
    "sns.displot(y_train_boxcox)\n",
    "plt.show() \n",
    "# a lot more normally distributed"
   ]
  },
  {
   "cell_type": "code",
   "execution_count": 669,
   "id": "9dc23d02-b8d7-4de3-b0a7-ebbdbe9f0b85",
   "metadata": {},
   "outputs": [],
   "source": [
    "X_train_scaled_continuous['windspeed'] = np.cbrt(X_train_scaled_continuous['windspeed'] + 2)"
   ]
  },
  {
   "cell_type": "code",
   "execution_count": 670,
   "id": "4ddead4f-dbe5-4133-94d9-b5f61ed99cfd",
   "metadata": {},
   "outputs": [],
   "source": [
    "# encode categorical variables \n",
    "train_scaled = pd.concat([X_train_scaled_continuous, \n",
    "                          pd.get_dummies(train_after_date[categorical_variables].astype('category'), drop_first = True), \n",
    "                          y_train_boxcox], axis = 1)"
   ]
  },
  {
   "cell_type": "code",
   "execution_count": 682,
   "id": "42ebfd9b-8c8b-4059-8102-fcfb4c90f11d",
   "metadata": {},
   "outputs": [],
   "source": [
    "scaled_continuous_variables = list(train_scaled.columns)[:10] + [train_scaled.columns[-1]]\n",
    "scaled_categorical_variables = list(train_scaled.columns)[10:-1]"
   ]
  },
  {
   "cell_type": "code",
   "execution_count": 685,
   "id": "85ecd9bd-bee8-424c-850a-d8c004260d40",
   "metadata": {},
   "outputs": [],
   "source": [
    "# Find Point biserial correlation\n",
    "def point_biserial_correl(data, categorical_variables, continuous_variables):\n",
    "    print(\"--- point biserial ---\")\n",
    "    for cat_var in categorical_variables:\n",
    "        for cont_var in  continuous_variables:\n",
    "            data_cat = data[cat_var].to_numpy()\n",
    "            data_cont = data[cont_var].to_numpy()\n",
    "\n",
    "            corr, p_val = pointbiserialr(x=data_cat, y=data_cont)\n",
    "            if np.abs(corr) >= 0.75:\n",
    "                print(f'Categorical variable: {cat_var}, Continuous variable: {cont_var}, correlation: {corr}')"
   ]
  },
  {
   "cell_type": "code",
   "execution_count": 686,
   "id": "e81f1896-0204-4fb0-9017-97cb5f18e4d7",
   "metadata": {},
   "outputs": [],
   "source": [
    "# Find Cramer's V correlation\n",
    "def cramer_v_correl(data, categorical_variables):\n",
    "    print(\"--- cramer v ---\")\n",
    "    total_len = len(categorical_variables)\n",
    "    for idx1 in range(total_len-1):\n",
    "        for idx2 in range(idx1+1, total_len):\n",
    "            cat_var1 = categorical_variables[idx1]\n",
    "            cat_var2 = categorical_variables[idx2]    \n",
    "            c_matrix = pd.crosstab(data[cat_var1], data[cat_var2])\n",
    "            chi2 = chi2_contingency(c_matrix)[0]\n",
    "            n = c_matrix.sum().sum()\n",
    "            phi2 = chi2/n\n",
    "            r,k = c_matrix.shape\n",
    "            phi2corr = max(0, phi2-((k-1)*(r-1))/(n-1))\n",
    "            rcorr = r-((r-1)**2)/(n-1)\n",
    "            kcorr = k-((k-1)**2)/(n-1)\n",
    "            corr = np.sqrt(phi2corr/min((kcorr-1),(rcorr-1)))\n",
    "            if corr >= 0.75:\n",
    "                print(f'categorical variable 1 {cat_var1}, categorical variable 2: {cat_var2}, correlation: {corr}')"
   ]
  },
  {
   "cell_type": "code",
   "execution_count": 687,
   "id": "024a49bb-b10f-4f98-a548-96a068487341",
   "metadata": {},
   "outputs": [],
   "source": [
    "# Find Pearson correlation\n",
    "def pearson_correl(data, continuous_variables):\n",
    "    print(\"--- pearson ---\")\n",
    "    total_len = len(continuous_variables)\n",
    "    for idx1 in range(total_len-1):\n",
    "        for idx2 in range(idx1+1, total_len):\n",
    "            cont_var1 = continuous_variables[idx1]\n",
    "            cont_var2 = continuous_variables[idx2]\n",
    "            data_cont1 = data[cont_var1].to_numpy()\n",
    "            data_cont2 = data[cont_var2].to_numpy()\n",
    "            corr, p_val = pearsonr(x=data_cont1, y=data_cont2)\n",
    "            if np.abs(corr) >= 0.75:\n",
    "                print(f'Variable 1: {cont_var1}, Variable 2: {cont_var2}, correlation: {corr}')"
   ]
  },
  {
   "cell_type": "code",
   "execution_count": 688,
   "id": "f0253b0a-b9b5-471f-9aa1-44e6ec075091",
   "metadata": {},
   "outputs": [
    {
     "name": "stdout",
     "output_type": "stream",
     "text": [
      "--- point biserial ---\n",
      "--- cramer v ---\n",
      "--- pearson ---\n",
      "Variable 1: temp, Variable 2: atemp, correlation: 0.9849481104817072\n",
      "Variable 1: temp, Variable 2: cos_datetime_month, correlation: -0.8560196876577529\n",
      "Variable 1: atemp, Variable 2: cos_datetime_month, correlation: -0.8380928348221114\n"
     ]
    }
   ],
   "source": [
    "point_biserial_correl(train_scaled, scaled_categorical_variables, scaled_continuous_variables)\n",
    "cramer_v_correl(train_scaled, scaled_categorical_variables)\n",
    "pearson_correl(train_scaled, scaled_continuous_variables)"
   ]
  },
  {
   "cell_type": "code",
   "execution_count": 689,
   "id": "7ac5b22d-7e5f-49a8-88e9-f3d0dab8e11d",
   "metadata": {},
   "outputs": [],
   "source": [
    "# drop because of correlation : 'sin_datetime_month', 'cos_datetime_month', 'atemp'\n",
    "train_after_corr = train_scaled.drop(['atemp', 'cos_datetime_month', 'sin_datetime_month'], axis = 1)\n"
   ]
  },
  {
   "cell_type": "code",
   "execution_count": 690,
   "id": "aee8c26b-d1ac-4d05-b3e3-87cb749b2574",
   "metadata": {},
   "outputs": [
    {
     "name": "stdout",
     "output_type": "stream",
     "text": [
      "['temp', 'atemp', 'humidity', 'windspeed', 'sin_datetime_month', 'cos_datetime_month', 'sin_datetime_hour', 'cos_datetime_hour', 'sin_datetime_day', 'cos_datetime_day', 'count']\n",
      "['season_2', 'season_3', 'season_4', 'holiday_1', 'workingday_1', 'weather_2', 'weather_3', 'weather_4', 'datetime_year_2012']\n"
     ]
    }
   ],
   "source": [
    "print(scaled_continuous_variables)\n",
    "print(scaled_categorical_variables)"
   ]
  },
  {
   "cell_type": "code",
   "execution_count": 694,
   "id": "51c6caf5-2406-475c-bbbb-321d141c17e3",
   "metadata": {},
   "outputs": [
    {
     "data": {
      "text/plain": [
       "Index(['temp', 'humidity', 'windspeed', 'sin_datetime_hour',\n",
       "       'cos_datetime_hour', 'sin_datetime_day', 'cos_datetime_day', 'season_2',\n",
       "       'season_3', 'season_4', 'holiday_1', 'workingday_1', 'weather_2',\n",
       "       'weather_3', 'weather_4', 'datetime_year_2012', 'count'],\n",
       "      dtype='object')"
      ]
     },
     "execution_count": 694,
     "metadata": {},
     "output_type": "execute_result"
    }
   ],
   "source": [
    "train_after_corr.columns"
   ]
  },
  {
   "cell_type": "code",
   "execution_count": 696,
   "id": "79d8d59e-e082-4b02-92e4-4b00ee8f57e0",
   "metadata": {},
   "outputs": [],
   "source": [
    "continuous_variables_after_corr = list(train_after_corr.columns[0:7]) + [train_after_corr.columns[-1]]\n",
    "categorical_variables_after_corr = list(train_after_corr.columns[7:-1])"
   ]
  },
  {
   "cell_type": "code",
   "execution_count": 699,
   "id": "06772e86-f319-4506-ace7-3037dfca3f27",
   "metadata": {},
   "outputs": [
    {
     "data": {
      "text/html": [
       "<div>\n",
       "<style scoped>\n",
       "    .dataframe tbody tr th:only-of-type {\n",
       "        vertical-align: middle;\n",
       "    }\n",
       "\n",
       "    .dataframe tbody tr th {\n",
       "        vertical-align: top;\n",
       "    }\n",
       "\n",
       "    .dataframe thead th {\n",
       "        text-align: right;\n",
       "    }\n",
       "</style>\n",
       "<table border=\"1\" class=\"dataframe\">\n",
       "  <thead>\n",
       "    <tr style=\"text-align: right;\">\n",
       "      <th></th>\n",
       "      <th>temp</th>\n",
       "      <th>humidity</th>\n",
       "      <th>windspeed</th>\n",
       "      <th>sin_datetime_hour</th>\n",
       "      <th>cos_datetime_hour</th>\n",
       "      <th>sin_datetime_day</th>\n",
       "      <th>cos_datetime_day</th>\n",
       "      <th>season_2</th>\n",
       "      <th>season_3</th>\n",
       "      <th>season_4</th>\n",
       "      <th>holiday_1</th>\n",
       "      <th>workingday_1</th>\n",
       "      <th>weather_2</th>\n",
       "      <th>weather_3</th>\n",
       "      <th>weather_4</th>\n",
       "      <th>datetime_year_2012</th>\n",
       "      <th>count</th>\n",
       "    </tr>\n",
       "  </thead>\n",
       "  <tbody>\n",
       "    <tr>\n",
       "      <th>0</th>\n",
       "      <td>-1.333661</td>\n",
       "      <td>0.993213</td>\n",
       "      <td>0.756096</td>\n",
       "      <td>0.005336</td>\n",
       "      <td>1.417926</td>\n",
       "      <td>-0.908872</td>\n",
       "      <td>1.530378</td>\n",
       "      <td>0</td>\n",
       "      <td>0</td>\n",
       "      <td>0</td>\n",
       "      <td>0</td>\n",
       "      <td>0</td>\n",
       "      <td>0</td>\n",
       "      <td>0</td>\n",
       "      <td>0</td>\n",
       "      <td>0</td>\n",
       "      <td>4.433145</td>\n",
       "    </tr>\n",
       "    <tr>\n",
       "      <th>1</th>\n",
       "      <td>-1.438907</td>\n",
       "      <td>0.941249</td>\n",
       "      <td>0.756096</td>\n",
       "      <td>0.371447</td>\n",
       "      <td>1.369748</td>\n",
       "      <td>-0.908872</td>\n",
       "      <td>1.530378</td>\n",
       "      <td>0</td>\n",
       "      <td>0</td>\n",
       "      <td>0</td>\n",
       "      <td>0</td>\n",
       "      <td>0</td>\n",
       "      <td>0</td>\n",
       "      <td>0</td>\n",
       "      <td>0</td>\n",
       "      <td>0</td>\n",
       "      <td>6.982674</td>\n",
       "    </tr>\n",
       "    <tr>\n",
       "      <th>2</th>\n",
       "      <td>-1.438907</td>\n",
       "      <td>0.941249</td>\n",
       "      <td>0.756096</td>\n",
       "      <td>0.712607</td>\n",
       "      <td>1.228497</td>\n",
       "      <td>-0.908872</td>\n",
       "      <td>1.530378</td>\n",
       "      <td>0</td>\n",
       "      <td>0</td>\n",
       "      <td>0</td>\n",
       "      <td>0</td>\n",
       "      <td>0</td>\n",
       "      <td>0</td>\n",
       "      <td>0</td>\n",
       "      <td>0</td>\n",
       "      <td>0</td>\n",
       "      <td>6.292274</td>\n",
       "    </tr>\n",
       "    <tr>\n",
       "      <th>3</th>\n",
       "      <td>-1.333661</td>\n",
       "      <td>0.681430</td>\n",
       "      <td>0.756096</td>\n",
       "      <td>1.005568</td>\n",
       "      <td>1.003799</td>\n",
       "      <td>-0.908872</td>\n",
       "      <td>1.530378</td>\n",
       "      <td>0</td>\n",
       "      <td>0</td>\n",
       "      <td>0</td>\n",
       "      <td>0</td>\n",
       "      <td>0</td>\n",
       "      <td>0</td>\n",
       "      <td>0</td>\n",
       "      <td>0</td>\n",
       "      <td>0</td>\n",
       "      <td>3.950910</td>\n",
       "    </tr>\n",
       "    <tr>\n",
       "      <th>4</th>\n",
       "      <td>-1.333661</td>\n",
       "      <td>0.681430</td>\n",
       "      <td>0.756096</td>\n",
       "      <td>1.230365</td>\n",
       "      <td>0.710967</td>\n",
       "      <td>-0.908872</td>\n",
       "      <td>1.530378</td>\n",
       "      <td>0</td>\n",
       "      <td>0</td>\n",
       "      <td>0</td>\n",
       "      <td>0</td>\n",
       "      <td>0</td>\n",
       "      <td>0</td>\n",
       "      <td>0</td>\n",
       "      <td>0</td>\n",
       "      <td>0</td>\n",
       "      <td>0.000000</td>\n",
       "    </tr>\n",
       "  </tbody>\n",
       "</table>\n",
       "</div>"
      ],
      "text/plain": [
       "       temp  humidity  windspeed  sin_datetime_hour  cos_datetime_hour  \\\n",
       "0 -1.333661  0.993213   0.756096           0.005336           1.417926   \n",
       "1 -1.438907  0.941249   0.756096           0.371447           1.369748   \n",
       "2 -1.438907  0.941249   0.756096           0.712607           1.228497   \n",
       "3 -1.333661  0.681430   0.756096           1.005568           1.003799   \n",
       "4 -1.333661  0.681430   0.756096           1.230365           0.710967   \n",
       "\n",
       "   sin_datetime_day  cos_datetime_day  season_2  season_3  season_4  \\\n",
       "0         -0.908872          1.530378         0         0         0   \n",
       "1         -0.908872          1.530378         0         0         0   \n",
       "2         -0.908872          1.530378         0         0         0   \n",
       "3         -0.908872          1.530378         0         0         0   \n",
       "4         -0.908872          1.530378         0         0         0   \n",
       "\n",
       "   holiday_1  workingday_1  weather_2  weather_3  weather_4  \\\n",
       "0          0             0          0          0          0   \n",
       "1          0             0          0          0          0   \n",
       "2          0             0          0          0          0   \n",
       "3          0             0          0          0          0   \n",
       "4          0             0          0          0          0   \n",
       "\n",
       "   datetime_year_2012     count  \n",
       "0                   0  4.433145  \n",
       "1                   0  6.982674  \n",
       "2                   0  6.292274  \n",
       "3                   0  3.950910  \n",
       "4                   0  0.000000  "
      ]
     },
     "execution_count": 699,
     "metadata": {},
     "output_type": "execute_result"
    }
   ],
   "source": [
    "train_after_corr.head()"
   ]
  },
  {
   "cell_type": "code",
   "execution_count": 700,
   "id": "f322c40c-c4eb-4b10-83de-ba8c114f4061",
   "metadata": {},
   "outputs": [
    {
     "name": "stdout",
     "output_type": "stream",
     "text": [
      "--- point biserial ---\n",
      "--- cramer v ---\n",
      "--- pearson ---\n"
     ]
    }
   ],
   "source": [
    "point_biserial_correl(train_after_corr, categorical_variables_after_corr, continuous_variables_after_corr)\n",
    "cramer_v_correl(train_after_corr, categorical_variables_after_corr)\n",
    "pearson_correl(train_after_corr, continuous_variables_after_corr)"
   ]
  },
  {
   "cell_type": "code",
   "execution_count": 701,
   "id": "55e21477-f6b8-4226-878e-e9112074c03b",
   "metadata": {},
   "outputs": [],
   "source": [
    "train_after_corr = remove_outliers(train_after_corr, 'windspeed')\n",
    "train_after_corr = remove_outliers(train_after_corr, 'humidity')"
   ]
  },
  {
   "cell_type": "code",
   "execution_count": 702,
   "id": "b0979a6e-033b-4764-bd7c-83c959286d29",
   "metadata": {},
   "outputs": [],
   "source": [
    "def check_vif(data):\n",
    "    vif = pd.DataFrame()\n",
    "    vif[\"feature\"] = data.columns\n",
    "    vif['VIF'] = [variance_inflation_factor(data.values, i) for i in range(len(data.columns))]\n",
    "    print(vif.sort_values(by = 'VIF', ascending = False))"
   ]
  },
  {
   "cell_type": "code",
   "execution_count": 703,
   "id": "dae5c704-edb0-40cb-b862-c5714ac846b3",
   "metadata": {},
   "outputs": [
    {
     "name": "stdout",
     "output_type": "stream",
     "text": [
      "             feature       VIF\n",
      "1           humidity  1.282705\n",
      "3  sin_datetime_hour  1.227984\n",
      "4  cos_datetime_hour  1.124940\n",
      "5   sin_datetime_day  1.121782\n",
      "6   cos_datetime_day  1.120445\n",
      "0               temp  1.064076\n",
      "2          windspeed  1.002779\n"
     ]
    }
   ],
   "source": [
    "check_vif(train_after_corr[continuous_variables_after_corr].drop('count', axis = 1))"
   ]
  },
  {
   "cell_type": "code",
   "execution_count": 704,
   "id": "ea458bb2-040e-4597-bc04-7c7001c2dada",
   "metadata": {},
   "outputs": [],
   "source": [
    "X_train = train_after_corr.drop('count', axis = 1)\n",
    "y_train = train_after_corr['count'] + 1 # no negative values for a scoring metric of RMSLE"
   ]
  },
  {
   "cell_type": "code",
   "execution_count": 451,
   "id": "b9055ea6-6cac-4b65-a4af-a51e7da16b62",
   "metadata": {},
   "outputs": [
    {
     "data": {
      "text/html": [
       "<div>\n",
       "<style scoped>\n",
       "    .dataframe tbody tr th:only-of-type {\n",
       "        vertical-align: middle;\n",
       "    }\n",
       "\n",
       "    .dataframe tbody tr th {\n",
       "        vertical-align: top;\n",
       "    }\n",
       "\n",
       "    .dataframe thead th {\n",
       "        text-align: right;\n",
       "    }\n",
       "</style>\n",
       "<table border=\"1\" class=\"dataframe\">\n",
       "  <thead>\n",
       "    <tr style=\"text-align: right;\">\n",
       "      <th></th>\n",
       "      <th>temp</th>\n",
       "      <th>humidity</th>\n",
       "      <th>windspeed</th>\n",
       "      <th>sin_datetime_hour</th>\n",
       "      <th>cos_datetime_hour</th>\n",
       "      <th>sin_datetime_day</th>\n",
       "      <th>cos_datetime_day</th>\n",
       "      <th>season_2</th>\n",
       "      <th>season_3</th>\n",
       "      <th>season_4</th>\n",
       "      <th>holiday_1</th>\n",
       "      <th>workingday_1</th>\n",
       "      <th>weather_2</th>\n",
       "      <th>weather_3</th>\n",
       "      <th>weather_4</th>\n",
       "    </tr>\n",
       "  </thead>\n",
       "  <tbody>\n",
       "    <tr>\n",
       "      <th>0</th>\n",
       "      <td>-1.333661</td>\n",
       "      <td>0.993213</td>\n",
       "      <td>0.756096</td>\n",
       "      <td>0.005336</td>\n",
       "      <td>1.417926</td>\n",
       "      <td>-0.908872</td>\n",
       "      <td>1.530378</td>\n",
       "      <td>0</td>\n",
       "      <td>0</td>\n",
       "      <td>0</td>\n",
       "      <td>0</td>\n",
       "      <td>0</td>\n",
       "      <td>0</td>\n",
       "      <td>0</td>\n",
       "      <td>0</td>\n",
       "    </tr>\n",
       "    <tr>\n",
       "      <th>1</th>\n",
       "      <td>-1.438907</td>\n",
       "      <td>0.941249</td>\n",
       "      <td>0.756096</td>\n",
       "      <td>0.371447</td>\n",
       "      <td>1.369748</td>\n",
       "      <td>-0.908872</td>\n",
       "      <td>1.530378</td>\n",
       "      <td>0</td>\n",
       "      <td>0</td>\n",
       "      <td>0</td>\n",
       "      <td>0</td>\n",
       "      <td>0</td>\n",
       "      <td>0</td>\n",
       "      <td>0</td>\n",
       "      <td>0</td>\n",
       "    </tr>\n",
       "    <tr>\n",
       "      <th>2</th>\n",
       "      <td>-1.438907</td>\n",
       "      <td>0.941249</td>\n",
       "      <td>0.756096</td>\n",
       "      <td>0.712607</td>\n",
       "      <td>1.228497</td>\n",
       "      <td>-0.908872</td>\n",
       "      <td>1.530378</td>\n",
       "      <td>0</td>\n",
       "      <td>0</td>\n",
       "      <td>0</td>\n",
       "      <td>0</td>\n",
       "      <td>0</td>\n",
       "      <td>0</td>\n",
       "      <td>0</td>\n",
       "      <td>0</td>\n",
       "    </tr>\n",
       "    <tr>\n",
       "      <th>3</th>\n",
       "      <td>-1.333661</td>\n",
       "      <td>0.681430</td>\n",
       "      <td>0.756096</td>\n",
       "      <td>1.005568</td>\n",
       "      <td>1.003799</td>\n",
       "      <td>-0.908872</td>\n",
       "      <td>1.530378</td>\n",
       "      <td>0</td>\n",
       "      <td>0</td>\n",
       "      <td>0</td>\n",
       "      <td>0</td>\n",
       "      <td>0</td>\n",
       "      <td>0</td>\n",
       "      <td>0</td>\n",
       "      <td>0</td>\n",
       "    </tr>\n",
       "    <tr>\n",
       "      <th>4</th>\n",
       "      <td>-1.333661</td>\n",
       "      <td>0.681430</td>\n",
       "      <td>0.756096</td>\n",
       "      <td>1.230365</td>\n",
       "      <td>0.710967</td>\n",
       "      <td>-0.908872</td>\n",
       "      <td>1.530378</td>\n",
       "      <td>0</td>\n",
       "      <td>0</td>\n",
       "      <td>0</td>\n",
       "      <td>0</td>\n",
       "      <td>0</td>\n",
       "      <td>0</td>\n",
       "      <td>0</td>\n",
       "      <td>0</td>\n",
       "    </tr>\n",
       "  </tbody>\n",
       "</table>\n",
       "</div>"
      ],
      "text/plain": [
       "       temp  humidity  windspeed  sin_datetime_hour  cos_datetime_hour  \\\n",
       "0 -1.333661  0.993213   0.756096           0.005336           1.417926   \n",
       "1 -1.438907  0.941249   0.756096           0.371447           1.369748   \n",
       "2 -1.438907  0.941249   0.756096           0.712607           1.228497   \n",
       "3 -1.333661  0.681430   0.756096           1.005568           1.003799   \n",
       "4 -1.333661  0.681430   0.756096           1.230365           0.710967   \n",
       "\n",
       "   sin_datetime_day  cos_datetime_day  season_2  season_3  season_4  \\\n",
       "0         -0.908872          1.530378         0         0         0   \n",
       "1         -0.908872          1.530378         0         0         0   \n",
       "2         -0.908872          1.530378         0         0         0   \n",
       "3         -0.908872          1.530378         0         0         0   \n",
       "4         -0.908872          1.530378         0         0         0   \n",
       "\n",
       "   holiday_1  workingday_1  weather_2  weather_3  weather_4  \n",
       "0          0             0          0          0          0  \n",
       "1          0             0          0          0          0  \n",
       "2          0             0          0          0          0  \n",
       "3          0             0          0          0          0  \n",
       "4          0             0          0          0          0  "
      ]
     },
     "execution_count": 451,
     "metadata": {},
     "output_type": "execute_result"
    }
   ],
   "source": [
    "X_train.head()"
   ]
  },
  {
   "cell_type": "code",
   "execution_count": 452,
   "id": "f356a51c-0cc0-485f-907f-bfe38247fd77",
   "metadata": {},
   "outputs": [
    {
     "data": {
      "text/plain": [
       "0         5.433145\n",
       "1         7.982674\n",
       "2         7.292274\n",
       "3         4.950910\n",
       "4         1.000000\n",
       "           ...    \n",
       "10881    17.704819\n",
       "10882    15.725759\n",
       "10883    13.799393\n",
       "10884    12.521965\n",
       "10885    10.851258\n",
       "Name: count, Length: 10835, dtype: float64"
      ]
     },
     "execution_count": 452,
     "metadata": {},
     "output_type": "execute_result"
    }
   ],
   "source": [
    "y_train"
   ]
  },
  {
   "cell_type": "markdown",
   "id": "62f2e271-d7b0-4270-ad52-a1c2294ed776",
   "metadata": {},
   "source": [
    "### Multiple Linear Regression"
   ]
  },
  {
   "cell_type": "code",
   "execution_count": 705,
   "id": "108a244d-459c-49a2-b63b-6d02fabd9605",
   "metadata": {},
   "outputs": [],
   "source": [
    "mlr_cv = cross_val_score(LinearRegression(), X_train, y_train, scoring = 'neg_mean_squared_log_error', cv = 5)"
   ]
  },
  {
   "cell_type": "code",
   "execution_count": 706,
   "id": "4111c8ac-4c6f-4b59-be3e-5e5ac71acef3",
   "metadata": {},
   "outputs": [
    {
     "name": "stdout",
     "output_type": "stream",
     "text": [
      "best cv rmsle: 0.3352257701755564\n"
     ]
    }
   ],
   "source": [
    "print(\"best cv rmsle: {}\".format(np.sqrt(np.mean(-mlr_cv))))"
   ]
  },
  {
   "cell_type": "markdown",
   "id": "73a09e97-51a5-4ef8-8da8-d6cd06ec58c8",
   "metadata": {},
   "source": [
    "### Lasso Regression"
   ]
  },
  {
   "cell_type": "code",
   "execution_count": 707,
   "id": "842d69a7-1c7d-47b6-8bfc-25f8e26aff7f",
   "metadata": {},
   "outputs": [
    {
     "data": {
      "text/plain": [
       "LassoCV(cv=5, max_iter=100000)"
      ]
     },
     "execution_count": 707,
     "metadata": {},
     "output_type": "execute_result"
    }
   ],
   "source": [
    "lasso = Lasso(max_iter = 10000)\n",
    "lassocv = LassoCV(alphas = None, cv = 5, max_iter = 100000)\n",
    "lassocv.fit(X_train, y_train)"
   ]
  },
  {
   "cell_type": "code",
   "execution_count": 708,
   "id": "3733803c-6b24-496a-a8d7-dc472c080420",
   "metadata": {},
   "outputs": [],
   "source": [
    "lasso_cv = cross_val_score(lasso.set_params(alpha = lassocv.alpha_), X_train, y_train, scoring = 'neg_mean_squared_log_error', cv = 5)"
   ]
  },
  {
   "cell_type": "code",
   "execution_count": 709,
   "id": "2ebd8ed0-d2ab-4e99-9460-33b28b079274",
   "metadata": {},
   "outputs": [
    {
     "name": "stdout",
     "output_type": "stream",
     "text": [
      "best cv rmsle: 0.33542216311034967\n"
     ]
    }
   ],
   "source": [
    "print(\"best cv rmsle: {}\".format(np.sqrt(np.mean(-lasso_cv))))"
   ]
  },
  {
   "cell_type": "code",
   "execution_count": null,
   "id": "8bc7d948-0215-423b-b64f-fad3dd7ef386",
   "metadata": {},
   "outputs": [],
   "source": [
    "# Lasso zeroes out 4 predictors and has a better test score than vanilla linear regression"
   ]
  },
  {
   "cell_type": "markdown",
   "id": "9d42667e-6ac7-49cf-a38e-65fd4ce61668",
   "metadata": {},
   "source": [
    "### Decision Tree"
   ]
  },
  {
   "cell_type": "code",
   "execution_count": 710,
   "id": "e3052121-0195-471f-a259-6e3cf0df3fa6",
   "metadata": {},
   "outputs": [],
   "source": [
    "dectree = DecisionTreeRegressor(random_state = 42)"
   ]
  },
  {
   "cell_type": "code",
   "execution_count": 711,
   "id": "1ac1286a-8a62-45c1-853f-e45229235c89",
   "metadata": {},
   "outputs": [
    {
     "data": {
      "text/plain": [
       "DecisionTreeRegressor(random_state=42)"
      ]
     },
     "execution_count": 711,
     "metadata": {},
     "output_type": "execute_result"
    }
   ],
   "source": [
    "dectree.fit(X_train, y_train)"
   ]
  },
  {
   "cell_type": "code",
   "execution_count": 712,
   "id": "0d9c5341-844b-47c9-bae2-82ead3844ed6",
   "metadata": {},
   "outputs": [
    {
     "data": {
      "text/plain": [
       "30"
      ]
     },
     "execution_count": 712,
     "metadata": {},
     "output_type": "execute_result"
    }
   ],
   "source": [
    "dectree.get_depth()"
   ]
  },
  {
   "cell_type": "code",
   "execution_count": 713,
   "id": "dd0c7186-70db-4198-8c3a-cd9ccbdd5c3b",
   "metadata": {},
   "outputs": [
    {
     "data": {
      "text/plain": [
       "0.9999988547219815"
      ]
     },
     "execution_count": 713,
     "metadata": {},
     "output_type": "execute_result"
    }
   ],
   "source": [
    "dectree.score(X_train, y_train) # need to prune"
   ]
  },
  {
   "cell_type": "code",
   "execution_count": 714,
   "id": "5049ab17-29fd-41fd-a517-c647e05c9978",
   "metadata": {},
   "outputs": [
    {
     "data": {
      "text/plain": [
       "GridSearchCV(cv=5, estimator=DecisionTreeRegressor(random_state=42),\n",
       "             param_grid=[{'max_depth': [10, 15, 20, 25, 30]}],\n",
       "             scoring='neg_mean_squared_log_error')"
      ]
     },
     "execution_count": 714,
     "metadata": {},
     "output_type": "execute_result"
    }
   ],
   "source": [
    "param_grid = [\n",
    "    {'max_depth' : [10, 15, 20, 25, 30]}\n",
    "]\n",
    "     \n",
    "dectree = DecisionTreeRegressor(random_state = 42)    \n",
    "dectree_cv = GridSearchCV(dectree, param_grid, cv = 5, scoring = 'neg_mean_squared_log_error')\n",
    "dectree_cv.fit(X_train, y_train)"
   ]
  },
  {
   "cell_type": "code",
   "execution_count": 715,
   "id": "8bdf8afe-e57c-4ce8-8184-d10c66a451e1",
   "metadata": {},
   "outputs": [
    {
     "name": "stdout",
     "output_type": "stream",
     "text": [
      "best param: {'max_depth': 10}\n"
     ]
    }
   ],
   "source": [
    "# print(\"best cv r2: {}\".format(dectree_cv.best_score_))\n",
    "print(\"best param: {}\".format(dectree_cv.best_params_))"
   ]
  },
  {
   "cell_type": "code",
   "execution_count": 716,
   "id": "6be22f57-1ab2-4e71-8026-504405026301",
   "metadata": {},
   "outputs": [
    {
     "data": {
      "text/plain": [
       "GridSearchCV(cv=5, estimator=DecisionTreeRegressor(random_state=42),\n",
       "             param_grid=[{'max_depth': range(1, 15)}],\n",
       "             scoring='neg_mean_squared_log_error')"
      ]
     },
     "execution_count": 716,
     "metadata": {},
     "output_type": "execute_result"
    }
   ],
   "source": [
    "param_grid = [\n",
    "    {'max_depth' : range(1, 15)}\n",
    "]\n",
    "     \n",
    "dectree = DecisionTreeRegressor(random_state = 42)    \n",
    "dectree_cv = GridSearchCV(dectree, param_grid, cv = 5, scoring = 'neg_mean_squared_log_error')\n",
    "dectree_cv.fit(X_train, y_train)"
   ]
  },
  {
   "cell_type": "code",
   "execution_count": 717,
   "id": "12d3f532-750e-4123-99ca-7e3e954de0b9",
   "metadata": {},
   "outputs": [
    {
     "name": "stdout",
     "output_type": "stream",
     "text": [
      "best cv rmsle: 0.2340296459610564\n",
      "best param: {'max_depth': 9}\n"
     ]
    }
   ],
   "source": [
    "print(\"best cv rmsle: {}\".format(np.sqrt(-dectree_cv.best_score_)))\n",
    "print(\"best param: {}\".format(dectree_cv.best_params_))"
   ]
  },
  {
   "cell_type": "markdown",
   "id": "fc657910-1976-408f-a287-75c6df5a5cb4",
   "metadata": {},
   "source": [
    "### Random Forest / Bagging"
   ]
  },
  {
   "cell_type": "code",
   "execution_count": 722,
   "id": "0fab6f76-2d0c-4976-9cf7-0862717e7a35",
   "metadata": {},
   "outputs": [],
   "source": [
    "n_trees = [100, 150, 200, 250, 300, 350, 400, 450, 500, 550, 600, 650, 700, 750, 800]\n",
    "oob_scores = []"
   ]
  },
  {
   "cell_type": "code",
   "execution_count": 723,
   "id": "a1c87969-9c1d-41ca-a8cc-0d36ab843bf8",
   "metadata": {},
   "outputs": [],
   "source": [
    "for ntree in n_trees:\n",
    "    rf = RandomForestRegressor(n_estimators = ntree, oob_score = True, n_jobs = -1, random_state = 42).fit(X_train.values, y_train.values)\n",
    "    oob_scores.append(rf.oob_score_)"
   ]
  },
  {
   "cell_type": "code",
   "execution_count": 724,
   "id": "21b28890-3aac-43e4-97ef-995e172ee693",
   "metadata": {},
   "outputs": [
    {
     "data": {
      "image/png": "[encoded data removed]",
      "text/plain": [
       "<Figure size 360x360 with 1 Axes>"
      ]
     },
     "metadata": {},
     "output_type": "display_data"
    }
   ],
   "source": [
    "sns.relplot(x = n_trees, y = oob_scores).set_axis_labels(\"n_trees\", \"oob\")\n",
    "plt.show()"
   ]
  },
  {
   "cell_type": "code",
   "execution_count": 725,
   "id": "0c985b3e-46ed-4035-b62b-482eaf57f062",
   "metadata": {},
   "outputs": [
    {
     "data": {
      "text/plain": [
       "GridSearchCV(cv=5,\n",
       "             estimator=RandomForestRegressor(n_estimators=300, random_state=42),\n",
       "             param_grid={'max_features': ['auto', 'sqrt', 'log2']},\n",
       "             scoring='neg_mean_squared_log_error')"
      ]
     },
     "execution_count": 725,
     "metadata": {},
     "output_type": "execute_result"
    }
   ],
   "source": [
    "param_grid = {\n",
    "    'max_features':[\"auto\",'sqrt','log2']\n",
    "}\n",
    "# although 800 gives the best result, the more trees, the greater the computational cost. Since the gains are marginal, I will just go with 300\n",
    "rf = RandomForestRegressor(n_estimators = 300, random_state = 42) \n",
    "rf_cv = GridSearchCV(rf, param_grid, cv = 5, scoring = 'neg_mean_squared_log_error')\n",
    "rf_cv.fit(X_train.values, y_train.values)"
   ]
  },
  {
   "cell_type": "code",
   "execution_count": 726,
   "id": "8e7fdc7e-2d23-4487-b190-826602537652",
   "metadata": {},
   "outputs": [
    {
     "name": "stdout",
     "output_type": "stream",
     "text": [
      "best cv rmsle : 0.19955016106430265\n",
      "best param: {'max_features': 'auto'}\n"
     ]
    }
   ],
   "source": [
    "print(\"best cv rmsle : {}\".format(np.sqrt(-rf_cv.best_score_)))\n",
    "print(\"best param: {}\".format(rf_cv.best_params_)) # bagging is chosen"
   ]
  },
  {
   "cell_type": "markdown",
   "id": "709c6371-a260-4cea-aa72-cddb3c199209",
   "metadata": {},
   "source": [
    "### Gradient Boosting"
   ]
  },
  {
   "cell_type": "code",
   "execution_count": 727,
   "id": "34da995f-4d97-4a1e-a208-885503d84c9f",
   "metadata": {},
   "outputs": [],
   "source": [
    "xgbreg = xgb.XGBRegressor(eval_metric = mean_squared_log_error, random_state = 42, use_label_encoder = False, verbosity = 0)\n",
    "\n",
    "param_grid = {\n",
    "        'max_depth': range(2, 11),\n",
    "        'min_child_weight' : range(1,10,1),\n",
    "        'learning_rate': [0.001, 0.005, 0.01, 0.03, 0.05, 0.1, 0.15, 0.2, 0.25, 0.3],\n",
    "        'subsample': [i/10.0 for i in range(3,10)],\n",
    "        'colsample_bytree': [i/10.0 for i in range(3,10)],\n",
    "        'min_child_weight': range(1, 10),\n",
    "        'gamma': [i/10.0 for i in range(0,5)],\n",
    "        'n_estimators': range(100, 1500, 100)\n",
    "}"
   ]
  },
  {
   "cell_type": "code",
   "execution_count": 728,
   "id": "abfbabbb-8a97-4db1-9648-84c4c0b181d9",
   "metadata": {},
   "outputs": [
    {
     "name": "stderr",
     "output_type": "stream",
     "text": [
      "C:\\Users\\Jeffrey\\Anaconda3\\lib\\site-packages\\sklearn\\model_selection\\_search.py:969: UserWarning: One or more of the test scores are non-finite: [-0.04063643 -0.03781523 -0.15231489 -0.03724757 -0.02750765 -0.07419327\n",
      " -0.08892827 -0.03233445         nan -0.03001481         nan -0.0296638\n",
      "         nan         nan         nan -0.08892652         nan -0.04991412\n",
      " -0.03172609 -0.13783604         nan         nan -0.0643729          nan\n",
      " -0.03364805]\n",
      "  warnings.warn(\n"
     ]
    },
    {
     "data": {
      "text/plain": [
       "RandomizedSearchCV(cv=5,\n",
       "                   estimator=XGBRegressor(base_score=None, booster=None,\n",
       "                                          colsample_bylevel=None,\n",
       "                                          colsample_bynode=None,\n",
       "                                          colsample_bytree=None,\n",
       "                                          enable_categorical=False,\n",
       "                                          eval_metric=<function mean_squared_log_error at 0x00000250A8C52550>,\n",
       "                                          gamma=None, gpu_id=None,\n",
       "                                          importance_type=None,\n",
       "                                          interaction_constraints=None,\n",
       "                                          learning_rate=None,\n",
       "                                          max_delta_step=None, max_d...\n",
       "                   param_distributions={'colsample_bytree': [0.3, 0.4, 0.5, 0.6,\n",
       "                                                             0.7, 0.8, 0.9],\n",
       "                                        'gamma': [0.0, 0.1, 0.2, 0.3, 0.4],\n",
       "                                        'learning_rate': [0.001, 0.005, 0.01,\n",
       "                                                          0.03, 0.05, 0.1, 0.15,\n",
       "                                                          0.2, 0.25, 0.3],\n",
       "                                        'max_depth': range(2, 11),\n",
       "                                        'min_child_weight': range(1, 10),\n",
       "                                        'n_estimators': range(100, 1500, 100),\n",
       "                                        'subsample': [0.3, 0.4, 0.5, 0.6, 0.7,\n",
       "                                                      0.8, 0.9]},\n",
       "                   random_state=42, scoring='neg_mean_squared_log_error')"
      ]
     },
     "execution_count": 728,
     "metadata": {},
     "output_type": "execute_result"
    }
   ],
   "source": [
    "xgbreg_cv = RandomizedSearchCV(xgbreg, param_grid, n_iter=25,\n",
    "                               n_jobs=-1, cv=5, scoring='neg_mean_squared_log_error', random_state=42)\n",
    "xgbreg_cv.fit(X_train, y_train)\n",
    "# print(\"best cv rmsle: {}\".format(np.sqrt(-xgbreg_cv.best_score_)))\n",
    "# best_params = xgbreg_cv.best_params_\n",
    "# print(\"best params: \")\n",
    "# for param_name in sorted(best_params.keys()):\n",
    "#     print('%s: %r' % (param_name, best_params[param_name]))"
   ]
  },
  {
   "cell_type": "code",
   "execution_count": 729,
   "id": "28508bda-b07c-4d50-910c-c6cef0b4dff2",
   "metadata": {},
   "outputs": [
    {
     "data": {
      "text/plain": [
       "{'subsample': 0.6,\n",
       " 'n_estimators': 1300,\n",
       " 'min_child_weight': 2,\n",
       " 'max_depth': 4,\n",
       " 'learning_rate': 0.03,\n",
       " 'gamma': 0.1,\n",
       " 'colsample_bytree': 0.7}"
      ]
     },
     "execution_count": 729,
     "metadata": {},
     "output_type": "execute_result"
    }
   ],
   "source": [
    "xgbreg_cv.best_params_"
   ]
  },
  {
   "cell_type": "code",
   "execution_count": 730,
   "id": "749558af-cf20-469f-9408-f3472a7b5ac8",
   "metadata": {},
   "outputs": [
    {
     "data": {
      "text/plain": [
       "0.16585429047739"
      ]
     },
     "execution_count": 730,
     "metadata": {},
     "output_type": "execute_result"
    }
   ],
   "source": [
    "np.sqrt(-xgbreg_cv.best_score_)"
   ]
  },
  {
   "cell_type": "code",
   "execution_count": 731,
   "id": "649b78aa-2d58-41cb-b0d6-50070aaeab56",
   "metadata": {},
   "outputs": [],
   "source": [
    "cvs = [np.sqrt(np.mean(-mlr_cv)), np.sqrt(np.mean(-lasso_cv)), np.sqrt(-dectree_cv.best_score_), np.sqrt(-rf_cv.best_score_), np.sqrt(-xgbreg_cv.best_score_)]\n",
    "model = ['Linear reg', 'Lasso reg', 'Decision Tree', 'Bagging', 'XGBoost']"
   ]
  },
  {
   "cell_type": "code",
   "execution_count": 732,
   "id": "bb789a75-f38b-4a35-a0ed-287ffa841591",
   "metadata": {},
   "outputs": [
    {
     "data": {
      "text/html": [
       "<div>\n",
       "<style scoped>\n",
       "    .dataframe tbody tr th:only-of-type {\n",
       "        vertical-align: middle;\n",
       "    }\n",
       "\n",
       "    .dataframe tbody tr th {\n",
       "        vertical-align: top;\n",
       "    }\n",
       "\n",
       "    .dataframe thead th {\n",
       "        text-align: right;\n",
       "    }\n",
       "</style>\n",
       "<table border=\"1\" class=\"dataframe\">\n",
       "  <thead>\n",
       "    <tr style=\"text-align: right;\">\n",
       "      <th></th>\n",
       "      <th>Model</th>\n",
       "      <th>CV score</th>\n",
       "    </tr>\n",
       "  </thead>\n",
       "  <tbody>\n",
       "    <tr>\n",
       "      <th>4</th>\n",
       "      <td>XGBoost</td>\n",
       "      <td>0.165854</td>\n",
       "    </tr>\n",
       "    <tr>\n",
       "      <th>3</th>\n",
       "      <td>Bagging</td>\n",
       "      <td>0.199550</td>\n",
       "    </tr>\n",
       "    <tr>\n",
       "      <th>2</th>\n",
       "      <td>Decision Tree</td>\n",
       "      <td>0.234030</td>\n",
       "    </tr>\n",
       "    <tr>\n",
       "      <th>0</th>\n",
       "      <td>Linear reg</td>\n",
       "      <td>0.335226</td>\n",
       "    </tr>\n",
       "    <tr>\n",
       "      <th>1</th>\n",
       "      <td>Lasso reg</td>\n",
       "      <td>0.335422</td>\n",
       "    </tr>\n",
       "  </tbody>\n",
       "</table>\n",
       "</div>"
      ],
      "text/plain": [
       "           Model  CV score\n",
       "4        XGBoost  0.165854\n",
       "3        Bagging  0.199550\n",
       "2  Decision Tree  0.234030\n",
       "0     Linear reg  0.335226\n",
       "1      Lasso reg  0.335422"
      ]
     },
     "execution_count": 732,
     "metadata": {},
     "output_type": "execute_result"
    }
   ],
   "source": [
    "model_performances = pd.DataFrame(data = {'Model' : model, 'CV score' : cvs})\n",
    "model_performances.sort_values(by = 'CV score')"
   ]
  },
  {
   "cell_type": "markdown",
   "id": "39a9d1fb-cc8f-468e-a975-231b0624b8e8",
   "metadata": {},
   "source": [
    "#### Estimate test "
   ]
  },
  {
   "cell_type": "markdown",
   "id": "76ba032e-6cb9-40d6-905c-2bd6b4c11dfd",
   "metadata": {},
   "source": [
    "What transformations have been onto the train set? \n",
    "- datetime breakdown\n",
    "- datetime cyclic\n",
    "- drop atemp, month\n",
    "- continuous predictors normalized\n",
    "- cuberoot(windspeed + 2)  \n",
    "- boxcox(count) + 1\n",
    "- encode categoricals \n",
    "\n",
    "We now apply these transformations onto the test set before feeding the test data into our best model"
   ]
  },
  {
   "cell_type": "code",
   "execution_count": 803,
   "id": "2b1cc02e-41e8-4f46-8c55-97f3dd834c48",
   "metadata": {},
   "outputs": [],
   "source": [
    "test = pd.read_csv('test.csv')"
   ]
  },
  {
   "cell_type": "code",
   "execution_count": 806,
   "id": "2b581074-be0e-45f6-8f48-0952fd7c7ab3",
   "metadata": {},
   "outputs": [
    {
     "data": {
      "text/html": [
       "<div>\n",
       "<style scoped>\n",
       "    .dataframe tbody tr th:only-of-type {\n",
       "        vertical-align: middle;\n",
       "    }\n",
       "\n",
       "    .dataframe tbody tr th {\n",
       "        vertical-align: top;\n",
       "    }\n",
       "\n",
       "    .dataframe thead th {\n",
       "        text-align: right;\n",
       "    }\n",
       "</style>\n",
       "<table border=\"1\" class=\"dataframe\">\n",
       "  <thead>\n",
       "    <tr style=\"text-align: right;\">\n",
       "      <th></th>\n",
       "      <th>datetime</th>\n",
       "      <th>season</th>\n",
       "      <th>holiday</th>\n",
       "      <th>workingday</th>\n",
       "      <th>weather</th>\n",
       "      <th>temp</th>\n",
       "      <th>atemp</th>\n",
       "      <th>humidity</th>\n",
       "      <th>windspeed</th>\n",
       "    </tr>\n",
       "  </thead>\n",
       "  <tbody>\n",
       "    <tr>\n",
       "      <th>0</th>\n",
       "      <td>2011-01-20 00:00:00</td>\n",
       "      <td>1</td>\n",
       "      <td>0</td>\n",
       "      <td>1</td>\n",
       "      <td>1</td>\n",
       "      <td>10.66</td>\n",
       "      <td>11.365</td>\n",
       "      <td>56</td>\n",
       "      <td>26.0027</td>\n",
       "    </tr>\n",
       "    <tr>\n",
       "      <th>1</th>\n",
       "      <td>2011-01-20 01:00:00</td>\n",
       "      <td>1</td>\n",
       "      <td>0</td>\n",
       "      <td>1</td>\n",
       "      <td>1</td>\n",
       "      <td>10.66</td>\n",
       "      <td>13.635</td>\n",
       "      <td>56</td>\n",
       "      <td>0.0000</td>\n",
       "    </tr>\n",
       "    <tr>\n",
       "      <th>2</th>\n",
       "      <td>2011-01-20 02:00:00</td>\n",
       "      <td>1</td>\n",
       "      <td>0</td>\n",
       "      <td>1</td>\n",
       "      <td>1</td>\n",
       "      <td>10.66</td>\n",
       "      <td>13.635</td>\n",
       "      <td>56</td>\n",
       "      <td>0.0000</td>\n",
       "    </tr>\n",
       "    <tr>\n",
       "      <th>3</th>\n",
       "      <td>2011-01-20 03:00:00</td>\n",
       "      <td>1</td>\n",
       "      <td>0</td>\n",
       "      <td>1</td>\n",
       "      <td>1</td>\n",
       "      <td>10.66</td>\n",
       "      <td>12.880</td>\n",
       "      <td>56</td>\n",
       "      <td>11.0014</td>\n",
       "    </tr>\n",
       "    <tr>\n",
       "      <th>4</th>\n",
       "      <td>2011-01-20 04:00:00</td>\n",
       "      <td>1</td>\n",
       "      <td>0</td>\n",
       "      <td>1</td>\n",
       "      <td>1</td>\n",
       "      <td>10.66</td>\n",
       "      <td>12.880</td>\n",
       "      <td>56</td>\n",
       "      <td>11.0014</td>\n",
       "    </tr>\n",
       "  </tbody>\n",
       "</table>\n",
       "</div>"
      ],
      "text/plain": [
       "              datetime  season  holiday  workingday  weather   temp   atemp  \\\n",
       "0  2011-01-20 00:00:00       1        0           1        1  10.66  11.365   \n",
       "1  2011-01-20 01:00:00       1        0           1        1  10.66  13.635   \n",
       "2  2011-01-20 02:00:00       1        0           1        1  10.66  13.635   \n",
       "3  2011-01-20 03:00:00       1        0           1        1  10.66  12.880   \n",
       "4  2011-01-20 04:00:00       1        0           1        1  10.66  12.880   \n",
       "\n",
       "   humidity  windspeed  \n",
       "0        56    26.0027  \n",
       "1        56     0.0000  \n",
       "2        56     0.0000  \n",
       "3        56    11.0014  \n",
       "4        56    11.0014  "
      ]
     },
     "execution_count": 806,
     "metadata": {},
     "output_type": "execute_result"
    }
   ],
   "source": [
    "test.head()"
   ]
  },
  {
   "cell_type": "code",
   "execution_count": 810,
   "id": "eea3318c-182e-446c-ad82-5a64cc14064b",
   "metadata": {},
   "outputs": [
    {
     "name": "stdout",
     "output_type": "stream",
     "text": [
      "<class 'pandas.core.frame.DataFrame'>\n",
      "RangeIndex: 6493 entries, 0 to 6492\n",
      "Data columns (total 12 columns):\n",
      " #   Column          Non-Null Count  Dtype  \n",
      "---  ------          --------------  -----  \n",
      " 0   season          6493 non-null   int64  \n",
      " 1   holiday         6493 non-null   int64  \n",
      " 2   workingday      6493 non-null   int64  \n",
      " 3   weather         6493 non-null   int64  \n",
      " 4   temp            6493 non-null   float64\n",
      " 5   atemp           6493 non-null   float64\n",
      " 6   humidity        6493 non-null   int64  \n",
      " 7   windspeed       6493 non-null   float64\n",
      " 8   datetime_year   6493 non-null   int64  \n",
      " 9   datetime_month  6493 non-null   int64  \n",
      " 10  datetime_day    6493 non-null   int64  \n",
      " 11  datetime_hour   6493 non-null   int64  \n",
      "dtypes: float64(3), int64(9)\n",
      "memory usage: 608.8 KB\n"
     ]
    }
   ],
   "source": [
    "datetime_breakdown(test, 'datetime').info()"
   ]
  },
  {
   "cell_type": "code",
   "execution_count": 807,
   "id": "f106ee82-0bf6-40fc-8789-442a53b210e8",
   "metadata": {},
   "outputs": [],
   "source": [
    "test_transformed = (test\n",
    " .pipe(datetime_breakdown, 'datetime')\n",
    " .pipe(pd.DataFrame.drop, 'atemp', axis = 1)\n",
    " .pipe(pd.DataFrame.drop, 'datetime_month', axis = 1)\n",
    " .pipe(cyclic_datetime, 'datetime_day', 'day')\n",
    " .pipe(cyclic_datetime, 'datetime_hour', 'hour')\n",
    ")"
   ]
  },
  {
   "cell_type": "code",
   "execution_count": 808,
   "id": "24767846-e796-4bc2-99dc-86d3e609e955",
   "metadata": {},
   "outputs": [
    {
     "data": {
      "text/html": [
       "<div>\n",
       "<style scoped>\n",
       "    .dataframe tbody tr th:only-of-type {\n",
       "        vertical-align: middle;\n",
       "    }\n",
       "\n",
       "    .dataframe tbody tr th {\n",
       "        vertical-align: top;\n",
       "    }\n",
       "\n",
       "    .dataframe thead th {\n",
       "        text-align: right;\n",
       "    }\n",
       "</style>\n",
       "<table border=\"1\" class=\"dataframe\">\n",
       "  <thead>\n",
       "    <tr style=\"text-align: right;\">\n",
       "      <th></th>\n",
       "      <th>season</th>\n",
       "      <th>holiday</th>\n",
       "      <th>workingday</th>\n",
       "      <th>weather</th>\n",
       "      <th>temp</th>\n",
       "      <th>humidity</th>\n",
       "      <th>windspeed</th>\n",
       "      <th>datetime_year</th>\n",
       "      <th>sin_datetime_day</th>\n",
       "      <th>cos_datetime_day</th>\n",
       "      <th>sin_datetime_hour</th>\n",
       "      <th>cos_datetime_hour</th>\n",
       "    </tr>\n",
       "  </thead>\n",
       "  <tbody>\n",
       "    <tr>\n",
       "      <th>0</th>\n",
       "      <td>1</td>\n",
       "      <td>0</td>\n",
       "      <td>1</td>\n",
       "      <td>1</td>\n",
       "      <td>10.66</td>\n",
       "      <td>56</td>\n",
       "      <td>26.0027</td>\n",
       "      <td>2011</td>\n",
       "      <td>-0.743145</td>\n",
       "      <td>-0.669131</td>\n",
       "      <td>0.000000</td>\n",
       "      <td>1.000000</td>\n",
       "    </tr>\n",
       "    <tr>\n",
       "      <th>1</th>\n",
       "      <td>1</td>\n",
       "      <td>0</td>\n",
       "      <td>1</td>\n",
       "      <td>1</td>\n",
       "      <td>10.66</td>\n",
       "      <td>56</td>\n",
       "      <td>0.0000</td>\n",
       "      <td>2011</td>\n",
       "      <td>-0.743145</td>\n",
       "      <td>-0.669131</td>\n",
       "      <td>0.258819</td>\n",
       "      <td>0.965926</td>\n",
       "    </tr>\n",
       "    <tr>\n",
       "      <th>2</th>\n",
       "      <td>1</td>\n",
       "      <td>0</td>\n",
       "      <td>1</td>\n",
       "      <td>1</td>\n",
       "      <td>10.66</td>\n",
       "      <td>56</td>\n",
       "      <td>0.0000</td>\n",
       "      <td>2011</td>\n",
       "      <td>-0.743145</td>\n",
       "      <td>-0.669131</td>\n",
       "      <td>0.500000</td>\n",
       "      <td>0.866025</td>\n",
       "    </tr>\n",
       "    <tr>\n",
       "      <th>3</th>\n",
       "      <td>1</td>\n",
       "      <td>0</td>\n",
       "      <td>1</td>\n",
       "      <td>1</td>\n",
       "      <td>10.66</td>\n",
       "      <td>56</td>\n",
       "      <td>11.0014</td>\n",
       "      <td>2011</td>\n",
       "      <td>-0.743145</td>\n",
       "      <td>-0.669131</td>\n",
       "      <td>0.707107</td>\n",
       "      <td>0.707107</td>\n",
       "    </tr>\n",
       "    <tr>\n",
       "      <th>4</th>\n",
       "      <td>1</td>\n",
       "      <td>0</td>\n",
       "      <td>1</td>\n",
       "      <td>1</td>\n",
       "      <td>10.66</td>\n",
       "      <td>56</td>\n",
       "      <td>11.0014</td>\n",
       "      <td>2011</td>\n",
       "      <td>-0.743145</td>\n",
       "      <td>-0.669131</td>\n",
       "      <td>0.866025</td>\n",
       "      <td>0.500000</td>\n",
       "    </tr>\n",
       "  </tbody>\n",
       "</table>\n",
       "</div>"
      ],
      "text/plain": [
       "   season  holiday  workingday  weather   temp  humidity  windspeed  \\\n",
       "0       1        0           1        1  10.66        56    26.0027   \n",
       "1       1        0           1        1  10.66        56     0.0000   \n",
       "2       1        0           1        1  10.66        56     0.0000   \n",
       "3       1        0           1        1  10.66        56    11.0014   \n",
       "4       1        0           1        1  10.66        56    11.0014   \n",
       "\n",
       "   datetime_year  sin_datetime_day  cos_datetime_day  sin_datetime_hour  \\\n",
       "0           2011         -0.743145         -0.669131           0.000000   \n",
       "1           2011         -0.743145         -0.669131           0.258819   \n",
       "2           2011         -0.743145         -0.669131           0.500000   \n",
       "3           2011         -0.743145         -0.669131           0.707107   \n",
       "4           2011         -0.743145         -0.669131           0.866025   \n",
       "\n",
       "   cos_datetime_hour  \n",
       "0           1.000000  \n",
       "1           0.965926  \n",
       "2           0.866025  \n",
       "3           0.707107  \n",
       "4           0.500000  "
      ]
     },
     "execution_count": 808,
     "metadata": {},
     "output_type": "execute_result"
    }
   ],
   "source": [
    "test_transformed.head()"
   ]
  },
  {
   "cell_type": "code",
   "execution_count": 737,
   "id": "76bf9887-c956-4a10-a6c7-337bf816ae8f",
   "metadata": {},
   "outputs": [
    {
     "data": {
      "text/plain": [
       "['temp',\n",
       " 'humidity',\n",
       " 'windspeed',\n",
       " 'sin_datetime_hour',\n",
       " 'cos_datetime_hour',\n",
       " 'sin_datetime_day',\n",
       " 'cos_datetime_day',\n",
       " 'count']"
      ]
     },
     "execution_count": 737,
     "metadata": {},
     "output_type": "execute_result"
    }
   ],
   "source": [
    "continuous_variables_after_corr"
   ]
  },
  {
   "cell_type": "code",
   "execution_count": 735,
   "id": "de5be50c-1ed0-440f-9ac8-3d0039040131",
   "metadata": {},
   "outputs": [
    {
     "data": {
      "text/plain": [
       "['season_2',\n",
       " 'season_3',\n",
       " 'season_4',\n",
       " 'holiday_1',\n",
       " 'workingday_1',\n",
       " 'weather_2',\n",
       " 'weather_3',\n",
       " 'weather_4',\n",
       " 'datetime_year_2012']"
      ]
     },
     "execution_count": 735,
     "metadata": {},
     "output_type": "execute_result"
    }
   ],
   "source": [
    "categorical_variables_after_corr"
   ]
  },
  {
   "cell_type": "code",
   "execution_count": 738,
   "id": "146ed925-1da0-415c-9f3b-986228fc7dc6",
   "metadata": {},
   "outputs": [],
   "source": [
    "test_standardscaler = StandardScaler().fit(test_transformed[continuous_variables_after_corr[:-1]])\n",
    "scaled_test_continuous = pd.DataFrame(test_standardscaler.transform(test_transformed[continuous_variables_after_corr[:-1]]))\n",
    "scaled_test_continuous.columns = test_standardscaler.feature_names_in_"
   ]
  },
  {
   "cell_type": "code",
   "execution_count": 743,
   "id": "b09c4a89-1022-47d1-ad7e-d9b0fe14d5bc",
   "metadata": {},
   "outputs": [
    {
     "data": {
      "text/html": [
       "<div>\n",
       "<style scoped>\n",
       "    .dataframe tbody tr th:only-of-type {\n",
       "        vertical-align: middle;\n",
       "    }\n",
       "\n",
       "    .dataframe tbody tr th {\n",
       "        vertical-align: top;\n",
       "    }\n",
       "\n",
       "    .dataframe thead th {\n",
       "        text-align: right;\n",
       "    }\n",
       "</style>\n",
       "<table border=\"1\" class=\"dataframe\">\n",
       "  <thead>\n",
       "    <tr style=\"text-align: right;\">\n",
       "      <th></th>\n",
       "      <th>temp</th>\n",
       "      <th>humidity</th>\n",
       "      <th>windspeed</th>\n",
       "      <th>sin_datetime_hour</th>\n",
       "      <th>cos_datetime_hour</th>\n",
       "      <th>sin_datetime_day</th>\n",
       "      <th>cos_datetime_day</th>\n",
       "    </tr>\n",
       "  </thead>\n",
       "  <tbody>\n",
       "    <tr>\n",
       "      <th>0</th>\n",
       "      <td>-1.235966</td>\n",
       "      <td>-0.421172</td>\n",
       "      <td>1.620888</td>\n",
       "      <td>0.008128</td>\n",
       "      <td>1.419093</td>\n",
       "      <td>-0.065914</td>\n",
       "      <td>-1.664291</td>\n",
       "    </tr>\n",
       "    <tr>\n",
       "      <th>1</th>\n",
       "      <td>-1.235966</td>\n",
       "      <td>-0.421172</td>\n",
       "      <td>-1.531139</td>\n",
       "      <td>0.374447</td>\n",
       "      <td>1.370941</td>\n",
       "      <td>-0.065914</td>\n",
       "      <td>-1.664291</td>\n",
       "    </tr>\n",
       "    <tr>\n",
       "      <th>2</th>\n",
       "      <td>-1.235966</td>\n",
       "      <td>-0.421172</td>\n",
       "      <td>-1.531139</td>\n",
       "      <td>0.715801</td>\n",
       "      <td>1.229767</td>\n",
       "      <td>-0.065914</td>\n",
       "      <td>-1.664291</td>\n",
       "    </tr>\n",
       "    <tr>\n",
       "      <th>3</th>\n",
       "      <td>-1.235966</td>\n",
       "      <td>-0.421172</td>\n",
       "      <td>-0.197558</td>\n",
       "      <td>1.008929</td>\n",
       "      <td>1.005190</td>\n",
       "      <td>-0.065914</td>\n",
       "      <td>-1.664291</td>\n",
       "    </tr>\n",
       "    <tr>\n",
       "      <th>4</th>\n",
       "      <td>-1.235966</td>\n",
       "      <td>-0.421172</td>\n",
       "      <td>-0.197558</td>\n",
       "      <td>1.233854</td>\n",
       "      <td>0.712516</td>\n",
       "      <td>-0.065914</td>\n",
       "      <td>-1.664291</td>\n",
       "    </tr>\n",
       "  </tbody>\n",
       "</table>\n",
       "</div>"
      ],
      "text/plain": [
       "       temp  humidity  windspeed  sin_datetime_hour  cos_datetime_hour  \\\n",
       "0 -1.235966 -0.421172   1.620888           0.008128           1.419093   \n",
       "1 -1.235966 -0.421172  -1.531139           0.374447           1.370941   \n",
       "2 -1.235966 -0.421172  -1.531139           0.715801           1.229767   \n",
       "3 -1.235966 -0.421172  -0.197558           1.008929           1.005190   \n",
       "4 -1.235966 -0.421172  -0.197558           1.233854           0.712516   \n",
       "\n",
       "   sin_datetime_day  cos_datetime_day  \n",
       "0         -0.065914         -1.664291  \n",
       "1         -0.065914         -1.664291  \n",
       "2         -0.065914         -1.664291  \n",
       "3         -0.065914         -1.664291  \n",
       "4         -0.065914         -1.664291  "
      ]
     },
     "execution_count": 743,
     "metadata": {},
     "output_type": "execute_result"
    }
   ],
   "source": [
    "scaled_test_continuous.head()"
   ]
  },
  {
   "cell_type": "code",
   "execution_count": 746,
   "id": "3acc091a-8887-48f0-8b5b-35304b249f98",
   "metadata": {},
   "outputs": [],
   "source": [
    "scaled_test_continuous['windspeed'] = np.cbrt(scaled_test_continuous['windspeed'] + 2)\n",
    "scaled_test_categorical = pd.get_dummies(test_transformed[categorical_variables].astype('category'), drop_first = True)\n",
    "X_test = pd.concat([scaled_test_continuous, scaled_test_categorical], axis = 1)"
   ]
  },
  {
   "cell_type": "code",
   "execution_count": 788,
   "id": "4cb2cdd8-d0a4-4983-823f-a5bed72b7983",
   "metadata": {},
   "outputs": [
    {
     "data": {
      "text/html": [
       "<div>\n",
       "<style scoped>\n",
       "    .dataframe tbody tr th:only-of-type {\n",
       "        vertical-align: middle;\n",
       "    }\n",
       "\n",
       "    .dataframe tbody tr th {\n",
       "        vertical-align: top;\n",
       "    }\n",
       "\n",
       "    .dataframe thead th {\n",
       "        text-align: right;\n",
       "    }\n",
       "</style>\n",
       "<table border=\"1\" class=\"dataframe\">\n",
       "  <thead>\n",
       "    <tr style=\"text-align: right;\">\n",
       "      <th></th>\n",
       "      <th>temp</th>\n",
       "      <th>humidity</th>\n",
       "      <th>windspeed</th>\n",
       "      <th>sin_datetime_hour</th>\n",
       "      <th>cos_datetime_hour</th>\n",
       "      <th>sin_datetime_day</th>\n",
       "      <th>cos_datetime_day</th>\n",
       "      <th>season_2</th>\n",
       "      <th>season_3</th>\n",
       "      <th>season_4</th>\n",
       "      <th>holiday_1</th>\n",
       "      <th>workingday_1</th>\n",
       "      <th>weather_2</th>\n",
       "      <th>weather_3</th>\n",
       "      <th>weather_4</th>\n",
       "      <th>datetime_year_2012</th>\n",
       "    </tr>\n",
       "  </thead>\n",
       "  <tbody>\n",
       "    <tr>\n",
       "      <th>0</th>\n",
       "      <td>-1.235966</td>\n",
       "      <td>-0.421172</td>\n",
       "      <td>1.535577</td>\n",
       "      <td>0.008128</td>\n",
       "      <td>1.419093</td>\n",
       "      <td>-0.065914</td>\n",
       "      <td>-1.664291</td>\n",
       "      <td>0</td>\n",
       "      <td>0</td>\n",
       "      <td>0</td>\n",
       "      <td>0</td>\n",
       "      <td>1</td>\n",
       "      <td>0</td>\n",
       "      <td>0</td>\n",
       "      <td>0</td>\n",
       "      <td>0</td>\n",
       "    </tr>\n",
       "    <tr>\n",
       "      <th>1</th>\n",
       "      <td>-1.235966</td>\n",
       "      <td>-0.421172</td>\n",
       "      <td>0.776869</td>\n",
       "      <td>0.374447</td>\n",
       "      <td>1.370941</td>\n",
       "      <td>-0.065914</td>\n",
       "      <td>-1.664291</td>\n",
       "      <td>0</td>\n",
       "      <td>0</td>\n",
       "      <td>0</td>\n",
       "      <td>0</td>\n",
       "      <td>1</td>\n",
       "      <td>0</td>\n",
       "      <td>0</td>\n",
       "      <td>0</td>\n",
       "      <td>0</td>\n",
       "    </tr>\n",
       "    <tr>\n",
       "      <th>2</th>\n",
       "      <td>-1.235966</td>\n",
       "      <td>-0.421172</td>\n",
       "      <td>0.776869</td>\n",
       "      <td>0.715801</td>\n",
       "      <td>1.229767</td>\n",
       "      <td>-0.065914</td>\n",
       "      <td>-1.664291</td>\n",
       "      <td>0</td>\n",
       "      <td>0</td>\n",
       "      <td>0</td>\n",
       "      <td>0</td>\n",
       "      <td>1</td>\n",
       "      <td>0</td>\n",
       "      <td>0</td>\n",
       "      <td>0</td>\n",
       "      <td>0</td>\n",
       "    </tr>\n",
       "    <tr>\n",
       "      <th>3</th>\n",
       "      <td>-1.235966</td>\n",
       "      <td>-0.421172</td>\n",
       "      <td>1.216990</td>\n",
       "      <td>1.008929</td>\n",
       "      <td>1.005190</td>\n",
       "      <td>-0.065914</td>\n",
       "      <td>-1.664291</td>\n",
       "      <td>0</td>\n",
       "      <td>0</td>\n",
       "      <td>0</td>\n",
       "      <td>0</td>\n",
       "      <td>1</td>\n",
       "      <td>0</td>\n",
       "      <td>0</td>\n",
       "      <td>0</td>\n",
       "      <td>0</td>\n",
       "    </tr>\n",
       "    <tr>\n",
       "      <th>4</th>\n",
       "      <td>-1.235966</td>\n",
       "      <td>-0.421172</td>\n",
       "      <td>1.216990</td>\n",
       "      <td>1.233854</td>\n",
       "      <td>0.712516</td>\n",
       "      <td>-0.065914</td>\n",
       "      <td>-1.664291</td>\n",
       "      <td>0</td>\n",
       "      <td>0</td>\n",
       "      <td>0</td>\n",
       "      <td>0</td>\n",
       "      <td>1</td>\n",
       "      <td>0</td>\n",
       "      <td>0</td>\n",
       "      <td>0</td>\n",
       "      <td>0</td>\n",
       "    </tr>\n",
       "  </tbody>\n",
       "</table>\n",
       "</div>"
      ],
      "text/plain": [
       "       temp  humidity  windspeed  sin_datetime_hour  cos_datetime_hour  \\\n",
       "0 -1.235966 -0.421172   1.535577           0.008128           1.419093   \n",
       "1 -1.235966 -0.421172   0.776869           0.374447           1.370941   \n",
       "2 -1.235966 -0.421172   0.776869           0.715801           1.229767   \n",
       "3 -1.235966 -0.421172   1.216990           1.008929           1.005190   \n",
       "4 -1.235966 -0.421172   1.216990           1.233854           0.712516   \n",
       "\n",
       "   sin_datetime_day  cos_datetime_day  season_2  season_3  season_4  \\\n",
       "0         -0.065914         -1.664291         0         0         0   \n",
       "1         -0.065914         -1.664291         0         0         0   \n",
       "2         -0.065914         -1.664291         0         0         0   \n",
       "3         -0.065914         -1.664291         0         0         0   \n",
       "4         -0.065914         -1.664291         0         0         0   \n",
       "\n",
       "   holiday_1  workingday_1  weather_2  weather_3  weather_4  \\\n",
       "0          0             1          0          0          0   \n",
       "1          0             1          0          0          0   \n",
       "2          0             1          0          0          0   \n",
       "3          0             1          0          0          0   \n",
       "4          0             1          0          0          0   \n",
       "\n",
       "   datetime_year_2012  \n",
       "0                   0  \n",
       "1                   0  \n",
       "2                   0  \n",
       "3                   0  \n",
       "4                   0  "
      ]
     },
     "execution_count": 788,
     "metadata": {},
     "output_type": "execute_result"
    }
   ],
   "source": [
    "X_test.head()"
   ]
  },
  {
   "cell_type": "code",
   "execution_count": 759,
   "id": "2589759a-8cca-41d7-8a49-4d2f35dff093",
   "metadata": {},
   "outputs": [
    {
     "data": {
      "text/plain": [
       "{'subsample': 0.6,\n",
       " 'n_estimators': 1300,\n",
       " 'min_child_weight': 2,\n",
       " 'max_depth': 4,\n",
       " 'learning_rate': 0.03,\n",
       " 'gamma': 0.1,\n",
       " 'colsample_bytree': 0.7}"
      ]
     },
     "execution_count": 759,
     "metadata": {},
     "output_type": "execute_result"
    }
   ],
   "source": [
    "xgbreg_cv.best_params_"
   ]
  },
  {
   "cell_type": "code",
   "execution_count": 760,
   "id": "004575db-2a11-4fa9-baa1-abaa88ca14c0",
   "metadata": {},
   "outputs": [],
   "source": [
    "xgbreg = xgb.XGBRegressor(subsample = 0.6, n_estimators = 1300, min_child_weight = 2, max_depth = 4, \n",
    "                          learning_ratae = 0.03, gamma = 0.1, colsample_bytree = 0.7, random_state = 42,\n",
    "                          use_label_encoder = False, verbosity = 0)"
   ]
  },
  {
   "cell_type": "code",
   "execution_count": 763,
   "id": "5858a717-cb8b-4acf-bbff-7c39bf268b36",
   "metadata": {},
   "outputs": [
    {
     "data": {
      "text/plain": [
       "XGBRegressor(base_score=0.5, booster='gbtree', colsample_bylevel=1,\n",
       "             colsample_bynode=1, colsample_bytree=0.7, enable_categorical=False,\n",
       "             gamma=0.1, gpu_id=-1, importance_type=None,\n",
       "             interaction_constraints='', learning_ratae=0.03,\n",
       "             learning_rate=0.300000012, max_delta_step=0, max_depth=4,\n",
       "             min_child_weight=2, missing=nan, monotone_constraints='()',\n",
       "             n_estimators=1300, n_jobs=12, num_parallel_tree=1,\n",
       "             predictor='auto', random_state=42, reg_alpha=0, reg_lambda=1,\n",
       "             scale_pos_weight=1, subsample=0.6, tree_method='exact',\n",
       "             use_label_encoder=False, validate_parameters=1, verbosity=0)"
      ]
     },
     "execution_count": 763,
     "metadata": {},
     "output_type": "execute_result"
    }
   ],
   "source": [
    "xgbreg.fit(X_train, y_train)"
   ]
  },
  {
   "cell_type": "code",
   "execution_count": 784,
   "id": "0035387a-ae70-4688-b17d-6fae5f238b9d",
   "metadata": {},
   "outputs": [],
   "source": [
    "# for some reason, xgboost gave a null prediction for one of them so I used rf to predict instead\n",
    "rf = RandomForestRegressor(n_estimators = 300, max_features = 'auto', random_state = 42).fit(X_train.values, y_train.values)"
   ]
  },
  {
   "cell_type": "code",
   "execution_count": 787,
   "id": "1033e648-e368-4819-a465-285b840b3e32",
   "metadata": {},
   "outputs": [],
   "source": [
    "pd.concat([test['datetime'], pd.DataFrame({'count' : list(np.floor(inv_boxcox(rf.predict(X_test.values) - 1, y_lamd)))})], axis = 1).to_csv('predict.csv', index = False)"
   ]
  },
  {
   "cell_type": "markdown",
   "id": "adbb17cd-07cf-4c3c-848a-0aeaed43d30e",
   "metadata": {},
   "source": [
    "This yielded a test score of 0.41 on kaggle, placing this solution in the top 10 percentile"
   ]
  },
  {
   "cell_type": "code",
   "execution_count": 792,
   "id": "d87e9a2f-b86b-4ece-8638-3568053a3312",
   "metadata": {},
   "outputs": [],
   "source": [
    "# save the model\n",
    "pickle.dump(rf, open('bike_rf.pkl', 'wb'))"
   ]
  },
  {
   "cell_type": "code",
   "execution_count": 838,
   "id": "c0c935f3-21c6-44de-b89b-6d5cb952389d",
   "metadata": {},
   "outputs": [],
   "source": [
    "save_lamd = {'y_lamd': y_lamd}\n",
    "with open('y_lamd.pkl', 'wb') as file:\n",
    "    pickle.dump(save_lamd, file)"
   ]
  },
  {
   "cell_type": "markdown",
   "id": "b3c7a46c-de0d-415b-8217-a290f88e38ed",
   "metadata": {},
   "source": [
    "### Reflection: \n",
    "- After obtaining my test score, I asked myself why my CV scores showed overly positive results. Can you spot the error? Upon closer inspection of my methodology, I realised that the mistake is in the preprocessing. Scaling should not be done before cross validation. It should be done **during** cross validation\n",
    "\n",
    "### Learning points: \n",
    "- Payed close attention to preprocessing techniques such as: outlier removal, column/row dropping, feature engineering \n",
    "- Crafted several functions that allow for quick data visualisations of feature distributions\n",
    "- Practiced the usage of sklearn's apis, namely: cross validation (random / gridsearch), various models, preprocessing  \n",
    "- Model experimentation\n",
    "\n",
    "### To question further:\n",
    "- Should outliers be removed before splitting the data or during cross validation? \n",
    "- How can I better perform cross validation with the necessary transformations included in the validation loop? \n",
    "- Upon further research, I realised that tree models are robust to outliers. Outliers only affect regression models the most. In that case, it might be worth trying out tree models without removing outliers. In doing so, we retain more data, and create a model that is more generalisable."
   ]
  }
 ],
 "metadata": {
  "kernelspec": {
   "display_name": "Python 3 (ipykernel)",
   "language": "python",
   "name": "python3"
  },
  "language_info": {
   "codemirror_mode": {
    "name": "ipython",
    "version": 3
   },
   "file_extension": ".py",
   "mimetype": "text/x-python",
   "name": "python",
   "nbconvert_exporter": "python",
   "pygments_lexer": "ipython3",
   "version": "3.8.12"
  }
 },
 "nbformat": 4,
 "nbformat_minor": 5
}
